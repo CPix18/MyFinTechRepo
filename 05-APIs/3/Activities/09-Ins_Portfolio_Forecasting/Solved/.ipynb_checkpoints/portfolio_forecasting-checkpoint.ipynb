{
 "cells": [
  {
   "cell_type": "markdown",
   "metadata": {},
   "source": [
    "### Instructor Demo: Stock Portfolio Forecasting\n",
    "\n",
    "This program executes `1000` simulations of stock price trajectory for `JNJ` and `MU` over the next `252` trading days (or year of trading), based on a normal probability distribution of potential daily returns derived from the corresponding sample means and standard deviations. Daily and cumulative portfolio returns are then calculated, using `60%` of capital allocated to `JNJ` and `40%` of capital allocated to `MU`, to analyze the probability distribution and confidence interval of potential ending cumulative portfolio returns."
   ]
  },
  {
   "cell_type": "code",
   "execution_count": 17,
   "metadata": {},
   "outputs": [],
   "source": [
    "# Import libraries and dependencies\n",
    "import numpy as np\n",
    "import pandas as pd\n",
    "import os\n",
    "from datetime import datetime, timedelta\n",
    "import matplotlib.pyplot as plt\n",
    "import alpaca_trade_api as tradeapi\n",
    "%matplotlib inline"
   ]
  },
  {
   "cell_type": "code",
   "execution_count": 18,
   "metadata": {},
   "outputs": [],
   "source": [
    "# Load .env enviroment variables\n",
    "# from dotenv import load_dotenv\n",
    "# load_dotenv()\n",
    "\n",
    "# Set Alpaca API key and secret\n",
    "alpaca_api_key = os.getenv(\"ALPACA_API_KEY\")\n",
    "alpaca_secret_key = os.getenv(\"ALPACA_SECRET_KEY\")\n",
    "\n",
    "api = tradeapi.REST(alpaca_api_key, alpaca_secret_key, api_version='v2')"
   ]
  },
  {
   "cell_type": "markdown",
   "metadata": {},
   "source": [
    "### Check Available Tickers from Alpaca Markets API"
   ]
  },
  {
   "cell_type": "code",
   "execution_count": 19,
   "metadata": {
    "inputHidden": false,
    "outputHidden": false
   },
   "outputs": [],
   "source": [
    "# Get all Asstes\n",
    "assets = api.list_assets()\n",
    "\n",
    "# Keep only tradeable assets\n",
    "tradeable = [asset for asset in assets if asset.tradable ]\n",
    "# tradeable"
   ]
  },
  {
   "cell_type": "code",
   "execution_count": 20,
   "metadata": {},
   "outputs": [
    {
     "data": {
      "text/html": [
       "<div>\n",
       "<style scoped>\n",
       "    .dataframe tbody tr th:only-of-type {\n",
       "        vertical-align: middle;\n",
       "    }\n",
       "\n",
       "    .dataframe tbody tr th {\n",
       "        vertical-align: top;\n",
       "    }\n",
       "\n",
       "    .dataframe thead th {\n",
       "        text-align: right;\n",
       "    }\n",
       "</style>\n",
       "<table border=\"1\" class=\"dataframe\">\n",
       "  <thead>\n",
       "    <tr style=\"text-align: right;\">\n",
       "      <th></th>\n",
       "      <th>symbol</th>\n",
       "    </tr>\n",
       "  </thead>\n",
       "  <tbody>\n",
       "    <tr>\n",
       "      <th>0</th>\n",
       "      <td>NITE</td>\n",
       "    </tr>\n",
       "    <tr>\n",
       "      <th>1</th>\n",
       "      <td>AFB</td>\n",
       "    </tr>\n",
       "    <tr>\n",
       "      <th>2</th>\n",
       "      <td>CCJ</td>\n",
       "    </tr>\n",
       "    <tr>\n",
       "      <th>3</th>\n",
       "      <td>MORT</td>\n",
       "    </tr>\n",
       "    <tr>\n",
       "      <th>4</th>\n",
       "      <td>WSFS</td>\n",
       "    </tr>\n",
       "    <tr>\n",
       "      <th>5</th>\n",
       "      <td>CRD.B</td>\n",
       "    </tr>\n",
       "    <tr>\n",
       "      <th>6</th>\n",
       "      <td>ADBE</td>\n",
       "    </tr>\n",
       "    <tr>\n",
       "      <th>7</th>\n",
       "      <td>GBDV</td>\n",
       "    </tr>\n",
       "    <tr>\n",
       "      <th>8</th>\n",
       "      <td>PXJ</td>\n",
       "    </tr>\n",
       "    <tr>\n",
       "      <th>9</th>\n",
       "      <td>SA</td>\n",
       "    </tr>\n",
       "  </tbody>\n",
       "</table>\n",
       "</div>"
      ],
      "text/plain": [
       "  symbol\n",
       "0   NITE\n",
       "1    AFB\n",
       "2    CCJ\n",
       "3   MORT\n",
       "4   WSFS\n",
       "5  CRD.B\n",
       "6   ADBE\n",
       "7   GBDV\n",
       "8    PXJ\n",
       "9     SA"
      ]
     },
     "metadata": {},
     "output_type": "display_data"
    }
   ],
   "source": [
    "# Create a new empty DataFrame\n",
    "asset_info_df = pd.DataFrame()\n",
    "asset_info_df['symbol'] = pd.Series([asset.symbol for asset in assets])\n",
    "\n",
    "# Display the first 10 asset tickers\n",
    "display(asset_info_df.head(10))"
   ]
  },
  {
   "cell_type": "markdown",
   "metadata": {},
   "source": [
    "### Get 1 Year's Worth of Data via API Call and Read in as DataFrame "
   ]
  },
  {
   "cell_type": "code",
   "execution_count": 21,
   "metadata": {},
   "outputs": [
    {
     "data": {
      "text/html": [
       "<div>\n",
       "<style scoped>\n",
       "    .dataframe tbody tr th:only-of-type {\n",
       "        vertical-align: middle;\n",
       "    }\n",
       "\n",
       "    .dataframe tbody tr th {\n",
       "        vertical-align: top;\n",
       "    }\n",
       "\n",
       "    .dataframe thead tr th {\n",
       "        text-align: left;\n",
       "    }\n",
       "</style>\n",
       "<table border=\"1\" class=\"dataframe\">\n",
       "  <thead>\n",
       "    <tr>\n",
       "      <th></th>\n",
       "      <th colspan=\"5\" halign=\"left\">JNJ</th>\n",
       "      <th colspan=\"5\" halign=\"left\">MU</th>\n",
       "    </tr>\n",
       "    <tr>\n",
       "      <th></th>\n",
       "      <th>open</th>\n",
       "      <th>high</th>\n",
       "      <th>low</th>\n",
       "      <th>close</th>\n",
       "      <th>volume</th>\n",
       "      <th>open</th>\n",
       "      <th>high</th>\n",
       "      <th>low</th>\n",
       "      <th>close</th>\n",
       "      <th>volume</th>\n",
       "    </tr>\n",
       "  </thead>\n",
       "  <tbody>\n",
       "    <tr>\n",
       "      <th>2019-11-19 00:00:00-05:00</th>\n",
       "      <td>135.00</td>\n",
       "      <td>135.19</td>\n",
       "      <td>134.21</td>\n",
       "      <td>134.800</td>\n",
       "      <td>3486534</td>\n",
       "      <td>48.11</td>\n",
       "      <td>48.1800</td>\n",
       "      <td>46.28</td>\n",
       "      <td>46.57</td>\n",
       "      <td>17327228</td>\n",
       "    </tr>\n",
       "    <tr>\n",
       "      <th>2019-11-20 00:00:00-05:00</th>\n",
       "      <td>135.11</td>\n",
       "      <td>136.34</td>\n",
       "      <td>134.07</td>\n",
       "      <td>135.950</td>\n",
       "      <td>5225319</td>\n",
       "      <td>46.15</td>\n",
       "      <td>46.5048</td>\n",
       "      <td>45.23</td>\n",
       "      <td>45.55</td>\n",
       "      <td>19568436</td>\n",
       "    </tr>\n",
       "    <tr>\n",
       "      <th>2019-11-21 00:00:00-05:00</th>\n",
       "      <td>135.94</td>\n",
       "      <td>136.85</td>\n",
       "      <td>135.00</td>\n",
       "      <td>136.460</td>\n",
       "      <td>4622714</td>\n",
       "      <td>45.30</td>\n",
       "      <td>46.1800</td>\n",
       "      <td>45.04</td>\n",
       "      <td>45.54</td>\n",
       "      <td>13226127</td>\n",
       "    </tr>\n",
       "    <tr>\n",
       "      <th>2019-11-22 00:00:00-05:00</th>\n",
       "      <td>136.65</td>\n",
       "      <td>138.63</td>\n",
       "      <td>136.50</td>\n",
       "      <td>138.035</td>\n",
       "      <td>7479788</td>\n",
       "      <td>45.97</td>\n",
       "      <td>46.3800</td>\n",
       "      <td>45.75</td>\n",
       "      <td>45.87</td>\n",
       "      <td>10188680</td>\n",
       "    </tr>\n",
       "    <tr>\n",
       "      <th>2019-11-25 00:00:00-05:00</th>\n",
       "      <td>137.06</td>\n",
       "      <td>137.65</td>\n",
       "      <td>136.24</td>\n",
       "      <td>137.200</td>\n",
       "      <td>4434132</td>\n",
       "      <td>46.10</td>\n",
       "      <td>47.5500</td>\n",
       "      <td>45.94</td>\n",
       "      <td>47.54</td>\n",
       "      <td>16882284</td>\n",
       "    </tr>\n",
       "  </tbody>\n",
       "</table>\n",
       "</div>"
      ],
      "text/plain": [
       "                              JNJ                                       MU  \\\n",
       "                             open    high     low    close   volume   open   \n",
       "2019-11-19 00:00:00-05:00  135.00  135.19  134.21  134.800  3486534  48.11   \n",
       "2019-11-20 00:00:00-05:00  135.11  136.34  134.07  135.950  5225319  46.15   \n",
       "2019-11-21 00:00:00-05:00  135.94  136.85  135.00  136.460  4622714  45.30   \n",
       "2019-11-22 00:00:00-05:00  136.65  138.63  136.50  138.035  7479788  45.97   \n",
       "2019-11-25 00:00:00-05:00  137.06  137.65  136.24  137.200  4434132  46.10   \n",
       "\n",
       "                                                            \n",
       "                              high    low  close    volume  \n",
       "2019-11-19 00:00:00-05:00  48.1800  46.28  46.57  17327228  \n",
       "2019-11-20 00:00:00-05:00  46.5048  45.23  45.55  19568436  \n",
       "2019-11-21 00:00:00-05:00  46.1800  45.04  45.54  13226127  \n",
       "2019-11-22 00:00:00-05:00  46.3800  45.75  45.87  10188680  \n",
       "2019-11-25 00:00:00-05:00  47.5500  45.94  47.54  16882284  "
      ]
     },
     "execution_count": 21,
     "metadata": {},
     "output_type": "execute_result"
    }
   ],
   "source": [
    "# Set the list of tickers\n",
    "tickers = [\"JNJ\", \"MU\"]\n",
    "\n",
    "# Set timeframe to '1D'\n",
    "timeframe = '1D'\n",
    "\n",
    "# Set start and end datetimes of 1 year, between now and 365 days ago.\n",
    "end_date = datetime.now()\n",
    "start_date = end_date + timedelta(-365)\n",
    "\n",
    "# Get 1 year's worth of historical data for AAPL\n",
    "df = api.get_barset(\n",
    "    tickers,\n",
    "    timeframe,\n",
    "    limit=None,\n",
    "    start=start_date,\n",
    "    end=end_date,\n",
    "    after=None,\n",
    "    until=None,\n",
    ").df\n",
    "\n",
    "df.head()"
   ]
  },
  {
   "cell_type": "markdown",
   "metadata": {},
   "source": [
    "### Drop Extraneous Columns"
   ]
  },
  {
   "cell_type": "code",
   "execution_count": 22,
   "metadata": {},
   "outputs": [
    {
     "data": {
      "text/html": [
       "<div>\n",
       "<style scoped>\n",
       "    .dataframe tbody tr th:only-of-type {\n",
       "        vertical-align: middle;\n",
       "    }\n",
       "\n",
       "    .dataframe tbody tr th {\n",
       "        vertical-align: top;\n",
       "    }\n",
       "\n",
       "    .dataframe thead tr th {\n",
       "        text-align: left;\n",
       "    }\n",
       "</style>\n",
       "<table border=\"1\" class=\"dataframe\">\n",
       "  <thead>\n",
       "    <tr>\n",
       "      <th></th>\n",
       "      <th>JNJ</th>\n",
       "      <th>MU</th>\n",
       "    </tr>\n",
       "    <tr>\n",
       "      <th></th>\n",
       "      <th>close</th>\n",
       "      <th>close</th>\n",
       "    </tr>\n",
       "  </thead>\n",
       "  <tbody>\n",
       "    <tr>\n",
       "      <th>2019-11-19 00:00:00-05:00</th>\n",
       "      <td>134.800</td>\n",
       "      <td>46.57</td>\n",
       "    </tr>\n",
       "    <tr>\n",
       "      <th>2019-11-20 00:00:00-05:00</th>\n",
       "      <td>135.950</td>\n",
       "      <td>45.55</td>\n",
       "    </tr>\n",
       "    <tr>\n",
       "      <th>2019-11-21 00:00:00-05:00</th>\n",
       "      <td>136.460</td>\n",
       "      <td>45.54</td>\n",
       "    </tr>\n",
       "    <tr>\n",
       "      <th>2019-11-22 00:00:00-05:00</th>\n",
       "      <td>138.035</td>\n",
       "      <td>45.87</td>\n",
       "    </tr>\n",
       "    <tr>\n",
       "      <th>2019-11-25 00:00:00-05:00</th>\n",
       "      <td>137.200</td>\n",
       "      <td>47.54</td>\n",
       "    </tr>\n",
       "  </tbody>\n",
       "</table>\n",
       "</div>"
      ],
      "text/plain": [
       "                               JNJ     MU\n",
       "                             close  close\n",
       "2019-11-19 00:00:00-05:00  134.800  46.57\n",
       "2019-11-20 00:00:00-05:00  135.950  45.55\n",
       "2019-11-21 00:00:00-05:00  136.460  45.54\n",
       "2019-11-22 00:00:00-05:00  138.035  45.87\n",
       "2019-11-25 00:00:00-05:00  137.200  47.54"
      ]
     },
     "execution_count": 22,
     "metadata": {},
     "output_type": "execute_result"
    }
   ],
   "source": [
    "# Use the `drop` function with the `level` parameter to drop extra columns in the multi-index DataFrame\n",
    "df.drop(columns=['open', 'high', 'low', 'volume'], level=1, inplace=True)\n",
    "df.head()"
   ]
  },
  {
   "cell_type": "markdown",
   "metadata": {},
   "source": [
    "### Calculate Daily Returns"
   ]
  },
  {
   "cell_type": "code",
   "execution_count": 23,
   "metadata": {},
   "outputs": [
    {
     "data": {
      "text/html": [
       "<div>\n",
       "<style scoped>\n",
       "    .dataframe tbody tr th:only-of-type {\n",
       "        vertical-align: middle;\n",
       "    }\n",
       "\n",
       "    .dataframe tbody tr th {\n",
       "        vertical-align: top;\n",
       "    }\n",
       "\n",
       "    .dataframe thead tr th {\n",
       "        text-align: left;\n",
       "    }\n",
       "</style>\n",
       "<table border=\"1\" class=\"dataframe\">\n",
       "  <thead>\n",
       "    <tr>\n",
       "      <th></th>\n",
       "      <th>JNJ</th>\n",
       "      <th>MU</th>\n",
       "    </tr>\n",
       "    <tr>\n",
       "      <th></th>\n",
       "      <th>close</th>\n",
       "      <th>close</th>\n",
       "    </tr>\n",
       "  </thead>\n",
       "  <tbody>\n",
       "    <tr>\n",
       "      <th>2019-11-19 00:00:00-05:00</th>\n",
       "      <td>NaN</td>\n",
       "      <td>NaN</td>\n",
       "    </tr>\n",
       "    <tr>\n",
       "      <th>2019-11-20 00:00:00-05:00</th>\n",
       "      <td>0.008531</td>\n",
       "      <td>-0.021903</td>\n",
       "    </tr>\n",
       "    <tr>\n",
       "      <th>2019-11-21 00:00:00-05:00</th>\n",
       "      <td>0.003751</td>\n",
       "      <td>-0.000220</td>\n",
       "    </tr>\n",
       "    <tr>\n",
       "      <th>2019-11-22 00:00:00-05:00</th>\n",
       "      <td>0.011542</td>\n",
       "      <td>0.007246</td>\n",
       "    </tr>\n",
       "    <tr>\n",
       "      <th>2019-11-25 00:00:00-05:00</th>\n",
       "      <td>-0.006049</td>\n",
       "      <td>0.036407</td>\n",
       "    </tr>\n",
       "  </tbody>\n",
       "</table>\n",
       "</div>"
      ],
      "text/plain": [
       "                                JNJ        MU\n",
       "                              close     close\n",
       "2019-11-19 00:00:00-05:00       NaN       NaN\n",
       "2019-11-20 00:00:00-05:00  0.008531 -0.021903\n",
       "2019-11-21 00:00:00-05:00  0.003751 -0.000220\n",
       "2019-11-22 00:00:00-05:00  0.011542  0.007246\n",
       "2019-11-25 00:00:00-05:00 -0.006049  0.036407"
      ]
     },
     "execution_count": 23,
     "metadata": {},
     "output_type": "execute_result"
    }
   ],
   "source": [
    "# Use the `pct_change` function to calculate daily returns of `JNJ` and `MU`.\n",
    "daily_returns = df.pct_change()\n",
    "daily_returns.head()"
   ]
  },
  {
   "cell_type": "markdown",
   "metadata": {},
   "source": [
    "### Calculate Value of Average Daily Returns"
   ]
  },
  {
   "cell_type": "code",
   "execution_count": 24,
   "metadata": {},
   "outputs": [
    {
     "data": {
      "text/plain": [
       "0.0013033755972537222"
      ]
     },
     "execution_count": 24,
     "metadata": {},
     "output_type": "execute_result"
    }
   ],
   "source": [
    "# Use the `mean` function to calculate the mean of daily returns for `JNJ` and `MU`, respectively\n",
    "avg_daily_return_jnj = daily_returns.mean()['JNJ']['close']\n",
    "avg_daily_return_mu = daily_returns.mean()['MU']['close']\n",
    "avg_daily_return_mu"
   ]
  },
  {
   "cell_type": "markdown",
   "metadata": {},
   "source": [
    "### Calculate Value of Standard Deviation of Daily Returns"
   ]
  },
  {
   "cell_type": "code",
   "execution_count": 25,
   "metadata": {},
   "outputs": [
    {
     "data": {
      "text/plain": [
       "0.04616357607031135"
      ]
     },
     "execution_count": 25,
     "metadata": {},
     "output_type": "execute_result"
    }
   ],
   "source": [
    "# Use the `std` function to calculate the standard deviation of daily returns for `JNJ` and `MU`, respectively\n",
    "std_dev_daily_return_jnj = daily_returns.std()['JNJ']['close']\n",
    "std_dev_daily_return_mu = daily_returns.std()['MU']['close']\n",
    "std_dev_daily_return_mu"
   ]
  },
  {
   "cell_type": "markdown",
   "metadata": {},
   "source": [
    "### Run the Monte Carlo Simulation and Save Results to DataFrame"
   ]
  },
  {
   "cell_type": "code",
   "execution_count": 26,
   "metadata": {},
   "outputs": [
    {
     "data": {
      "text/html": [
       "<div>\n",
       "<style scoped>\n",
       "    .dataframe tbody tr th:only-of-type {\n",
       "        vertical-align: middle;\n",
       "    }\n",
       "\n",
       "    .dataframe tbody tr th {\n",
       "        vertical-align: top;\n",
       "    }\n",
       "\n",
       "    .dataframe thead th {\n",
       "        text-align: right;\n",
       "    }\n",
       "</style>\n",
       "<table border=\"1\" class=\"dataframe\">\n",
       "  <thead>\n",
       "    <tr style=\"text-align: right;\">\n",
       "      <th></th>\n",
       "      <th>0</th>\n",
       "      <th>1</th>\n",
       "      <th>2</th>\n",
       "      <th>3</th>\n",
       "      <th>4</th>\n",
       "      <th>5</th>\n",
       "      <th>6</th>\n",
       "      <th>7</th>\n",
       "      <th>8</th>\n",
       "      <th>9</th>\n",
       "      <th>...</th>\n",
       "      <th>990</th>\n",
       "      <th>991</th>\n",
       "      <th>992</th>\n",
       "      <th>993</th>\n",
       "      <th>994</th>\n",
       "      <th>995</th>\n",
       "      <th>996</th>\n",
       "      <th>997</th>\n",
       "      <th>998</th>\n",
       "      <th>999</th>\n",
       "    </tr>\n",
       "  </thead>\n",
       "  <tbody>\n",
       "    <tr>\n",
       "      <th>0</th>\n",
       "      <td>1.000000</td>\n",
       "      <td>1.000000</td>\n",
       "      <td>1.000000</td>\n",
       "      <td>1.000000</td>\n",
       "      <td>1.000000</td>\n",
       "      <td>1.000000</td>\n",
       "      <td>1.000000</td>\n",
       "      <td>1.000000</td>\n",
       "      <td>1.000000</td>\n",
       "      <td>1.000000</td>\n",
       "      <td>...</td>\n",
       "      <td>1.000000</td>\n",
       "      <td>1.000000</td>\n",
       "      <td>1.000000</td>\n",
       "      <td>1.000000</td>\n",
       "      <td>1.000000</td>\n",
       "      <td>1.000000</td>\n",
       "      <td>1.000000</td>\n",
       "      <td>1.000000</td>\n",
       "      <td>1.000000</td>\n",
       "      <td>1.000000</td>\n",
       "    </tr>\n",
       "    <tr>\n",
       "      <th>1</th>\n",
       "      <td>0.987196</td>\n",
       "      <td>1.032553</td>\n",
       "      <td>1.031340</td>\n",
       "      <td>1.031096</td>\n",
       "      <td>0.933968</td>\n",
       "      <td>1.017278</td>\n",
       "      <td>1.026801</td>\n",
       "      <td>0.973861</td>\n",
       "      <td>0.972531</td>\n",
       "      <td>1.007754</td>\n",
       "      <td>...</td>\n",
       "      <td>0.947152</td>\n",
       "      <td>0.972705</td>\n",
       "      <td>0.967845</td>\n",
       "      <td>1.020644</td>\n",
       "      <td>1.005562</td>\n",
       "      <td>1.002547</td>\n",
       "      <td>0.988140</td>\n",
       "      <td>0.998686</td>\n",
       "      <td>0.978058</td>\n",
       "      <td>1.029405</td>\n",
       "    </tr>\n",
       "    <tr>\n",
       "      <th>2</th>\n",
       "      <td>1.032558</td>\n",
       "      <td>1.033835</td>\n",
       "      <td>1.045011</td>\n",
       "      <td>1.042443</td>\n",
       "      <td>0.949665</td>\n",
       "      <td>1.029296</td>\n",
       "      <td>1.045076</td>\n",
       "      <td>0.935685</td>\n",
       "      <td>0.968382</td>\n",
       "      <td>0.997836</td>\n",
       "      <td>...</td>\n",
       "      <td>0.897892</td>\n",
       "      <td>0.973242</td>\n",
       "      <td>0.967909</td>\n",
       "      <td>1.044637</td>\n",
       "      <td>1.045661</td>\n",
       "      <td>1.001199</td>\n",
       "      <td>1.004673</td>\n",
       "      <td>1.016762</td>\n",
       "      <td>0.992462</td>\n",
       "      <td>1.015327</td>\n",
       "    </tr>\n",
       "    <tr>\n",
       "      <th>3</th>\n",
       "      <td>1.021641</td>\n",
       "      <td>1.041738</td>\n",
       "      <td>1.074710</td>\n",
       "      <td>1.016200</td>\n",
       "      <td>0.934141</td>\n",
       "      <td>1.090135</td>\n",
       "      <td>1.027156</td>\n",
       "      <td>0.963980</td>\n",
       "      <td>1.010322</td>\n",
       "      <td>1.045613</td>\n",
       "      <td>...</td>\n",
       "      <td>0.907345</td>\n",
       "      <td>0.962151</td>\n",
       "      <td>0.977813</td>\n",
       "      <td>1.049054</td>\n",
       "      <td>0.998934</td>\n",
       "      <td>1.009440</td>\n",
       "      <td>0.992340</td>\n",
       "      <td>1.030464</td>\n",
       "      <td>0.989002</td>\n",
       "      <td>0.994217</td>\n",
       "    </tr>\n",
       "    <tr>\n",
       "      <th>4</th>\n",
       "      <td>1.034174</td>\n",
       "      <td>1.035038</td>\n",
       "      <td>1.063182</td>\n",
       "      <td>1.022080</td>\n",
       "      <td>0.947367</td>\n",
       "      <td>1.080618</td>\n",
       "      <td>1.043254</td>\n",
       "      <td>0.959509</td>\n",
       "      <td>0.986438</td>\n",
       "      <td>1.025876</td>\n",
       "      <td>...</td>\n",
       "      <td>0.888225</td>\n",
       "      <td>0.986986</td>\n",
       "      <td>0.953250</td>\n",
       "      <td>1.022160</td>\n",
       "      <td>0.999729</td>\n",
       "      <td>0.978068</td>\n",
       "      <td>0.961579</td>\n",
       "      <td>1.000617</td>\n",
       "      <td>0.999290</td>\n",
       "      <td>1.006293</td>\n",
       "    </tr>\n",
       "  </tbody>\n",
       "</table>\n",
       "<p>5 rows × 1000 columns</p>\n",
       "</div>"
      ],
      "text/plain": [
       "        0         1         2         3         4         5         6    \\\n",
       "0  1.000000  1.000000  1.000000  1.000000  1.000000  1.000000  1.000000   \n",
       "1  0.987196  1.032553  1.031340  1.031096  0.933968  1.017278  1.026801   \n",
       "2  1.032558  1.033835  1.045011  1.042443  0.949665  1.029296  1.045076   \n",
       "3  1.021641  1.041738  1.074710  1.016200  0.934141  1.090135  1.027156   \n",
       "4  1.034174  1.035038  1.063182  1.022080  0.947367  1.080618  1.043254   \n",
       "\n",
       "        7         8         9    ...       990       991       992       993  \\\n",
       "0  1.000000  1.000000  1.000000  ...  1.000000  1.000000  1.000000  1.000000   \n",
       "1  0.973861  0.972531  1.007754  ...  0.947152  0.972705  0.967845  1.020644   \n",
       "2  0.935685  0.968382  0.997836  ...  0.897892  0.973242  0.967909  1.044637   \n",
       "3  0.963980  1.010322  1.045613  ...  0.907345  0.962151  0.977813  1.049054   \n",
       "4  0.959509  0.986438  1.025876  ...  0.888225  0.986986  0.953250  1.022160   \n",
       "\n",
       "        994       995       996       997       998       999  \n",
       "0  1.000000  1.000000  1.000000  1.000000  1.000000  1.000000  \n",
       "1  1.005562  1.002547  0.988140  0.998686  0.978058  1.029405  \n",
       "2  1.045661  1.001199  1.004673  1.016762  0.992462  1.015327  \n",
       "3  0.998934  1.009440  0.992340  1.030464  0.989002  0.994217  \n",
       "4  0.999729  0.978068  0.961579  1.000617  0.999290  1.006293  \n",
       "\n",
       "[5 rows x 1000 columns]"
      ]
     },
     "execution_count": 26,
     "metadata": {},
     "output_type": "execute_result"
    }
   ],
   "source": [
    "# Set number of simulations and trading days\n",
    "num_simulations = 1000\n",
    "num_trading_days = 252\n",
    "\n",
    "# Set last closing prices of `JNJ` and `MU`\n",
    "jnj_last_price = df['JNJ']['close'][-1]\n",
    "mu_last_price = df['MU']['close'][-1]\n",
    "\n",
    "# Initialize empty DataFrame to hold simulated prices for each simulation\n",
    "simulated_price_df = pd.DataFrame()\n",
    "portfolio_cumulative_returns = pd.DataFrame()\n",
    "\n",
    "# Run the simulation of projecting stock prices for the next trading year, `1000` times\n",
    "for n in range(num_simulations):\n",
    "\n",
    "    # Initialize the simulated prices list with the last closing price of `JNJ` and `MU`\n",
    "    simulated_jnj_prices = [jnj_last_price]\n",
    "    simulated_mu_prices = [mu_last_price]\n",
    "    \n",
    "    # Simulate the returns for 252 days\n",
    "    for i in range(num_trading_days):\n",
    "        \n",
    "        # Calculate the simulated price using the last price within the list\n",
    "        simulated_jnj_price = simulated_jnj_prices[-1] * (1 + np.random.normal(avg_daily_return_jnj, std_dev_daily_return_jnj))\n",
    "        simulated_mu_price = simulated_mu_prices[-1] * (1 + np.random.normal(avg_daily_return_mu, std_dev_daily_return_mu))\n",
    "        \n",
    "        # Append the simulated price to the list\n",
    "        simulated_jnj_prices.append(simulated_jnj_price)\n",
    "        simulated_mu_prices.append(simulated_mu_price)\n",
    "    \n",
    "    # Append a simulated prices of each simulation to DataFrame\n",
    "    simulated_price_df[\"JNJ prices\"] = pd.Series(simulated_jnj_prices)\n",
    "    simulated_price_df[\"MU prices\"] = pd.Series(simulated_mu_prices)\n",
    "    \n",
    "    # Calculate the daily returns of simulated prices\n",
    "    simulated_daily_returns = simulated_price_df.pct_change()\n",
    "    \n",
    "    # Set the portfolio weights (60% JNJ; 40% MU)\n",
    "    weights = [0.60, 0.40]\n",
    "\n",
    "    # Use the `dot` function with the weights to multiply weights with each column's simulated daily returns\n",
    "    portfolio_daily_returns = simulated_daily_returns.dot(weights)\n",
    "    \n",
    "    # Calculate the normalized, cumulative return series\n",
    "    portfolio_cumulative_returns[n] = (1 + portfolio_daily_returns.fillna(0)).cumprod()\n",
    "\n",
    "# Print records from the DataFrame\n",
    "portfolio_cumulative_returns.head()"
   ]
  },
  {
   "cell_type": "markdown",
   "metadata": {},
   "source": [
    "### Plot the Multiple Simulations of Potential Cumulative Portfolio Returns over the Next Year (252 Trading Days)"
   ]
  },
  {
   "cell_type": "code",
   "execution_count": 27,
   "metadata": {},
   "outputs": [
    {
     "data": {
      "text/plain": [
       "<matplotlib.axes._subplots.AxesSubplot at 0x12492c750>"
      ]
     },
     "execution_count": 27,
     "metadata": {},
     "output_type": "execute_result"
    },
    {
     "data": {
      "image/png": "[encoded data removed]",
      "text/plain": [
       "<Figure size 432x288 with 1 Axes>"
      ]
     },
     "metadata": {
      "needs_background": "light"
     },
     "output_type": "display_data"
    }
   ],
   "source": [
    "# Use the `plot` function to plot `1000` simulations of the potential trajectories of the portfolio based on 252 trading days\n",
    "plot_title = f\"{n+1} Simulations of Cumulative Portfolio Return Trajectories Over the Next 252 Trading Days\"\n",
    "portfolio_cumulative_returns.plot(legend=None, title=plot_title)"
   ]
  },
  {
   "cell_type": "code",
   "execution_count": 28,
   "metadata": {},
   "outputs": [
    {
     "data": {
      "text/plain": [
       "0    1.271881\n",
       "1    1.159583\n",
       "2    2.815422\n",
       "3    1.349690\n",
       "4    0.827533\n",
       "Name: 252, dtype: float64"
      ]
     },
     "execution_count": 28,
     "metadata": {},
     "output_type": "execute_result"
    }
   ],
   "source": [
    "# Select the last row for project stock prices (prices of each simulation on the 252nd trading day)\n",
    "ending_cumulative_returns = portfolio_cumulative_returns.iloc[-1, :]\n",
    "ending_cumulative_returns.head()"
   ]
  },
  {
   "cell_type": "markdown",
   "metadata": {},
   "source": [
    "### Plot the Frequency Distribution of Simulated Ending Portfolio Cumulative Returns on the 252nd Trading Day"
   ]
  },
  {
   "cell_type": "code",
   "execution_count": 29,
   "metadata": {},
   "outputs": [
    {
     "data": {
      "text/plain": [
       "<matplotlib.axes._subplots.AxesSubplot at 0x128588610>"
      ]
     },
     "execution_count": 29,
     "metadata": {},
     "output_type": "execute_result"
    },
    {
     "data": {
      "image/png": "[encoded data removed]",
      "text/plain": [
       "<Figure size 432x288 with 1 Axes>"
      ]
     },
     "metadata": {
      "needs_background": "light"
     },
     "output_type": "display_data"
    }
   ],
   "source": [
    "# Use the `plot` function to plot a frequency distribution of simulated ending prices\n",
    "ending_cumulative_returns.plot(kind='hist', bins=10)"
   ]
  },
  {
   "cell_type": "markdown",
   "metadata": {},
   "source": [
    "### Calculate the Probability Distribution of Ending Cumulative Return Ranges"
   ]
  },
  {
   "cell_type": "code",
   "execution_count": 30,
   "metadata": {},
   "outputs": [
    {
     "data": {
      "text/plain": [
       "(0.965, 1.305]                  0.302\n",
       "(0.625, 0.965]                  0.211\n",
       "(1.305, 1.644]                  0.193\n",
       "(1.644, 1.984]                  0.128\n",
       "(1.984, 2.323]                  0.062\n",
       "(0.28099999999999997, 0.625]    0.040\n",
       "(2.323, 2.663]                  0.028\n",
       "(2.663, 3.002]                  0.019\n",
       "(3.002, 3.342]                  0.010\n",
       "(3.682, 4.021]                  0.006\n",
       "(3.342, 3.682]                  0.001\n",
       "Name: 252, dtype: float64"
      ]
     },
     "execution_count": 30,
     "metadata": {},
     "output_type": "execute_result"
    }
   ],
   "source": [
    "ending_cumulative_returns.value_counts(bins=11) / len(ending_cumulative_returns)"
   ]
  },
  {
   "cell_type": "markdown",
   "metadata": {},
   "source": [
    "### Calculate Lower and Upper Bounds of 95% Confidence Interval for Simulated Ending Cumulative Portfolio Returns"
   ]
  },
  {
   "cell_type": "code",
   "execution_count": 31,
   "metadata": {},
   "outputs": [
    {
     "data": {
      "text/plain": [
       "0.025    0.583925\n",
       "0.975    2.815934\n",
       "Name: 252, dtype: float64"
      ]
     },
     "execution_count": 31,
     "metadata": {},
     "output_type": "execute_result"
    }
   ],
   "source": [
    "# Use the `quantile` function to calculate the 95% confidence interval for simulated ending prices\n",
    "confidence_interval = ending_cumulative_returns.quantile(q=[0.025, 0.975])\n",
    "confidence_interval"
   ]
  },
  {
   "cell_type": "markdown",
   "metadata": {},
   "source": [
    "### Plot the Probability Distribution and 95% Confidence Interval of Simulated Ending Cumulative Portfolio Returns "
   ]
  },
  {
   "cell_type": "code",
   "execution_count": 32,
   "metadata": {},
   "outputs": [
    {
     "data": {
      "text/plain": [
       "<matplotlib.lines.Line2D at 0x124ad8a50>"
      ]
     },
     "execution_count": 32,
     "metadata": {},
     "output_type": "execute_result"
    },
    {
     "data": {
      "image/png": "[encoded data removed]",
      "text/plain": [
       "<Figure size 432x288 with 1 Axes>"
      ]
     },
     "metadata": {
      "needs_background": "light"
     },
     "output_type": "display_data"
    }
   ],
   "source": [
    "# Use the `plot` function to create a probability distribution histogram of simulated ending prices\n",
    "# with markings for a 95% confidence interval\n",
    "plt.figure();\n",
    "ending_cumulative_returns.plot(kind='hist', density=True, bins=10)\n",
    "plt.axvline(confidence_interval.iloc[0], color='r')\n",
    "plt.axvline(confidence_interval.iloc[1], color='r')"
   ]
  },
  {
   "cell_type": "markdown",
   "metadata": {},
   "source": [
    "### Calculate 95% Confidence Interval of An Initial Investment of 10,000 in the Portfolio over the Next 252 Trading Days"
   ]
  },
  {
   "cell_type": "code",
   "execution_count": 33,
   "metadata": {},
   "outputs": [
    {
     "name": "stdout",
     "output_type": "stream",
     "text": [
      "There is a 95% chance that an initial investment of $10,000 in the portfolio over the next 252 trading days will end within in the range of $15839.252090111479 and $38159.3389144126\n"
     ]
    }
   ],
   "source": [
    "# Set initial investment\n",
    "initial_investment = 10000\n",
    "\n",
    "# Calculate investment profit/loss of lower and upper bound cumulative portfolio returns\n",
    "investment_pnl_lower_bound = initial_investment + (initial_investment * confidence_interval.iloc[0])\n",
    "investment_pnl_upper_bound = initial_investment + (initial_investment * confidence_interval.iloc[1])\n",
    "                                                    \n",
    "# Print the results\n",
    "print(f\"There is a 95% chance that an initial investment of $10,000 in the portfolio\"\n",
    "      f\" over the next 252 trading days will end within in the range of\"\n",
    "      f\" ${investment_pnl_lower_bound} and ${investment_pnl_upper_bound}\")"
   ]
  },
  {
   "cell_type": "code",
   "execution_count": null,
   "metadata": {},
   "outputs": [],
   "source": []
  }
 ],
 "metadata": {
  "kernel_info": {
   "name": "python3"
  },
  "kernelspec": {
   "display_name": "Python 3",
   "language": "python",
   "name": "python3"
  },
  "language_info": {
   "codemirror_mode": {
    "name": "ipython",
    "version": 3
   },
   "file_extension": ".py",
   "mimetype": "text/x-python",
   "name": "python",
   "nbconvert_exporter": "python",
   "pygments_lexer": "ipython3",
   "version": "3.7.7"
  },
  "nteract": {
   "version": "0.12.3"
  }
 },
 "nbformat": 4,
 "nbformat_minor": 4
}
