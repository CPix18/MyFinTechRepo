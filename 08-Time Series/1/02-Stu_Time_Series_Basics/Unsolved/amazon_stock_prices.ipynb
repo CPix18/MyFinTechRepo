{
 "cells": [
  {
   "cell_type": "markdown",
   "metadata": {},
   "source": [
    "# Time Series Basics"
   ]
  },
  {
   "cell_type": "code",
   "execution_count": 34,
   "metadata": {},
   "outputs": [],
   "source": [
    "import pandas as pd\n",
    "from pathlib import Path\n",
    "%matplotlib inline"
   ]
  },
  {
   "cell_type": "code",
   "execution_count": 35,
   "metadata": {},
   "outputs": [
    {
     "data": {
      "text/html": [
       "<div>\n",
       "<style scoped>\n",
       "    .dataframe tbody tr th:only-of-type {\n",
       "        vertical-align: middle;\n",
       "    }\n",
       "\n",
       "    .dataframe tbody tr th {\n",
       "        vertical-align: top;\n",
       "    }\n",
       "\n",
       "    .dataframe thead th {\n",
       "        text-align: right;\n",
       "    }\n",
       "</style>\n",
       "<table border=\"1\" class=\"dataframe\">\n",
       "  <thead>\n",
       "    <tr style=\"text-align: right;\">\n",
       "      <th></th>\n",
       "      <th>Open</th>\n",
       "      <th>High</th>\n",
       "      <th>Low</th>\n",
       "      <th>Close</th>\n",
       "      <th>Adj Close</th>\n",
       "      <th>Volume</th>\n",
       "    </tr>\n",
       "    <tr>\n",
       "      <th>Date</th>\n",
       "      <th></th>\n",
       "      <th></th>\n",
       "      <th></th>\n",
       "      <th></th>\n",
       "      <th></th>\n",
       "      <th></th>\n",
       "    </tr>\n",
       "  </thead>\n",
       "  <tbody>\n",
       "    <tr>\n",
       "      <th>2018-09-04</th>\n",
       "      <td>2026.500000</td>\n",
       "      <td>2050.500000</td>\n",
       "      <td>2013.000000</td>\n",
       "      <td>2039.510010</td>\n",
       "      <td>2039.510010</td>\n",
       "      <td>5721100</td>\n",
       "    </tr>\n",
       "    <tr>\n",
       "      <th>2018-09-05</th>\n",
       "      <td>2038.109985</td>\n",
       "      <td>2040.380005</td>\n",
       "      <td>1989.890015</td>\n",
       "      <td>1994.819946</td>\n",
       "      <td>1994.819946</td>\n",
       "      <td>8220600</td>\n",
       "    </tr>\n",
       "    <tr>\n",
       "      <th>2018-09-06</th>\n",
       "      <td>2006.510010</td>\n",
       "      <td>2007.500000</td>\n",
       "      <td>1935.209961</td>\n",
       "      <td>1958.310059</td>\n",
       "      <td>1958.310059</td>\n",
       "      <td>7488700</td>\n",
       "    </tr>\n",
       "    <tr>\n",
       "      <th>2018-09-07</th>\n",
       "      <td>1938.709961</td>\n",
       "      <td>1975.199951</td>\n",
       "      <td>1937.349976</td>\n",
       "      <td>1952.069946</td>\n",
       "      <td>1952.069946</td>\n",
       "      <td>4892600</td>\n",
       "    </tr>\n",
       "    <tr>\n",
       "      <th>2018-09-10</th>\n",
       "      <td>1971.000000</td>\n",
       "      <td>1973.040039</td>\n",
       "      <td>1931.520020</td>\n",
       "      <td>1939.010010</td>\n",
       "      <td>1939.010010</td>\n",
       "      <td>4544800</td>\n",
       "    </tr>\n",
       "  </tbody>\n",
       "</table>\n",
       "</div>"
      ],
      "text/plain": [
       "                   Open         High          Low        Close    Adj Close  \\\n",
       "Date                                                                          \n",
       "2018-09-04  2026.500000  2050.500000  2013.000000  2039.510010  2039.510010   \n",
       "2018-09-05  2038.109985  2040.380005  1989.890015  1994.819946  1994.819946   \n",
       "2018-09-06  2006.510010  2007.500000  1935.209961  1958.310059  1958.310059   \n",
       "2018-09-07  1938.709961  1975.199951  1937.349976  1952.069946  1952.069946   \n",
       "2018-09-10  1971.000000  1973.040039  1931.520020  1939.010010  1939.010010   \n",
       "\n",
       "             Volume  \n",
       "Date                 \n",
       "2018-09-04  5721100  \n",
       "2018-09-05  8220600  \n",
       "2018-09-06  7488700  \n",
       "2018-09-07  4892600  \n",
       "2018-09-10  4544800  "
      ]
     },
     "execution_count": 35,
     "metadata": {},
     "output_type": "execute_result"
    }
   ],
   "source": [
    "# Read the Amazon stock prices CSV file as a time series DataFrame \n",
    "df = pd.read_csv(Path('../Resources/amazon.csv'), parse_dates=True, index_col=\"Date\")\n",
    "# df = df.drop(columns = [\"Open\", \"High\", \"Low\", \"Adj Close\", \"Volume\"])\n",
    "df.head()"
   ]
  },
  {
   "cell_type": "markdown",
   "metadata": {},
   "source": [
    "### Slice Time Series Data"
   ]
  },
  {
   "cell_type": "code",
   "execution_count": 46,
   "metadata": {},
   "outputs": [
    {
     "data": {
      "text/html": [
       "<div>\n",
       "<style scoped>\n",
       "    .dataframe tbody tr th:only-of-type {\n",
       "        vertical-align: middle;\n",
       "    }\n",
       "\n",
       "    .dataframe tbody tr th {\n",
       "        vertical-align: top;\n",
       "    }\n",
       "\n",
       "    .dataframe thead th {\n",
       "        text-align: right;\n",
       "    }\n",
       "</style>\n",
       "<table border=\"1\" class=\"dataframe\">\n",
       "  <thead>\n",
       "    <tr style=\"text-align: right;\">\n",
       "      <th></th>\n",
       "      <th>Open</th>\n",
       "      <th>High</th>\n",
       "      <th>Low</th>\n",
       "      <th>Close</th>\n",
       "      <th>Adj Close</th>\n",
       "      <th>Volume</th>\n",
       "    </tr>\n",
       "    <tr>\n",
       "      <th>Date</th>\n",
       "      <th></th>\n",
       "      <th></th>\n",
       "      <th></th>\n",
       "      <th></th>\n",
       "      <th></th>\n",
       "      <th></th>\n",
       "    </tr>\n",
       "  </thead>\n",
       "  <tbody>\n",
       "    <tr>\n",
       "      <th>2018-09-04</th>\n",
       "      <td>2026.500000</td>\n",
       "      <td>2050.500000</td>\n",
       "      <td>2013.000000</td>\n",
       "      <td>2039.510010</td>\n",
       "      <td>2039.510010</td>\n",
       "      <td>5721100</td>\n",
       "    </tr>\n",
       "    <tr>\n",
       "      <th>2018-09-05</th>\n",
       "      <td>2038.109985</td>\n",
       "      <td>2040.380005</td>\n",
       "      <td>1989.890015</td>\n",
       "      <td>1994.819946</td>\n",
       "      <td>1994.819946</td>\n",
       "      <td>8220600</td>\n",
       "    </tr>\n",
       "    <tr>\n",
       "      <th>2018-09-06</th>\n",
       "      <td>2006.510010</td>\n",
       "      <td>2007.500000</td>\n",
       "      <td>1935.209961</td>\n",
       "      <td>1958.310059</td>\n",
       "      <td>1958.310059</td>\n",
       "      <td>7488700</td>\n",
       "    </tr>\n",
       "    <tr>\n",
       "      <th>2018-09-07</th>\n",
       "      <td>1938.709961</td>\n",
       "      <td>1975.199951</td>\n",
       "      <td>1937.349976</td>\n",
       "      <td>1952.069946</td>\n",
       "      <td>1952.069946</td>\n",
       "      <td>4892600</td>\n",
       "    </tr>\n",
       "    <tr>\n",
       "      <th>2018-09-10</th>\n",
       "      <td>1971.000000</td>\n",
       "      <td>1973.040039</td>\n",
       "      <td>1931.520020</td>\n",
       "      <td>1939.010010</td>\n",
       "      <td>1939.010010</td>\n",
       "      <td>4544800</td>\n",
       "    </tr>\n",
       "  </tbody>\n",
       "</table>\n",
       "</div>"
      ],
      "text/plain": [
       "                   Open         High          Low        Close    Adj Close  \\\n",
       "Date                                                                          \n",
       "2018-09-04  2026.500000  2050.500000  2013.000000  2039.510010  2039.510010   \n",
       "2018-09-05  2038.109985  2040.380005  1989.890015  1994.819946  1994.819946   \n",
       "2018-09-06  2006.510010  2007.500000  1935.209961  1958.310059  1958.310059   \n",
       "2018-09-07  1938.709961  1975.199951  1937.349976  1952.069946  1952.069946   \n",
       "2018-09-10  1971.000000  1973.040039  1931.520020  1939.010010  1939.010010   \n",
       "\n",
       "             Volume  \n",
       "Date                 \n",
       "2018-09-04  5721100  \n",
       "2018-09-05  8220600  \n",
       "2018-09-06  7488700  \n",
       "2018-09-07  4892600  \n",
       "2018-09-10  4544800  "
      ]
     },
     "execution_count": 46,
     "metadata": {},
     "output_type": "execute_result"
    }
   ],
   "source": [
    "# Select all rows from September 2018\n",
    "df1 = df.loc[\"2018-09\"]\n",
    "df1.head()"
   ]
  },
  {
   "cell_type": "code",
   "execution_count": 47,
   "metadata": {},
   "outputs": [
    {
     "data": {
      "text/html": [
       "<div>\n",
       "<style scoped>\n",
       "    .dataframe tbody tr th:only-of-type {\n",
       "        vertical-align: middle;\n",
       "    }\n",
       "\n",
       "    .dataframe tbody tr th {\n",
       "        vertical-align: top;\n",
       "    }\n",
       "\n",
       "    .dataframe thead th {\n",
       "        text-align: right;\n",
       "    }\n",
       "</style>\n",
       "<table border=\"1\" class=\"dataframe\">\n",
       "  <thead>\n",
       "    <tr style=\"text-align: right;\">\n",
       "      <th></th>\n",
       "      <th>Open</th>\n",
       "      <th>High</th>\n",
       "      <th>Low</th>\n",
       "      <th>Close</th>\n",
       "      <th>Adj Close</th>\n",
       "      <th>Volume</th>\n",
       "    </tr>\n",
       "    <tr>\n",
       "      <th>Date</th>\n",
       "      <th></th>\n",
       "      <th></th>\n",
       "      <th></th>\n",
       "      <th></th>\n",
       "      <th></th>\n",
       "      <th></th>\n",
       "    </tr>\n",
       "  </thead>\n",
       "  <tbody>\n",
       "    <tr>\n",
       "      <th>2018-10-25</th>\n",
       "      <td>1703.339966</td>\n",
       "      <td>1794.810059</td>\n",
       "      <td>1692.010010</td>\n",
       "      <td>1782.170044</td>\n",
       "      <td>1782.170044</td>\n",
       "      <td>10285700</td>\n",
       "    </tr>\n",
       "    <tr>\n",
       "      <th>2018-10-26</th>\n",
       "      <td>1649.589966</td>\n",
       "      <td>1698.459961</td>\n",
       "      <td>1603.000000</td>\n",
       "      <td>1642.810059</td>\n",
       "      <td>1642.810059</td>\n",
       "      <td>14963800</td>\n",
       "    </tr>\n",
       "    <tr>\n",
       "      <th>2018-10-29</th>\n",
       "      <td>1660.000000</td>\n",
       "      <td>1665.739990</td>\n",
       "      <td>1495.000000</td>\n",
       "      <td>1538.880005</td>\n",
       "      <td>1538.880005</td>\n",
       "      <td>13866100</td>\n",
       "    </tr>\n",
       "    <tr>\n",
       "      <th>2018-10-30</th>\n",
       "      <td>1486.160034</td>\n",
       "      <td>1540.989990</td>\n",
       "      <td>1476.359985</td>\n",
       "      <td>1530.420044</td>\n",
       "      <td>1530.420044</td>\n",
       "      <td>12460100</td>\n",
       "    </tr>\n",
       "    <tr>\n",
       "      <th>2018-10-31</th>\n",
       "      <td>1569.989990</td>\n",
       "      <td>1623.910034</td>\n",
       "      <td>1565.089966</td>\n",
       "      <td>1598.010010</td>\n",
       "      <td>1598.010010</td>\n",
       "      <td>9390200</td>\n",
       "    </tr>\n",
       "  </tbody>\n",
       "</table>\n",
       "</div>"
      ],
      "text/plain": [
       "                   Open         High          Low        Close    Adj Close  \\\n",
       "Date                                                                          \n",
       "2018-10-25  1703.339966  1794.810059  1692.010010  1782.170044  1782.170044   \n",
       "2018-10-26  1649.589966  1698.459961  1603.000000  1642.810059  1642.810059   \n",
       "2018-10-29  1660.000000  1665.739990  1495.000000  1538.880005  1538.880005   \n",
       "2018-10-30  1486.160034  1540.989990  1476.359985  1530.420044  1530.420044   \n",
       "2018-10-31  1569.989990  1623.910034  1565.089966  1598.010010  1598.010010   \n",
       "\n",
       "              Volume  \n",
       "Date                  \n",
       "2018-10-25  10285700  \n",
       "2018-10-26  14963800  \n",
       "2018-10-29  13866100  \n",
       "2018-10-30  12460100  \n",
       "2018-10-31   9390200  "
      ]
     },
     "execution_count": 47,
     "metadata": {},
     "output_type": "execute_result"
    }
   ],
   "source": [
    "# Select all rows from September through October for 2018\n",
    "df2 = df.loc[\"2018-09\":\"2018-10\"]\n",
    "df2.tail()"
   ]
  },
  {
   "cell_type": "markdown",
   "metadata": {},
   "source": [
    "### Plot Time Series Data"
   ]
  },
  {
   "cell_type": "code",
   "execution_count": 49,
   "metadata": {},
   "outputs": [
    {
     "data": {
      "text/plain": [
       "<matplotlib.axes._subplots.AxesSubplot at 0x1238f8810>"
      ]
     },
     "execution_count": 49,
     "metadata": {},
     "output_type": "execute_result"
    },
    {
     "data": {
      "image/png": "[encoded data removed]",
      "text/plain": [
       "<Figure size 432x288 with 1 Axes>"
      ]
     },
     "metadata": {
      "needs_background": "light"
     },
     "output_type": "display_data"
    }
   ],
   "source": [
    "# Plot the closing prices using a line plot\n",
    "df[\"Close\"].plot()"
   ]
  },
  {
   "cell_type": "markdown",
   "metadata": {},
   "source": [
    "### Resample Time Series Data"
   ]
  },
  {
   "cell_type": "code",
   "execution_count": 52,
   "metadata": {},
   "outputs": [
    {
     "data": {
      "text/html": [
       "<div>\n",
       "<style scoped>\n",
       "    .dataframe tbody tr th:only-of-type {\n",
       "        vertical-align: middle;\n",
       "    }\n",
       "\n",
       "    .dataframe tbody tr th {\n",
       "        vertical-align: top;\n",
       "    }\n",
       "\n",
       "    .dataframe thead th {\n",
       "        text-align: right;\n",
       "    }\n",
       "</style>\n",
       "<table border=\"1\" class=\"dataframe\">\n",
       "  <thead>\n",
       "    <tr style=\"text-align: right;\">\n",
       "      <th></th>\n",
       "      <th>Open</th>\n",
       "      <th>High</th>\n",
       "      <th>Low</th>\n",
       "      <th>Close</th>\n",
       "      <th>Adj Close</th>\n",
       "      <th>Volume</th>\n",
       "    </tr>\n",
       "    <tr>\n",
       "      <th>Date</th>\n",
       "      <th></th>\n",
       "      <th></th>\n",
       "      <th></th>\n",
       "      <th></th>\n",
       "      <th></th>\n",
       "      <th></th>\n",
       "    </tr>\n",
       "  </thead>\n",
       "  <tbody>\n",
       "    <tr>\n",
       "      <th>2019-07-14</th>\n",
       "      <td>1982.464014</td>\n",
       "      <td>2004.750000</td>\n",
       "      <td>1973.260010</td>\n",
       "      <td>1994.019995</td>\n",
       "      <td>1994.019995</td>\n",
       "      <td>3797620</td>\n",
       "    </tr>\n",
       "    <tr>\n",
       "      <th>2019-07-21</th>\n",
       "      <td>2002.050000</td>\n",
       "      <td>2008.943994</td>\n",
       "      <td>1981.716016</td>\n",
       "      <td>1993.068017</td>\n",
       "      <td>1993.068017</td>\n",
       "      <td>2969640</td>\n",
       "    </tr>\n",
       "    <tr>\n",
       "      <th>2019-07-28</th>\n",
       "      <td>1975.886011</td>\n",
       "      <td>1988.038013</td>\n",
       "      <td>1958.897998</td>\n",
       "      <td>1979.560010</td>\n",
       "      <td>1979.560010</td>\n",
       "      <td>3459680</td>\n",
       "    </tr>\n",
       "    <tr>\n",
       "      <th>2019-08-04</th>\n",
       "      <td>1887.203979</td>\n",
       "      <td>1897.190015</td>\n",
       "      <td>1855.097998</td>\n",
       "      <td>1871.263989</td>\n",
       "      <td>1871.263989</td>\n",
       "      <td>4308860</td>\n",
       "    </tr>\n",
       "    <tr>\n",
       "      <th>2019-08-11</th>\n",
       "      <td>1794.277978</td>\n",
       "      <td>1809.344019</td>\n",
       "      <td>1771.902002</td>\n",
       "      <td>1797.365991</td>\n",
       "      <td>1797.365991</td>\n",
       "      <td>4437240</td>\n",
       "    </tr>\n",
       "  </tbody>\n",
       "</table>\n",
       "</div>"
      ],
      "text/plain": [
       "                   Open         High          Low        Close    Adj Close  \\\n",
       "Date                                                                          \n",
       "2019-07-14  1982.464014  2004.750000  1973.260010  1994.019995  1994.019995   \n",
       "2019-07-21  2002.050000  2008.943994  1981.716016  1993.068017  1993.068017   \n",
       "2019-07-28  1975.886011  1988.038013  1958.897998  1979.560010  1979.560010   \n",
       "2019-08-04  1887.203979  1897.190015  1855.097998  1871.263989  1871.263989   \n",
       "2019-08-11  1794.277978  1809.344019  1771.902002  1797.365991  1797.365991   \n",
       "\n",
       "             Volume  \n",
       "Date                 \n",
       "2019-07-14  3797620  \n",
       "2019-07-21  2969640  \n",
       "2019-07-28  3459680  \n",
       "2019-08-04  4308860  \n",
       "2019-08-11  4437240  "
      ]
     },
     "execution_count": 52,
     "metadata": {},
     "output_type": "execute_result"
    }
   ],
   "source": [
    "# Resample the closing prices to weekly and take the mean\n",
    "weekly_average = df.resample('W').mean()\n",
    "weekly_average.tail()"
   ]
  },
  {
   "cell_type": "code",
   "execution_count": 54,
   "metadata": {},
   "outputs": [
    {
     "data": {
      "text/plain": [
       "<matplotlib.axes._subplots.AxesSubplot at 0x123cb81d0>"
      ]
     },
     "execution_count": 54,
     "metadata": {},
     "output_type": "execute_result"
    },
    {
     "data": {
      "image/png": "[encoded data removed]",
      "text/plain": [
       "<Figure size 432x288 with 1 Axes>"
      ]
     },
     "metadata": {
      "needs_background": "light"
     },
     "output_type": "display_data"
    }
   ],
   "source": [
    "# Plot the weekly average closing prices as a line chart\n",
    "weekly_average[\"Close\"].plot()"
   ]
  },
  {
   "cell_type": "markdown",
   "metadata": {},
   "source": [
    "# Optional Challenge"
   ]
  },
  {
   "cell_type": "code",
   "execution_count": 55,
   "metadata": {},
   "outputs": [
    {
     "data": {
      "text/html": [
       "<div>\n",
       "<style scoped>\n",
       "    .dataframe tbody tr th:only-of-type {\n",
       "        vertical-align: middle;\n",
       "    }\n",
       "\n",
       "    .dataframe tbody tr th {\n",
       "        vertical-align: top;\n",
       "    }\n",
       "\n",
       "    .dataframe thead th {\n",
       "        text-align: right;\n",
       "    }\n",
       "</style>\n",
       "<table border=\"1\" class=\"dataframe\">\n",
       "  <thead>\n",
       "    <tr style=\"text-align: right;\">\n",
       "      <th></th>\n",
       "      <th>Close</th>\n",
       "      <th>Adj Close</th>\n",
       "    </tr>\n",
       "    <tr>\n",
       "      <th>Date</th>\n",
       "      <th></th>\n",
       "      <th></th>\n",
       "    </tr>\n",
       "  </thead>\n",
       "  <tbody>\n",
       "    <tr>\n",
       "      <th>2018-09-04</th>\n",
       "      <td>2039.510010</td>\n",
       "      <td>2039.510010</td>\n",
       "    </tr>\n",
       "    <tr>\n",
       "      <th>2018-09-05</th>\n",
       "      <td>1994.819946</td>\n",
       "      <td>1994.819946</td>\n",
       "    </tr>\n",
       "    <tr>\n",
       "      <th>2018-09-06</th>\n",
       "      <td>1958.310059</td>\n",
       "      <td>1958.310059</td>\n",
       "    </tr>\n",
       "    <tr>\n",
       "      <th>2018-09-07</th>\n",
       "      <td>1952.069946</td>\n",
       "      <td>1952.069946</td>\n",
       "    </tr>\n",
       "    <tr>\n",
       "      <th>2018-09-10</th>\n",
       "      <td>1939.010010</td>\n",
       "      <td>1939.010010</td>\n",
       "    </tr>\n",
       "  </tbody>\n",
       "</table>\n",
       "</div>"
      ],
      "text/plain": [
       "                  Close    Adj Close\n",
       "Date                                \n",
       "2018-09-04  2039.510010  2039.510010\n",
       "2018-09-05  1994.819946  1994.819946\n",
       "2018-09-06  1958.310059  1958.310059\n",
       "2018-09-07  1952.069946  1952.069946\n",
       "2018-09-10  1939.010010  1939.010010"
      ]
     },
     "execution_count": 55,
     "metadata": {},
     "output_type": "execute_result"
    }
   ],
   "source": [
    "# Select the rows that only contain `Close` in the column header\n",
    "dfc = df[[\"Close\", \"Adj Close\"]]\n",
    "dfc.head()"
   ]
  },
  {
   "cell_type": "code",
   "execution_count": 56,
   "metadata": {},
   "outputs": [
    {
     "data": {
      "text/plain": [
       "<matplotlib.axes._subplots.AxesSubplot at 0x123e5f250>"
      ]
     },
     "execution_count": 56,
     "metadata": {},
     "output_type": "execute_result"
    },
    {
     "data": {
      "image/png": "[encoded data removed]",
      "text/plain": [
       "<Figure size 432x288 with 1 Axes>"
      ]
     },
     "metadata": {
      "needs_background": "light"
     },
     "output_type": "display_data"
    }
   ],
   "source": [
    "dfc.plot()"
   ]
  },
  {
   "cell_type": "code",
   "execution_count": null,
   "metadata": {},
   "outputs": [],
   "source": []
  }
 ],
 "metadata": {
  "kernelspec": {
   "display_name": "Python (Viz)",
   "language": "python",
   "name": "viz"
  },
  "language_info": {
   "codemirror_mode": {
    "name": "ipython",
    "version": 3
   },
   "file_extension": ".py",
   "mimetype": "text/x-python",
   "name": "python",
   "nbconvert_exporter": "python",
   "pygments_lexer": "ipython3",
   "version": "3.7.7"
  }
 },
 "nbformat": 4,
 "nbformat_minor": 4
}
