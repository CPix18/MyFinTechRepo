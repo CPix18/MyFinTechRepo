{
 "cells": [
  {
   "cell_type": "markdown",
   "metadata": {},
   "source": [
    "# Correlating Returns"
   ]
  },
  {
   "cell_type": "code",
   "execution_count": 25,
   "metadata": {
    "scrolled": true
   },
   "outputs": [],
   "source": [
    "import alpaca_trade_api as tradeapi\n",
    "import pandas as pd\n",
    "from newsapi.newsapi_client import NewsApiClient\n",
    "from datetime import date, datetime, timedelta\n",
    "import os\n",
    "# from dotenv import load_dotenv\n",
    "from nltk.sentiment.vader import SentimentIntensityAnalyzer"
   ]
  },
  {
   "cell_type": "markdown",
   "metadata": {},
   "source": [
    "## Load API Keys from Environment Variables"
   ]
  },
  {
   "cell_type": "code",
   "execution_count": 26,
   "metadata": {},
   "outputs": [],
   "source": [
    "# Load .env enviroment variables\n",
    "# load_dotenv()\n",
    "\n",
    "# Set News API Key\n",
    "newsapi = NewsApiClient(api_key=os.environ[\"NEWSAPI_KEY\"])\n",
    "\n",
    "# Set Alpaca API key and secret\n",
    "alpaca_api_key = os.getenv(\"ALPACA_API_KEY\")\n",
    "alpaca_secret_key = os.getenv(\"ALPACA_SECRET_KEY\")\n",
    "\n",
    "api = tradeapi.REST(alpaca_api_key, alpaca_secret_key, api_version='v2')"
   ]
  },
  {
   "cell_type": "markdown",
   "metadata": {},
   "source": [
    "## Get AAPL Returns for Past Month"
   ]
  },
  {
   "cell_type": "code",
   "execution_count": 27,
   "metadata": {
    "scrolled": true
   },
   "outputs": [
    {
     "data": {
      "text/html": [
       "<div>\n",
       "<style scoped>\n",
       "    .dataframe tbody tr th:only-of-type {\n",
       "        vertical-align: middle;\n",
       "    }\n",
       "\n",
       "    .dataframe tbody tr th {\n",
       "        vertical-align: top;\n",
       "    }\n",
       "\n",
       "    .dataframe thead tr th {\n",
       "        text-align: left;\n",
       "    }\n",
       "\n",
       "    .dataframe thead tr:last-of-type th {\n",
       "        text-align: right;\n",
       "    }\n",
       "</style>\n",
       "<table border=\"1\" class=\"dataframe\">\n",
       "  <thead>\n",
       "    <tr>\n",
       "      <th></th>\n",
       "      <th colspan=\"5\" halign=\"left\">AAPL</th>\n",
       "    </tr>\n",
       "    <tr>\n",
       "      <th></th>\n",
       "      <th>open</th>\n",
       "      <th>high</th>\n",
       "      <th>low</th>\n",
       "      <th>close</th>\n",
       "      <th>volume</th>\n",
       "    </tr>\n",
       "    <tr>\n",
       "      <th>time</th>\n",
       "      <th></th>\n",
       "      <th></th>\n",
       "      <th></th>\n",
       "      <th></th>\n",
       "      <th></th>\n",
       "    </tr>\n",
       "  </thead>\n",
       "  <tbody>\n",
       "    <tr>\n",
       "      <th>2020-01-06 00:00:00-05:00</th>\n",
       "      <td>293.79</td>\n",
       "      <td>299.9600</td>\n",
       "      <td>292.750</td>\n",
       "      <td>299.78</td>\n",
       "      <td>27487207</td>\n",
       "    </tr>\n",
       "    <tr>\n",
       "      <th>2020-01-07 00:00:00-05:00</th>\n",
       "      <td>299.84</td>\n",
       "      <td>300.9000</td>\n",
       "      <td>297.480</td>\n",
       "      <td>298.27</td>\n",
       "      <td>24353387</td>\n",
       "    </tr>\n",
       "    <tr>\n",
       "      <th>2020-01-08 00:00:00-05:00</th>\n",
       "      <td>297.16</td>\n",
       "      <td>304.4399</td>\n",
       "      <td>297.156</td>\n",
       "      <td>303.15</td>\n",
       "      <td>28984028</td>\n",
       "    </tr>\n",
       "    <tr>\n",
       "      <th>2020-01-09 00:00:00-05:00</th>\n",
       "      <td>307.25</td>\n",
       "      <td>310.4300</td>\n",
       "      <td>306.200</td>\n",
       "      <td>309.71</td>\n",
       "      <td>38540792</td>\n",
       "    </tr>\n",
       "    <tr>\n",
       "      <th>2020-01-10 00:00:00-05:00</th>\n",
       "      <td>310.60</td>\n",
       "      <td>312.6700</td>\n",
       "      <td>308.250</td>\n",
       "      <td>310.37</td>\n",
       "      <td>32304453</td>\n",
       "    </tr>\n",
       "  </tbody>\n",
       "</table>\n",
       "</div>"
      ],
      "text/plain": [
       "                             AAPL                                     \n",
       "                             open      high      low   close    volume\n",
       "time                                                                  \n",
       "2020-01-06 00:00:00-05:00  293.79  299.9600  292.750  299.78  27487207\n",
       "2020-01-07 00:00:00-05:00  299.84  300.9000  297.480  298.27  24353387\n",
       "2020-01-08 00:00:00-05:00  297.16  304.4399  297.156  303.15  28984028\n",
       "2020-01-09 00:00:00-05:00  307.25  310.4300  306.200  309.71  38540792\n",
       "2020-01-10 00:00:00-05:00  310.60  312.6700  308.250  310.37  32304453"
      ]
     },
     "execution_count": 27,
     "metadata": {},
     "output_type": "execute_result"
    }
   ],
   "source": [
    "# Set the ticker\n",
    "ticker = \"AAPL\"\n",
    "\n",
    "# Set timeframe to '1D'\n",
    "timeframe = '1D'\n",
    "\n",
    "# Get current date and the date from one month ago\n",
    "current_date = date.today()\n",
    "past_date = date.today() - timedelta(weeks=4)\n",
    "\n",
    "# Get 4 weeks worth of historical data for AAPL\n",
    "df = api.get_barset(\n",
    "    ticker,\n",
    "    timeframe,\n",
    "    limit=None,\n",
    "    start=current_date,\n",
    "    end=past_date,\n",
    "    after=None,\n",
    "    until=None,\n",
    ").df\n",
    "\n",
    "df.head()"
   ]
  },
  {
   "cell_type": "code",
   "execution_count": 28,
   "metadata": {
    "scrolled": true
   },
   "outputs": [
    {
     "data": {
      "text/html": [
       "<div>\n",
       "<style scoped>\n",
       "    .dataframe tbody tr th:only-of-type {\n",
       "        vertical-align: middle;\n",
       "    }\n",
       "\n",
       "    .dataframe tbody tr th {\n",
       "        vertical-align: top;\n",
       "    }\n",
       "\n",
       "    .dataframe thead th {\n",
       "        text-align: right;\n",
       "    }\n",
       "</style>\n",
       "<table border=\"1\" class=\"dataframe\">\n",
       "  <thead>\n",
       "    <tr style=\"text-align: right;\">\n",
       "      <th></th>\n",
       "      <th>close</th>\n",
       "    </tr>\n",
       "  </thead>\n",
       "  <tbody>\n",
       "    <tr>\n",
       "      <th>2020-01-06</th>\n",
       "      <td>299.78</td>\n",
       "    </tr>\n",
       "    <tr>\n",
       "      <th>2020-01-07</th>\n",
       "      <td>298.27</td>\n",
       "    </tr>\n",
       "    <tr>\n",
       "      <th>2020-01-08</th>\n",
       "      <td>303.15</td>\n",
       "    </tr>\n",
       "    <tr>\n",
       "      <th>2020-01-09</th>\n",
       "      <td>309.71</td>\n",
       "    </tr>\n",
       "    <tr>\n",
       "      <th>2020-01-10</th>\n",
       "      <td>310.37</td>\n",
       "    </tr>\n",
       "  </tbody>\n",
       "</table>\n",
       "</div>"
      ],
      "text/plain": [
       "             close\n",
       "2020-01-06  299.78\n",
       "2020-01-07  298.27\n",
       "2020-01-08  303.15\n",
       "2020-01-09  309.71\n",
       "2020-01-10  310.37"
      ]
     },
     "execution_count": 28,
     "metadata": {},
     "output_type": "execute_result"
    }
   ],
   "source": [
    "# Drop Outer Table Level\n",
    "df = df.droplevel(axis=1, level=0)\n",
    "\n",
    "# Use the drop function to drop extra columns\n",
    "df.drop(columns=['open', 'high', 'low', 'volume'], inplace=True)\n",
    "\n",
    "# Since this is daily data, we can keep only the date (remove the time) component of the data\n",
    "df.index = df.index.date\n",
    "\n",
    "df.head()"
   ]
  },
  {
   "cell_type": "code",
   "execution_count": 29,
   "metadata": {},
   "outputs": [
    {
     "data": {
      "text/html": [
       "<div>\n",
       "<style scoped>\n",
       "    .dataframe tbody tr th:only-of-type {\n",
       "        vertical-align: middle;\n",
       "    }\n",
       "\n",
       "    .dataframe tbody tr th {\n",
       "        vertical-align: top;\n",
       "    }\n",
       "\n",
       "    .dataframe thead th {\n",
       "        text-align: right;\n",
       "    }\n",
       "</style>\n",
       "<table border=\"1\" class=\"dataframe\">\n",
       "  <thead>\n",
       "    <tr style=\"text-align: right;\">\n",
       "      <th></th>\n",
       "      <th>close</th>\n",
       "    </tr>\n",
       "  </thead>\n",
       "  <tbody>\n",
       "    <tr>\n",
       "      <th>2020-01-06</th>\n",
       "      <td>NaN</td>\n",
       "    </tr>\n",
       "    <tr>\n",
       "      <th>2020-01-07</th>\n",
       "      <td>-0.005037</td>\n",
       "    </tr>\n",
       "    <tr>\n",
       "      <th>2020-01-08</th>\n",
       "      <td>0.016361</td>\n",
       "    </tr>\n",
       "    <tr>\n",
       "      <th>2020-01-09</th>\n",
       "      <td>0.021639</td>\n",
       "    </tr>\n",
       "    <tr>\n",
       "      <th>2020-01-10</th>\n",
       "      <td>0.002131</td>\n",
       "    </tr>\n",
       "  </tbody>\n",
       "</table>\n",
       "</div>"
      ],
      "text/plain": [
       "               close\n",
       "2020-01-06       NaN\n",
       "2020-01-07 -0.005037\n",
       "2020-01-08  0.016361\n",
       "2020-01-09  0.021639\n",
       "2020-01-10  0.002131"
      ]
     },
     "execution_count": 29,
     "metadata": {},
     "output_type": "execute_result"
    }
   ],
   "source": [
    "# Use the `pct_change` function to calculate daily returns of AAPL\n",
    "aapl_returns = df.pct_change()\n",
    "aapl_returns.head()"
   ]
  },
  {
   "cell_type": "code",
   "execution_count": 30,
   "metadata": {},
   "outputs": [],
   "source": [
    "# Use newsapi client to get most relevant 20 headlines per day in the past month\n",
    "def get_headlines(keyword):\n",
    "    all_headlines = []\n",
    "    all_dates = []\n",
    "    date = current_date\n",
    "    print(f\"Fetching news about '{keyword}'\")\n",
    "    print(\"*\" * 30)\n",
    "    while date > past_date:\n",
    "        print(f\"retrieving news from: {date}\")\n",
    "        articles = newsapi.get_everything(\n",
    "            q=keyword,\n",
    "            from_param=str(date),\n",
    "            to=str(date),\n",
    "            language=\"en\",\n",
    "            sort_by=\"relevancy\",\n",
    "            page=1,\n",
    "        )\n",
    "        headlines = []\n",
    "        for i in range(0, len(articles[\"articles\"])):\n",
    "            headlines.append(articles[\"articles\"][i][\"title\"])\n",
    "        all_headlines.append(headlines)\n",
    "        all_dates.append(date)\n",
    "        date = date - timedelta(days=1)\n",
    "    return all_headlines, all_dates\n",
    "\n"
   ]
  },
  {
   "cell_type": "code",
   "execution_count": 31,
   "metadata": {},
   "outputs": [
    {
     "name": "stdout",
     "output_type": "stream",
     "text": [
      "Fetching news about 'global'\n",
      "******************************\n",
      "retrieving news from: 2020-05-28\n",
      "retrieving news from: 2020-05-27\n",
      "retrieving news from: 2020-05-26\n",
      "retrieving news from: 2020-05-25\n",
      "retrieving news from: 2020-05-24\n",
      "retrieving news from: 2020-05-23\n",
      "retrieving news from: 2020-05-22\n",
      "retrieving news from: 2020-05-21\n",
      "retrieving news from: 2020-05-20\n",
      "retrieving news from: 2020-05-19\n",
      "retrieving news from: 2020-05-18\n",
      "retrieving news from: 2020-05-17\n",
      "retrieving news from: 2020-05-16\n",
      "retrieving news from: 2020-05-15\n",
      "retrieving news from: 2020-05-14\n",
      "retrieving news from: 2020-05-13\n",
      "retrieving news from: 2020-05-12\n",
      "retrieving news from: 2020-05-11\n",
      "retrieving news from: 2020-05-10\n",
      "retrieving news from: 2020-05-09\n",
      "retrieving news from: 2020-05-08\n",
      "retrieving news from: 2020-05-07\n",
      "retrieving news from: 2020-05-06\n",
      "retrieving news from: 2020-05-05\n",
      "retrieving news from: 2020-05-04\n",
      "retrieving news from: 2020-05-03\n",
      "retrieving news from: 2020-05-02\n",
      "retrieving news from: 2020-05-01\n"
     ]
    }
   ],
   "source": [
    "# Get first topic\n",
    "global_headlines, dates = get_headlines(\"global\")"
   ]
  },
  {
   "cell_type": "code",
   "execution_count": 32,
   "metadata": {},
   "outputs": [
    {
     "name": "stdout",
     "output_type": "stream",
     "text": [
      "Fetching news about 'aapl'\n",
      "******************************\n",
      "retrieving news from: 2020-05-28\n",
      "retrieving news from: 2020-05-27\n",
      "retrieving news from: 2020-05-26\n",
      "retrieving news from: 2020-05-25\n",
      "retrieving news from: 2020-05-24\n",
      "retrieving news from: 2020-05-23\n",
      "retrieving news from: 2020-05-22\n",
      "retrieving news from: 2020-05-21\n",
      "retrieving news from: 2020-05-20\n",
      "retrieving news from: 2020-05-19\n",
      "retrieving news from: 2020-05-18\n",
      "retrieving news from: 2020-05-17\n",
      "retrieving news from: 2020-05-16\n",
      "retrieving news from: 2020-05-15\n",
      "retrieving news from: 2020-05-14\n",
      "retrieving news from: 2020-05-13\n",
      "retrieving news from: 2020-05-12\n",
      "retrieving news from: 2020-05-11\n",
      "retrieving news from: 2020-05-10\n",
      "retrieving news from: 2020-05-09\n",
      "retrieving news from: 2020-05-08\n",
      "retrieving news from: 2020-05-07\n",
      "retrieving news from: 2020-05-06\n",
      "retrieving news from: 2020-05-05\n",
      "retrieving news from: 2020-05-04\n",
      "retrieving news from: 2020-05-03\n",
      "retrieving news from: 2020-05-02\n",
      "retrieving news from: 2020-05-01\n"
     ]
    }
   ],
   "source": [
    "# Get second topic\n",
    "aapl_headlines, dates = get_headlines(\"aapl\")"
   ]
  },
  {
   "cell_type": "code",
   "execution_count": 33,
   "metadata": {},
   "outputs": [
    {
     "name": "stdout",
     "output_type": "stream",
     "text": [
      "Fetching news about 'iphone'\n",
      "******************************\n",
      "retrieving news from: 2020-05-28\n",
      "retrieving news from: 2020-05-27\n",
      "retrieving news from: 2020-05-26\n",
      "retrieving news from: 2020-05-25\n",
      "retrieving news from: 2020-05-24\n",
      "retrieving news from: 2020-05-23\n",
      "retrieving news from: 2020-05-22\n",
      "retrieving news from: 2020-05-21\n",
      "retrieving news from: 2020-05-20\n",
      "retrieving news from: 2020-05-19\n",
      "retrieving news from: 2020-05-18\n",
      "retrieving news from: 2020-05-17\n",
      "retrieving news from: 2020-05-16\n",
      "retrieving news from: 2020-05-15\n",
      "retrieving news from: 2020-05-14\n",
      "retrieving news from: 2020-05-13\n",
      "retrieving news from: 2020-05-12\n",
      "retrieving news from: 2020-05-11\n",
      "retrieving news from: 2020-05-10\n",
      "retrieving news from: 2020-05-09\n",
      "retrieving news from: 2020-05-08\n",
      "retrieving news from: 2020-05-07\n",
      "retrieving news from: 2020-05-06\n",
      "retrieving news from: 2020-05-05\n",
      "retrieving news from: 2020-05-04\n",
      "retrieving news from: 2020-05-03\n",
      "retrieving news from: 2020-05-02\n",
      "retrieving news from: 2020-05-01\n"
     ]
    }
   ],
   "source": [
    "# Get third topic\n",
    "iphone_headlines, dates = get_headlines(\"iphone\")"
   ]
  },
  {
   "cell_type": "code",
   "execution_count": 34,
   "metadata": {},
   "outputs": [
    {
     "name": "stdout",
     "output_type": "stream",
     "text": [
      "Fetching news about 'mac'\n",
      "******************************\n",
      "retrieving news from: 2020-05-28\n",
      "retrieving news from: 2020-05-27\n",
      "retrieving news from: 2020-05-26\n",
      "retrieving news from: 2020-05-25\n",
      "retrieving news from: 2020-05-24\n",
      "retrieving news from: 2020-05-23\n",
      "retrieving news from: 2020-05-22\n",
      "retrieving news from: 2020-05-21\n",
      "retrieving news from: 2020-05-20\n",
      "retrieving news from: 2020-05-19\n",
      "retrieving news from: 2020-05-18\n",
      "retrieving news from: 2020-05-17\n",
      "retrieving news from: 2020-05-16\n",
      "retrieving news from: 2020-05-15\n",
      "retrieving news from: 2020-05-14\n",
      "retrieving news from: 2020-05-13\n",
      "retrieving news from: 2020-05-12\n",
      "retrieving news from: 2020-05-11\n",
      "retrieving news from: 2020-05-10\n",
      "retrieving news from: 2020-05-09\n",
      "retrieving news from: 2020-05-08\n",
      "retrieving news from: 2020-05-07\n",
      "retrieving news from: 2020-05-06\n",
      "retrieving news from: 2020-05-05\n",
      "retrieving news from: 2020-05-04\n"
     ]
    },
    {
     "ename": "NewsAPIException",
     "evalue": "{'status': 'error', 'code': 'rateLimited', 'message': 'You have made too many requests recently. Developer accounts are limited to 500 requests over a 24 hour period (250 requests available every 12 hours). Please upgrade to a paid plan if you need more requests.'}",
     "output_type": "error",
     "traceback": [
      "\u001b[0;31m---------------------------------------------------------------------------\u001b[0m",
      "\u001b[0;31mNewsAPIException\u001b[0m                          Traceback (most recent call last)",
      "\u001b[0;32m<ipython-input-34-595fbe59c2cf>\u001b[0m in \u001b[0;36m<module>\u001b[0;34m\u001b[0m\n\u001b[1;32m      1\u001b[0m \u001b[0;31m# Get fourth topic\u001b[0m\u001b[0;34m\u001b[0m\u001b[0;34m\u001b[0m\u001b[0;34m\u001b[0m\u001b[0m\n\u001b[0;32m----> 2\u001b[0;31m \u001b[0mmac_headlines\u001b[0m\u001b[0;34m,\u001b[0m \u001b[0mdates\u001b[0m \u001b[0;34m=\u001b[0m \u001b[0mget_headlines\u001b[0m\u001b[0;34m(\u001b[0m\u001b[0;34m\"mac\"\u001b[0m\u001b[0;34m)\u001b[0m\u001b[0;34m\u001b[0m\u001b[0;34m\u001b[0m\u001b[0m\n\u001b[0m",
      "\u001b[0;32m<ipython-input-30-24c6726f90d8>\u001b[0m in \u001b[0;36mget_headlines\u001b[0;34m(keyword)\u001b[0m\n\u001b[1;32m     14\u001b[0m             \u001b[0mlanguage\u001b[0m\u001b[0;34m=\u001b[0m\u001b[0;34m\"en\"\u001b[0m\u001b[0;34m,\u001b[0m\u001b[0;34m\u001b[0m\u001b[0;34m\u001b[0m\u001b[0m\n\u001b[1;32m     15\u001b[0m             \u001b[0msort_by\u001b[0m\u001b[0;34m=\u001b[0m\u001b[0;34m\"relevancy\"\u001b[0m\u001b[0;34m,\u001b[0m\u001b[0;34m\u001b[0m\u001b[0;34m\u001b[0m\u001b[0m\n\u001b[0;32m---> 16\u001b[0;31m             \u001b[0mpage\u001b[0m\u001b[0;34m=\u001b[0m\u001b[0;36m1\u001b[0m\u001b[0;34m,\u001b[0m\u001b[0;34m\u001b[0m\u001b[0;34m\u001b[0m\u001b[0m\n\u001b[0m\u001b[1;32m     17\u001b[0m         )\n\u001b[1;32m     18\u001b[0m         \u001b[0mheadlines\u001b[0m \u001b[0;34m=\u001b[0m \u001b[0;34m[\u001b[0m\u001b[0;34m]\u001b[0m\u001b[0;34m\u001b[0m\u001b[0;34m\u001b[0m\u001b[0m\n",
      "\u001b[0;32m/opt/anaconda3/envs/Viz/lib/python3.7/site-packages/newsapi/newsapi_client.py\u001b[0m in \u001b[0;36mget_everything\u001b[0;34m(self, q, qintitle, sources, domains, exclude_domains, from_param, to, language, sort_by, page, page_size)\u001b[0m\n\u001b[1;32m    324\u001b[0m         \u001b[0;31m# Check Status of Request\u001b[0m\u001b[0;34m\u001b[0m\u001b[0;34m\u001b[0m\u001b[0;34m\u001b[0m\u001b[0m\n\u001b[1;32m    325\u001b[0m         \u001b[0;32mif\u001b[0m \u001b[0mr\u001b[0m\u001b[0;34m.\u001b[0m\u001b[0mstatus_code\u001b[0m \u001b[0;34m!=\u001b[0m \u001b[0mrequests\u001b[0m\u001b[0;34m.\u001b[0m\u001b[0mcodes\u001b[0m\u001b[0;34m.\u001b[0m\u001b[0mok\u001b[0m\u001b[0;34m:\u001b[0m\u001b[0;34m\u001b[0m\u001b[0;34m\u001b[0m\u001b[0m\n\u001b[0;32m--> 326\u001b[0;31m             \u001b[0;32mraise\u001b[0m \u001b[0mNewsAPIException\u001b[0m\u001b[0;34m(\u001b[0m\u001b[0mr\u001b[0m\u001b[0;34m.\u001b[0m\u001b[0mjson\u001b[0m\u001b[0;34m(\u001b[0m\u001b[0;34m)\u001b[0m\u001b[0;34m)\u001b[0m\u001b[0;34m\u001b[0m\u001b[0;34m\u001b[0m\u001b[0m\n\u001b[0m\u001b[1;32m    327\u001b[0m \u001b[0;34m\u001b[0m\u001b[0m\n\u001b[1;32m    328\u001b[0m         \u001b[0;32mreturn\u001b[0m \u001b[0mr\u001b[0m\u001b[0;34m.\u001b[0m\u001b[0mjson\u001b[0m\u001b[0;34m(\u001b[0m\u001b[0;34m)\u001b[0m\u001b[0;34m\u001b[0m\u001b[0;34m\u001b[0m\u001b[0m\n",
      "\u001b[0;31mNewsAPIException\u001b[0m: {'status': 'error', 'code': 'rateLimited', 'message': 'You have made too many requests recently. Developer accounts are limited to 500 requests over a 24 hour period (250 requests available every 12 hours). Please upgrade to a paid plan if you need more requests.'}"
     ]
    }
   ],
   "source": [
    "# Get fourth topic\n",
    "mac_headlines, dates = get_headlines(\"mac\")"
   ]
  },
  {
   "cell_type": "code",
   "execution_count": null,
   "metadata": {
    "scrolled": true
   },
   "outputs": [],
   "source": [
    "# Get fifth topic\n",
    "america_headlines, dates = get_headlines(\"america\")"
   ]
  },
  {
   "cell_type": "code",
   "execution_count": null,
   "metadata": {},
   "outputs": [],
   "source": [
    "# Instantiate SentimentIntensityAnalyzer\n",
    "analyzer = SentimentIntensityAnalyzer()"
   ]
  },
  {
   "cell_type": "code",
   "execution_count": null,
   "metadata": {},
   "outputs": [],
   "source": [
    "# Create function that computes average compound sentiment of headlines for each day\n",
    "def headline_sentiment_summarizer_avg(headlines):\n",
    "    sentiment = []\n",
    "    for day in headlines:\n",
    "        day_score = []\n",
    "        for h in day:\n",
    "            if h == None:\n",
    "                continue\n",
    "            else:\n",
    "                day_score.append(analyzer.polarity_scores(h)[\"compound\"])\n",
    "        sentiment.append(sum(day_score) / len(day_score))\n",
    "    return sentiment\n"
   ]
  },
  {
   "cell_type": "code",
   "execution_count": 36,
   "metadata": {},
   "outputs": [
    {
     "ename": "NameError",
     "evalue": "name 'america_headlines' is not defined",
     "output_type": "error",
     "traceback": [
      "\u001b[0;31m---------------------------------------------------------------------------\u001b[0m",
      "\u001b[0;31mNameError\u001b[0m                                 Traceback (most recent call last)",
      "\u001b[0;32m<ipython-input-36-8ec09bf75dcc>\u001b[0m in \u001b[0;36m<module>\u001b[0;34m\u001b[0m\n\u001b[1;32m      2\u001b[0m \u001b[0maapl_avg\u001b[0m \u001b[0;34m=\u001b[0m \u001b[0mheadline_sentiment_summarizer_avg\u001b[0m\u001b[0;34m(\u001b[0m\u001b[0maapl_headlines\u001b[0m\u001b[0;34m)\u001b[0m\u001b[0;34m\u001b[0m\u001b[0;34m\u001b[0m\u001b[0m\n\u001b[1;32m      3\u001b[0m \u001b[0mglobal_avg\u001b[0m \u001b[0;34m=\u001b[0m \u001b[0mheadline_sentiment_summarizer_avg\u001b[0m\u001b[0;34m(\u001b[0m\u001b[0mglobal_headlines\u001b[0m\u001b[0;34m)\u001b[0m\u001b[0;34m\u001b[0m\u001b[0;34m\u001b[0m\u001b[0m\n\u001b[0;32m----> 4\u001b[0;31m \u001b[0mamerica_avg\u001b[0m \u001b[0;34m=\u001b[0m \u001b[0mheadline_sentiment_summarizer_avg\u001b[0m\u001b[0;34m(\u001b[0m\u001b[0mamerica_headlines\u001b[0m\u001b[0;34m)\u001b[0m\u001b[0;34m\u001b[0m\u001b[0;34m\u001b[0m\u001b[0m\n\u001b[0m\u001b[1;32m      5\u001b[0m \u001b[0miphone_avg\u001b[0m \u001b[0;34m=\u001b[0m \u001b[0mheadline_sentiment_summarizer_avg\u001b[0m\u001b[0;34m(\u001b[0m\u001b[0miphone_headlines\u001b[0m\u001b[0;34m)\u001b[0m\u001b[0;34m\u001b[0m\u001b[0;34m\u001b[0m\u001b[0m\n\u001b[1;32m      6\u001b[0m \u001b[0mmac_avg\u001b[0m \u001b[0;34m=\u001b[0m \u001b[0mheadline_sentiment_summarizer_avg\u001b[0m\u001b[0;34m(\u001b[0m\u001b[0mmac_headlines\u001b[0m\u001b[0;34m)\u001b[0m\u001b[0;34m\u001b[0m\u001b[0;34m\u001b[0m\u001b[0m\n",
      "\u001b[0;31mNameError\u001b[0m: name 'america_headlines' is not defined"
     ]
    }
   ],
   "source": [
    "# Get averages of each topics sentiment\n",
    "aapl_avg = headline_sentiment_summarizer_avg(aapl_headlines)\n",
    "global_avg = headline_sentiment_summarizer_avg(global_headlines)\n",
    "america_avg = headline_sentiment_summarizer_avg(america_headlines)\n",
    "iphone_avg = headline_sentiment_summarizer_avg(iphone_headlines)\n",
    "mac_avg = headline_sentiment_summarizer_avg(mac_headlines)"
   ]
  },
  {
   "cell_type": "code",
   "execution_count": 35,
   "metadata": {},
   "outputs": [
    {
     "ename": "NameError",
     "evalue": "name 'global_avg' is not defined",
     "output_type": "error",
     "traceback": [
      "\u001b[0;31m---------------------------------------------------------------------------\u001b[0m",
      "\u001b[0;31mNameError\u001b[0m                                 Traceback (most recent call last)",
      "\u001b[0;32m<ipython-input-35-ab23d5a856bc>\u001b[0m in \u001b[0;36m<module>\u001b[0;34m\u001b[0m\n\u001b[1;32m      3\u001b[0m     {\n\u001b[1;32m      4\u001b[0m         \u001b[0;34m\"aapl_avg\"\u001b[0m\u001b[0;34m:\u001b[0m\u001b[0maapl_avg\u001b[0m\u001b[0;34m,\u001b[0m\u001b[0;34m\u001b[0m\u001b[0;34m\u001b[0m\u001b[0m\n\u001b[0;32m----> 5\u001b[0;31m         \u001b[0;34m\"global_avg\"\u001b[0m\u001b[0;34m:\u001b[0m\u001b[0mglobal_avg\u001b[0m\u001b[0;34m,\u001b[0m\u001b[0;34m\u001b[0m\u001b[0;34m\u001b[0m\u001b[0m\n\u001b[0m\u001b[1;32m      6\u001b[0m         \u001b[0;34m\"america_avg\"\u001b[0m\u001b[0;34m:\u001b[0m\u001b[0mamerica_avg\u001b[0m\u001b[0;34m,\u001b[0m\u001b[0;34m\u001b[0m\u001b[0;34m\u001b[0m\u001b[0m\n\u001b[1;32m      7\u001b[0m         \u001b[0;34m\"iphone_avg\"\u001b[0m\u001b[0;34m:\u001b[0m\u001b[0miphone_avg\u001b[0m\u001b[0;34m,\u001b[0m\u001b[0;34m\u001b[0m\u001b[0;34m\u001b[0m\u001b[0m\n",
      "\u001b[0;31mNameError\u001b[0m: name 'global_avg' is not defined"
     ]
    }
   ],
   "source": [
    "# Combine Sentiment Averages into DataFrame\n",
    "df = pd.DataFrame(\n",
    "    {\n",
    "        \"aapl_avg\":aapl_avg, \n",
    "        \"global_avg\":global_avg, \n",
    "        \"america_avg\":america_avg, \n",
    "        \"iphone_avg\":iphone_avg, \n",
    "        \"mac_avg\":mac_avg\n",
    "    }\n",
    ")"
   ]
  },
  {
   "cell_type": "code",
   "execution_count": null,
   "metadata": {
    "scrolled": true
   },
   "outputs": [],
   "source": [
    "# Set the index value of the sentiment average DataFrame to be the series of dates.\n",
    "df.index = pd.to_datetime(dates)"
   ]
  },
  {
   "cell_type": "code",
   "execution_count": null,
   "metadata": {
    "scrolled": true
   },
   "outputs": [],
   "source": [
    "# Merge with AAPL returns\n",
    "df = aapl_returns.join(df).dropna(how=\"any\")\n",
    "\n",
    "display(df)"
   ]
  },
  {
   "cell_type": "code",
   "execution_count": null,
   "metadata": {},
   "outputs": [],
   "source": [
    "# Correlate the headlines' sentiment to returns\n",
    "df.corr().style.background_gradient()"
   ]
  }
 ],
 "metadata": {
  "file_extension": ".py",
  "kernelspec": {
   "display_name": "Python 3",
   "language": "python",
   "name": "python3"
  },
  "language_info": {
   "codemirror_mode": {
    "name": "ipython",
    "version": 3
   },
   "file_extension": ".py",
   "mimetype": "text/x-python",
   "name": "python",
   "nbconvert_exporter": "python",
   "pygments_lexer": "ipython3",
   "version": "3.7.7"
  },
  "mimetype": "text/x-python",
  "name": "python",
  "npconvert_exporter": "python",
  "pygments_lexer": "ipython3",
  "version": 3
 },
 "nbformat": 4,
 "nbformat_minor": 4
}
