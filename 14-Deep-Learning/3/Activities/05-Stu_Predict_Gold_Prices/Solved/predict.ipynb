{
 "cells": [
  {
   "cell_type": "markdown",
   "metadata": {},
   "source": [
    "# Students Do: Predicting Gold Closing Prices\n",
    "\n",
    "In this activity, you will gain hands-on experience by building an RNN LSTM for predicting gold closing prices using time-series data."
   ]
  },
  {
   "cell_type": "code",
   "execution_count": 3,
   "metadata": {},
   "outputs": [],
   "source": [
    "# Initial imports\n",
    "import numpy as np\n",
    "import pandas as pd\n",
    "\n",
    "%matplotlib inline"
   ]
  },
  {
   "cell_type": "markdown",
   "metadata": {},
   "source": [
    "## Instructions\n",
    "\n",
    "### Initial Setup\n",
    "\n",
    "To ensure models' reproducibility, set the random seed for `numpy` and `tensorflow` libraries."
   ]
  },
  {
   "cell_type": "code",
   "execution_count": 4,
   "metadata": {},
   "outputs": [],
   "source": [
    "# Set the random seed for reproducibility\n",
    "# Note: This is used for model prototyping, but it is good practice to comment this out and run multiple experiments to evaluate your model.\n",
    "from numpy.random import seed\n",
    "\n",
    "seed(1)\n",
    "from tensorflow import random\n",
    "\n",
    "random.set_seed(2)"
   ]
  },
  {
   "cell_type": "code",
   "execution_count": 5,
   "metadata": {},
   "outputs": [
    {
     "data": {
      "text/html": [
       "<div>\n",
       "<style scoped>\n",
       "    .dataframe tbody tr th:only-of-type {\n",
       "        vertical-align: middle;\n",
       "    }\n",
       "\n",
       "    .dataframe tbody tr th {\n",
       "        vertical-align: top;\n",
       "    }\n",
       "\n",
       "    .dataframe thead th {\n",
       "        text-align: right;\n",
       "    }\n",
       "</style>\n",
       "<table border=\"1\" class=\"dataframe\">\n",
       "  <thead>\n",
       "    <tr style=\"text-align: right;\">\n",
       "      <th></th>\n",
       "      <th>close</th>\n",
       "      <th>volume</th>\n",
       "      <th>open</th>\n",
       "      <th>high</th>\n",
       "      <th>low</th>\n",
       "    </tr>\n",
       "    <tr>\n",
       "      <th>date</th>\n",
       "      <th></th>\n",
       "      <th></th>\n",
       "      <th></th>\n",
       "      <th></th>\n",
       "      <th></th>\n",
       "    </tr>\n",
       "  </thead>\n",
       "  <tbody>\n",
       "    <tr>\n",
       "      <th>9/22/14</th>\n",
       "      <td>101.06</td>\n",
       "      <td>52421660</td>\n",
       "      <td>101.80</td>\n",
       "      <td>102.14</td>\n",
       "      <td>100.58</td>\n",
       "    </tr>\n",
       "    <tr>\n",
       "      <th>9/23/14</th>\n",
       "      <td>102.64</td>\n",
       "      <td>63255860</td>\n",
       "      <td>100.60</td>\n",
       "      <td>102.94</td>\n",
       "      <td>100.54</td>\n",
       "    </tr>\n",
       "    <tr>\n",
       "      <th>9/24/14</th>\n",
       "      <td>101.75</td>\n",
       "      <td>59974260</td>\n",
       "      <td>102.16</td>\n",
       "      <td>102.85</td>\n",
       "      <td>101.20</td>\n",
       "    </tr>\n",
       "    <tr>\n",
       "      <th>9/25/14</th>\n",
       "      <td>97.87</td>\n",
       "      <td>99689300</td>\n",
       "      <td>100.51</td>\n",
       "      <td>100.71</td>\n",
       "      <td>97.72</td>\n",
       "    </tr>\n",
       "    <tr>\n",
       "      <th>9/26/14</th>\n",
       "      <td>100.75</td>\n",
       "      <td>62276770</td>\n",
       "      <td>98.53</td>\n",
       "      <td>100.75</td>\n",
       "      <td>98.40</td>\n",
       "    </tr>\n",
       "  </tbody>\n",
       "</table>\n",
       "</div>"
      ],
      "text/plain": [
       "          close    volume    open    high     low\n",
       "date                                             \n",
       "9/22/14  101.06  52421660  101.80  102.14  100.58\n",
       "9/23/14  102.64  63255860  100.60  102.94  100.54\n",
       "9/24/14  101.75  59974260  102.16  102.85  101.20\n",
       "9/25/14   97.87  99689300  100.51  100.71   97.72\n",
       "9/26/14  100.75  62276770   98.53  100.75   98.40"
      ]
     },
     "execution_count": 5,
     "metadata": {},
     "output_type": "execute_result"
    }
   ],
   "source": [
    "from pathlib import Path\n",
    "aapl_csv_path = Path('./aapl.csv')\n",
    "aapl_df = pd.read_csv(aapl_csv_path, infer_datetime_format=True, index_col=\"date\")\n",
    "aapl_df.head()"
   ]
  },
  {
   "cell_type": "markdown",
   "metadata": {},
   "source": [
    "Use the `requests` library to retrieve the historical prices of gold in `json` format."
   ]
  },
  {
   "cell_type": "markdown",
   "metadata": {},
   "source": [
    "#### Data Cleaning\n",
    "\n",
    "Before continue, corroborate if there are any `null` or missing values in the DataFrame, if so, fill the missing values with the previous price in the series.\n",
    "\n",
    "**Note:** You may want to review the [Working with missing data guide](https://pandas.pydata.org/pandas-docs/stable/user_guide/missing_data.html) from the Pandas documentation."
   ]
  },
  {
   "cell_type": "code",
   "execution_count": 6,
   "metadata": {},
   "outputs": [
    {
     "data": {
      "text/plain": [
       "0"
      ]
     },
     "execution_count": 6,
     "metadata": {},
     "output_type": "execute_result"
    }
   ],
   "source": [
    "# Looking for missing values\n",
    "aapl_df.isnull().sum().sum()"
   ]
  },
  {
   "cell_type": "code",
   "execution_count": 7,
   "metadata": {},
   "outputs": [],
   "source": [
    "# Filling missing values with the previous ones\n",
    "aapl_df = aapl_df.fillna(method ='pad')"
   ]
  },
  {
   "cell_type": "markdown",
   "metadata": {},
   "source": [
    "#### Create the Features `X` and Target `y` Data\n",
    "\n",
    "Use the `window_data()` function bellow, to create the features set `X` and the target vector `y`. Define a window size of `30` days and use the column of the closing gold price (`USD (PM)`) for as feature and target column; this will allow your model to predict gold prices in USD."
   ]
  },
  {
   "cell_type": "code",
   "execution_count": 8,
   "metadata": {},
   "outputs": [],
   "source": [
    "def window_data(df, window, feature_col_number, target_col_number):\n",
    "    \"\"\"\n",
    "    This function accepts the column number for the features (X) and the target (y).\n",
    "    It chunks the data up with a rolling window of Xt - window to predict Xt.\n",
    "    It returns two numpy arrays of X and y.\n",
    "    \"\"\"\n",
    "    X = []\n",
    "    y = []\n",
    "    for i in range(len(df) - window - 1):\n",
    "        features = df.iloc[i : (i + window), feature_col_number]\n",
    "        target = df.iloc[(i + window), target_col_number]\n",
    "        X.append(features)\n",
    "        y.append(target)\n",
    "    return np.array(X), np.array(y).reshape(-1, 1)"
   ]
  },
  {
   "cell_type": "code",
   "execution_count": 9,
   "metadata": {},
   "outputs": [
    {
     "name": "stdout",
     "output_type": "stream",
     "text": [
      "X sample values:\n",
      "[[52421660 63255860 59974260 99689300 62276770 49263260 55119980 51400260\n",
      "  47697150 43419580 36780620 42003200 57329820 77283330 66249770 53437060\n",
      "  63287170 99942790 72017830 67723910 75705040 93786680 68140010 70760150\n",
      "  46937880 34086120 47689070 52545580 40572000 44550790]\n",
      " [63255860 59974260 99689300 62276770 49263260 55119980 51400260 47697150\n",
      "  43419580 36780620 42003200 57329820 77283330 66249770 53437060 63287170\n",
      "  99942790 72017830 67723910 75705040 93786680 68140010 70760150 46937880\n",
      "  34086120 47689070 52545580 40572000 44550790 52154490]\n",
      " [59974260 99689300 62276770 49263260 55119980 51400260 47697150 43419580\n",
      "  36780620 42003200 57329820 77283330 66249770 53437060 63287170 99942790\n",
      "  72017830 67723910 75705040 93786680 68140010 70760150 46937880 34086120\n",
      "  47689070 52545580 40572000 44550790 52154490 41423660]] \n",
      "\n",
      "y sample values:\n",
      "[[52154490]\n",
      " [41423660]\n",
      " [37365530]]\n"
     ]
    }
   ],
   "source": [
    "# Define the window size\n",
    "window_size = 30\n",
    "\n",
    "# Set the index of the feature and target columns\n",
    "feature_column = 1\n",
    "target_column = 1\n",
    "\n",
    "# Create the features (X) and target (y) data using the window_data() function.\n",
    "X, y = window_data(aapl_df, window_size, feature_column, target_column)\n",
    "\n",
    "# Print a few sample values from X and y\n",
    "print (f\"X sample values:\\n{X[:3]} \\n\")\n",
    "print (f\"y sample values:\\n{y[:3]}\")"
   ]
  },
  {
   "cell_type": "markdown",
   "metadata": {},
   "source": [
    "#### Split Data Between Training and Testing Sets\n",
    "\n",
    "To avoid the dataset being randomized, manually create the training and testing sets using array slicing. Use 70% of the data for training and the remainder for testing."
   ]
  },
  {
   "cell_type": "code",
   "execution_count": 10,
   "metadata": {},
   "outputs": [],
   "source": [
    "# Manually splitting the data\n",
    "split = int(0.7 * len(X))\n",
    "\n",
    "X_train = X[: split - 1]\n",
    "X_test = X[split:]\n",
    "\n",
    "y_train = y[: split - 1]\n",
    "y_test = y[split:]"
   ]
  },
  {
   "cell_type": "markdown",
   "metadata": {},
   "source": [
    "#### Scale Data with `MinMaxScaler`\n",
    "\n",
    "Before training the RNN LSTM model, use the `MinMaxScaler` from `sklearn` to scale the training and testing data between `0` and `1`.\n",
    "\n",
    "**Note:** You need to scale both features and target sets."
   ]
  },
  {
   "cell_type": "code",
   "execution_count": 11,
   "metadata": {},
   "outputs": [],
   "source": [
    "# Importing the MinMaxScaler from sklearn\n",
    "from sklearn.preprocessing import MinMaxScaler\n",
    "\n",
    "# Create a MinMaxScaler object\n",
    "scaler = MinMaxScaler()\n",
    "\n",
    "# Fit the MinMaxScaler object with the features data X\n",
    "scaler.fit(X)\n",
    "\n",
    "# Scale the features training and testing sets\n",
    "X_train = scaler.transform(X_train)\n",
    "X_test = scaler.transform(X_test)\n",
    "\n",
    "# Fit the MinMaxScaler object with the target data Y\n",
    "scaler.fit(y)\n",
    "\n",
    "# Scale the target training and testing sets\n",
    "y_train = scaler.transform(y_train)\n",
    "y_test = scaler.transform(y_test)"
   ]
  },
  {
   "cell_type": "markdown",
   "metadata": {},
   "source": [
    "#### Reshape Features Data for the LSTM Model\n",
    "\n",
    "The LSTM API from Keras needs to receive the features data as a _vertical vector_, so that reshape the `X` data in the form `reshape((X_train.shape[0], X_train.shape[1], 1))`. Both sets, training, and testing should be reshaped."
   ]
  },
  {
   "cell_type": "code",
   "execution_count": 12,
   "metadata": {},
   "outputs": [
    {
     "name": "stdout",
     "output_type": "stream",
     "text": [
      "X_train sample values:\n",
      "[[[0.27278426]\n",
      "  [0.34476252]\n",
      "  [0.32296083]\n",
      "  [0.58681229]\n",
      "  [0.33825782]\n",
      "  [0.25180107]\n",
      "  [0.29071086]\n",
      "  [0.26599847]\n",
      "  [0.24139643]\n",
      "  [0.2129779 ]\n",
      "  [0.16887121]\n",
      "  [0.20356802]\n",
      "  [0.30539219]\n",
      "  [0.43795564]\n",
      "  [0.36465291]\n",
      "  [0.27953019]\n",
      "  [0.34497053]\n",
      "  [0.58849638]\n",
      "  [0.40297368]\n",
      "  [0.37444653]\n",
      "  [0.42747009]\n",
      "  [0.54759755]\n",
      "  [0.37721094]\n",
      "  [0.39461814]\n",
      "  [0.23635214]\n",
      "  [0.15096998]\n",
      "  [0.24134275]\n",
      "  [0.27360754]\n",
      "  [0.19405968]\n",
      "  [0.22049323]]\n",
      "\n",
      " [[0.34476252]\n",
      "  [0.32296083]\n",
      "  [0.58681229]\n",
      "  [0.33825782]\n",
      "  [0.25180107]\n",
      "  [0.29071086]\n",
      "  [0.26599847]\n",
      "  [0.24139643]\n",
      "  [0.2129779 ]\n",
      "  [0.16887121]\n",
      "  [0.20356802]\n",
      "  [0.30539219]\n",
      "  [0.43795564]\n",
      "  [0.36465291]\n",
      "  [0.27953019]\n",
      "  [0.34497053]\n",
      "  [0.58849638]\n",
      "  [0.40297368]\n",
      "  [0.37444653]\n",
      "  [0.42747009]\n",
      "  [0.54759755]\n",
      "  [0.37721094]\n",
      "  [0.39461814]\n",
      "  [0.23635214]\n",
      "  [0.15096998]\n",
      "  [0.24134275]\n",
      "  [0.27360754]\n",
      "  [0.19405968]\n",
      "  [0.22049323]\n",
      "  [0.27100929]]\n",
      "\n",
      " [[0.32296083]\n",
      "  [0.58681229]\n",
      "  [0.33825782]\n",
      "  [0.25180107]\n",
      "  [0.29071086]\n",
      "  [0.26599847]\n",
      "  [0.24139643]\n",
      "  [0.2129779 ]\n",
      "  [0.16887121]\n",
      "  [0.20356802]\n",
      "  [0.30539219]\n",
      "  [0.43795564]\n",
      "  [0.36465291]\n",
      "  [0.27953019]\n",
      "  [0.34497053]\n",
      "  [0.58849638]\n",
      "  [0.40297368]\n",
      "  [0.37444653]\n",
      "  [0.42747009]\n",
      "  [0.54759755]\n",
      "  [0.37721094]\n",
      "  [0.39461814]\n",
      "  [0.23635214]\n",
      "  [0.15096998]\n",
      "  [0.24134275]\n",
      "  [0.27360754]\n",
      "  [0.19405968]\n",
      "  [0.22049323]\n",
      "  [0.27100929]\n",
      "  [0.19971778]]] \n",
      "\n",
      "X_test sample values:\n",
      "[[[0.19101551]\n",
      "  [0.1483427 ]\n",
      "  [0.17284043]\n",
      "  [0.13015979]\n",
      "  [0.14888342]\n",
      "  [0.17267833]\n",
      "  [0.18285529]\n",
      "  [0.17410279]\n",
      "  [0.24809998]\n",
      "  [0.17980288]\n",
      "  [0.10937444]\n",
      "  [0.07913284]\n",
      "  [0.1350275 ]\n",
      "  [0.08740872]\n",
      "  [0.13797667]\n",
      "  [0.13838   ]\n",
      "  [0.13355076]\n",
      "  [0.11940291]\n",
      "  [0.07516899]\n",
      "  [0.17905394]\n",
      "  [0.14329654]\n",
      "  [0.0548661 ]\n",
      "  [0.16626199]\n",
      "  [0.19913527]\n",
      "  [0.19680043]\n",
      "  [0.16885752]\n",
      "  [0.18909158]\n",
      "  [0.19999163]\n",
      "  [0.17774488]\n",
      "  [0.17315647]]\n",
      "\n",
      " [[0.1483427 ]\n",
      "  [0.17284043]\n",
      "  [0.13015979]\n",
      "  [0.14888342]\n",
      "  [0.17267833]\n",
      "  [0.18285529]\n",
      "  [0.17410279]\n",
      "  [0.24809998]\n",
      "  [0.17980288]\n",
      "  [0.10937444]\n",
      "  [0.07913284]\n",
      "  [0.1350275 ]\n",
      "  [0.08740872]\n",
      "  [0.13797667]\n",
      "  [0.13838   ]\n",
      "  [0.13355076]\n",
      "  [0.11940291]\n",
      "  [0.07516899]\n",
      "  [0.17905394]\n",
      "  [0.14329654]\n",
      "  [0.0548661 ]\n",
      "  [0.16626199]\n",
      "  [0.19913527]\n",
      "  [0.19680043]\n",
      "  [0.16885752]\n",
      "  [0.18909158]\n",
      "  [0.19999163]\n",
      "  [0.17774488]\n",
      "  [0.17315647]\n",
      "  [0.12540216]]\n",
      "\n",
      " [[0.17284043]\n",
      "  [0.13015979]\n",
      "  [0.14888342]\n",
      "  [0.17267833]\n",
      "  [0.18285529]\n",
      "  [0.17410279]\n",
      "  [0.24809998]\n",
      "  [0.17980288]\n",
      "  [0.10937444]\n",
      "  [0.07913284]\n",
      "  [0.1350275 ]\n",
      "  [0.08740872]\n",
      "  [0.13797667]\n",
      "  [0.13838   ]\n",
      "  [0.13355076]\n",
      "  [0.11940291]\n",
      "  [0.07516899]\n",
      "  [0.17905394]\n",
      "  [0.14329654]\n",
      "  [0.0548661 ]\n",
      "  [0.16626199]\n",
      "  [0.19913527]\n",
      "  [0.19680043]\n",
      "  [0.16885752]\n",
      "  [0.18909158]\n",
      "  [0.19999163]\n",
      "  [0.17774488]\n",
      "  [0.17315647]\n",
      "  [0.12540216]\n",
      "  [0.15426342]]]\n"
     ]
    }
   ],
   "source": [
    "# Reshape the features data\n",
    "X_train = X_train.reshape((X_train.shape[0], X_train.shape[1], 1))\n",
    "X_test = X_test.reshape((X_test.shape[0], X_test.shape[1], 1))\n",
    "\n",
    "# Print some sample data after reshaping the datasets\n",
    "print (f\"X_train sample values:\\n{X_train[:3]} \\n\")\n",
    "print (f\"X_test sample values:\\n{X_test[:3]}\")"
   ]
  },
  {
   "cell_type": "markdown",
   "metadata": {},
   "source": [
    "---\n",
    "\n",
    "### Build and Train the LSTM RNN\n",
    "\n",
    "In this section, you will design a custom LSTM RNN in Keras and fit (train) it using the training data we defined.\n",
    "\n",
    "You will need to:\n",
    "\n",
    "1. Define the model architecture in Keras.\n",
    "\n",
    "2. Compile the model.\n",
    "\n",
    "3. Fit the model with the training data."
   ]
  },
  {
   "cell_type": "code",
   "execution_count": 13,
   "metadata": {},
   "outputs": [],
   "source": [
    "# Importing required Keras modules\n",
    "from tensorflow.keras.models import Sequential\n",
    "from tensorflow.keras.layers import LSTM, Dense, Dropout"
   ]
  },
  {
   "cell_type": "markdown",
   "metadata": {},
   "source": [
    "#### Create the LSTM RNN Model Structure\n",
    "\n",
    "Design the structure of your RNN LSTM as follows:\n",
    "\n",
    "* Number of units per layer: `30` (same as the window size)\n",
    "\n",
    "* Dropout fraction: `0.2` (20% of neurons will be randomly dropped on each epoch)\n",
    "\n",
    "* Add three `LSTM` layers to your model, remember to add a `Dropout` layer after each `LSTM` layer, and to set `return_sequences=True` in the first two layers only.\n",
    "\n",
    "* Add a `Dense` output layer with one unit."
   ]
  },
  {
   "cell_type": "code",
   "execution_count": 14,
   "metadata": {},
   "outputs": [],
   "source": [
    "# Define the LSTM RNN model.\n",
    "model = Sequential()\n",
    "\n",
    "# Initial model setup\n",
    "number_units = 30\n",
    "dropout_fraction = 0.2\n",
    "\n",
    "# Layer 1\n",
    "model.add(LSTM(\n",
    "    units=number_units,\n",
    "    return_sequences=True,\n",
    "    input_shape=(X_train.shape[1], 1))\n",
    "    )\n",
    "model.add(Dropout(dropout_fraction))\n",
    "\n",
    "# Layer 2\n",
    "model.add(LSTM(units=number_units, return_sequences=True))\n",
    "model.add(Dropout(dropout_fraction))\n",
    "\n",
    "# Layer 3\n",
    "model.add(LSTM(units=number_units))\n",
    "model.add(Dropout(dropout_fraction))\n",
    "\n",
    "# Output layer\n",
    "model.add(Dense(1))"
   ]
  },
  {
   "cell_type": "markdown",
   "metadata": {},
   "source": [
    "#### Compile the LSTM RNN Model\n",
    "\n",
    "Compile the model using the `adam` optimizer, and `mean_square_error` as loss function since the value you want to predict is continuous."
   ]
  },
  {
   "cell_type": "code",
   "execution_count": 15,
   "metadata": {},
   "outputs": [],
   "source": [
    "# Compile the model\n",
    "model.compile(optimizer=\"adam\", loss=\"mean_squared_error\")"
   ]
  },
  {
   "cell_type": "code",
   "execution_count": 16,
   "metadata": {},
   "outputs": [
    {
     "name": "stdout",
     "output_type": "stream",
     "text": [
      "Model: \"sequential\"\n",
      "_________________________________________________________________\n",
      "Layer (type)                 Output Shape              Param #   \n",
      "=================================================================\n",
      "lstm (LSTM)                  (None, 30, 30)            3840      \n",
      "_________________________________________________________________\n",
      "dropout (Dropout)            (None, 30, 30)            0         \n",
      "_________________________________________________________________\n",
      "lstm_1 (LSTM)                (None, 30, 30)            7320      \n",
      "_________________________________________________________________\n",
      "dropout_1 (Dropout)          (None, 30, 30)            0         \n",
      "_________________________________________________________________\n",
      "lstm_2 (LSTM)                (None, 30)                7320      \n",
      "_________________________________________________________________\n",
      "dropout_2 (Dropout)          (None, 30)                0         \n",
      "_________________________________________________________________\n",
      "dense (Dense)                (None, 1)                 31        \n",
      "=================================================================\n",
      "Total params: 18,511\n",
      "Trainable params: 18,511\n",
      "Non-trainable params: 0\n",
      "_________________________________________________________________\n"
     ]
    }
   ],
   "source": [
    "# Show the model summary\n",
    "model.summary()"
   ]
  },
  {
   "cell_type": "markdown",
   "metadata": {},
   "source": [
    "#### Train the Model\n",
    "\n",
    "Train (fit) the model with the training data using `10` epochs and a `batch_size=90`. Since you are working with time-series data, remember to set `shuffle=False` since it's necessary to keep the sequential order of the data."
   ]
  },
  {
   "cell_type": "code",
   "execution_count": 17,
   "metadata": {},
   "outputs": [
    {
     "name": "stdout",
     "output_type": "stream",
     "text": [
      "Epoch 1/10\n",
      "10/10 [==============================] - 1s 71ms/step - loss: 0.0325\n",
      "Epoch 2/10\n",
      "10/10 [==============================] - 1s 69ms/step - loss: 0.0141\n",
      "Epoch 3/10\n",
      "10/10 [==============================] - 1s 60ms/step - loss: 0.0157\n",
      "Epoch 4/10\n",
      "10/10 [==============================] - 1s 65ms/step - loss: 0.0143\n",
      "Epoch 5/10\n",
      "10/10 [==============================] - 1s 70ms/step - loss: 0.0134\n",
      "Epoch 6/10\n",
      "10/10 [==============================] - 1s 61ms/step - loss: 0.0135\n",
      "Epoch 7/10\n",
      "10/10 [==============================] - 1s 83ms/step - loss: 0.0127\n",
      "Epoch 8/10\n",
      "10/10 [==============================] - 1s 68ms/step - loss: 0.0131\n",
      "Epoch 9/10\n",
      "10/10 [==============================] - 1s 71ms/step - loss: 0.0131\n",
      "Epoch 10/10\n",
      "10/10 [==============================] - 1s 64ms/step - loss: 0.0129\n"
     ]
    },
    {
     "data": {
      "text/plain": [
       "<tensorflow.python.keras.callbacks.History at 0x1a43c73750>"
      ]
     },
     "execution_count": 17,
     "metadata": {},
     "output_type": "execute_result"
    }
   ],
   "source": [
    "# Train the model\n",
    "model.fit(X_train, y_train, epochs=10, shuffle=False, batch_size=90, verbose=1)"
   ]
  },
  {
   "cell_type": "markdown",
   "metadata": {},
   "source": [
    "---\n",
    "\n",
    "### Model Performance\n",
    "\n",
    "In this section, you will evaluate the model using the test data. \n",
    "\n",
    "You will need to:\n",
    "\n",
    "1. Evaluate the model using the `X_test` and `y_test` data.\n",
    "\n",
    "2. Use the `X_test` data to make predictions.\n",
    "\n",
    "3. Create a DataFrame of Real (`y_test`) vs. predicted values.\n",
    "\n",
    "4. Plot the real vs. predicted values as a line chart."
   ]
  },
  {
   "cell_type": "markdown",
   "metadata": {},
   "source": [
    "#### Evaluate the Model\n",
    "\n",
    "Use the `evaluate()` method of the model using the testing data."
   ]
  },
  {
   "cell_type": "code",
   "execution_count": 18,
   "metadata": {},
   "outputs": [
    {
     "data": {
      "text/plain": [
       "0.006847539450973272"
      ]
     },
     "execution_count": 18,
     "metadata": {},
     "output_type": "execute_result"
    }
   ],
   "source": [
    "# Evaluate the model\n",
    "model.evaluate(X_test, y_test, verbose=0)"
   ]
  },
  {
   "cell_type": "markdown",
   "metadata": {},
   "source": [
    "#### Make Predictions\n",
    "\n",
    "Use the `predict()` method of the model to make some closing gold price predictions using your brand new LSTM RNN model and your testing data. Save the predictions in a variable called `predicted`."
   ]
  },
  {
   "cell_type": "code",
   "execution_count": 19,
   "metadata": {},
   "outputs": [],
   "source": [
    "# Make predictions using the testing data X_test\n",
    "predicted = model.predict(X_test)"
   ]
  },
  {
   "cell_type": "markdown",
   "metadata": {},
   "source": [
    "Since you scaled the original values using the `MinMaxScaler`, you need to recover the original gold prices to better understand of the predictions. Use the `inverse_transform()` method of the scaler to decode the scaled testing and predicted values to their original scale."
   ]
  },
  {
   "cell_type": "code",
   "execution_count": 20,
   "metadata": {},
   "outputs": [],
   "source": [
    "# Recover the original prices instead of the scaled version\n",
    "predicted_prices = scaler.inverse_transform(predicted)\n",
    "real_prices = scaler.inverse_transform(y_test.reshape(-1, 1))"
   ]
  },
  {
   "cell_type": "markdown",
   "metadata": {},
   "source": [
    "#### Plotting Predicted Vs. Real Prices\n",
    "\n",
    "Create a Pandas DataFrame with two columns as follows to plot the predicted vs. the actual gold prices.\n",
    "\n",
    "* Column 1: Actual prices (testing data)\n",
    "\n",
    "* Column 2: Predicted prices\n",
    "\n",
    "Your DataFrame should look like the sample below:\n",
    "\n",
    "![Sample actual vs. predicted gold prices](../Images/sample-gold-prices-predictions-df.png)"
   ]
  },
  {
   "cell_type": "code",
   "execution_count": 21,
   "metadata": {},
   "outputs": [
    {
     "data": {
      "text/html": [
       "<div>\n",
       "<style scoped>\n",
       "    .dataframe tbody tr th:only-of-type {\n",
       "        vertical-align: middle;\n",
       "    }\n",
       "\n",
       "    .dataframe tbody tr th {\n",
       "        vertical-align: top;\n",
       "    }\n",
       "\n",
       "    .dataframe thead th {\n",
       "        text-align: right;\n",
       "    }\n",
       "</style>\n",
       "<table border=\"1\" class=\"dataframe\">\n",
       "  <thead>\n",
       "    <tr style=\"text-align: right;\">\n",
       "      <th></th>\n",
       "      <th>Actual</th>\n",
       "      <th>Predicted</th>\n",
       "    </tr>\n",
       "  </thead>\n",
       "  <tbody>\n",
       "    <tr>\n",
       "      <th>0</th>\n",
       "      <td>30237640.0</td>\n",
       "      <td>33681328.0</td>\n",
       "    </tr>\n",
       "    <tr>\n",
       "      <th>1</th>\n",
       "      <td>34581850.0</td>\n",
       "      <td>33956152.0</td>\n",
       "    </tr>\n",
       "    <tr>\n",
       "      <th>2</th>\n",
       "      <td>26750260.0</td>\n",
       "      <td>34188464.0</td>\n",
       "    </tr>\n",
       "    <tr>\n",
       "      <th>3</th>\n",
       "      <td>34949690.0</td>\n",
       "      <td>34306592.0</td>\n",
       "    </tr>\n",
       "    <tr>\n",
       "      <th>4</th>\n",
       "      <td>28976200.0</td>\n",
       "      <td>34372068.0</td>\n",
       "    </tr>\n",
       "  </tbody>\n",
       "</table>\n",
       "</div>"
      ],
      "text/plain": [
       "       Actual   Predicted\n",
       "0  30237640.0  33681328.0\n",
       "1  34581850.0  33956152.0\n",
       "2  26750260.0  34188464.0\n",
       "3  34949690.0  34306592.0\n",
       "4  28976200.0  34372068.0"
      ]
     },
     "execution_count": 21,
     "metadata": {},
     "output_type": "execute_result"
    }
   ],
   "source": [
    "# Create a DataFrame of Real and Predicted values\n",
    "stocks = pd.DataFrame({\n",
    "    \"Actual\": real_prices.ravel(),\n",
    "    \"Predicted\": predicted_prices.ravel()\n",
    "})\n",
    "\n",
    "# Show the DataFrame's head\n",
    "stocks.head()"
   ]
  },
  {
   "cell_type": "markdown",
   "metadata": {},
   "source": [
    "Use the `plot()` method from the DataFrame to create a line chart to contrast the actual vs. the predicted gold prices."
   ]
  },
  {
   "cell_type": "code",
   "execution_count": 22,
   "metadata": {},
   "outputs": [
    {
     "data": {
      "text/plain": [
       "<matplotlib.axes._subplots.AxesSubplot at 0x1a44aebfd0>"
      ]
     },
     "execution_count": 22,
     "metadata": {},
     "output_type": "execute_result"
    },
    {
     "data": {
      "image/png": "[encoded data removed]",
      "text/plain": [
       "<Figure size 432x288 with 1 Axes>"
      ]
     },
     "metadata": {
      "needs_background": "light"
     },
     "output_type": "display_data"
    }
   ],
   "source": [
    "# Plot the real vs predicted prices as a line chart\n",
    "stocks.plot(title=\"Actual Vs. Predicted AAPL Prices\")"
   ]
  },
  {
   "cell_type": "code",
   "execution_count": null,
   "metadata": {},
   "outputs": [],
   "source": []
  }
 ],
 "metadata": {
  "kernelspec": {
   "display_name": "Python (Viz)",
   "language": "python",
   "name": "viz"
  },
  "language_info": {
   "codemirror_mode": {
    "name": "ipython",
    "version": 3
   },
   "file_extension": ".py",
   "mimetype": "text/x-python",
   "name": "python",
   "nbconvert_exporter": "python",
   "pygments_lexer": "ipython3",
   "version": "3.7.7"
  }
 },
 "nbformat": 4,
 "nbformat_minor": 4
}
