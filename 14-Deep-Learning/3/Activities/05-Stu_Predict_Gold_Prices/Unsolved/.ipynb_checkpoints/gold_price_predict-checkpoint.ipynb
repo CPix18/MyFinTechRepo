{
 "cells": [
  {
   "cell_type": "markdown",
   "metadata": {},
   "source": [
    "# Students Do: Predicting Gold Closing Prices\n",
    "\n",
    "In this activity, you will gain hands-on experience by building an RNN LSTM for predicting gold closing prices using time-series data."
   ]
  },
  {
   "cell_type": "code",
   "execution_count": 1,
   "metadata": {},
   "outputs": [],
   "source": [
    "# Initial imports\n",
    "import numpy as np\n",
    "import pandas as pd\n",
    "\n",
    "%matplotlib inline"
   ]
  },
  {
   "cell_type": "markdown",
   "metadata": {},
   "source": [
    "## Instructions\n",
    "\n",
    "### Initial Setup\n",
    "\n",
    "To ensure models' reproducibility, set the random seed for `numpy` and `tensorflow` libraries."
   ]
  },
  {
   "cell_type": "code",
   "execution_count": 2,
   "metadata": {},
   "outputs": [],
   "source": [
    "# Set the random seed for reproducibility\n",
    "# Note: This is used for model prototyping, but it is good practice to comment this out and run multiple experiments to evaluate your model.\n",
    "from numpy.random import seed\n",
    "\n",
    "seed(1)\n",
    "from tensorflow import random\n",
    "\n",
    "random.set_seed(2)"
   ]
  },
  {
   "cell_type": "markdown",
   "metadata": {},
   "source": [
    "### Data Preparation\n",
    "\n",
    "In this section, you will retrieve the Gold historical prices from the London Bullion Market Association using the [Quandl API](https://www.quandl.com/data/LBMA/GOLD-Gold-Price-London-Fixing). Be sure to have your Quandl API key at hand.\n",
    "\n",
    "#### Data Retrieval\n",
    "\n",
    "Import your Quandl API key from an environment variable named `quandl_key`."
   ]
  },
  {
   "cell_type": "code",
   "execution_count": 5,
   "metadata": {},
   "outputs": [],
   "source": [
    "# Import the API key for QUANDL\n",
    "import os\n",
    "quandl_key = os.getenv(\"QUANDL_API_KEY\")"
   ]
  },
  {
   "cell_type": "markdown",
   "metadata": {},
   "source": [
    "Open the [\"Gold Price: London Fixing\" at the Quandl website](https://www.quandl.com/data/LBMA/GOLD-Gold-Price-London-Fixing), and set the URL to retrieve the historical prices of gold in `json` format."
   ]
  },
  {
   "cell_type": "code",
   "execution_count": 6,
   "metadata": {},
   "outputs": [],
   "source": [
    "# Set Gold price URL\n",
    "request_url = \"https://www.quandl.com/api/v3/datasets/LBMA/GOLD.json?api_key=\"\n",
    "\n",
    "gold_prices_url = request_url + quandl_key"
   ]
  },
  {
   "cell_type": "markdown",
   "metadata": {},
   "source": [
    "Use the `requests` library to retrieve the historical prices of gold in `json` format."
   ]
  },
  {
   "cell_type": "code",
   "execution_count": 7,
   "metadata": {},
   "outputs": [],
   "source": [
    "# Fetch Gold prices from QUANDL\n",
    "import requests\n",
    "\n",
    "response_data = requests.get(gold_prices_url).json()"
   ]
  },
  {
   "cell_type": "markdown",
   "metadata": {},
   "source": [
    "Explore the `json` response data and create a Pandas DataFrame containing the historical prices of gold in all the different currencies provided by the API, and set the data as the index of the DataFrame.\n",
    "\n",
    "Your DataFrame should look like the following sample:\n",
    "\n",
    "![Sample gold prices DataFrame](../Images/sample-gold-prices-df.png)\n",
    "\n",
    "**Note:** Remember that while working with time-series data, it's important to transform dates data to `datetime` data type explicitly. Review the [Quandl API documentation for time-series data](https://docs.quandl.com/docs/time-series) if needed."
   ]
  },
  {
   "cell_type": "code",
   "execution_count": 8,
   "metadata": {},
   "outputs": [
    {
     "data": {
      "text/plain": [
       "dict_keys(['dataset'])"
      ]
     },
     "execution_count": 8,
     "metadata": {},
     "output_type": "execute_result"
    }
   ],
   "source": [
    "# Explore the `response_data` object\n",
    "response_data.keys()\n",
    "# Fetch the keys of the `response_data` object\n"
   ]
  },
  {
   "cell_type": "code",
   "execution_count": 11,
   "metadata": {},
   "outputs": [],
   "source": [
    "# Explore the contents of the main key\n",
    "#response_data[\"dataset\"]"
   ]
  },
  {
   "cell_type": "code",
   "execution_count": 12,
   "metadata": {},
   "outputs": [
    {
     "data": {
      "text/html": [
       "<div>\n",
       "<style scoped>\n",
       "    .dataframe tbody tr th:only-of-type {\n",
       "        vertical-align: middle;\n",
       "    }\n",
       "\n",
       "    .dataframe tbody tr th {\n",
       "        vertical-align: top;\n",
       "    }\n",
       "\n",
       "    .dataframe thead th {\n",
       "        text-align: right;\n",
       "    }\n",
       "</style>\n",
       "<table border=\"1\" class=\"dataframe\">\n",
       "  <thead>\n",
       "    <tr style=\"text-align: right;\">\n",
       "      <th></th>\n",
       "      <th>USD (AM)</th>\n",
       "      <th>USD (PM)</th>\n",
       "      <th>GBP (AM)</th>\n",
       "      <th>GBP (PM)</th>\n",
       "      <th>EURO (AM)</th>\n",
       "      <th>EURO (PM)</th>\n",
       "    </tr>\n",
       "    <tr>\n",
       "      <th>Date</th>\n",
       "      <th></th>\n",
       "      <th></th>\n",
       "      <th></th>\n",
       "      <th></th>\n",
       "      <th></th>\n",
       "      <th></th>\n",
       "    </tr>\n",
       "  </thead>\n",
       "  <tbody>\n",
       "    <tr>\n",
       "      <th>2020-06-12</th>\n",
       "      <td>1735.85</td>\n",
       "      <td>1733.50</td>\n",
       "      <td>1374.10</td>\n",
       "      <td>1378.13</td>\n",
       "      <td>1533.28</td>\n",
       "      <td>1534.15</td>\n",
       "    </tr>\n",
       "    <tr>\n",
       "      <th>2020-06-11</th>\n",
       "      <td>1731.90</td>\n",
       "      <td>1738.25</td>\n",
       "      <td>1361.79</td>\n",
       "      <td>1373.74</td>\n",
       "      <td>1519.57</td>\n",
       "      <td>1528.10</td>\n",
       "    </tr>\n",
       "    <tr>\n",
       "      <th>2020-06-10</th>\n",
       "      <td>1717.65</td>\n",
       "      <td>1722.05</td>\n",
       "      <td>1346.64</td>\n",
       "      <td>1350.26</td>\n",
       "      <td>1511.88</td>\n",
       "      <td>1515.23</td>\n",
       "    </tr>\n",
       "    <tr>\n",
       "      <th>2020-06-09</th>\n",
       "      <td>1707.50</td>\n",
       "      <td>1713.50</td>\n",
       "      <td>1350.46</td>\n",
       "      <td>1348.87</td>\n",
       "      <td>1515.41</td>\n",
       "      <td>1510.62</td>\n",
       "    </tr>\n",
       "    <tr>\n",
       "      <th>2020-06-08</th>\n",
       "      <td>1692.00</td>\n",
       "      <td>1690.35</td>\n",
       "      <td>1333.97</td>\n",
       "      <td>1331.32</td>\n",
       "      <td>1496.91</td>\n",
       "      <td>1494.61</td>\n",
       "    </tr>\n",
       "  </tbody>\n",
       "</table>\n",
       "</div>"
      ],
      "text/plain": [
       "            USD (AM)  USD (PM)  GBP (AM)  GBP (PM)  EURO (AM)  EURO (PM)\n",
       "Date                                                                    \n",
       "2020-06-12   1735.85   1733.50   1374.10   1378.13    1533.28    1534.15\n",
       "2020-06-11   1731.90   1738.25   1361.79   1373.74    1519.57    1528.10\n",
       "2020-06-10   1717.65   1722.05   1346.64   1350.26    1511.88    1515.23\n",
       "2020-06-09   1707.50   1713.50   1350.46   1348.87    1515.41    1510.62\n",
       "2020-06-08   1692.00   1690.35   1333.97   1331.32    1496.91    1494.61"
      ]
     },
     "execution_count": 12,
     "metadata": {},
     "output_type": "execute_result"
    }
   ],
   "source": [
    "# Create a DataFrame with Gold prices\n",
    "gold_df = pd.DataFrame(\n",
    "    response_data[\"dataset\"][\"data\"],\n",
    "    columns = response_data[\"dataset\"][\"column_names\"]\n",
    ")\n",
    "#Transform the \"Date\" column to datetime\n",
    "gold_df[\"Date\"] = pd.to_datetime(gold_df[\"Date\"])\n",
    "\n",
    "# Set the \"Date\" column as the DataFrame Index\n",
    "gold_df.set_index(\"Date\", inplace=True)\n",
    "\n",
    "# Show the DataFrame head\n",
    "gold_df.head()\n"
   ]
  },
  {
   "cell_type": "markdown",
   "metadata": {},
   "source": [
    "#### Data Cleaning\n",
    "\n",
    "Before continue, corroborate if there are any `null` or missing values in the DataFrame, if so, fill the missing values with the previous price in the series.\n",
    "\n",
    "**Note:** You may want to review the [Working with missing data guide](https://pandas.pydata.org/pandas-docs/stable/user_guide/missing_data.html) from the Pandas documentation."
   ]
  },
  {
   "cell_type": "code",
   "execution_count": 13,
   "metadata": {},
   "outputs": [
    {
     "data": {
      "text/plain": [
       "16020"
      ]
     },
     "execution_count": 13,
     "metadata": {},
     "output_type": "execute_result"
    }
   ],
   "source": [
    "# Looking for missing values\n",
    "gold_df.isnull().sum().sum()"
   ]
  },
  {
   "cell_type": "code",
   "execution_count": 14,
   "metadata": {},
   "outputs": [],
   "source": [
    "# Filling missing values with the previous ones\n",
    "gold_df = gold_df.fillna(method = 'pad')"
   ]
  },
  {
   "cell_type": "markdown",
   "metadata": {},
   "source": [
    "#### Create the Features `X` and Target `y` Data\n",
    "\n",
    "Use the `window_data()` function bellow, to create the features set `X` and the target vector `y`. Define a window size of `30` days and use the column of the closing gold price (`USD (PM)`) for as feature and target column; this will allow your model to predict gold prices in USD."
   ]
  },
  {
   "cell_type": "code",
   "execution_count": 15,
   "metadata": {},
   "outputs": [],
   "source": [
    "def window_data(df, window, feature_col_number, target_col_number):\n",
    "    \"\"\"\n",
    "    This function accepts the column number for the features (X) and the target (y).\n",
    "    It chunks the data up with a rolling window of Xt - window to predict Xt.\n",
    "    It returns two numpy arrays of X and y.\n",
    "    \"\"\"\n",
    "    X = []\n",
    "    y = []\n",
    "    for i in range(len(df) - window - 1):\n",
    "        features = df.iloc[i : (i + window), feature_col_number]\n",
    "        target = df.iloc[(i + window), target_col_number]\n",
    "        X.append(features)\n",
    "        y.append(target)\n",
    "    return np.array(X), np.array(y).reshape(-1, 1)"
   ]
  },
  {
   "cell_type": "code",
   "execution_count": 16,
   "metadata": {},
   "outputs": [
    {
     "name": "stdout",
     "output_type": "stream",
     "text": [
      "X sample values:\n",
      "[[1733.5  1738.25 1722.05 1713.5  1690.35 1683.45 1700.05 1705.35 1742.15\n",
      "  1730.6  1728.7  1717.35 1694.6  1720.25 1733.55 1724.9  1748.3  1737.95\n",
      "  1734.7  1735.35 1731.6  1708.4  1702.4  1702.75 1704.05 1691.5  1699.55\n",
      "  1709.1  1686.25 1702.75]\n",
      " [1738.25 1722.05 1713.5  1690.35 1683.45 1700.05 1705.35 1742.15 1730.6\n",
      "  1728.7  1717.35 1694.6  1720.25 1733.55 1724.9  1748.3  1737.95 1734.7\n",
      "  1735.35 1731.6  1708.4  1702.4  1702.75 1704.05 1691.5  1699.55 1709.1\n",
      "  1686.25 1702.75 1703.35]\n",
      " [1722.05 1713.5  1690.35 1683.45 1700.05 1705.35 1742.15 1730.6  1728.7\n",
      "  1717.35 1694.6  1720.25 1733.55 1724.9  1748.3  1737.95 1734.7  1735.35\n",
      "  1731.6  1708.4  1702.4  1702.75 1704.05 1691.5  1699.55 1709.1  1686.25\n",
      "  1702.75 1703.35 1691.55]] \n",
      "\n",
      "y sample values:\n",
      "[[1703.35]\n",
      " [1691.55]\n",
      " [1714.95]]\n"
     ]
    }
   ],
   "source": [
    "# Define the window size\n",
    "window_size = 30\n",
    "\n",
    "# Set the index of the feature and target columns\n",
    "feature_column = 1\n",
    "target_column = 1\n",
    "\n",
    "# Create the features (X) and target (y) data using the window_data() function.\n",
    "X, y = window_data(gold_df, window_size, feature_column, target_column)\n",
    "\n",
    "# Print a few sample values from X and y\n",
    "print (f\"X sample values:\\n{X[:3]} \\n\")\n",
    "print (f\"y sample values:\\n{y[:3]}\")"
   ]
  },
  {
   "cell_type": "markdown",
   "metadata": {},
   "source": [
    "#### Split Data Between Training and Testing Sets\n",
    "\n",
    "To avoid the dataset being randomized, manually create the training and testing sets using array slicing. Use 70% of the data for training and the remainder for testing."
   ]
  },
  {
   "cell_type": "code",
   "execution_count": 17,
   "metadata": {},
   "outputs": [],
   "source": [
    "# Manually splitting the data\n",
    "split = int(0.7 * len(X))\n",
    "\n",
    "X_train = X[: split - 1]\n",
    "X_test = X[split:]\n",
    "\n",
    "y_train = y[: split - 1]\n",
    "y_test = y[split:]"
   ]
  },
  {
   "cell_type": "markdown",
   "metadata": {},
   "source": [
    "#### Scale Data with `MinMaxScaler`\n",
    "\n",
    "Before training the RNN LSTM model, use the `MinMaxScaler` from `sklearn` to scale the training and testing data between `0` and `1`.\n",
    "\n",
    "**Note:** You need to scale both features and target sets."
   ]
  },
  {
   "cell_type": "code",
   "execution_count": 18,
   "metadata": {},
   "outputs": [],
   "source": [
    "# Importing the MinMaxScaler from sklearn\n",
    "from sklearn.preprocessing import MinMaxScaler\n",
    "\n",
    "# Create a MinMaxScaler object\n",
    "scaler = MinMaxScaler()\n",
    "\n",
    "# Fit the MinMaxScaler object with the features data X\n",
    "scaler.fit(X)\n",
    "\n",
    "# Scale the features training and testing sets\n",
    "X_train = scaler.transform(X_train)\n",
    "X_test = scaler.transform(X_test)\n",
    "\n",
    "# Fit the MinMaxScaler object with the target data Y\n",
    "scaler.fit(y)\n",
    "\n",
    "# Scale the target training and testing sets\n",
    "y_train = scaler.transform(y_train)\n",
    "y_test = scaler.transform(y_test)"
   ]
  },
  {
   "cell_type": "markdown",
   "metadata": {},
   "source": [
    "#### Reshape Features Data for the LSTM Model\n",
    "\n",
    "The LSTM API from Keras needs to receive the features data as a _vertical vector_, so that reshape the `X` data in the form `reshape((X_train.shape[0], X_train.shape[1], 1))`. Both sets, training, and testing should be reshaped."
   ]
  },
  {
   "cell_type": "code",
   "execution_count": 21,
   "metadata": {},
   "outputs": [
    {
     "name": "stdout",
     "output_type": "stream",
     "text": [
      "X_train sample values:\n",
      "[[[0.91318371]\n",
      "  [0.91573713]\n",
      "  [0.90702863]\n",
      "  [0.90243247]\n",
      "  [0.8899879 ]\n",
      "  [0.88627873]\n",
      "  [0.89520226]\n",
      "  [0.89805134]\n",
      "  [0.91783362]\n",
      "  [0.91162478]\n",
      "  [0.91060341]\n",
      "  [0.90450208]\n",
      "  [0.89227254]\n",
      "  [0.90606101]\n",
      "  [0.91321059]\n",
      "  [0.90856068]\n",
      "  [0.92113963]\n",
      "  [0.91557586]\n",
      "  [0.91382879]\n",
      "  [0.9141782 ]\n",
      "  [0.91216234]\n",
      "  [0.8996909 ]\n",
      "  [0.89646553]\n",
      "  [0.89665368]\n",
      "  [0.89735251]\n",
      "  [0.8906061 ]\n",
      "  [0.89493348]\n",
      "  [0.9000672 ]\n",
      "  [0.8877839 ]\n",
      "  [0.89665368]]\n",
      "\n",
      " [[0.91573713]\n",
      "  [0.90702863]\n",
      "  [0.90243247]\n",
      "  [0.8899879 ]\n",
      "  [0.88627873]\n",
      "  [0.89520226]\n",
      "  [0.89805134]\n",
      "  [0.91783362]\n",
      "  [0.91162478]\n",
      "  [0.91060341]\n",
      "  [0.90450208]\n",
      "  [0.89227254]\n",
      "  [0.90606101]\n",
      "  [0.91321059]\n",
      "  [0.90856068]\n",
      "  [0.92113963]\n",
      "  [0.91557586]\n",
      "  [0.91382879]\n",
      "  [0.9141782 ]\n",
      "  [0.91216234]\n",
      "  [0.8996909 ]\n",
      "  [0.89646553]\n",
      "  [0.89665368]\n",
      "  [0.89735251]\n",
      "  [0.8906061 ]\n",
      "  [0.89493348]\n",
      "  [0.9000672 ]\n",
      "  [0.8877839 ]\n",
      "  [0.89665368]\n",
      "  [0.89697621]]\n",
      "\n",
      " [[0.90702863]\n",
      "  [0.90243247]\n",
      "  [0.8899879 ]\n",
      "  [0.88627873]\n",
      "  [0.89520226]\n",
      "  [0.89805134]\n",
      "  [0.91783362]\n",
      "  [0.91162478]\n",
      "  [0.91060341]\n",
      "  [0.90450208]\n",
      "  [0.89227254]\n",
      "  [0.90606101]\n",
      "  [0.91321059]\n",
      "  [0.90856068]\n",
      "  [0.92113963]\n",
      "  [0.91557586]\n",
      "  [0.91382879]\n",
      "  [0.9141782 ]\n",
      "  [0.91216234]\n",
      "  [0.8996909 ]\n",
      "  [0.89646553]\n",
      "  [0.89665368]\n",
      "  [0.89735251]\n",
      "  [0.8906061 ]\n",
      "  [0.89493348]\n",
      "  [0.9000672 ]\n",
      "  [0.8877839 ]\n",
      "  [0.89665368]\n",
      "  [0.89697621]\n",
      "  [0.89063298]]] \n",
      "\n",
      "X_test sample values:\n",
      "[[[0.19236662]\n",
      "  [0.19526945]\n",
      "  [0.19338799]\n",
      "  [0.19325359]\n",
      "  [0.19083457]\n",
      "  [0.1931192 ]\n",
      "  [0.19486628]\n",
      "  [0.19365677]\n",
      "  [0.19567262]\n",
      "  [0.19561887]\n",
      "  [0.19352238]\n",
      "  [0.19580702]\n",
      "  [0.19688214]\n",
      "  [0.19494692]\n",
      "  [0.1931192 ]\n",
      "  [0.19070017]\n",
      "  [0.19285042]\n",
      "  [0.19043139]\n",
      "  [0.19903239]\n",
      "  [0.20104825]\n",
      "  [0.20365542]\n",
      "  [0.20292971]\n",
      "  [0.20440801]\n",
      "  [0.20333289]\n",
      "  [0.20051068]\n",
      "  [0.20239215]\n",
      "  [0.20298347]\n",
      "  [0.20292971]\n",
      "  [0.19930117]\n",
      "  [0.19916678]]\n",
      "\n",
      " [[0.19526945]\n",
      "  [0.19338799]\n",
      "  [0.19325359]\n",
      "  [0.19083457]\n",
      "  [0.1931192 ]\n",
      "  [0.19486628]\n",
      "  [0.19365677]\n",
      "  [0.19567262]\n",
      "  [0.19561887]\n",
      "  [0.19352238]\n",
      "  [0.19580702]\n",
      "  [0.19688214]\n",
      "  [0.19494692]\n",
      "  [0.1931192 ]\n",
      "  [0.19070017]\n",
      "  [0.19285042]\n",
      "  [0.19043139]\n",
      "  [0.19903239]\n",
      "  [0.20104825]\n",
      "  [0.20365542]\n",
      "  [0.20292971]\n",
      "  [0.20440801]\n",
      "  [0.20333289]\n",
      "  [0.20051068]\n",
      "  [0.20239215]\n",
      "  [0.20298347]\n",
      "  [0.20292971]\n",
      "  [0.19930117]\n",
      "  [0.19916678]\n",
      "  [0.19728531]]\n",
      "\n",
      " [[0.19338799]\n",
      "  [0.19325359]\n",
      "  [0.19083457]\n",
      "  [0.1931192 ]\n",
      "  [0.19486628]\n",
      "  [0.19365677]\n",
      "  [0.19567262]\n",
      "  [0.19561887]\n",
      "  [0.19352238]\n",
      "  [0.19580702]\n",
      "  [0.19688214]\n",
      "  [0.19494692]\n",
      "  [0.1931192 ]\n",
      "  [0.19070017]\n",
      "  [0.19285042]\n",
      "  [0.19043139]\n",
      "  [0.19903239]\n",
      "  [0.20104825]\n",
      "  [0.20365542]\n",
      "  [0.20292971]\n",
      "  [0.20440801]\n",
      "  [0.20333289]\n",
      "  [0.20051068]\n",
      "  [0.20239215]\n",
      "  [0.20298347]\n",
      "  [0.20292971]\n",
      "  [0.19930117]\n",
      "  [0.19916678]\n",
      "  [0.19728531]\n",
      "  [0.19997312]]]\n"
     ]
    }
   ],
   "source": [
    "# Reshape the features data\n",
    "X_train = X_train.reshape((X_train.shape[0], X_train.shape[1], 1))\n",
    "X_test = X_test.reshape((X_test.shape[0], X_test.shape[1], 1))\n",
    "# Print some sample data after reshaping the datasets\n",
    "print (f\"X_train sample values:\\n{X_train[:3]} \\n\")\n",
    "print (f\"X_test sample values:\\n{X_test[:3]}\")"
   ]
  },
  {
   "cell_type": "markdown",
   "metadata": {},
   "source": [
    "---\n",
    "\n",
    "### Build and Train the LSTM RNN\n",
    "\n",
    "In this section, you will design a custom LSTM RNN in Keras and fit (train) it using the training data we defined.\n",
    "\n",
    "You will need to:\n",
    "\n",
    "1. Define the model architecture in Keras.\n",
    "\n",
    "2. Compile the model.\n",
    "\n",
    "3. Fit the model with the training data."
   ]
  },
  {
   "cell_type": "code",
   "execution_count": 20,
   "metadata": {},
   "outputs": [],
   "source": [
    "# Importing required Keras modules\n",
    "from tensorflow.keras.models import Sequential\n",
    "from tensorflow.keras.layers import LSTM, Dense, Dropout"
   ]
  },
  {
   "cell_type": "markdown",
   "metadata": {},
   "source": [
    "#### Create the LSTM RNN Model Structure\n",
    "\n",
    "Design the structure of your RNN LSTM as follows:\n",
    "\n",
    "* Number of units per layer: `30` (same as the window size)\n",
    "\n",
    "* Dropout fraction: `0.2` (20% of neurons will be randomly dropped on each epoch)\n",
    "\n",
    "* Add three `LSTM` layers to your model, remember to add a `Dropout` layer after each `LSTM` layer, and to set `return_sequences=True` in the first two layers only.\n",
    "\n",
    "* Add a `Dense` output layer with one unit."
   ]
  },
  {
   "cell_type": "code",
   "execution_count": 22,
   "metadata": {},
   "outputs": [],
   "source": [
    "# Define the LSTM RNN model.\n",
    "model = Sequential()\n",
    "# Initial model setup\n",
    "number_units = 30\n",
    "dropout_fraction = 0.2\n",
    "\n",
    "# Layer 1\n",
    "model.add(LSTM(\n",
    "    units=number_units,\n",
    "    return_sequences=True,\n",
    "    input_shape=(X_train.shape[1], 1))\n",
    "    )\n",
    "model.add(Dropout(dropout_fraction))\n",
    "\n",
    "# Layer 2\n",
    "model.add(LSTM(units=number_units, return_sequences=True))\n",
    "model.add(Dropout(dropout_fraction))\n",
    "\n",
    "# Layer 3\n",
    "model.add(LSTM(units=number_units))\n",
    "model.add(Dropout(dropout_fraction))\n",
    "\n",
    "# Output layer\n",
    "model.add(Dense(1))\n"
   ]
  },
  {
   "cell_type": "markdown",
   "metadata": {},
   "source": [
    "#### Compile the LSTM RNN Model\n",
    "\n",
    "Compile the model using the `adam` optimizer, and `mean_square_error` as loss function since the value you want to predict is continuous."
   ]
  },
  {
   "cell_type": "code",
   "execution_count": 23,
   "metadata": {},
   "outputs": [],
   "source": [
    "# Compile the model\n",
    "model.compile(optimizer=\"adam\", loss=\"mean_squared_error\")"
   ]
  },
  {
   "cell_type": "code",
   "execution_count": 24,
   "metadata": {},
   "outputs": [
    {
     "name": "stdout",
     "output_type": "stream",
     "text": [
      "Model: \"sequential\"\n",
      "_________________________________________________________________\n",
      "Layer (type)                 Output Shape              Param #   \n",
      "=================================================================\n",
      "lstm (LSTM)                  (None, 30, 30)            3840      \n",
      "_________________________________________________________________\n",
      "dropout (Dropout)            (None, 30, 30)            0         \n",
      "_________________________________________________________________\n",
      "lstm_1 (LSTM)                (None, 30, 30)            7320      \n",
      "_________________________________________________________________\n",
      "dropout_1 (Dropout)          (None, 30, 30)            0         \n",
      "_________________________________________________________________\n",
      "lstm_2 (LSTM)                (None, 30)                7320      \n",
      "_________________________________________________________________\n",
      "dropout_2 (Dropout)          (None, 30)                0         \n",
      "_________________________________________________________________\n",
      "dense (Dense)                (None, 1)                 31        \n",
      "=================================================================\n",
      "Total params: 18,511\n",
      "Trainable params: 18,511\n",
      "Non-trainable params: 0\n",
      "_________________________________________________________________\n"
     ]
    }
   ],
   "source": [
    "# Show the model summary\n",
    "model.summary()"
   ]
  },
  {
   "cell_type": "markdown",
   "metadata": {},
   "source": [
    "#### Train the Model\n",
    "\n",
    "Train (fit) the model with the training data using `10` epochs and a `batch_size=90`. Since you are working with time-series data, remember to set `shuffle=False` since it's necessary to keep the sequential order of the data."
   ]
  },
  {
   "cell_type": "code",
   "execution_count": 25,
   "metadata": {},
   "outputs": [
    {
     "name": "stdout",
     "output_type": "stream",
     "text": [
      "Epoch 1/10\n",
      "103/103 [==============================] - 8s 81ms/step - loss: 0.0306\n",
      "Epoch 2/10\n",
      "103/103 [==============================] - 8s 74ms/step - loss: 0.0112\n",
      "Epoch 3/10\n",
      "103/103 [==============================] - 7s 72ms/step - loss: 0.0109\n",
      "Epoch 4/10\n",
      "103/103 [==============================] - 8s 80ms/step - loss: 0.0106\n",
      "Epoch 5/10\n",
      "103/103 [==============================] - 8s 74ms/step - loss: 0.0091\n",
      "Epoch 6/10\n",
      "103/103 [==============================] - 8s 75ms/step - loss: 0.0080\n",
      "Epoch 7/10\n",
      "103/103 [==============================] - 7s 69ms/step - loss: 0.0062\n",
      "Epoch 8/10\n",
      "103/103 [==============================] - 7s 66ms/step - loss: 0.0044\n",
      "Epoch 9/10\n",
      "103/103 [==============================] - 8s 74ms/step - loss: 0.0029\n",
      "Epoch 10/10\n",
      "103/103 [==============================] - 7s 73ms/step - loss: 0.0021\n"
     ]
    },
    {
     "data": {
      "text/plain": [
       "<tensorflow.python.keras.callbacks.History at 0x6440f7910>"
      ]
     },
     "execution_count": 25,
     "metadata": {},
     "output_type": "execute_result"
    }
   ],
   "source": [
    "# Train the model\n",
    "model.fit(X_train, y_train, epochs=10, shuffle=False, batch_size=90, verbose=1)"
   ]
  },
  {
   "cell_type": "markdown",
   "metadata": {},
   "source": [
    "---\n",
    "\n",
    "### Model Performance\n",
    "\n",
    "In this section, you will evaluate the model using the test data. \n",
    "\n",
    "You will need to:\n",
    "\n",
    "1. Evaluate the model using the `X_test` and `y_test` data.\n",
    "\n",
    "2. Use the `X_test` data to make predictions.\n",
    "\n",
    "3. Create a DataFrame of Real (`y_test`) vs. predicted values.\n",
    "\n",
    "4. Plot the real vs. predicted values as a line chart."
   ]
  },
  {
   "cell_type": "markdown",
   "metadata": {},
   "source": [
    "#### Evaluate the Model\n",
    "\n",
    "Use the `evaluate()` method of the model using the testing data."
   ]
  },
  {
   "cell_type": "code",
   "execution_count": 26,
   "metadata": {},
   "outputs": [
    {
     "name": "stdout",
     "output_type": "stream",
     "text": [
      "124/124 [==============================] - 1s 12ms/step - loss: 8.8922e-04\n"
     ]
    },
    {
     "data": {
      "text/plain": [
       "0.0008892239420674741"
      ]
     },
     "execution_count": 26,
     "metadata": {},
     "output_type": "execute_result"
    }
   ],
   "source": [
    "# Evaluate the model\n",
    "model.evaluate(X_test,y_test,verbose=1)"
   ]
  },
  {
   "cell_type": "markdown",
   "metadata": {},
   "source": [
    "#### Make Predictions\n",
    "\n",
    "Use the `predict()` method of the model to make some closing gold price predictions using your brand new LSTM RNN model and your testing data. Save the predictions in a variable called `predicted`."
   ]
  },
  {
   "cell_type": "code",
   "execution_count": 27,
   "metadata": {},
   "outputs": [],
   "source": [
    "# Make predictions using the testing data X_test\n",
    "predicted = model.predict(X_test)"
   ]
  },
  {
   "cell_type": "markdown",
   "metadata": {},
   "source": [
    "Since you scaled the original values using the `MinMaxScaler`, you need to recover the original gold prices to better understand of the predictions. Use the `inverse_transform()` method of the scaler to decode the scaled testing and predicted values to their original scale."
   ]
  },
  {
   "cell_type": "code",
   "execution_count": 28,
   "metadata": {},
   "outputs": [],
   "source": [
    "# Recover the original prices instead of the scaled version\n",
    "predicted_prices = scaler.inverse_transform(predicted)\n",
    "real_prices = scaler.inverse_transform(y_test.reshape(-1, 1))"
   ]
  },
  {
   "cell_type": "markdown",
   "metadata": {},
   "source": [
    "#### Plotting Predicted Vs. Real Prices\n",
    "\n",
    "Create a Pandas DataFrame with two columns as follows to plot the predicted vs. the actual gold prices.\n",
    "\n",
    "* Column 1: Actual prices (testing data)\n",
    "\n",
    "* Column 2: Predicted prices\n",
    "\n",
    "Your DataFrame should look like the sample below:\n",
    "\n",
    "![Sample actual vs. predicted gold prices](../Images/sample-gold-prices-predictions-df.png)"
   ]
  },
  {
   "cell_type": "code",
   "execution_count": 29,
   "metadata": {},
   "outputs": [
    {
     "data": {
      "text/html": [
       "<div>\n",
       "<style scoped>\n",
       "    .dataframe tbody tr th:only-of-type {\n",
       "        vertical-align: middle;\n",
       "    }\n",
       "\n",
       "    .dataframe tbody tr th {\n",
       "        vertical-align: top;\n",
       "    }\n",
       "\n",
       "    .dataframe thead th {\n",
       "        text-align: right;\n",
       "    }\n",
       "</style>\n",
       "<table border=\"1\" class=\"dataframe\">\n",
       "  <thead>\n",
       "    <tr style=\"text-align: right;\">\n",
       "      <th></th>\n",
       "      <th>Actual</th>\n",
       "      <th>Predicted</th>\n",
       "    </tr>\n",
       "  </thead>\n",
       "  <tbody>\n",
       "    <tr>\n",
       "      <th>0</th>\n",
       "      <td>401.75</td>\n",
       "      <td>398.848938</td>\n",
       "    </tr>\n",
       "    <tr>\n",
       "      <th>1</th>\n",
       "      <td>406.75</td>\n",
       "      <td>399.348206</td>\n",
       "    </tr>\n",
       "    <tr>\n",
       "      <th>2</th>\n",
       "      <td>415.75</td>\n",
       "      <td>399.672516</td>\n",
       "    </tr>\n",
       "    <tr>\n",
       "      <th>3</th>\n",
       "      <td>414.75</td>\n",
       "      <td>399.947845</td>\n",
       "    </tr>\n",
       "    <tr>\n",
       "      <th>4</th>\n",
       "      <td>414.00</td>\n",
       "      <td>400.238892</td>\n",
       "    </tr>\n",
       "  </tbody>\n",
       "</table>\n",
       "</div>"
      ],
      "text/plain": [
       "   Actual   Predicted\n",
       "0  401.75  398.848938\n",
       "1  406.75  399.348206\n",
       "2  415.75  399.672516\n",
       "3  414.75  399.947845\n",
       "4  414.00  400.238892"
      ]
     },
     "execution_count": 29,
     "metadata": {},
     "output_type": "execute_result"
    }
   ],
   "source": [
    "# Create a DataFrame of Real and Predicted values\n",
    "stocks = pd.DataFrame({\n",
    "    \"Actual\": real_prices.ravel(),\n",
    "    \"Predicted\": predicted_prices.ravel()\n",
    "})\n",
    "\n",
    "# Show the DataFrame's head\n",
    "stocks.head()\n"
   ]
  },
  {
   "cell_type": "markdown",
   "metadata": {},
   "source": [
    "Use the `plot()` method from the DataFrame to create a line chart to contrast the actual vs. the predicted gold prices."
   ]
  },
  {
   "cell_type": "code",
   "execution_count": 30,
   "metadata": {},
   "outputs": [
    {
     "data": {
      "text/plain": [
       "<matplotlib.axes._subplots.AxesSubplot at 0x1a47649490>"
      ]
     },
     "execution_count": 30,
     "metadata": {},
     "output_type": "execute_result"
    },
    {
     "data": {
      "image/png": "[encoded data removed]",
      "text/plain": [
       "<Figure size 432x288 with 1 Axes>"
      ]
     },
     "metadata": {
      "needs_background": "light"
     },
     "output_type": "display_data"
    }
   ],
   "source": [
    "# Plot the real vs predicted prices as a line chart\n",
    "stocks.plot(title=\"Actual Vs. Predicted Gold Prices\")"
   ]
  },
  {
   "cell_type": "code",
   "execution_count": null,
   "metadata": {},
   "outputs": [],
   "source": []
  }
 ],
 "metadata": {
  "kernelspec": {
   "display_name": "Python 3",
   "language": "python",
   "name": "python3"
  },
  "language_info": {
   "codemirror_mode": {
    "name": "ipython",
    "version": 3
   },
   "file_extension": ".py",
   "mimetype": "text/x-python",
   "name": "python",
   "nbconvert_exporter": "python",
   "pygments_lexer": "ipython3",
   "version": "3.7.7"
  }
 },
 "nbformat": 4,
 "nbformat_minor": 4
}
