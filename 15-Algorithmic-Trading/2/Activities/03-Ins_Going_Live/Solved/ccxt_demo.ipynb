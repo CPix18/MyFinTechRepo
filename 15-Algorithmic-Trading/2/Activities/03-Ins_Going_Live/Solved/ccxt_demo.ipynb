{
 "cells": [
  {
   "cell_type": "markdown",
   "metadata": {},
   "source": [
    "# Going Live with CCXT"
   ]
  },
  {
   "cell_type": "markdown",
   "metadata": {},
   "source": [
    "### Import Libraries and Dependencies"
   ]
  },
  {
   "cell_type": "code",
   "execution_count": null,
   "metadata": {},
   "outputs": [],
   "source": [
    "# Import libraries and dependencies\n",
    "import ccxt\n",
    "import os\n",
    "import pandas as pd"
   ]
  },
  {
   "cell_type": "markdown",
   "metadata": {},
   "source": [
    "### Import Environment Variables"
   ]
  },
  {
   "cell_type": "code",
   "execution_count": null,
   "metadata": {},
   "outputs": [],
   "source": [
    "# Import environment variables\n",
    "kraken_public_key = os.getenv('KRAKEN_PUBLIC_KEY')\n",
    "kraken_secret_key = os.getenv('KRAKEN_SECRET_KEY')"
   ]
  },
  {
   "cell_type": "markdown",
   "metadata": {},
   "source": [
    "### Set Public and Private Keys for Kraken Exchange via the CCXT library"
   ]
  },
  {
   "cell_type": "code",
   "execution_count": null,
   "metadata": {},
   "outputs": [],
   "source": [
    "# Set the public and private keys for the API\n",
    "exchange = ccxt.kraken({\n",
    "    'apiKey': kraken_public_key,\n",
    "    'secret': kraken_secret_key,\n",
    "})"
   ]
  },
  {
   "cell_type": "markdown",
   "metadata": {},
   "source": [
    "### Connect to Kraken and Load Available Cyptocurrency Data"
   ]
  },
  {
   "cell_type": "code",
   "execution_count": null,
   "metadata": {},
   "outputs": [],
   "source": [
    "# Connect to Kraken and load the available cryptocurrencies\n",
    "crypto_details = exchange.load_markets()\n",
    "\n",
    "# Import data as a Pandas DataFrame\n",
    "crypto_df = pd.DataFrame(crypto_details)\n",
    "crypto_df"
   ]
  },
  {
   "cell_type": "markdown",
   "metadata": {},
   "source": [
    "### List Available Cryptocurrencies for Trading"
   ]
  },
  {
   "cell_type": "code",
   "execution_count": null,
   "metadata": {},
   "outputs": [],
   "source": [
    "# Print column values of DataFrame\n",
    "print(type(crypto_df.columns.values))\n",
    "print(crypto_df.columns.values)\n",
    "print(len(crypto_df.columns.values))"
   ]
  },
  {
   "cell_type": "code",
   "execution_count": null,
   "metadata": {},
   "outputs": [],
   "source": [
    "# Show list of available functions for the current exchange (in this case Kraken)\n",
    "exchange.has"
   ]
  },
  {
   "cell_type": "markdown",
   "metadata": {},
   "source": [
    "### Fetch Historical Data for BTC/USD"
   ]
  },
  {
   "cell_type": "code",
   "execution_count": null,
   "metadata": {},
   "outputs": [],
   "source": [
    "# Fetch daily candlestick bar data from `BTC/USD`\n",
    "historical_prices = exchange.fetch_ohlcv(\"BTC/USD\", \"1d\")\n",
    "\n",
    "# Import the data as a Pandas DataFrame and set the columns\n",
    "historical_prices_df = pd.DataFrame(\n",
    "    historical_prices, columns=[\"timestamp\", \"open\", \"high\", \"low\", \"close\", \"volume\"]\n",
    ")\n",
    "historical_prices_df"
   ]
  },
  {
   "cell_type": "markdown",
   "metadata": {},
   "source": [
    "### Convert Epoch Timestamp to Readable Date Format"
   ]
  },
  {
   "cell_type": "code",
   "execution_count": null,
   "metadata": {},
   "outputs": [],
   "source": [
    "# Convert epoch timestamp to date using the `to_datetime` function and `unit` parameter\n",
    "historical_prices_df[\"date\"] = pd.to_datetime(\n",
    "    historical_prices_df[\"timestamp\"], unit=\"ms\"\n",
    ")\n",
    "historical_prices_df.head()"
   ]
  },
  {
   "cell_type": "markdown",
   "metadata": {},
   "source": [
    "### Fetch Latest Data for BTC/USD"
   ]
  },
  {
   "cell_type": "code",
   "execution_count": null,
   "metadata": {},
   "outputs": [],
   "source": [
    "# Fetch current price details for `BTC/USD`\n",
    "current_price = exchange.fetch_ticker('BTC/USD')\n",
    "\n",
    "# Delete `info` key-value pair\n",
    "del current_price['info']\n",
    "\n",
    "current_price"
   ]
  },
  {
   "cell_type": "code",
   "execution_count": null,
   "metadata": {},
   "outputs": [],
   "source": [
    "# Import data as a Pandas DataFrame\n",
    "current_price_df = pd.DataFrame(current_price, index=[0])\n",
    "current_price_df"
   ]
  },
  {
   "cell_type": "code",
   "execution_count": null,
   "metadata": {},
   "outputs": [],
   "source": [
    "# Fetch balance\n",
    "exchange.fetch_balance()"
   ]
  },
  {
   "cell_type": "code",
   "execution_count": null,
   "metadata": {},
   "outputs": [],
   "source": [
    "# Fetch status\n",
    "exchange.fetch_status()"
   ]
  },
  {
   "cell_type": "code",
   "execution_count": null,
   "metadata": {},
   "outputs": [],
   "source": [
    "# Fetch open orders\n",
    "# exchange.fetch_open_orders()"
   ]
  }
 ],
 "metadata": {
  "kernelspec": {
   "display_name": "Python 3",
   "language": "python",
   "name": "python3"
  },
  "language_info": {
   "codemirror_mode": {
    "name": "ipython",
    "version": 3
   },
   "file_extension": ".py",
   "mimetype": "text/x-python",
   "name": "python",
   "nbconvert_exporter": "python",
   "pygments_lexer": "ipython3",
   "version": "3.7.7"
  }
 },
 "nbformat": 4,
 "nbformat_minor": 4
}
