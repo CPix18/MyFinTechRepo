{
 "cells": [
  {
   "cell_type": "code",
   "execution_count": 1,
   "metadata": {},
   "outputs": [],
   "source": [
    "from web3 import Web3"
   ]
  },
  {
   "cell_type": "code",
   "execution_count": 3,
   "metadata": {},
   "outputs": [],
   "source": [
    "w3 = Web3(Web3.HTTPProvider(\"http://127.0.0.1:8545\"))"
   ]
  },
  {
   "cell_type": "code",
   "execution_count": 5,
   "metadata": {},
   "outputs": [
    {
     "name": "stdout",
     "output_type": "stream",
     "text": [
      "3432\n"
     ]
    }
   ],
   "source": [
    "print(w3.eth.blockNumber)"
   ]
  },
  {
   "cell_type": "code",
   "execution_count": 6,
   "metadata": {},
   "outputs": [
    {
     "name": "stdout",
     "output_type": "stream",
     "text": [
      "6882000000000000000000\n"
     ]
    }
   ],
   "source": [
    "print(w3.eth.getBalance(\"0xFb8233aaaf88Fd9286117b66Ac3527Aa48D78E04\"))"
   ]
  },
  {
   "cell_type": "code",
   "execution_count": 7,
   "metadata": {},
   "outputs": [],
   "source": [
    "from eth_account import Account\n",
    "\n",
    "private_key = \"0x4a93ea95da2031f65d49914a55bb1806af4c6fd8d6e147f6f23636f931775050\"\n",
    "\n",
    "account_one = Account.from_key(private_key)"
   ]
  },
  {
   "cell_type": "code",
   "execution_count": 43,
   "metadata": {},
   "outputs": [],
   "source": [
    "recipientAddress = \"0x5D4e93175ea10AefAbA582503709C2716871bea9\""
   ]
  },
  {
   "cell_type": "code",
   "execution_count": 62,
   "metadata": {},
   "outputs": [],
   "source": [
    "def create_raw_tx(account, recipient, amount):\n",
    "    gasEstimate = w3.eth.estimateGas(\n",
    "    {\"from\": account.address, \"to\": recipient, \"value\": amount}\n",
    "    )\n",
    "    tx = {\n",
    "        \"from\": account.address,\n",
    "        \"to\": recipient, \n",
    "        \"value\": amount, \n",
    "        \"gasPrice\": w3.eth.gasPrice, \n",
    "        \"gas\": gasEstimate, \n",
    "        \"nonce\": w3.eth.getTransactionCount(account.address)\n",
    "    }\n",
    "    return tx"
   ]
  },
  {
   "cell_type": "code",
   "execution_count": 63,
   "metadata": {},
   "outputs": [],
   "source": [
    "def send_tx(account, recipient, amount):\n",
    "    tx = create_raw_tx(account, recipient, amount)\n",
    "    signed_tx = account.sign_transaction(tx)\n",
    "    result = w3.eth.sendRawTransaction(signed_tx.rawTransaction)\n",
    "    return result.hex()"
   ]
  },
  {
   "cell_type": "code",
   "execution_count": 64,
   "metadata": {},
   "outputs": [],
   "source": [
    "resultHex = send_tx(account_one, recipientAddress, 1000000000000000000)"
   ]
  },
  {
   "cell_type": "code",
   "execution_count": 66,
   "metadata": {},
   "outputs": [
    {
     "data": {
      "text/plain": [
       "AttributeDict({'blockHash': HexBytes('0x08ef2f38656ec984aa0813de088e45e3ba7a3649866ae2e08fe3e0b5ef01d2e5'),\n",
       " 'blockNumber': 4662,\n",
       " 'contractAddress': None,\n",
       " 'cumulativeGasUsed': 21000,\n",
       " 'from': '0xFb8233aaaf88Fd9286117b66Ac3527Aa48D78E04',\n",
       " 'gasUsed': 21000,\n",
       " 'logs': [],\n",
       " 'logsBloom': HexBytes('0x00000000000000000000000000000000000000000000000000000000000000000000000000000000000000000000000000000000000000000000000000000000000000000000000000000000000000000000000000000000000000000000000000000000000000000000000000000000000000000000000000000000000000000000000000000000000000000000000000000000000000000000000000000000000000000000000000000000000000000000000000000000000000000000000000000000000000000000000000000000000000000000000000000000000000000000000000000000000000000000000000000000000000000000000000000000'),\n",
       " 'status': 1,\n",
       " 'to': '0x5D4e93175ea10AefAbA582503709C2716871bea9',\n",
       " 'transactionHash': HexBytes('0xd5f1a7203b44914b65c4136ddeed86abcd6081e2c797eb576f56038e6dbab8fd'),\n",
       " 'transactionIndex': 0})"
      ]
     },
     "execution_count": 66,
     "metadata": {},
     "output_type": "execute_result"
    }
   ],
   "source": [
    "w3.eth.getTransactionReceipt(resultHex)"
   ]
  },
  {
   "cell_type": "code",
   "execution_count": 49,
   "metadata": {},
   "outputs": [],
   "source": [
    "from getpass import getpass\n",
    "from pathlib import Path"
   ]
  },
  {
   "cell_type": "code",
   "execution_count": 34,
   "metadata": {},
   "outputs": [
    {
     "name": "stdin",
     "output_type": "stream",
     "text": [
      "Enter keystore password for To:  ········\n",
      "Enter keystore password for To:  ········\n"
     ]
    }
   ],
   "source": [
    "with open(\n",
    "    Path(\"/Users/collinpixley/Source/FinTech/Blockchain-Tools/node1/keystore/UTC--2020-07-15T00-55-36.191938000Z--fb8233aaaf88fd9286117b66ac3527aa48d78e04\")\n",
    ") as keyfile:\n",
    "    encrypted_key = keyfile.read()\n",
    "    private_key = w3.eth.account.decrypt(\n",
    "        encrypted_key, getpass(\"Enter keystore password for To: \")\n",
    "    )\n",
    "    account_one = Account.from_key(private_key)\n",
    "\n",
    "with open(\n",
    "    Path(\"/Users/collinpixley/Source/FinTech/Blockchain-Tools/node2/keystore/UTC--2020-07-15T00-58-40.895611000Z--ea21de1ce2a2783f5a21b68ad57904a4e1f14d7d\")\n",
    ") as keyfile:\n",
    "    encrypted_key = keyfile.read()\n",
    "    private_key = w3.eth.account.decrypt(\n",
    "        encrypted_key, getpass(\"Enter keystore password for To: \")\n",
    "    )\n",
    "    account_two = Account.from_key(private_key)"
   ]
  },
  {
   "cell_type": "code",
   "execution_count": 39,
   "metadata": {},
   "outputs": [],
   "source": [
    "result = send_tx(account_one, account_two.address, 1000000000000000000)"
   ]
  },
  {
   "cell_type": "code",
   "execution_count": 56,
   "metadata": {},
   "outputs": [
    {
     "name": "stdout",
     "output_type": "stream",
     "text": [
      "8658980000000000000000\n",
      "3020000000000000000\n"
     ]
    }
   ],
   "source": [
    "print(w3.eth.getBalance(account_one.address))\n",
    "print(w3.eth.getBalance(account_two.address))"
   ]
  },
  {
   "cell_type": "code",
   "execution_count": null,
   "metadata": {},
   "outputs": [],
   "source": []
  }
 ],
 "metadata": {
  "kernelspec": {
   "display_name": "Python (Viz)",
   "language": "python",
   "name": "viz"
  },
  "language_info": {
   "codemirror_mode": {
    "name": "ipython",
    "version": 3
   },
   "file_extension": ".py",
   "mimetype": "text/x-python",
   "name": "python",
   "nbconvert_exporter": "python",
   "pygments_lexer": "ipython3",
   "version": "3.7.7"
  }
 },
 "nbformat": 4,
 "nbformat_minor": 4
}
