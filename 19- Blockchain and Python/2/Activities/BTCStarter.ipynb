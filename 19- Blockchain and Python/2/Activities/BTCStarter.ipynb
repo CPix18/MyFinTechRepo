{
 "cells": [
  {
   "cell_type": "code",
   "execution_count": 11,
   "metadata": {},
   "outputs": [],
   "source": [
    "from bit import wif_to_key"
   ]
  },
  {
   "cell_type": "code",
   "execution_count": 13,
   "metadata": {},
   "outputs": [],
   "source": [
    "key = wif_to_key(\"cSMqs1XyhhaEonQpuj2xr7ocejMPAFcVnsZGfcEmq2q6bUuuV4Xe\")"
   ]
  },
  {
   "cell_type": "code",
   "execution_count": 27,
   "metadata": {},
   "outputs": [
    {
     "data": {
      "text/plain": [
       "'0.01187656'"
      ]
     },
     "execution_count": 27,
     "metadata": {},
     "output_type": "execute_result"
    }
   ],
   "source": [
    "key.get_balance(\"btc\")"
   ]
  },
  {
   "cell_type": "code",
   "execution_count": 28,
   "metadata": {},
   "outputs": [
    {
     "data": {
      "text/plain": [
       "'108.93'"
      ]
     },
     "execution_count": 28,
     "metadata": {},
     "output_type": "execute_result"
    }
   ],
   "source": [
    "key.balance_as(\"usd\")"
   ]
  },
  {
   "cell_type": "code",
   "execution_count": 21,
   "metadata": {},
   "outputs": [],
   "source": [
    "addresses = [\"n39WP6VZyiJdG6kiEbFTsYs92oxpJD19T5\",\n",
    "             \"mhy7BVKpZzm23rRtNrHrrPwhgMLyGHT81F\",\n",
    "             \"mvUyjXK5HE6oMwqbKcBsXxFuqMyYdd3T6P\"\n",
    "            ]"
   ]
  },
  {
   "cell_type": "code",
   "execution_count": 17,
   "metadata": {},
   "outputs": [
    {
     "name": "stdout",
     "output_type": "stream",
     "text": [
      "1840fb8f7aa177aad515a92dc32ac7f3291c93557c110744fac8cad151fab4a9\n"
     ]
    }
   ],
   "source": [
    "outputs = []\n",
    "for address in addresses:\n",
    "    outputs.append((address, 0.0001, \"btc\"))\n",
    "    \n",
    "print(key.send(outputs))"
   ]
  },
  {
   "cell_type": "code",
   "execution_count": 22,
   "metadata": {},
   "outputs": [
    {
     "data": {
      "text/plain": [
       "['1840fb8f7aa177aad515a92dc32ac7f3291c93557c110744fac8cad151fab4a9',\n",
       " '217d2c20240e8381be5176bb6d01402d2a1cdc6380d1170684fbff7f2d311899']"
      ]
     },
     "execution_count": 22,
     "metadata": {},
     "output_type": "execute_result"
    }
   ],
   "source": [
    "key.get_transactions()"
   ]
  },
  {
   "cell_type": "code",
   "execution_count": 26,
   "metadata": {},
   "outputs": [
    {
     "data": {
      "text/plain": [
       "[Unspent(amount=95000, confirmations=1, script='76a914d584be424e44150cd735dad321fbfcda438fc00a88ac', txid='294c0a7d5f34c8876f502300fd8ac78bcfe8faff7b376b03b2b52123b3cc7705', txindex=1, segwit=False),\n",
       " Unspent(amount=42656, confirmations=-1781066, script='76a914d584be424e44150cd735dad321fbfcda438fc00a88ac', txid='1840fb8f7aa177aad515a92dc32ac7f3291c93557c110744fac8cad151fab4a9', txindex=3, segwit=False)]"
      ]
     },
     "execution_count": 26,
     "metadata": {},
     "output_type": "execute_result"
    }
   ],
   "source": [
    "key.get_unspents()"
   ]
  },
  {
   "cell_type": "code",
   "execution_count": null,
   "metadata": {},
   "outputs": [],
   "source": []
  }
 ],
 "metadata": {
  "kernelspec": {
   "display_name": "Python (Viz)",
   "language": "python",
   "name": "viz"
  },
  "language_info": {
   "codemirror_mode": {
    "name": "ipython",
    "version": 3
   },
   "file_extension": ".py",
   "mimetype": "text/x-python",
   "name": "python",
   "nbconvert_exporter": "python",
   "pygments_lexer": "ipython3",
   "version": "3.7.7"
  }
 },
 "nbformat": 4,
 "nbformat_minor": 4
}
