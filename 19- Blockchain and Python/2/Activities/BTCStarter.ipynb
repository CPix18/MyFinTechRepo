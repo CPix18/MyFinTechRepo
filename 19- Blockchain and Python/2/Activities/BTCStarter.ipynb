{
 "cells": [
  {
   "cell_type": "code",
   "execution_count": 1,
   "metadata": {},
   "outputs": [],
   "source": [
    "from bit import wif_to_key"
   ]
  },
  {
   "cell_type": "code",
   "execution_count": 10,
   "metadata": {},
   "outputs": [],
   "source": [
    "key = wif_to_key(\"cSMqs1XyhhaEonQpuj2xr7ocejMPAFcVnsZGfcEmq2q6bUuuV4Xe\")"
   ]
  },
  {
   "cell_type": "code",
   "execution_count": 14,
   "metadata": {},
   "outputs": [
    {
     "data": {
      "text/plain": [
       "'0.655579'"
      ]
     },
     "execution_count": 14,
     "metadata": {},
     "output_type": "execute_result"
    }
   ],
   "source": [
    "key.get_balance(\"btc\")"
   ]
  },
  {
   "cell_type": "code",
   "execution_count": 15,
   "metadata": {},
   "outputs": [
    {
     "data": {
      "text/plain": [
       "'6135.5'"
      ]
     },
     "execution_count": 15,
     "metadata": {},
     "output_type": "execute_result"
    }
   ],
   "source": [
    "key.balance_as(\"usd\")"
   ]
  },
  {
   "cell_type": "code",
   "execution_count": 35,
   "metadata": {},
   "outputs": [],
   "source": [
    "addresses = [\"n39WP6VZyiJdG6kiEbFTsYs92oxpJD19T5\",\n",
    "             \"mhy7BVKpZzm23rRtNrHrrPwhgMLyGHT81F\",\n",
    "             \"mvUyjXK5HE6oMwqbKcBsXxFuqMyYdd3T6P\"\n",
    "            ]"
   ]
  },
  {
   "cell_type": "code",
   "execution_count": 36,
   "metadata": {},
   "outputs": [
    {
     "name": "stdout",
     "output_type": "stream",
     "text": [
      "3fd5bf7e36499d4ec4a65e8274f92273165aa0cfeeef197a331b6bb15cc06fca\n"
     ]
    }
   ],
   "source": [
    "outputs = []\n",
    "for address in addresses:\n",
    "    outputs.append((address, 0.00001, \"btc\"))\n",
    "    \n",
    "print(key.send(outputs))"
   ]
  },
  {
   "cell_type": "code",
   "execution_count": 37,
   "metadata": {},
   "outputs": [
    {
     "data": {
      "text/plain": [
       "['6ddbe63b72beb95e865217680d6466149cffa0855aadb17e474af18058f36994',\n",
       " '023402de61fc8eb756d08a2c6b0807a4014095f6682be5089a0431870e2d8578',\n",
       " 'a0d2d7630cb7635b839a7d44cf49b46096b0f9015226af7237b88af0ad10e8fd',\n",
       " '35567eb792cbc1af4f478fb08602300251a732d21ee69a2d6f2f02fd5cdb5ef7',\n",
       " '294c0a7d5f34c8876f502300fd8ac78bcfe8faff7b376b03b2b52123b3cc7705',\n",
       " '1840fb8f7aa177aad515a92dc32ac7f3291c93557c110744fac8cad151fab4a9',\n",
       " '217d2c20240e8381be5176bb6d01402d2a1cdc6380d1170684fbff7f2d311899']"
      ]
     },
     "execution_count": 37,
     "metadata": {},
     "output_type": "execute_result"
    }
   ],
   "source": [
    "key.get_transactions()"
   ]
  },
  {
   "cell_type": "code",
   "execution_count": 13,
   "metadata": {},
   "outputs": [
    {
     "data": {
      "text/plain": [
       "[Unspent(amount=62152352, confirmations=-1781171, script='76a914d584be424e44150cd735dad321fbfcda438fc00a88ac', txid='d4553361d24269434dd0195719ccbd3e32858bdb753dddaa41a16e0cb9be6feb', txindex=15, segwit=False),\n",
       " Unspent(amount=95000, confirmations=-1781094, script='76a914d584be424e44150cd735dad321fbfcda438fc00a88ac', txid='00b2147982826d630b551dee8c59993761b4668c367185e1c06a376840eea09f', txindex=1, segwit=False),\n",
       " Unspent(amount=2215548, confirmations=-1781076, script='76a914d584be424e44150cd735dad321fbfcda438fc00a88ac', txid='3fd5bf7e36499d4ec4a65e8274f92273165aa0cfeeef197a331b6bb15cc06fca', txindex=3, segwit=False)]"
      ]
     },
     "execution_count": 13,
     "metadata": {},
     "output_type": "execute_result"
    }
   ],
   "source": [
    "key.get_unspents()"
   ]
  },
  {
   "cell_type": "code",
   "execution_count": null,
   "metadata": {},
   "outputs": [],
   "source": []
  }
 ],
 "metadata": {
  "kernelspec": {
   "display_name": "Python (Viz)",
   "language": "python",
   "name": "viz"
  },
  "language_info": {
   "codemirror_mode": {
    "name": "ipython",
    "version": 3
   },
   "file_extension": ".py",
   "mimetype": "text/x-python",
   "name": "python",
   "nbconvert_exporter": "python",
   "pygments_lexer": "ipython3",
   "version": "3.7.7"
  }
 },
 "nbformat": 4,
 "nbformat_minor": 4
}
