{
 "cells": [
  {
   "cell_type": "code",
   "execution_count": 21,
   "metadata": {},
   "outputs": [],
   "source": [
    "from bit import wif_to_key"
   ]
  },
  {
   "cell_type": "code",
   "execution_count": 22,
   "metadata": {},
   "outputs": [],
   "source": [
    "key = wif_to_key(\"cSMqs1XyhhaEonQpuj2xr7ocejMPAFcVnsZGfcEmq2q6bUuuV4Xe\")"
   ]
  },
  {
   "cell_type": "code",
   "execution_count": 23,
   "metadata": {},
   "outputs": [
    {
     "data": {
      "text/plain": [
       "'0.53763148'"
      ]
     },
     "execution_count": 23,
     "metadata": {},
     "output_type": "execute_result"
    }
   ],
   "source": [
    "key.get_balance(\"btc\")"
   ]
  },
  {
   "cell_type": "code",
   "execution_count": 15,
   "metadata": {},
   "outputs": [
    {
     "data": {
      "text/plain": [
       "'5936.84'"
      ]
     },
     "execution_count": 15,
     "metadata": {},
     "output_type": "execute_result"
    }
   ],
   "source": [
    "key.balance_as(\"usd\")"
   ]
  },
  {
   "cell_type": "code",
   "execution_count": 16,
   "metadata": {},
   "outputs": [],
   "source": [
    "addresses = [\"mrGHsRUZadVpZzWo99bQtjqLytzuhCn2QV\",\n",
    "             \"moSuz6znXGLS5GfQ5YqRd94yPC2vtzuksy\",\n",
    "             \"mqMNUm87HgKhZKntakdLUNjRAocP6oQX4d\",\n",
    "             \"muNDTCyaPryoXYzFVn5xQubBLzip7dKAsF\",\n",
    "             \"mnFs7JGXrAHEGeWxTMQBFYWCVzYwXKi8KJ\",\n",
    "             \"mg1BHFXSVqmgXAtHFZ8YMAueC3xtYAnGKD\"\n",
    "            ]"
   ]
  },
  {
   "cell_type": "code",
   "execution_count": 17,
   "metadata": {},
   "outputs": [
    {
     "name": "stdout",
     "output_type": "stream",
     "text": [
      "39341d9e4b5b8317fe5795664f78acbd4fbc032274d6b0f5c5a9613419d70352\n"
     ]
    }
   ],
   "source": [
    "outputs = []\n",
    "for address in addresses:\n",
    "    outputs.append((address, 0.01, \"btc\"))\n",
    "    \n",
    "print(key.send(outputs))"
   ]
  },
  {
   "cell_type": "code",
   "execution_count": 18,
   "metadata": {},
   "outputs": [
    {
     "data": {
      "text/plain": [
       "['81a52bf3dd29040bb5a20c44ab27bcf29d7e6229b0ca576db92b79375f14509d',\n",
       " '8e0de74e467eeafc6927758de6e15c1fca632f75ed2e3754fc3fed7ecae21acc',\n",
       " '681ad70014038d2d93a584eee04740d136d2e2adb8ae11581b185b96ce23f907',\n",
       " 'd4553361d24269434dd0195719ccbd3e32858bdb753dddaa41a16e0cb9be6feb',\n",
       " '00b2147982826d630b551dee8c59993761b4668c367185e1c06a376840eea09f',\n",
       " '3fd5bf7e36499d4ec4a65e8274f92273165aa0cfeeef197a331b6bb15cc06fca',\n",
       " '6ddbe63b72beb95e865217680d6466149cffa0855aadb17e474af18058f36994',\n",
       " '023402de61fc8eb756d08a2c6b0807a4014095f6682be5089a0431870e2d8578',\n",
       " 'a0d2d7630cb7635b839a7d44cf49b46096b0f9015226af7237b88af0ad10e8fd',\n",
       " '35567eb792cbc1af4f478fb08602300251a732d21ee69a2d6f2f02fd5cdb5ef7',\n",
       " '294c0a7d5f34c8876f502300fd8ac78bcfe8faff7b376b03b2b52123b3cc7705',\n",
       " '1840fb8f7aa177aad515a92dc32ac7f3291c93557c110744fac8cad151fab4a9',\n",
       " '217d2c20240e8381be5176bb6d01402d2a1cdc6380d1170684fbff7f2d311899']"
      ]
     },
     "execution_count": 18,
     "metadata": {},
     "output_type": "execute_result"
    }
   ],
   "source": [
    "key.get_transactions()"
   ]
  },
  {
   "cell_type": "code",
   "execution_count": 19,
   "metadata": {},
   "outputs": [
    {
     "data": {
      "text/plain": [
       "[Unspent(amount=60051196, confirmations=1, script='76a914d584be424e44150cd735dad321fbfcda438fc00a88ac', txid='81a52bf3dd29040bb5a20c44ab27bcf29d7e6229b0ca576db92b79375f14509d', txindex=6, segwit=False)]"
      ]
     },
     "execution_count": 19,
     "metadata": {},
     "output_type": "execute_result"
    }
   ],
   "source": [
    "key.get_unspents()"
   ]
  },
  {
   "cell_type": "code",
   "execution_count": null,
   "metadata": {},
   "outputs": [],
   "source": []
  }
 ],
 "metadata": {
  "kernelspec": {
   "display_name": "Python (Viz)",
   "language": "python",
   "name": "viz"
  },
  "language_info": {
   "codemirror_mode": {
    "name": "ipython",
    "version": 3
   },
   "file_extension": ".py",
   "mimetype": "text/x-python",
   "name": "python",
   "nbconvert_exporter": "python",
   "pygments_lexer": "ipython3",
   "version": "3.7.7"
  }
 },
 "nbformat": 4,
 "nbformat_minor": 4
}
