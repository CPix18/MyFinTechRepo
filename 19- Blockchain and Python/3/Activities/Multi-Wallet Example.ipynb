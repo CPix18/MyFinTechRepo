{
 "cells": [
  {
   "cell_type": "code",
   "execution_count": null,
   "metadata": {},
   "outputs": [],
   "source": [
    "import subprocess\n",
    "import json"
   ]
  },
  {
   "cell_type": "code",
   "execution_count": null,
   "metadata": {},
   "outputs": [],
   "source": [
    "php = 'php.exe ./hd-wallet-derive/hd-wallet-derive.php'\n",
    "mnem = \"silver what pig slice hint goose chapter clean shove brand dismiss laptop\""
   ]
  },
  {
   "cell_type": "code",
   "execution_count": null,
   "metadata": {},
   "outputs": [],
   "source": [
    "def getKeys(cmd): \n",
    "    p = subprocess.Popen(cmd, \n",
    "        stdout=subprocess.PIPE, shell=False) \n",
    "    (output, err) = p.communicate()\n",
    "    p_status = p.wait()\n",
    "    keys = json.loads(output)\n",
    "    return keys"
   ]
  },
  {
   "cell_type": "code",
   "execution_count": null,
   "metadata": {},
   "outputs": [],
   "source": [
    "results = []\n",
    "coins = ['BTC-test', 'ETH']\n",
    "for coin in coins:\n",
    "    cmd = f'{php} -g --mnemonic=\"{mnem}\" --cols=path,address,privkey,pubkey --coin={coin} --format=json'\n",
    "    keys = getKeys(cmd)\n",
    "    for key in keys:\n",
    "        results.append({\"Coin\": coin, \"Address\": key[\"address\"], \"PrivKey\": key[\"privkey\"], \"PubKey\": key[\"pubkey\"]})"
   ]
  },
  {
   "cell_type": "code",
   "execution_count": null,
   "metadata": {
    "tags": []
   },
   "outputs": [],
   "source": [
    "print(results)"
   ]
  },
  {
   "cell_type": "code",
   "execution_count": null,
   "metadata": {},
   "outputs": [],
   "source": [
    "import pandas as pd"
   ]
  },
  {
   "cell_type": "code",
   "execution_count": null,
   "metadata": {},
   "outputs": [],
   "source": [
    "df = pd.DataFrame(results)"
   ]
  },
  {
   "cell_type": "code",
   "execution_count": null,
   "metadata": {},
   "outputs": [],
   "source": [
    "df"
   ]
  },
  {
   "cell_type": "code",
   "execution_count": null,
   "metadata": {},
   "outputs": [],
   "source": [
    "from bit import wif_to_key\n",
    "from web3 import Web3\n",
    "from web3.middleware import geth_poa_middleware\n",
    "from eth_account import Account\n",
    "w3 = Web3(Web3.HTTPProvider(\"http://127.0.0.1:8545\"))"
   ]
  },
  {
   "cell_type": "code",
   "execution_count": null,
   "metadata": {
    "tags": []
   },
   "outputs": [],
   "source": [
    "def getbal(row):\n",
    "    privKey = row[\"PrivKey\"]\n",
    "    address = row[\"Address\"]\n",
    "    coin = row[\"Coin\"]\n",
    "    print(coin, address)\n",
    "    if coin == 'BTC-test':\n",
    "        key = wif_to_key(privKey)\n",
    "        bal = key.get_balance('btc')\n",
    "    else:\n",
    "        bal = w3.eth.getBalance(address)\n",
    "    return bal\n",
    "    \n",
    "df[\"bal\"] = df.apply(getbal, axis=1)"
   ]
  },
  {
   "cell_type": "code",
   "execution_count": null,
   "metadata": {},
   "outputs": [],
   "source": [
    "df2 = df[['Coin', 'Address', 'bal']]\n",
    "df2"
   ]
  },
  {
   "cell_type": "code",
   "execution_count": null,
   "metadata": {},
   "outputs": [],
   "source": []
  }
 ],
 "metadata": {
  "kernelspec": {
   "display_name": "Python (Viz)",
   "language": "python",
   "name": "viz"
  },
  "language_info": {
   "codemirror_mode": {
    "name": "ipython",
    "version": 3
   },
   "file_extension": ".py",
   "mimetype": "text/x-python",
   "name": "python",
   "nbconvert_exporter": "python",
   "pygments_lexer": "ipython3",
   "version": "3.7.7"
  }
 },
 "nbformat": 4,
 "nbformat_minor": 4
}
