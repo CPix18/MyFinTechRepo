{
 "cells": [
  {
   "cell_type": "code",
   "execution_count": 1,
   "metadata": {},
   "outputs": [],
   "source": [
    "import subprocess \n",
    "import json"
   ]
  },
  {
   "cell_type": "code",
   "execution_count": 22,
   "metadata": {},
   "outputs": [],
   "source": [
    "php = 'php ./hd-wallet-derive/hd-wallet-derive.php'\n",
    "mnem= ''\n",
    "coin = 'BTC-test'\n",
    "format1 = 'json'\n",
    "cmd = f'{php} -g --mnemonic=\"{mnem}\" --cols=path,address,privkey,pubkey --coin={coin} --format={format1}'"
   ]
  },
  {
   "cell_type": "code",
   "execution_count": 23,
   "metadata": {},
   "outputs": [],
   "source": [
    "p = subprocess.Popen(cmd, stdout=subprocess.PIPE, shell=True)\n",
    "(output, err) = p.communicate()\n",
    "p_status = p.wait()"
   ]
  },
  {
   "cell_type": "code",
   "execution_count": 49,
   "metadata": {
    "tags": []
   },
   "outputs": [
    {
     "name": "stdout",
     "output_type": "stream",
     "text": [
      "b'\\n[{\"path\":\"m\\\\/44\\'\\\\/1\\'\\\\/0\\'\\\\/0\\\\/0\",\"address\":\"mzywF5C5pcD3dJBXHSsePjZqdNLYecaV2n\",\"privkey\":\"cSMqs1XyhhaEonQpuj2xr7ocejMPAFcVnsZGfcEmq2q6bUuuV4Xe\",\"pubkey\":\"037159c6d63105a9e371e2d25465e0dea39d415b0ad73bc0a122afb987778f11f8\"},{\"path\":\"m\\\\/44\\'\\\\/1\\'\\\\/0\\'\\\\/0\\\\/1\",\"address\":\"mp5o9RvaiV3W3yMDg1HBSzhRuwG9HKoG2U\",\"privkey\":\"cQmbzzU4herEG4sMD7AdQQVqzt5HtrDLWYch1PMonuUTvtFsJJtA\",\"pubkey\":\"0352e523fbb0f86218d3c6b3ce5d4eb7d96069186367a2b8aee1499b7e84780ee3\"},{\"path\":\"m\\\\/44\\'\\\\/1\\'\\\\/0\\'\\\\/0\\\\/2\",\"address\":\"mgDKV2hCp1eQmbtTZnFSR6Zanudv7ts2JC\",\"privkey\":\"cTMmhYPZF9iEhXMRNUWhpHKjyUkTrAFR1doLZ3z95dfoUR1nrLHc\",\"pubkey\":\"03f464486ea02f27e384e1f696ad677e5f22603ce9af796c37c61d40093ea5883e\"},{\"path\":\"m\\\\/44\\'\\\\/1\\'\\\\/0\\'\\\\/0\\\\/3\",\"address\":\"mnu7ERZFm3qycfPqNPKXBgUPyE2XGv4A7M\",\"privkey\":\"cRRTeWT6dL96X6zegGWbkon2UjoYz3XhKYh95vFWgH9sPM9uFhvS\",\"pubkey\":\"03feb685ae1dbd6932f9f868feb7f573c8bdf1c3192f9adebefd4df133f1a51e52\"},{\"path\":\"m\\\\/44\\'\\\\/1\\'\\\\/0\\'\\\\/0\\\\/4\",\"address\":\"muNDTCyaPryoXYzFVn5xQubBLzip7dKAsF\",\"privkey\":\"cMgW9BYwBtwBkwuZ8zUj6hvjSUoWMzNNTpJapkYQ7EaTysdd6rL5\",\"pubkey\":\"03f41f11ed8f69cf8392b0fdb5b228a79d90694169d4152ad719c789102649b4e8\"},{\"path\":\"m\\\\/44\\'\\\\/1\\'\\\\/0\\'\\\\/0\\\\/5\",\"address\":\"mnFs7JGXrAHEGeWxTMQBFYWCVzYwXKi8KJ\",\"privkey\":\"cNn9qULzY9CNEipLW8TE9neX6jkS9Yog8JyvHbXJLxcibxZegAK2\",\"pubkey\":\"03996cfc86e2c083d128723525d7845bec5a77b02d2e57dcde4f7871a402c45a54\"},{\"path\":\"m\\\\/44\\'\\\\/1\\'\\\\/0\\'\\\\/0\\\\/6\",\"address\":\"mg1BHFXSVqmgXAtHFZ8YMAueC3xtYAnGKD\",\"privkey\":\"cMc3XMTYCUycj7w14sU7PMtJ2iPrzWe49HhHGpHg7mNZUAaykbRm\",\"pubkey\":\"02590c15ee533d123050b0b90520f0b129c004f090740fe9edb06792a6bff66adb\"},{\"path\":\"m\\\\/44\\'\\\\/1\\'\\\\/0\\'\\\\/0\\\\/7\",\"address\":\"mrGHsRUZadVpZzWo99bQtjqLytzuhCn2QV\",\"privkey\":\"cPzKpCR6Q41dqYTmVznteHMfrx8pxk3tR88eVV5v2j5dG1hGRnGb\",\"pubkey\":\"03b525e59eb65eb2a965b3cbc06511b6abad08e2127eaa4a2341489b0c4a13251a\"},{\"path\":\"m\\\\/44\\'\\\\/1\\'\\\\/0\\'\\\\/0\\\\/8\",\"address\":\"moSuz6znXGLS5GfQ5YqRd94yPC2vtzuksy\",\"privkey\":\"cR3NCgCd6i7ek7YekcVCgx5NkfwawuU2UYbhzcZ8br67XbzL7ptA\",\"pubkey\":\"02583df51abfcb5f3cb2c1e2046b635bff4cb0e7b287c402ed3b02083ebcceeca4\"},{\"path\":\"m\\\\/44\\'\\\\/1\\'\\\\/0\\'\\\\/0\\\\/9\",\"address\":\"mqMNUm87HgKhZKntakdLUNjRAocP6oQX4d\",\"privkey\":\"cVi3SHjZTPwn1wKncTZi6YwnvJ9UeaoUSBa9Uh8mUeD7qY5mSeBm\",\"pubkey\":\"02d620324bb1f245457cc459a1037dacc7a500c1a3b45c0af5888ba9717979d355\"}]'\n"
     ]
    }
   ],
   "source": [
    "print(output)"
   ]
  },
  {
   "cell_type": "code",
   "execution_count": 50,
   "metadata": {},
   "outputs": [
    {
     "name": "stdout",
     "output_type": "stream",
     "text": [
      "mzywF5C5pcD3dJBXHSsePjZqdNLYecaV2n\n",
      "cSMqs1XyhhaEonQpuj2xr7ocejMPAFcVnsZGfcEmq2q6bUuuV4Xe\n"
     ]
    }
   ],
   "source": [
    "keys = json.loads(output)\n",
    "address = keys[0][\"address\"]\n",
    "pkey = keys[0][\"privkey\"]\n",
    "print(address)\n",
    "print(pkey)"
   ]
  },
  {
   "cell_type": "code",
   "execution_count": 46,
   "metadata": {},
   "outputs": [],
   "source": [
    "from bit import wif_to_key"
   ]
  },
  {
   "cell_type": "code",
   "execution_count": 52,
   "metadata": {},
   "outputs": [],
   "source": [
    "key = wif_to_key(\"\")"
   ]
  },
  {
   "cell_type": "code",
   "execution_count": 53,
   "metadata": {},
   "outputs": [
    {
     "data": {
      "text/plain": [
       "'0.655579'"
      ]
     },
     "execution_count": 53,
     "metadata": {},
     "output_type": "execute_result"
    }
   ],
   "source": [
    "key.get_balance(\"btc\")"
   ]
  },
  {
   "cell_type": "code",
   "execution_count": null,
   "metadata": {},
   "outputs": [],
   "source": []
  }
 ],
 "metadata": {
  "kernelspec": {
   "display_name": "Python (Viz)",
   "language": "python",
   "name": "viz"
  },
  "language_info": {
   "codemirror_mode": {
    "name": "ipython",
    "version": 3
   },
   "file_extension": ".py",
   "mimetype": "text/x-python",
   "name": "python",
   "nbconvert_exporter": "python",
   "pygments_lexer": "ipython3",
   "version": "3.7.7"
  }
 },
 "nbformat": 4,
 "nbformat_minor": 4
}
