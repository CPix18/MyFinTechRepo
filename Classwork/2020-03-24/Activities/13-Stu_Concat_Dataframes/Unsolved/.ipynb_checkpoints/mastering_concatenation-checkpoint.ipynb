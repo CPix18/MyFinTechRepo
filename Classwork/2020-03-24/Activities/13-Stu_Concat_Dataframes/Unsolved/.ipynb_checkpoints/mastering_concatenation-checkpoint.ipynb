{
 "cells": [
  {
   "cell_type": "markdown",
   "metadata": {},
   "source": [
    "# Mastering Concatenation!"
   ]
  },
  {
   "cell_type": "markdown",
   "metadata": {},
   "source": [
    "Two county organizations that you are a part of, Financial Leaders of America and Investors Leadership Council, have recently joined forces. Help the treasurer out by consolidating the dues and member data."
   ]
  },
  {
   "cell_type": "code",
   "execution_count": 6,
   "metadata": {},
   "outputs": [],
   "source": [
    "import pandas as pd\n",
    "from pathlib import Path"
   ]
  },
  {
   "cell_type": "markdown",
   "metadata": {},
   "source": [
    "### Read in data"
   ]
  },
  {
   "cell_type": "code",
   "execution_count": 8,
   "metadata": {},
   "outputs": [],
   "source": [
    "fin_leaders_america_path = Path('../Resources/fin_leaders_america.csv')\n",
    "investors_leadership_path = Path('../Resources/invstrs_leadership.csv')\n",
    "fin_leaders_mem_path = Path('../Resources/fin_leaders_members.csv')\n",
    "investors_leadership_mem_path = Path('../Resources/invstrs_leadership_members.csv')\n",
    "\n",
    "fin_leaders_dues = pd.read_csv(fin_leaders_america_path)\n",
    "investors_leadership_dues = pd.read_csv(investors_leadership_path)\n",
    "fin_leaders_mbr_status = pd.read_csv(fin_leaders_mem_path)\n",
    "investors_leadership_mbr_status = pd.read_csv(investors_leadership_mem_path)"
   ]
  },
  {
   "cell_type": "markdown",
   "metadata": {},
   "source": [
    "### Concat dues data using `rows` axis and `inner` join"
   ]
  },
  {
   "cell_type": "code",
   "execution_count": 9,
   "metadata": {},
   "outputs": [
    {
     "name": "stdout",
     "output_type": "stream",
     "text": [
      "          MemberName  DuesOwed  DuesPaid\n",
      "0      Warren Buffet         0      2500\n",
      "1       Janet Yellen       100      2400\n",
      "2    Abigail Johnson         0      2500\n",
      "3         Larry Fink      2500         0\n",
      "0      Warren Buffet         0      2500\n",
      "1       Janet Yellen       100      2400\n",
      "2    Abigail Johnson         0      2500\n",
      "3         Larry Fink      2500         0\n",
      "4       Mario Draghi      2500         0\n",
      "5  Michael Bloomberg      2500         0\n",
      "6          Ray Dalio         0      2500\n"
     ]
    }
   ],
   "source": [
    "combined_dues = pd.concat([fin_leaders_dues,investors_leadership_dues], axis = \"rows\", join = \"inner\")\n",
    "print(combined_dues)"
   ]
  },
  {
   "cell_type": "markdown",
   "metadata": {},
   "source": [
    "### Concat member data using `rows` axis and `inner` join"
   ]
  },
  {
   "cell_type": "code",
   "execution_count": 10,
   "metadata": {},
   "outputs": [
    {
     "name": "stdout",
     "output_type": "stream",
     "text": [
      "          MemberName MembershipStatus\n",
      "0      Warren Buffet    Good Standing\n",
      "1       Janet Yellen    Good Standing\n",
      "2    Abigail Johnson    Good Standing\n",
      "3         Larry Fink       Delinquent\n",
      "0      Warren Buffet    Good Standing\n",
      "1       Janet Yellen    Good Standing\n",
      "2    Abigail Johnson    Good Standing\n",
      "3         Larry Fink       Delinquent\n",
      "4       Mario Draghi       Delinquent\n",
      "5  Michael Bloomberg       Delinquent\n",
      "6          Ray Dalio    Good Standing\n"
     ]
    }
   ],
   "source": [
    "member_status = pd.concat([fin_leaders_mbr_status,investors_leadership_mbr_status], axis = \"rows\", join = \"inner\")\n",
    "print(member_status)"
   ]
  },
  {
   "cell_type": "markdown",
   "metadata": {},
   "source": [
    "### Concat dues and member data using `columns` axis and `inner` join"
   ]
  },
  {
   "cell_type": "code",
   "execution_count": 13,
   "metadata": {},
   "outputs": [
    {
     "name": "stdout",
     "output_type": "stream",
     "text": [
      "          MemberName  DuesOwed  DuesPaid         MemberName MembershipStatus\n",
      "0      Warren Buffet         0      2500      Warren Buffet    Good Standing\n",
      "1       Janet Yellen       100      2400       Janet Yellen    Good Standing\n",
      "2    Abigail Johnson         0      2500    Abigail Johnson    Good Standing\n",
      "3         Larry Fink      2500         0         Larry Fink       Delinquent\n",
      "0      Warren Buffet         0      2500      Warren Buffet    Good Standing\n",
      "1       Janet Yellen       100      2400       Janet Yellen    Good Standing\n",
      "2    Abigail Johnson         0      2500    Abigail Johnson    Good Standing\n",
      "3         Larry Fink      2500         0         Larry Fink       Delinquent\n",
      "4       Mario Draghi      2500         0       Mario Draghi       Delinquent\n",
      "5  Michael Bloomberg      2500         0  Michael Bloomberg       Delinquent\n",
      "6          Ray Dalio         0      2500          Ray Dalio    Good Standing\n"
     ]
    }
   ],
   "source": [
    "dues_and_status = pd.concat([combined_dues, member_status], axis = \"columns\", join = \"inner\")\n",
    "print(dues_and_status)"
   ]
  },
  {
   "cell_type": "code",
   "execution_count": null,
   "metadata": {},
   "outputs": [],
   "source": []
  }
 ],
 "metadata": {
  "kernelspec": {
   "display_name": "Python 3",
   "language": "python",
   "name": "python3"
  },
  "language_info": {
   "codemirror_mode": {
    "name": "ipython",
    "version": 3
   },
   "file_extension": ".py",
   "mimetype": "text/x-python",
   "name": "python",
   "nbconvert_exporter": "python",
   "pygments_lexer": "ipython3",
   "version": "3.7.6"
  }
 },
 "nbformat": 4,
 "nbformat_minor": 4
}
