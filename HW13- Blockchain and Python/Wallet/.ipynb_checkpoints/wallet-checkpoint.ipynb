{
 "cells": [
  {
   "cell_type": "code",
   "execution_count": 82,
   "metadata": {},
   "outputs": [],
   "source": [
    "from web3 import Web3\n",
    "from bit import wif_to_key\n",
    "from constants import *\n",
    "import subprocess \n",
    "import json\n",
    "import pandas as pd\n",
    "from web3.middleware import geth_poa_middleware\n",
    "from eth_account import Account\n",
    "w3 = Web3(Web3.HTTPProvider(\"https://mainnet.infura.io/v3/1fa351728e874efcac3aabd55f70a089\"))"
   ]
  },
  {
   "cell_type": "code",
   "execution_count": 83,
   "metadata": {},
   "outputs": [],
   "source": [
    "php = 'php ./hd-wallet-derive/hd-wallet-derive.php'\n",
    "coin = 'BTC-test'\n",
    "format1 = 'json'\n",
    "cmd = f'{php} -g --mnemonic=\"{mnem}\" --cols=path,address,privkey,pubkey --coin={coin} --format={format1}'"
   ]
  },
  {
   "cell_type": "code",
   "execution_count": 84,
   "metadata": {},
   "outputs": [],
   "source": [
    "def getKeys(cmd): \n",
    "    p = subprocess.Popen(cmd, \n",
    "        stdout=subprocess.PIPE, shell=True) \n",
    "    (output, err) = p.communicate()\n",
    "    p_status = p.wait()\n",
    "    keys = json.loads(output)\n",
    "    return keys"
   ]
  },
  {
   "cell_type": "code",
   "execution_count": 85,
   "metadata": {},
   "outputs": [],
   "source": [
    "results = []\n",
    "coins = ['BTC-test', 'ETH']\n",
    "for coin in coins:\n",
    "    keys = getKeys(cmd)\n",
    "    for key in keys:\n",
    "        results.append({\"Coin\": coin, \"Address\": key[\"address\"], \"PrivKey\": key[\"privkey\"], \"PubKey\": key[\"pubkey\"]})"
   ]
  },
  {
   "cell_type": "code",
   "execution_count": 86,
   "metadata": {},
   "outputs": [
    {
     "name": "stdout",
     "output_type": "stream",
     "text": [
      "[{'Coin': 'BTC-test', 'Address': 'mzywF5C5pcD3dJBXHSsePjZqdNLYecaV2n', 'PrivKey': 'cSMqs1XyhhaEonQpuj2xr7ocejMPAFcVnsZGfcEmq2q6bUuuV4Xe', 'PubKey': '037159c6d63105a9e371e2d25465e0dea39d415b0ad73bc0a122afb987778f11f8'}, {'Coin': 'BTC-test', 'Address': 'mp5o9RvaiV3W3yMDg1HBSzhRuwG9HKoG2U', 'PrivKey': 'cQmbzzU4herEG4sMD7AdQQVqzt5HtrDLWYch1PMonuUTvtFsJJtA', 'PubKey': '0352e523fbb0f86218d3c6b3ce5d4eb7d96069186367a2b8aee1499b7e84780ee3'}, {'Coin': 'BTC-test', 'Address': 'mgDKV2hCp1eQmbtTZnFSR6Zanudv7ts2JC', 'PrivKey': 'cTMmhYPZF9iEhXMRNUWhpHKjyUkTrAFR1doLZ3z95dfoUR1nrLHc', 'PubKey': '03f464486ea02f27e384e1f696ad677e5f22603ce9af796c37c61d40093ea5883e'}, {'Coin': 'BTC-test', 'Address': 'mnu7ERZFm3qycfPqNPKXBgUPyE2XGv4A7M', 'PrivKey': 'cRRTeWT6dL96X6zegGWbkon2UjoYz3XhKYh95vFWgH9sPM9uFhvS', 'PubKey': '03feb685ae1dbd6932f9f868feb7f573c8bdf1c3192f9adebefd4df133f1a51e52'}, {'Coin': 'BTC-test', 'Address': 'muNDTCyaPryoXYzFVn5xQubBLzip7dKAsF', 'PrivKey': 'cMgW9BYwBtwBkwuZ8zUj6hvjSUoWMzNNTpJapkYQ7EaTysdd6rL5', 'PubKey': '03f41f11ed8f69cf8392b0fdb5b228a79d90694169d4152ad719c789102649b4e8'}, {'Coin': 'BTC-test', 'Address': 'mnFs7JGXrAHEGeWxTMQBFYWCVzYwXKi8KJ', 'PrivKey': 'cNn9qULzY9CNEipLW8TE9neX6jkS9Yog8JyvHbXJLxcibxZegAK2', 'PubKey': '03996cfc86e2c083d128723525d7845bec5a77b02d2e57dcde4f7871a402c45a54'}, {'Coin': 'BTC-test', 'Address': 'mg1BHFXSVqmgXAtHFZ8YMAueC3xtYAnGKD', 'PrivKey': 'cMc3XMTYCUycj7w14sU7PMtJ2iPrzWe49HhHGpHg7mNZUAaykbRm', 'PubKey': '02590c15ee533d123050b0b90520f0b129c004f090740fe9edb06792a6bff66adb'}, {'Coin': 'BTC-test', 'Address': 'mrGHsRUZadVpZzWo99bQtjqLytzuhCn2QV', 'PrivKey': 'cPzKpCR6Q41dqYTmVznteHMfrx8pxk3tR88eVV5v2j5dG1hGRnGb', 'PubKey': '03b525e59eb65eb2a965b3cbc06511b6abad08e2127eaa4a2341489b0c4a13251a'}, {'Coin': 'BTC-test', 'Address': 'moSuz6znXGLS5GfQ5YqRd94yPC2vtzuksy', 'PrivKey': 'cR3NCgCd6i7ek7YekcVCgx5NkfwawuU2UYbhzcZ8br67XbzL7ptA', 'PubKey': '02583df51abfcb5f3cb2c1e2046b635bff4cb0e7b287c402ed3b02083ebcceeca4'}, {'Coin': 'BTC-test', 'Address': 'mqMNUm87HgKhZKntakdLUNjRAocP6oQX4d', 'PrivKey': 'cVi3SHjZTPwn1wKncTZi6YwnvJ9UeaoUSBa9Uh8mUeD7qY5mSeBm', 'PubKey': '02d620324bb1f245457cc459a1037dacc7a500c1a3b45c0af5888ba9717979d355'}, {'Coin': 'ETH', 'Address': 'mzywF5C5pcD3dJBXHSsePjZqdNLYecaV2n', 'PrivKey': 'cSMqs1XyhhaEonQpuj2xr7ocejMPAFcVnsZGfcEmq2q6bUuuV4Xe', 'PubKey': '037159c6d63105a9e371e2d25465e0dea39d415b0ad73bc0a122afb987778f11f8'}, {'Coin': 'ETH', 'Address': 'mp5o9RvaiV3W3yMDg1HBSzhRuwG9HKoG2U', 'PrivKey': 'cQmbzzU4herEG4sMD7AdQQVqzt5HtrDLWYch1PMonuUTvtFsJJtA', 'PubKey': '0352e523fbb0f86218d3c6b3ce5d4eb7d96069186367a2b8aee1499b7e84780ee3'}, {'Coin': 'ETH', 'Address': 'mgDKV2hCp1eQmbtTZnFSR6Zanudv7ts2JC', 'PrivKey': 'cTMmhYPZF9iEhXMRNUWhpHKjyUkTrAFR1doLZ3z95dfoUR1nrLHc', 'PubKey': '03f464486ea02f27e384e1f696ad677e5f22603ce9af796c37c61d40093ea5883e'}, {'Coin': 'ETH', 'Address': 'mnu7ERZFm3qycfPqNPKXBgUPyE2XGv4A7M', 'PrivKey': 'cRRTeWT6dL96X6zegGWbkon2UjoYz3XhKYh95vFWgH9sPM9uFhvS', 'PubKey': '03feb685ae1dbd6932f9f868feb7f573c8bdf1c3192f9adebefd4df133f1a51e52'}, {'Coin': 'ETH', 'Address': 'muNDTCyaPryoXYzFVn5xQubBLzip7dKAsF', 'PrivKey': 'cMgW9BYwBtwBkwuZ8zUj6hvjSUoWMzNNTpJapkYQ7EaTysdd6rL5', 'PubKey': '03f41f11ed8f69cf8392b0fdb5b228a79d90694169d4152ad719c789102649b4e8'}, {'Coin': 'ETH', 'Address': 'mnFs7JGXrAHEGeWxTMQBFYWCVzYwXKi8KJ', 'PrivKey': 'cNn9qULzY9CNEipLW8TE9neX6jkS9Yog8JyvHbXJLxcibxZegAK2', 'PubKey': '03996cfc86e2c083d128723525d7845bec5a77b02d2e57dcde4f7871a402c45a54'}, {'Coin': 'ETH', 'Address': 'mg1BHFXSVqmgXAtHFZ8YMAueC3xtYAnGKD', 'PrivKey': 'cMc3XMTYCUycj7w14sU7PMtJ2iPrzWe49HhHGpHg7mNZUAaykbRm', 'PubKey': '02590c15ee533d123050b0b90520f0b129c004f090740fe9edb06792a6bff66adb'}, {'Coin': 'ETH', 'Address': 'mrGHsRUZadVpZzWo99bQtjqLytzuhCn2QV', 'PrivKey': 'cPzKpCR6Q41dqYTmVznteHMfrx8pxk3tR88eVV5v2j5dG1hGRnGb', 'PubKey': '03b525e59eb65eb2a965b3cbc06511b6abad08e2127eaa4a2341489b0c4a13251a'}, {'Coin': 'ETH', 'Address': 'moSuz6znXGLS5GfQ5YqRd94yPC2vtzuksy', 'PrivKey': 'cR3NCgCd6i7ek7YekcVCgx5NkfwawuU2UYbhzcZ8br67XbzL7ptA', 'PubKey': '02583df51abfcb5f3cb2c1e2046b635bff4cb0e7b287c402ed3b02083ebcceeca4'}, {'Coin': 'ETH', 'Address': 'mqMNUm87HgKhZKntakdLUNjRAocP6oQX4d', 'PrivKey': 'cVi3SHjZTPwn1wKncTZi6YwnvJ9UeaoUSBa9Uh8mUeD7qY5mSeBm', 'PubKey': '02d620324bb1f245457cc459a1037dacc7a500c1a3b45c0af5888ba9717979d355'}]\n"
     ]
    }
   ],
   "source": [
    "print(results)"
   ]
  },
  {
   "cell_type": "code",
   "execution_count": 87,
   "metadata": {},
   "outputs": [],
   "source": [
    "df = pd.DataFrame(results)"
   ]
  },
  {
   "cell_type": "code",
   "execution_count": null,
   "metadata": {},
   "outputs": [],
   "source": [
    "def getbal(row):\n",
    "    privKey = row[\"PrivKey\"]\n",
    "    address = row[\"Address\"]\n",
    "    coin = row[\"Coin\"]\n",
    "    print(coin, address)\n",
    "    if coin == 'BTC-test':\n",
    "        key = wif_to_key(privKey)\n",
    "        bal = key.get_balance('btc')\n",
    "    else:\n",
    "        bal = w3.eth.getBalance(address)\n",
    "    return bal\n",
    "    \n",
    "df[\"bal\"] = df.apply(getbal, axis=1)"
   ]
  },
  {
   "cell_type": "code",
   "execution_count": null,
   "metadata": {},
   "outputs": [],
   "source": [
    "df2 = df[['Coin', 'Address', 'bal']]\n",
    "df2"
   ]
  },
  {
   "cell_type": "code",
   "execution_count": null,
   "metadata": {},
   "outputs": [],
   "source": []
  }
 ],
 "metadata": {
  "kernelspec": {
   "display_name": "Python (Viz)",
   "language": "python",
   "name": "viz"
  },
  "language_info": {
   "codemirror_mode": {
    "name": "ipython",
    "version": 3
   },
   "file_extension": ".py",
   "mimetype": "text/x-python",
   "name": "python",
   "nbconvert_exporter": "python",
   "pygments_lexer": "ipython3",
   "version": "3.7.7"
  }
 },
 "nbformat": 4,
 "nbformat_minor": 4
}
