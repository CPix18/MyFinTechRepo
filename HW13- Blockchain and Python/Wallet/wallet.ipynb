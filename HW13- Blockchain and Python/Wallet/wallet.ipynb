{
 "cells": [
  {
   "cell_type": "code",
   "execution_count": 170,
   "metadata": {},
   "outputs": [],
   "source": [
    "from web3 import Web3\n",
    "from bit import wif_to_key\n",
    "from constants import *\n",
    "import subprocess \n",
    "import json\n",
    "import pandas as pd\n",
    "from web3.middleware import geth_poa_middleware\n",
    "from eth_account import Account\n",
    "w3 = Web3(Web3.HTTPProvider(\"http://127.0.0.1:8545\"))"
   ]
  },
  {
   "cell_type": "code",
   "execution_count": 177,
   "metadata": {},
   "outputs": [],
   "source": [
    "php = 'php ./hd-wallet-derive/hd-wallet-derive.php'\n",
    "coin = 'BTC-test'\n",
    "format1 = 'json'"
   ]
  },
  {
   "cell_type": "code",
   "execution_count": 178,
   "metadata": {},
   "outputs": [],
   "source": [
    "def getKeys(cmd): \n",
    "    p = subprocess.Popen(cmd, \n",
    "        stdout=subprocess.PIPE, shell=True) \n",
    "    (output, err) = p.communicate()\n",
    "    p_status = p.wait()\n",
    "    keys = json.loads(output)\n",
    "    return keys"
   ]
  },
  {
   "cell_type": "code",
   "execution_count": 179,
   "metadata": {},
   "outputs": [],
   "source": [
    "results = []\n",
    "coins = ['BTC-test', 'ETH']\n",
    "for coin in coins:\n",
    "    cmd = f'{php} -g --mnemonic=\"{mnem}\" --cols=path,address,privkey,pubkey --coin={coin} --format={format1}'\n",
    "    keys = getKeys(cmd)\n",
    "    for key in keys:\n",
    "        results.append({\"Coin\": coin, \"Address\": key[\"address\"], \"PrivKey\": key[\"privkey\"], \"PubKey\": key[\"pubkey\"]})"
   ]
  },
  {
   "cell_type": "code",
   "execution_count": 180,
   "metadata": {},
   "outputs": [
    {
     "name": "stdout",
     "output_type": "stream",
     "text": [
      "[{'Coin': 'BTC-test', 'Address': 'mzywF5C5pcD3dJBXHSsePjZqdNLYecaV2n', 'PrivKey': 'cSMqs1XyhhaEonQpuj2xr7ocejMPAFcVnsZGfcEmq2q6bUuuV4Xe', 'PubKey': '037159c6d63105a9e371e2d25465e0dea39d415b0ad73bc0a122afb987778f11f8'}, {'Coin': 'BTC-test', 'Address': 'mp5o9RvaiV3W3yMDg1HBSzhRuwG9HKoG2U', 'PrivKey': 'cQmbzzU4herEG4sMD7AdQQVqzt5HtrDLWYch1PMonuUTvtFsJJtA', 'PubKey': '0352e523fbb0f86218d3c6b3ce5d4eb7d96069186367a2b8aee1499b7e84780ee3'}, {'Coin': 'BTC-test', 'Address': 'mgDKV2hCp1eQmbtTZnFSR6Zanudv7ts2JC', 'PrivKey': 'cTMmhYPZF9iEhXMRNUWhpHKjyUkTrAFR1doLZ3z95dfoUR1nrLHc', 'PubKey': '03f464486ea02f27e384e1f696ad677e5f22603ce9af796c37c61d40093ea5883e'}, {'Coin': 'BTC-test', 'Address': 'mnu7ERZFm3qycfPqNPKXBgUPyE2XGv4A7M', 'PrivKey': 'cRRTeWT6dL96X6zegGWbkon2UjoYz3XhKYh95vFWgH9sPM9uFhvS', 'PubKey': '03feb685ae1dbd6932f9f868feb7f573c8bdf1c3192f9adebefd4df133f1a51e52'}, {'Coin': 'BTC-test', 'Address': 'muNDTCyaPryoXYzFVn5xQubBLzip7dKAsF', 'PrivKey': 'cMgW9BYwBtwBkwuZ8zUj6hvjSUoWMzNNTpJapkYQ7EaTysdd6rL5', 'PubKey': '03f41f11ed8f69cf8392b0fdb5b228a79d90694169d4152ad719c789102649b4e8'}, {'Coin': 'BTC-test', 'Address': 'mnFs7JGXrAHEGeWxTMQBFYWCVzYwXKi8KJ', 'PrivKey': 'cNn9qULzY9CNEipLW8TE9neX6jkS9Yog8JyvHbXJLxcibxZegAK2', 'PubKey': '03996cfc86e2c083d128723525d7845bec5a77b02d2e57dcde4f7871a402c45a54'}, {'Coin': 'BTC-test', 'Address': 'mg1BHFXSVqmgXAtHFZ8YMAueC3xtYAnGKD', 'PrivKey': 'cMc3XMTYCUycj7w14sU7PMtJ2iPrzWe49HhHGpHg7mNZUAaykbRm', 'PubKey': '02590c15ee533d123050b0b90520f0b129c004f090740fe9edb06792a6bff66adb'}, {'Coin': 'BTC-test', 'Address': 'mrGHsRUZadVpZzWo99bQtjqLytzuhCn2QV', 'PrivKey': 'cPzKpCR6Q41dqYTmVznteHMfrx8pxk3tR88eVV5v2j5dG1hGRnGb', 'PubKey': '03b525e59eb65eb2a965b3cbc06511b6abad08e2127eaa4a2341489b0c4a13251a'}, {'Coin': 'BTC-test', 'Address': 'moSuz6znXGLS5GfQ5YqRd94yPC2vtzuksy', 'PrivKey': 'cR3NCgCd6i7ek7YekcVCgx5NkfwawuU2UYbhzcZ8br67XbzL7ptA', 'PubKey': '02583df51abfcb5f3cb2c1e2046b635bff4cb0e7b287c402ed3b02083ebcceeca4'}, {'Coin': 'BTC-test', 'Address': 'mqMNUm87HgKhZKntakdLUNjRAocP6oQX4d', 'PrivKey': 'cVi3SHjZTPwn1wKncTZi6YwnvJ9UeaoUSBa9Uh8mUeD7qY5mSeBm', 'PubKey': '02d620324bb1f245457cc459a1037dacc7a500c1a3b45c0af5888ba9717979d355'}, {'Coin': 'ETH', 'Address': '0x739f2bf93D3716eef71FC100563826d7b8F8d56D', 'PrivKey': '0xf8f95e007100e853dd2d7ae914796f27a09f902957b85fe933f4ff579fa68a9c', 'PubKey': '0293ab2ac967960aa93b4eefb773c5238cb2e8a796afd0e5e683bc215818288068'}, {'Coin': 'ETH', 'Address': '0x3a03c422841e56b19aDBF09228729358AD7FBd52', 'PrivKey': '0x494ecf87e2b2355fa5cde144e6ffa8e1962fe471b19a13a95fd3b9d0f29b2811', 'PubKey': '02ee7e83f2aff1036d190818ea10c266e5f75f3a02051cb48c1186ff44bbae4b07'}, {'Coin': 'ETH', 'Address': '0xf7171695A9B0B9E01423420F53419D36479515cf', 'PrivKey': '0x5ec3509e6a40a883a0f7cc5951beae747bbee033b18c08a0415097186b05f285', 'PubKey': '0222f6ef6bc91ab7f73d908923a27e3778c3c0d755ae96e5384e1cd7d6333f5e72'}, {'Coin': 'ETH', 'Address': '0x58666A58cc4d0e91480F5F34e0b217DE169c3534', 'PrivKey': '0x98fcf36802d4f023bb1bf90700d5547e1fcd646a86558cd74e8ad4f1ed626a82', 'PubKey': '032a6942db44f046acd9c7fe984a5c4c2fd7b1c93b141547c0b049412042b480b3'}, {'Coin': 'ETH', 'Address': '0x1666bb83B7BCC26F34E550E216b1b37236f293E6', 'PrivKey': '0x55f70a3a428e0d83a2f9f32e7bb07c5e2fbec07933a669e8a9d4197ab8fdb9c9', 'PubKey': '028782d1e65159522db7cc1b46b84a6aef9ce2e515f098710ae500d157ec17e1f8'}, {'Coin': 'ETH', 'Address': '0x8d97F0696539F85F9A9CC09FA1477473985fe4F3', 'PrivKey': '0x48e94dc072694e2dc6932c770c567fa075a520f8bfc4990047de7e1436d2b1ac', 'PubKey': '0344cfee4d9ca976a762eaead7a839ddaf7569812924e71deb79c4826be1aca878'}, {'Coin': 'ETH', 'Address': '0xB4a7f547275e8780eb038b64958De318Ce765b37', 'PrivKey': '0x2ad173153a9a490cd33b90a4f6c33f905af26c44fbea261d51261ffd57290b55', 'PubKey': '0318141562712b7f9c60a376984640c8bdcb7ad26196c2908a5a34362ae7e6ebc8'}, {'Coin': 'ETH', 'Address': '0x61C1D0C7E69381838d34b89241C6218E21be30Ce', 'PrivKey': '0x2dbc441081dbf778f39df030bb9d3e7862d2dfdb5c7c016a455933627e23d68a', 'PubKey': '03bb20f6c6e2994026e37333883c921d5ecf0dc779a1cebaa98f85e9c53028cc70'}, {'Coin': 'ETH', 'Address': '0xd91AFD42c9Cd857F9b47FFD25579177daa3d35b3', 'PrivKey': '0xd3a03aa59b1389f44312836afadf562bfd8140495508c4fad3e3efa73a67d8bf', 'PubKey': '036de036b13d892ecf51622b9a80f1c2d06cc64b25ff6fcab83519b0e7e1ac7b2b'}, {'Coin': 'ETH', 'Address': '0x279628433EAeD555C010350B29f7436571Aae82E', 'PrivKey': '0x212e4aec184abe85ae8de99b27c46cd9dddf3a368d4c6b0ad588a3b07c2de94e', 'PubKey': '032cbe7c113d83351862ef6ee55a004b22125549e33428a2df72e6b829a3f6c65f'}]\n"
     ]
    }
   ],
   "source": [
    "print(results)"
   ]
  },
  {
   "cell_type": "code",
   "execution_count": 181,
   "metadata": {},
   "outputs": [
    {
     "data": {
      "text/html": [
       "<div>\n",
       "<style scoped>\n",
       "    .dataframe tbody tr th:only-of-type {\n",
       "        vertical-align: middle;\n",
       "    }\n",
       "\n",
       "    .dataframe tbody tr th {\n",
       "        vertical-align: top;\n",
       "    }\n",
       "\n",
       "    .dataframe thead th {\n",
       "        text-align: right;\n",
       "    }\n",
       "</style>\n",
       "<table border=\"1\" class=\"dataframe\">\n",
       "  <thead>\n",
       "    <tr style=\"text-align: right;\">\n",
       "      <th></th>\n",
       "      <th>Address</th>\n",
       "      <th>Coin</th>\n",
       "      <th>PrivKey</th>\n",
       "      <th>PubKey</th>\n",
       "    </tr>\n",
       "  </thead>\n",
       "  <tbody>\n",
       "    <tr>\n",
       "      <th>0</th>\n",
       "      <td>mzywF5C5pcD3dJBXHSsePjZqdNLYecaV2n</td>\n",
       "      <td>BTC-test</td>\n",
       "      <td>cSMqs1XyhhaEonQpuj2xr7ocejMPAFcVnsZGfcEmq2q6bU...</td>\n",
       "      <td>037159c6d63105a9e371e2d25465e0dea39d415b0ad73b...</td>\n",
       "    </tr>\n",
       "    <tr>\n",
       "      <th>1</th>\n",
       "      <td>mp5o9RvaiV3W3yMDg1HBSzhRuwG9HKoG2U</td>\n",
       "      <td>BTC-test</td>\n",
       "      <td>cQmbzzU4herEG4sMD7AdQQVqzt5HtrDLWYch1PMonuUTvt...</td>\n",
       "      <td>0352e523fbb0f86218d3c6b3ce5d4eb7d96069186367a2...</td>\n",
       "    </tr>\n",
       "    <tr>\n",
       "      <th>2</th>\n",
       "      <td>mgDKV2hCp1eQmbtTZnFSR6Zanudv7ts2JC</td>\n",
       "      <td>BTC-test</td>\n",
       "      <td>cTMmhYPZF9iEhXMRNUWhpHKjyUkTrAFR1doLZ3z95dfoUR...</td>\n",
       "      <td>03f464486ea02f27e384e1f696ad677e5f22603ce9af79...</td>\n",
       "    </tr>\n",
       "    <tr>\n",
       "      <th>3</th>\n",
       "      <td>mnu7ERZFm3qycfPqNPKXBgUPyE2XGv4A7M</td>\n",
       "      <td>BTC-test</td>\n",
       "      <td>cRRTeWT6dL96X6zegGWbkon2UjoYz3XhKYh95vFWgH9sPM...</td>\n",
       "      <td>03feb685ae1dbd6932f9f868feb7f573c8bdf1c3192f9a...</td>\n",
       "    </tr>\n",
       "    <tr>\n",
       "      <th>4</th>\n",
       "      <td>muNDTCyaPryoXYzFVn5xQubBLzip7dKAsF</td>\n",
       "      <td>BTC-test</td>\n",
       "      <td>cMgW9BYwBtwBkwuZ8zUj6hvjSUoWMzNNTpJapkYQ7EaTys...</td>\n",
       "      <td>03f41f11ed8f69cf8392b0fdb5b228a79d90694169d415...</td>\n",
       "    </tr>\n",
       "  </tbody>\n",
       "</table>\n",
       "</div>"
      ],
      "text/plain": [
       "                              Address      Coin  \\\n",
       "0  mzywF5C5pcD3dJBXHSsePjZqdNLYecaV2n  BTC-test   \n",
       "1  mp5o9RvaiV3W3yMDg1HBSzhRuwG9HKoG2U  BTC-test   \n",
       "2  mgDKV2hCp1eQmbtTZnFSR6Zanudv7ts2JC  BTC-test   \n",
       "3  mnu7ERZFm3qycfPqNPKXBgUPyE2XGv4A7M  BTC-test   \n",
       "4  muNDTCyaPryoXYzFVn5xQubBLzip7dKAsF  BTC-test   \n",
       "\n",
       "                                             PrivKey  \\\n",
       "0  cSMqs1XyhhaEonQpuj2xr7ocejMPAFcVnsZGfcEmq2q6bU...   \n",
       "1  cQmbzzU4herEG4sMD7AdQQVqzt5HtrDLWYch1PMonuUTvt...   \n",
       "2  cTMmhYPZF9iEhXMRNUWhpHKjyUkTrAFR1doLZ3z95dfoUR...   \n",
       "3  cRRTeWT6dL96X6zegGWbkon2UjoYz3XhKYh95vFWgH9sPM...   \n",
       "4  cMgW9BYwBtwBkwuZ8zUj6hvjSUoWMzNNTpJapkYQ7EaTys...   \n",
       "\n",
       "                                              PubKey  \n",
       "0  037159c6d63105a9e371e2d25465e0dea39d415b0ad73b...  \n",
       "1  0352e523fbb0f86218d3c6b3ce5d4eb7d96069186367a2...  \n",
       "2  03f464486ea02f27e384e1f696ad677e5f22603ce9af79...  \n",
       "3  03feb685ae1dbd6932f9f868feb7f573c8bdf1c3192f9a...  \n",
       "4  03f41f11ed8f69cf8392b0fdb5b228a79d90694169d415...  "
      ]
     },
     "execution_count": 181,
     "metadata": {},
     "output_type": "execute_result"
    }
   ],
   "source": [
    "coinInfo = pd.DataFrame(results)\n",
    "coinInfo.head()"
   ]
  },
  {
   "cell_type": "code",
   "execution_count": 182,
   "metadata": {},
   "outputs": [
    {
     "name": "stdout",
     "output_type": "stream",
     "text": [
      "BTC-test mzywF5C5pcD3dJBXHSsePjZqdNLYecaV2n\n",
      "BTC-test mp5o9RvaiV3W3yMDg1HBSzhRuwG9HKoG2U\n",
      "BTC-test mgDKV2hCp1eQmbtTZnFSR6Zanudv7ts2JC\n",
      "BTC-test mnu7ERZFm3qycfPqNPKXBgUPyE2XGv4A7M\n",
      "BTC-test muNDTCyaPryoXYzFVn5xQubBLzip7dKAsF\n",
      "BTC-test mnFs7JGXrAHEGeWxTMQBFYWCVzYwXKi8KJ\n",
      "BTC-test mg1BHFXSVqmgXAtHFZ8YMAueC3xtYAnGKD\n",
      "BTC-test mrGHsRUZadVpZzWo99bQtjqLytzuhCn2QV\n",
      "BTC-test moSuz6znXGLS5GfQ5YqRd94yPC2vtzuksy\n",
      "BTC-test mqMNUm87HgKhZKntakdLUNjRAocP6oQX4d\n",
      "ETH 0x739f2bf93D3716eef71FC100563826d7b8F8d56D\n",
      "ETH 0x3a03c422841e56b19aDBF09228729358AD7FBd52\n",
      "ETH 0xf7171695A9B0B9E01423420F53419D36479515cf\n",
      "ETH 0x58666A58cc4d0e91480F5F34e0b217DE169c3534\n",
      "ETH 0x1666bb83B7BCC26F34E550E216b1b37236f293E6\n",
      "ETH 0x8d97F0696539F85F9A9CC09FA1477473985fe4F3\n",
      "ETH 0xB4a7f547275e8780eb038b64958De318Ce765b37\n",
      "ETH 0x61C1D0C7E69381838d34b89241C6218E21be30Ce\n",
      "ETH 0xd91AFD42c9Cd857F9b47FFD25579177daa3d35b3\n",
      "ETH 0x279628433EAeD555C010350B29f7436571Aae82E\n"
     ]
    }
   ],
   "source": [
    "def getbal(row):\n",
    "    privKey = row[\"PrivKey\"]\n",
    "    address = row[\"Address\"]\n",
    "    coin = row[\"Coin\"]\n",
    "    print(coin, address)\n",
    "    if coin == 'BTC-test':\n",
    "        key = wif_to_key(privKey)\n",
    "        Balance = key.get_balance('btc')\n",
    "    else:\n",
    "        Balance = w3.eth.getBalance(address)\n",
    "    return Balance\n",
    "    \n",
    "coinInfo[\"Balance\"] = coinInfo.apply(getbal, axis=1)"
   ]
  },
  {
   "cell_type": "code",
   "execution_count": 183,
   "metadata": {},
   "outputs": [
    {
     "data": {
      "text/html": [
       "<div>\n",
       "<style scoped>\n",
       "    .dataframe tbody tr th:only-of-type {\n",
       "        vertical-align: middle;\n",
       "    }\n",
       "\n",
       "    .dataframe tbody tr th {\n",
       "        vertical-align: top;\n",
       "    }\n",
       "\n",
       "    .dataframe thead th {\n",
       "        text-align: right;\n",
       "    }\n",
       "</style>\n",
       "<table border=\"1\" class=\"dataframe\">\n",
       "  <thead>\n",
       "    <tr style=\"text-align: right;\">\n",
       "      <th></th>\n",
       "      <th>Coin</th>\n",
       "      <th>Address</th>\n",
       "      <th>Balance</th>\n",
       "    </tr>\n",
       "  </thead>\n",
       "  <tbody>\n",
       "    <tr>\n",
       "      <th>0</th>\n",
       "      <td>BTC-test</td>\n",
       "      <td>mzywF5C5pcD3dJBXHSsePjZqdNLYecaV2n</td>\n",
       "      <td>0.54008428</td>\n",
       "    </tr>\n",
       "    <tr>\n",
       "      <th>1</th>\n",
       "      <td>BTC-test</td>\n",
       "      <td>mp5o9RvaiV3W3yMDg1HBSzhRuwG9HKoG2U</td>\n",
       "      <td>0.009</td>\n",
       "    </tr>\n",
       "    <tr>\n",
       "      <th>2</th>\n",
       "      <td>BTC-test</td>\n",
       "      <td>mgDKV2hCp1eQmbtTZnFSR6Zanudv7ts2JC</td>\n",
       "      <td>0.009</td>\n",
       "    </tr>\n",
       "    <tr>\n",
       "      <th>3</th>\n",
       "      <td>BTC-test</td>\n",
       "      <td>mnu7ERZFm3qycfPqNPKXBgUPyE2XGv4A7M</td>\n",
       "      <td>0.009</td>\n",
       "    </tr>\n",
       "    <tr>\n",
       "      <th>4</th>\n",
       "      <td>BTC-test</td>\n",
       "      <td>muNDTCyaPryoXYzFVn5xQubBLzip7dKAsF</td>\n",
       "      <td>0.019</td>\n",
       "    </tr>\n",
       "    <tr>\n",
       "      <th>5</th>\n",
       "      <td>BTC-test</td>\n",
       "      <td>mnFs7JGXrAHEGeWxTMQBFYWCVzYwXKi8KJ</td>\n",
       "      <td>0.019</td>\n",
       "    </tr>\n",
       "    <tr>\n",
       "      <th>6</th>\n",
       "      <td>BTC-test</td>\n",
       "      <td>mg1BHFXSVqmgXAtHFZ8YMAueC3xtYAnGKD</td>\n",
       "      <td>0.019</td>\n",
       "    </tr>\n",
       "    <tr>\n",
       "      <th>7</th>\n",
       "      <td>BTC-test</td>\n",
       "      <td>mrGHsRUZadVpZzWo99bQtjqLytzuhCn2QV</td>\n",
       "      <td>0.01</td>\n",
       "    </tr>\n",
       "    <tr>\n",
       "      <th>8</th>\n",
       "      <td>BTC-test</td>\n",
       "      <td>moSuz6znXGLS5GfQ5YqRd94yPC2vtzuksy</td>\n",
       "      <td>0.01</td>\n",
       "    </tr>\n",
       "    <tr>\n",
       "      <th>9</th>\n",
       "      <td>BTC-test</td>\n",
       "      <td>mqMNUm87HgKhZKntakdLUNjRAocP6oQX4d</td>\n",
       "      <td>0.01</td>\n",
       "    </tr>\n",
       "    <tr>\n",
       "      <th>10</th>\n",
       "      <td>ETH</td>\n",
       "      <td>0x739f2bf93D3716eef71FC100563826d7b8F8d56D</td>\n",
       "      <td>95090116340000000000</td>\n",
       "    </tr>\n",
       "    <tr>\n",
       "      <th>11</th>\n",
       "      <td>ETH</td>\n",
       "      <td>0x3a03c422841e56b19aDBF09228729358AD7FBd52</td>\n",
       "      <td>100010000000000000000</td>\n",
       "    </tr>\n",
       "    <tr>\n",
       "      <th>12</th>\n",
       "      <td>ETH</td>\n",
       "      <td>0xf7171695A9B0B9E01423420F53419D36479515cf</td>\n",
       "      <td>100000000000000000000</td>\n",
       "    </tr>\n",
       "    <tr>\n",
       "      <th>13</th>\n",
       "      <td>ETH</td>\n",
       "      <td>0x58666A58cc4d0e91480F5F34e0b217DE169c3534</td>\n",
       "      <td>100000000000000000000</td>\n",
       "    </tr>\n",
       "    <tr>\n",
       "      <th>14</th>\n",
       "      <td>ETH</td>\n",
       "      <td>0x1666bb83B7BCC26F34E550E216b1b37236f293E6</td>\n",
       "      <td>100000000000000000000</td>\n",
       "    </tr>\n",
       "    <tr>\n",
       "      <th>15</th>\n",
       "      <td>ETH</td>\n",
       "      <td>0x8d97F0696539F85F9A9CC09FA1477473985fe4F3</td>\n",
       "      <td>100000000000000000000</td>\n",
       "    </tr>\n",
       "    <tr>\n",
       "      <th>16</th>\n",
       "      <td>ETH</td>\n",
       "      <td>0xB4a7f547275e8780eb038b64958De318Ce765b37</td>\n",
       "      <td>100000000000000000000</td>\n",
       "    </tr>\n",
       "    <tr>\n",
       "      <th>17</th>\n",
       "      <td>ETH</td>\n",
       "      <td>0x61C1D0C7E69381838d34b89241C6218E21be30Ce</td>\n",
       "      <td>100000000000000000000</td>\n",
       "    </tr>\n",
       "    <tr>\n",
       "      <th>18</th>\n",
       "      <td>ETH</td>\n",
       "      <td>0xd91AFD42c9Cd857F9b47FFD25579177daa3d35b3</td>\n",
       "      <td>100000000000000000000</td>\n",
       "    </tr>\n",
       "    <tr>\n",
       "      <th>19</th>\n",
       "      <td>ETH</td>\n",
       "      <td>0x279628433EAeD555C010350B29f7436571Aae82E</td>\n",
       "      <td>100000000000000000000</td>\n",
       "    </tr>\n",
       "  </tbody>\n",
       "</table>\n",
       "</div>"
      ],
      "text/plain": [
       "        Coin                                     Address  \\\n",
       "0   BTC-test          mzywF5C5pcD3dJBXHSsePjZqdNLYecaV2n   \n",
       "1   BTC-test          mp5o9RvaiV3W3yMDg1HBSzhRuwG9HKoG2U   \n",
       "2   BTC-test          mgDKV2hCp1eQmbtTZnFSR6Zanudv7ts2JC   \n",
       "3   BTC-test          mnu7ERZFm3qycfPqNPKXBgUPyE2XGv4A7M   \n",
       "4   BTC-test          muNDTCyaPryoXYzFVn5xQubBLzip7dKAsF   \n",
       "5   BTC-test          mnFs7JGXrAHEGeWxTMQBFYWCVzYwXKi8KJ   \n",
       "6   BTC-test          mg1BHFXSVqmgXAtHFZ8YMAueC3xtYAnGKD   \n",
       "7   BTC-test          mrGHsRUZadVpZzWo99bQtjqLytzuhCn2QV   \n",
       "8   BTC-test          moSuz6znXGLS5GfQ5YqRd94yPC2vtzuksy   \n",
       "9   BTC-test          mqMNUm87HgKhZKntakdLUNjRAocP6oQX4d   \n",
       "10       ETH  0x739f2bf93D3716eef71FC100563826d7b8F8d56D   \n",
       "11       ETH  0x3a03c422841e56b19aDBF09228729358AD7FBd52   \n",
       "12       ETH  0xf7171695A9B0B9E01423420F53419D36479515cf   \n",
       "13       ETH  0x58666A58cc4d0e91480F5F34e0b217DE169c3534   \n",
       "14       ETH  0x1666bb83B7BCC26F34E550E216b1b37236f293E6   \n",
       "15       ETH  0x8d97F0696539F85F9A9CC09FA1477473985fe4F3   \n",
       "16       ETH  0xB4a7f547275e8780eb038b64958De318Ce765b37   \n",
       "17       ETH  0x61C1D0C7E69381838d34b89241C6218E21be30Ce   \n",
       "18       ETH  0xd91AFD42c9Cd857F9b47FFD25579177daa3d35b3   \n",
       "19       ETH  0x279628433EAeD555C010350B29f7436571Aae82E   \n",
       "\n",
       "                  Balance  \n",
       "0              0.54008428  \n",
       "1                   0.009  \n",
       "2                   0.009  \n",
       "3                   0.009  \n",
       "4                   0.019  \n",
       "5                   0.019  \n",
       "6                   0.019  \n",
       "7                    0.01  \n",
       "8                    0.01  \n",
       "9                    0.01  \n",
       "10   95090116340000000000  \n",
       "11  100010000000000000000  \n",
       "12  100000000000000000000  \n",
       "13  100000000000000000000  \n",
       "14  100000000000000000000  \n",
       "15  100000000000000000000  \n",
       "16  100000000000000000000  \n",
       "17  100000000000000000000  \n",
       "18  100000000000000000000  \n",
       "19  100000000000000000000  "
      ]
     },
     "execution_count": 183,
     "metadata": {},
     "output_type": "execute_result"
    }
   ],
   "source": [
    "finalCoin = coinInfo[['Coin', 'Address', 'Balance']]\n",
    "finalCoin"
   ]
  },
  {
   "cell_type": "code",
   "execution_count": 204,
   "metadata": {},
   "outputs": [
    {
     "name": "stdout",
     "output_type": "stream",
     "text": [
      "cSMqs1XyhhaEonQpuj2xr7ocejMPAFcVnsZGfcEmq2q6bUuuV4Xe\n",
      "0xf8f95e007100e853dd2d7ae914796f27a09f902957b85fe933f4ff579fa68a9c\n"
     ]
    }
   ],
   "source": [
    "Bitcoin0PK = results[0]['PrivKey']\n",
    "print(Bitcoin0PK)\n",
    "\n",
    "Ethereum0PK = results[10]['PrivKey']\n",
    "print(Ethereum0PK)"
   ]
  },
  {
   "cell_type": "code",
   "execution_count": 207,
   "metadata": {},
   "outputs": [],
   "source": [
    "key = wif_to_key(Bitcoin0PK)"
   ]
  },
  {
   "cell_type": "code",
   "execution_count": 208,
   "metadata": {},
   "outputs": [
    {
     "data": {
      "text/plain": [
       "'0.54008428'"
      ]
     },
     "execution_count": 208,
     "metadata": {},
     "output_type": "execute_result"
    }
   ],
   "source": [
    "key.get_balance(\"btc\")"
   ]
  },
  {
   "cell_type": "code",
   "execution_count": 209,
   "metadata": {},
   "outputs": [
    {
     "data": {
      "text/plain": [
       "'6020.33'"
      ]
     },
     "execution_count": 209,
     "metadata": {},
     "output_type": "execute_result"
    }
   ],
   "source": [
    "key.get_balance(\"usd\")"
   ]
  },
  {
   "cell_type": "code",
   "execution_count": 210,
   "metadata": {},
   "outputs": [],
   "source": [
    "addresses = [\"mrGHsRUZadVpZzWo99bQtjqLytzuhCn2QV\",\n",
    "             \"moSuz6znXGLS5GfQ5YqRd94yPC2vtzuksy\",\n",
    "             \"mqMNUm87HgKhZKntakdLUNjRAocP6oQX4d\",\n",
    "             \"muNDTCyaPryoXYzFVn5xQubBLzip7dKAsF\",\n",
    "             \"mnFs7JGXrAHEGeWxTMQBFYWCVzYwXKi8KJ\",\n",
    "             \"mg1BHFXSVqmgXAtHFZ8YMAueC3xtYAnGKD\"\n",
    "            ]"
   ]
  },
  {
   "cell_type": "code",
   "execution_count": 211,
   "metadata": {},
   "outputs": [
    {
     "name": "stdout",
     "output_type": "stream",
     "text": [
      "b61c12f982a36d2747851aaac15186336ed70255b5bc78a8649e5faff8bb4bac\n"
     ]
    }
   ],
   "source": [
    "outputs = []\n",
    "for address in addresses:\n",
    "    outputs.append((address, 0.0001, \"btc\"))\n",
    "    \n",
    "print(key.send(outputs))"
   ]
  },
  {
   "cell_type": "code",
   "execution_count": 212,
   "metadata": {},
   "outputs": [
    {
     "data": {
      "text/plain": [
       "['b61c12f982a36d2747851aaac15186336ed70255b5bc78a8649e5faff8bb4bac',\n",
       " '39341d9e4b5b8317fe5795664f78acbd4fbc032274d6b0f5c5a9613419d70352',\n",
       " '81a52bf3dd29040bb5a20c44ab27bcf29d7e6229b0ca576db92b79375f14509d',\n",
       " '8e0de74e467eeafc6927758de6e15c1fca632f75ed2e3754fc3fed7ecae21acc',\n",
       " '681ad70014038d2d93a584eee04740d136d2e2adb8ae11581b185b96ce23f907',\n",
       " 'd4553361d24269434dd0195719ccbd3e32858bdb753dddaa41a16e0cb9be6feb',\n",
       " '00b2147982826d630b551dee8c59993761b4668c367185e1c06a376840eea09f',\n",
       " '3fd5bf7e36499d4ec4a65e8274f92273165aa0cfeeef197a331b6bb15cc06fca',\n",
       " '6ddbe63b72beb95e865217680d6466149cffa0855aadb17e474af18058f36994',\n",
       " '023402de61fc8eb756d08a2c6b0807a4014095f6682be5089a0431870e2d8578',\n",
       " 'a0d2d7630cb7635b839a7d44cf49b46096b0f9015226af7237b88af0ad10e8fd',\n",
       " '35567eb792cbc1af4f478fb08602300251a732d21ee69a2d6f2f02fd5cdb5ef7',\n",
       " '294c0a7d5f34c8876f502300fd8ac78bcfe8faff7b376b03b2b52123b3cc7705',\n",
       " '1840fb8f7aa177aad515a92dc32ac7f3291c93557c110744fac8cad151fab4a9',\n",
       " '217d2c20240e8381be5176bb6d01402d2a1cdc6380d1170684fbff7f2d311899']"
      ]
     },
     "execution_count": 212,
     "metadata": {},
     "output_type": "execute_result"
    }
   ],
   "source": [
    "key.get_transactions()"
   ]
  },
  {
   "cell_type": "code",
   "execution_count": 213,
   "metadata": {},
   "outputs": [
    {
     "data": {
      "text/plain": [
       "[Unspent(amount=53900908, confirmations=1, script='76a914d584be424e44150cd735dad321fbfcda438fc00a88ac', txid='b61c12f982a36d2747851aaac15186336ed70255b5bc78a8649e5faff8bb4bac', txindex=6, segwit=False)]"
      ]
     },
     "execution_count": 213,
     "metadata": {},
     "output_type": "execute_result"
    }
   ],
   "source": [
    "key.get_unspents()"
   ]
  },
  {
   "cell_type": "code",
   "execution_count": 214,
   "metadata": {},
   "outputs": [],
   "source": [
    "account_one = Account.from_key(Ethereum0PK)\n",
    "recipientAddress = \"0x3a03c422841e56b19aDBF09228729358AD7FBd52\""
   ]
  },
  {
   "cell_type": "code",
   "execution_count": null,
   "metadata": {},
   "outputs": [],
   "source": [
    "def priv_key_to_account:\n",
    "    coin = [\"BTC-test\", \"ETH\"]\n",
    "    priv_key = "
   ]
  },
  {
   "cell_type": "code",
   "execution_count": null,
   "metadata": {},
   "outputs": [],
   "source": [
    "def create_tx(account, recipient, amount):\n",
    "    gasEstimate = w3.eth.estimateGas(\n",
    "    {\"from\": account.address, \"to\": recipient, \"value\": amount}\n",
    "    )\n",
    "    tx = {\n",
    "        \"from\": account.address,\n",
    "        \"to\": recipient, \n",
    "        \"value\": amount, \n",
    "        \"gasPrice\": w3.eth.gasPrice, \n",
    "        \"gas\": gasEstimate, \n",
    "        \"nonce\": w3.eth.getTransactionCount(account.address)\n",
    "    }\n",
    "    return tx "
   ]
  },
  {
   "cell_type": "code",
   "execution_count": null,
   "metadata": {},
   "outputs": [],
   "source": [
    "def send_tx(account, recipient, amount):\n",
    "    tx = create_raw_tx(account, recipient, amount)\n",
    "    signed_tx = account.sign_transaction(tx)\n",
    "    result = w3.eth.sendRawTransaction(signed_tx.rawTransaction)\n",
    "    return result.hex()"
   ]
  },
  {
   "cell_type": "code",
   "execution_count": null,
   "metadata": {},
   "outputs": [],
   "source": [
    "ETH_txn = send_tx(account_one, recipientAddress, 1000000000000000000)"
   ]
  },
  {
   "cell_type": "code",
   "execution_count": null,
   "metadata": {},
   "outputs": [],
   "source": [
    "w3.eth.getTransactionReceipt(ETH_txn)"
   ]
  }
 ],
 "metadata": {
  "kernelspec": {
   "display_name": "Python (Viz)",
   "language": "python",
   "name": "viz"
  },
  "language_info": {
   "codemirror_mode": {
    "name": "ipython",
    "version": 3
   },
   "file_extension": ".py",
   "mimetype": "text/x-python",
   "name": "python",
   "nbconvert_exporter": "python",
   "pygments_lexer": "ipython3",
   "version": "3.7.7"
  }
 },
 "nbformat": 4,
 "nbformat_minor": 4
}
