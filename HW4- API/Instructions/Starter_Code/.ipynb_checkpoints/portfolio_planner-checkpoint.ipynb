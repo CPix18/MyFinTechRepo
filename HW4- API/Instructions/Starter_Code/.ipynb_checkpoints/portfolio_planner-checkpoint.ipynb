{
 "cells": [
  {
   "cell_type": "code",
   "execution_count": 39,
   "metadata": {},
   "outputs": [],
   "source": [
    "import numpy as np\n",
    "import pandas as pd\n",
    "from datetime import datetime, timedelta\n",
    "import os\n",
    "import matplotlib.pyplot as plt\n",
    "%matplotlib inline"
   ]
  },
  {
   "cell_type": "code",
   "execution_count": 40,
   "metadata": {},
   "outputs": [],
   "source": [
    "np.random.seed(42)"
   ]
  },
  {
   "cell_type": "markdown",
   "metadata": {},
   "source": [
    "# Portfolio Planner\n",
    "\n",
    "In this activity, you will use the iexfinance api to grab historical data for a 60/40 portfolio using `SPY` to represent the stock portion and `AGG` to represent the bonds."
   ]
  },
  {
   "cell_type": "code",
   "execution_count": 41,
   "metadata": {},
   "outputs": [],
   "source": [
    "import alpaca_trade_api as tradeapi\n",
    "\n",
    "# Set Alpaca API key and secret\n",
    "alpaca_api_key = os.getenv(\"ALPACA_API_KEY\")\n",
    "alpaca_secret_key = os.getenv(\"ALPACA_SECRET_KEY\")\n",
    "# Initialize the API\n",
    "api = tradeapi.REST(alpaca_api_key, alpaca_secret_key, api_version='v2')"
   ]
  },
  {
   "cell_type": "markdown",
   "metadata": {},
   "source": [
    "# Data Collection\n",
    "\n",
    "In this step, you will need to use the IEX api to fetch closing prices for the `SPY` and `AGG` tickers. Save the results as a pandas DataFrame"
   ]
  },
  {
   "cell_type": "code",
   "execution_count": 42,
   "metadata": {},
   "outputs": [
    {
     "data": {
      "text/html": [
       "<div>\n",
       "<style scoped>\n",
       "    .dataframe tbody tr th:only-of-type {\n",
       "        vertical-align: middle;\n",
       "    }\n",
       "\n",
       "    .dataframe tbody tr th {\n",
       "        vertical-align: top;\n",
       "    }\n",
       "\n",
       "    .dataframe thead tr th {\n",
       "        text-align: left;\n",
       "    }\n",
       "</style>\n",
       "<table border=\"1\" class=\"dataframe\">\n",
       "  <thead>\n",
       "    <tr>\n",
       "      <th></th>\n",
       "      <th colspan=\"5\" halign=\"left\">AGG</th>\n",
       "      <th colspan=\"5\" halign=\"left\">SPY</th>\n",
       "    </tr>\n",
       "    <tr>\n",
       "      <th></th>\n",
       "      <th>open</th>\n",
       "      <th>high</th>\n",
       "      <th>low</th>\n",
       "      <th>close</th>\n",
       "      <th>volume</th>\n",
       "      <th>open</th>\n",
       "      <th>high</th>\n",
       "      <th>low</th>\n",
       "      <th>close</th>\n",
       "      <th>volume</th>\n",
       "    </tr>\n",
       "  </thead>\n",
       "  <tbody>\n",
       "    <tr>\n",
       "      <th>2019-11-19 00:00:00-05:00</th>\n",
       "      <td>112.63</td>\n",
       "      <td>112.7600</td>\n",
       "      <td>112.6000</td>\n",
       "      <td>112.7100</td>\n",
       "      <td>2181200</td>\n",
       "      <td>312.68</td>\n",
       "      <td>312.69</td>\n",
       "      <td>311.22</td>\n",
       "      <td>311.91</td>\n",
       "      <td>56892505</td>\n",
       "    </tr>\n",
       "    <tr>\n",
       "      <th>2019-11-20 00:00:00-05:00</th>\n",
       "      <td>112.83</td>\n",
       "      <td>112.9800</td>\n",
       "      <td>112.8050</td>\n",
       "      <td>112.9700</td>\n",
       "      <td>3218845</td>\n",
       "      <td>311.28</td>\n",
       "      <td>311.85</td>\n",
       "      <td>309.06</td>\n",
       "      <td>310.79</td>\n",
       "      <td>62833225</td>\n",
       "    </tr>\n",
       "    <tr>\n",
       "      <th>2019-11-21 00:00:00-05:00</th>\n",
       "      <td>112.80</td>\n",
       "      <td>112.8859</td>\n",
       "      <td>112.7200</td>\n",
       "      <td>112.8131</td>\n",
       "      <td>3971410</td>\n",
       "      <td>310.89</td>\n",
       "      <td>311.01</td>\n",
       "      <td>309.39</td>\n",
       "      <td>310.29</td>\n",
       "      <td>42497606</td>\n",
       "    </tr>\n",
       "    <tr>\n",
       "      <th>2019-11-22 00:00:00-05:00</th>\n",
       "      <td>112.89</td>\n",
       "      <td>112.9000</td>\n",
       "      <td>112.7605</td>\n",
       "      <td>112.8500</td>\n",
       "      <td>2233649</td>\n",
       "      <td>310.90</td>\n",
       "      <td>311.24</td>\n",
       "      <td>309.85</td>\n",
       "      <td>311.00</td>\n",
       "      <td>32532889</td>\n",
       "    </tr>\n",
       "    <tr>\n",
       "      <th>2019-11-25 00:00:00-05:00</th>\n",
       "      <td>112.91</td>\n",
       "      <td>113.0100</td>\n",
       "      <td>112.8900</td>\n",
       "      <td>112.9800</td>\n",
       "      <td>2848536</td>\n",
       "      <td>311.98</td>\n",
       "      <td>313.37</td>\n",
       "      <td>311.98</td>\n",
       "      <td>313.35</td>\n",
       "      <td>37229034</td>\n",
       "    </tr>\n",
       "  </tbody>\n",
       "</table>\n",
       "</div>"
      ],
      "text/plain": [
       "                              AGG                                         \\\n",
       "                             open      high       low     close   volume   \n",
       "2019-11-19 00:00:00-05:00  112.63  112.7600  112.6000  112.7100  2181200   \n",
       "2019-11-20 00:00:00-05:00  112.83  112.9800  112.8050  112.9700  3218845   \n",
       "2019-11-21 00:00:00-05:00  112.80  112.8859  112.7200  112.8131  3971410   \n",
       "2019-11-22 00:00:00-05:00  112.89  112.9000  112.7605  112.8500  2233649   \n",
       "2019-11-25 00:00:00-05:00  112.91  113.0100  112.8900  112.9800  2848536   \n",
       "\n",
       "                              SPY                                    \n",
       "                             open    high     low   close    volume  \n",
       "2019-11-19 00:00:00-05:00  312.68  312.69  311.22  311.91  56892505  \n",
       "2019-11-20 00:00:00-05:00  311.28  311.85  309.06  310.79  62833225  \n",
       "2019-11-21 00:00:00-05:00  310.89  311.01  309.39  310.29  42497606  \n",
       "2019-11-22 00:00:00-05:00  310.90  311.24  309.85  311.00  32532889  \n",
       "2019-11-25 00:00:00-05:00  311.98  313.37  311.98  313.35  37229034  "
      ]
     },
     "execution_count": 42,
     "metadata": {},
     "output_type": "execute_result"
    }
   ],
   "source": [
    "tickers = [\"SPY\", \"AGG\"]\n",
    "timeframe = \"1D\"\n",
    "end_date = datetime.now()\n",
    "start_date = end_date + timedelta(252)\n",
    "combo_df = api.get_barset(\n",
    "    tickers,\n",
    "    timeframe,\n",
    "    limit=None,\n",
    "    start=start_date,\n",
    "    end=end_date,\n",
    "    after=None,\n",
    "    until=None,\n",
    ").df\n",
    "\n",
    "combo_df.head()"
   ]
  },
  {
   "cell_type": "code",
   "execution_count": 43,
   "metadata": {},
   "outputs": [
    {
     "data": {
      "text/html": [
       "<div>\n",
       "<style scoped>\n",
       "    .dataframe tbody tr th:only-of-type {\n",
       "        vertical-align: middle;\n",
       "    }\n",
       "\n",
       "    .dataframe tbody tr th {\n",
       "        vertical-align: top;\n",
       "    }\n",
       "\n",
       "    .dataframe thead tr th {\n",
       "        text-align: left;\n",
       "    }\n",
       "</style>\n",
       "<table border=\"1\" class=\"dataframe\">\n",
       "  <thead>\n",
       "    <tr>\n",
       "      <th></th>\n",
       "      <th>AGG</th>\n",
       "      <th>SPY</th>\n",
       "    </tr>\n",
       "    <tr>\n",
       "      <th></th>\n",
       "      <th>close</th>\n",
       "      <th>close</th>\n",
       "    </tr>\n",
       "  </thead>\n",
       "  <tbody>\n",
       "    <tr>\n",
       "      <th>2019-11-19 00:00:00-05:00</th>\n",
       "      <td>112.7100</td>\n",
       "      <td>311.91</td>\n",
       "    </tr>\n",
       "    <tr>\n",
       "      <th>2019-11-20 00:00:00-05:00</th>\n",
       "      <td>112.9700</td>\n",
       "      <td>310.79</td>\n",
       "    </tr>\n",
       "    <tr>\n",
       "      <th>2019-11-21 00:00:00-05:00</th>\n",
       "      <td>112.8131</td>\n",
       "      <td>310.29</td>\n",
       "    </tr>\n",
       "    <tr>\n",
       "      <th>2019-11-22 00:00:00-05:00</th>\n",
       "      <td>112.8500</td>\n",
       "      <td>311.00</td>\n",
       "    </tr>\n",
       "    <tr>\n",
       "      <th>2019-11-25 00:00:00-05:00</th>\n",
       "      <td>112.9800</td>\n",
       "      <td>313.35</td>\n",
       "    </tr>\n",
       "  </tbody>\n",
       "</table>\n",
       "</div>"
      ],
      "text/plain": [
       "                                AGG     SPY\n",
       "                              close   close\n",
       "2019-11-19 00:00:00-05:00  112.7100  311.91\n",
       "2019-11-20 00:00:00-05:00  112.9700  310.79\n",
       "2019-11-21 00:00:00-05:00  112.8131  310.29\n",
       "2019-11-22 00:00:00-05:00  112.8500  311.00\n",
       "2019-11-25 00:00:00-05:00  112.9800  313.35"
      ]
     },
     "execution_count": 43,
     "metadata": {},
     "output_type": "execute_result"
    }
   ],
   "source": [
    "combo_df.drop(columns=['open', 'high', 'low', 'volume'], level=1, inplace=True)\n",
    "combo_df.head()"
   ]
  },
  {
   "cell_type": "markdown",
   "metadata": {},
   "source": [
    "# Monte Carlo Simulation\n",
    "\n",
    "In this step, you will run Monte Carlo Simulations for your portfolio to model portfolio performance at different retirement ages. \n",
    "\n",
    "Complete the following steps:\n",
    "1. Calculate the daily returns for the SPY and AGG closing prices.\n",
    "2. Calculate volatility for both the SPY and AGG closing prices.\n",
    "3. Find the last day's closing price for both stocks and save those as variables.\n",
    "4. Run a Monte Carlo Simulation of at least 500 iterations and generate at least 30 years of closing prices\n",
    "\n",
    "### HINTS:\n",
    "There are 252 trading days per year, so the number of records to generate for each Monte Carlo run will be 252 days * 30 years"
   ]
  },
  {
   "cell_type": "code",
   "execution_count": 44,
   "metadata": {},
   "outputs": [
    {
     "data": {
      "text/html": [
       "<div>\n",
       "<style scoped>\n",
       "    .dataframe tbody tr th:only-of-type {\n",
       "        vertical-align: middle;\n",
       "    }\n",
       "\n",
       "    .dataframe tbody tr th {\n",
       "        vertical-align: top;\n",
       "    }\n",
       "\n",
       "    .dataframe thead tr th {\n",
       "        text-align: left;\n",
       "    }\n",
       "</style>\n",
       "<table border=\"1\" class=\"dataframe\">\n",
       "  <thead>\n",
       "    <tr>\n",
       "      <th></th>\n",
       "      <th>AGG</th>\n",
       "      <th>SPY</th>\n",
       "    </tr>\n",
       "    <tr>\n",
       "      <th></th>\n",
       "      <th>close</th>\n",
       "      <th>close</th>\n",
       "    </tr>\n",
       "  </thead>\n",
       "  <tbody>\n",
       "    <tr>\n",
       "      <th>2019-11-19 00:00:00-05:00</th>\n",
       "      <td>NaN</td>\n",
       "      <td>NaN</td>\n",
       "    </tr>\n",
       "    <tr>\n",
       "      <th>2019-11-20 00:00:00-05:00</th>\n",
       "      <td>0.002307</td>\n",
       "      <td>-0.003591</td>\n",
       "    </tr>\n",
       "    <tr>\n",
       "      <th>2019-11-21 00:00:00-05:00</th>\n",
       "      <td>-0.001389</td>\n",
       "      <td>-0.001609</td>\n",
       "    </tr>\n",
       "    <tr>\n",
       "      <th>2019-11-22 00:00:00-05:00</th>\n",
       "      <td>0.000327</td>\n",
       "      <td>0.002288</td>\n",
       "    </tr>\n",
       "    <tr>\n",
       "      <th>2019-11-25 00:00:00-05:00</th>\n",
       "      <td>0.001152</td>\n",
       "      <td>0.007556</td>\n",
       "    </tr>\n",
       "  </tbody>\n",
       "</table>\n",
       "</div>"
      ],
      "text/plain": [
       "                                AGG       SPY\n",
       "                              close     close\n",
       "2019-11-19 00:00:00-05:00       NaN       NaN\n",
       "2019-11-20 00:00:00-05:00  0.002307 -0.003591\n",
       "2019-11-21 00:00:00-05:00 -0.001389 -0.001609\n",
       "2019-11-22 00:00:00-05:00  0.000327  0.002288\n",
       "2019-11-25 00:00:00-05:00  0.001152  0.007556"
      ]
     },
     "execution_count": 44,
     "metadata": {},
     "output_type": "execute_result"
    }
   ],
   "source": [
    "# Calculate the daily roi for the stocks\n",
    "daily_returns = combo_df.pct_change()\n",
    "daily_returns.head()"
   ]
  },
  {
   "cell_type": "code",
   "execution_count": 45,
   "metadata": {},
   "outputs": [
    {
     "name": "stdout",
     "output_type": "stream",
     "text": [
      " AGG Average Daily Return: 0.000390939553380001\n",
      " SPY Average Daily Return: -0.0004982078178046435\n"
     ]
    }
   ],
   "source": [
    "avg_daily_return_agg = daily_returns.mean()['AGG']['close']\n",
    "avg_daily_return_spy = daily_returns.mean()['SPY']['close']\n",
    "print(f\" AGG Average Daily Return: {avg_daily_return_agg}\")\n",
    "print(f\" SPY Average Daily Return: {avg_daily_return_spy}\")"
   ]
  },
  {
   "cell_type": "code",
   "execution_count": 46,
   "metadata": {},
   "outputs": [
    {
     "name": "stdout",
     "output_type": "stream",
     "text": [
      " AGG Standard Deviation: 0.008486724919652336\n",
      " SPY Standard Deviation: 0.030111816629151453\n"
     ]
    }
   ],
   "source": [
    "# Calculate volatility\n",
    "std_dev_daily_return_agg = daily_returns.std()['AGG']['close']\n",
    "std_dev_daily_return_spy = daily_returns.std()['SPY']['close']\n",
    "print(f\" AGG Standard Deviation: {std_dev_daily_return_agg}\")\n",
    "print(f\" SPY Standard Deviation: {std_dev_daily_return_spy}\")"
   ]
  },
  {
   "cell_type": "code",
   "execution_count": 47,
   "metadata": {},
   "outputs": [
    {
     "name": "stdout",
     "output_type": "stream",
     "text": [
      "283.87\n",
      "116.74\n"
     ]
    }
   ],
   "source": [
    "# Save the last day's closing price\n",
    "spy_last = combo_df[\"SPY\"][\"close\"][-1]\n",
    "agg_last = combo_df[\"AGG\"][\"close\"][-1]\n",
    "print(spy_last)\n",
    "print(agg_last)"
   ]
  },
  {
   "cell_type": "code",
   "execution_count": 48,
   "metadata": {},
   "outputs": [],
   "source": [
    "# Setup the Monte Carlo Parameters\n",
    "number_simulations = 500\n",
    "number_records = 252*30\n",
    "monte_carlo = pd.DataFrame()\n",
    "portfolio_cumulative_returns = pd.DataFrame()"
   ]
  },
  {
   "cell_type": "code",
   "execution_count": 49,
   "metadata": {},
   "outputs": [
    {
     "data": {
      "text/html": [
       "<div>\n",
       "<style scoped>\n",
       "    .dataframe tbody tr th:only-of-type {\n",
       "        vertical-align: middle;\n",
       "    }\n",
       "\n",
       "    .dataframe tbody tr th {\n",
       "        vertical-align: top;\n",
       "    }\n",
       "\n",
       "    .dataframe thead th {\n",
       "        text-align: right;\n",
       "    }\n",
       "</style>\n",
       "<table border=\"1\" class=\"dataframe\">\n",
       "  <thead>\n",
       "    <tr style=\"text-align: right;\">\n",
       "      <th></th>\n",
       "      <th>0</th>\n",
       "      <th>1</th>\n",
       "      <th>2</th>\n",
       "      <th>3</th>\n",
       "      <th>4</th>\n",
       "      <th>5</th>\n",
       "      <th>6</th>\n",
       "      <th>7</th>\n",
       "      <th>8</th>\n",
       "      <th>9</th>\n",
       "      <th>...</th>\n",
       "      <th>490</th>\n",
       "      <th>491</th>\n",
       "      <th>492</th>\n",
       "      <th>493</th>\n",
       "      <th>494</th>\n",
       "      <th>495</th>\n",
       "      <th>496</th>\n",
       "      <th>497</th>\n",
       "      <th>498</th>\n",
       "      <th>499</th>\n",
       "    </tr>\n",
       "  </thead>\n",
       "  <tbody>\n",
       "    <tr>\n",
       "      <th>0</th>\n",
       "      <td>1.000000</td>\n",
       "      <td>1.000000</td>\n",
       "      <td>1.000000</td>\n",
       "      <td>1.000000</td>\n",
       "      <td>1.000000</td>\n",
       "      <td>1.000000</td>\n",
       "      <td>1.000000</td>\n",
       "      <td>1.000000</td>\n",
       "      <td>1.000000</td>\n",
       "      <td>1.000000</td>\n",
       "      <td>...</td>\n",
       "      <td>1.000000</td>\n",
       "      <td>1.000000</td>\n",
       "      <td>1.000000</td>\n",
       "      <td>1.000000</td>\n",
       "      <td>1.000000</td>\n",
       "      <td>1.000000</td>\n",
       "      <td>1.000000</td>\n",
       "      <td>1.000000</td>\n",
       "      <td>1.000000</td>\n",
       "      <td>1.000000</td>\n",
       "    </tr>\n",
       "    <tr>\n",
       "      <th>1</th>\n",
       "      <td>0.999046</td>\n",
       "      <td>0.999010</td>\n",
       "      <td>0.992273</td>\n",
       "      <td>1.017832</td>\n",
       "      <td>1.042668</td>\n",
       "      <td>0.976050</td>\n",
       "      <td>0.986902</td>\n",
       "      <td>1.048002</td>\n",
       "      <td>1.000518</td>\n",
       "      <td>0.979305</td>\n",
       "      <td>...</td>\n",
       "      <td>1.005135</td>\n",
       "      <td>0.968924</td>\n",
       "      <td>1.004309</td>\n",
       "      <td>1.007375</td>\n",
       "      <td>0.983463</td>\n",
       "      <td>1.009374</td>\n",
       "      <td>1.003261</td>\n",
       "      <td>1.023013</td>\n",
       "      <td>0.990205</td>\n",
       "      <td>0.976889</td>\n",
       "    </tr>\n",
       "    <tr>\n",
       "      <th>2</th>\n",
       "      <td>1.028590</td>\n",
       "      <td>1.012250</td>\n",
       "      <td>1.007642</td>\n",
       "      <td>0.981062</td>\n",
       "      <td>1.030966</td>\n",
       "      <td>0.972118</td>\n",
       "      <td>0.972290</td>\n",
       "      <td>1.020390</td>\n",
       "      <td>0.995126</td>\n",
       "      <td>0.967941</td>\n",
       "      <td>...</td>\n",
       "      <td>1.016547</td>\n",
       "      <td>0.973180</td>\n",
       "      <td>1.007369</td>\n",
       "      <td>1.018085</td>\n",
       "      <td>0.984467</td>\n",
       "      <td>0.962301</td>\n",
       "      <td>1.004680</td>\n",
       "      <td>1.014642</td>\n",
       "      <td>0.979581</td>\n",
       "      <td>0.989705</td>\n",
       "    </tr>\n",
       "    <tr>\n",
       "      <th>3</th>\n",
       "      <td>1.023275</td>\n",
       "      <td>1.007502</td>\n",
       "      <td>1.005562</td>\n",
       "      <td>0.983767</td>\n",
       "      <td>1.020821</td>\n",
       "      <td>0.944706</td>\n",
       "      <td>0.984717</td>\n",
       "      <td>0.994469</td>\n",
       "      <td>0.992260</td>\n",
       "      <td>0.996329</td>\n",
       "      <td>...</td>\n",
       "      <td>1.017544</td>\n",
       "      <td>0.947625</td>\n",
       "      <td>1.007728</td>\n",
       "      <td>1.032252</td>\n",
       "      <td>0.965524</td>\n",
       "      <td>0.969471</td>\n",
       "      <td>1.023134</td>\n",
       "      <td>0.987628</td>\n",
       "      <td>0.986395</td>\n",
       "      <td>1.003778</td>\n",
       "    </tr>\n",
       "    <tr>\n",
       "      <th>4</th>\n",
       "      <td>1.042803</td>\n",
       "      <td>1.013754</td>\n",
       "      <td>1.020704</td>\n",
       "      <td>0.997826</td>\n",
       "      <td>1.040951</td>\n",
       "      <td>0.953940</td>\n",
       "      <td>1.000834</td>\n",
       "      <td>0.969084</td>\n",
       "      <td>0.996627</td>\n",
       "      <td>1.011266</td>\n",
       "      <td>...</td>\n",
       "      <td>1.004676</td>\n",
       "      <td>0.958382</td>\n",
       "      <td>1.007101</td>\n",
       "      <td>1.005358</td>\n",
       "      <td>0.968756</td>\n",
       "      <td>0.964040</td>\n",
       "      <td>1.010013</td>\n",
       "      <td>0.996597</td>\n",
       "      <td>0.977295</td>\n",
       "      <td>1.003961</td>\n",
       "    </tr>\n",
       "  </tbody>\n",
       "</table>\n",
       "<p>5 rows × 500 columns</p>\n",
       "</div>"
      ],
      "text/plain": [
       "        0         1         2         3         4         5         6    \\\n",
       "0  1.000000  1.000000  1.000000  1.000000  1.000000  1.000000  1.000000   \n",
       "1  0.999046  0.999010  0.992273  1.017832  1.042668  0.976050  0.986902   \n",
       "2  1.028590  1.012250  1.007642  0.981062  1.030966  0.972118  0.972290   \n",
       "3  1.023275  1.007502  1.005562  0.983767  1.020821  0.944706  0.984717   \n",
       "4  1.042803  1.013754  1.020704  0.997826  1.040951  0.953940  1.000834   \n",
       "\n",
       "        7         8         9    ...       490       491       492       493  \\\n",
       "0  1.000000  1.000000  1.000000  ...  1.000000  1.000000  1.000000  1.000000   \n",
       "1  1.048002  1.000518  0.979305  ...  1.005135  0.968924  1.004309  1.007375   \n",
       "2  1.020390  0.995126  0.967941  ...  1.016547  0.973180  1.007369  1.018085   \n",
       "3  0.994469  0.992260  0.996329  ...  1.017544  0.947625  1.007728  1.032252   \n",
       "4  0.969084  0.996627  1.011266  ...  1.004676  0.958382  1.007101  1.005358   \n",
       "\n",
       "        494       495       496       497       498       499  \n",
       "0  1.000000  1.000000  1.000000  1.000000  1.000000  1.000000  \n",
       "1  0.983463  1.009374  1.003261  1.023013  0.990205  0.976889  \n",
       "2  0.984467  0.962301  1.004680  1.014642  0.979581  0.989705  \n",
       "3  0.965524  0.969471  1.023134  0.987628  0.986395  1.003778  \n",
       "4  0.968756  0.964040  1.010013  0.996597  0.977295  1.003961  \n",
       "\n",
       "[5 rows x 500 columns]"
      ]
     },
     "execution_count": 49,
     "metadata": {},
     "output_type": "execute_result"
    }
   ],
   "source": [
    "# Run the Monte Carlo Simulation\n",
    "\n",
    "for n in range(number_simulations):\n",
    "\n",
    "    simulated_agg_prices = [agg_last]\n",
    "    simulated_spy_prices = [spy_last]\n",
    "    \n",
    "    for i in range(number_records):\n",
    "        \n",
    "        simulated_agg_price = simulated_agg_prices[-1] * (1 + np.random.normal(avg_daily_return_agg, std_dev_daily_return_agg))\n",
    "        simulated_spy_price = simulated_spy_prices[-1] * (1 + np.random.normal(avg_daily_return_spy, std_dev_daily_return_spy))\n",
    "        \n",
    "        simulated_agg_prices.append(simulated_agg_price)\n",
    "        simulated_spy_prices.append(simulated_spy_price)\n",
    "    \n",
    "    monte_carlo[\"AGG Prices\"] = pd.Series(simulated_agg_prices)\n",
    "    monte_carlo[\"SPY Prices\"] = pd.Series(simulated_spy_prices)\n",
    "    \n",
    "    simulated_daily_returns = monte_carlo.pct_change()\n",
    "    \n",
    "    weights = [0.40, 0.60]\n",
    "    \n",
    "    portfolio_daily_returns = simulated_daily_returns.dot(weights)\n",
    "    \n",
    "    portfolio_cumulative_returns[n] = (1 + portfolio_daily_returns.fillna(0)).cumprod()\n",
    "    \n",
    "portfolio_cumulative_returns.head() \n"
   ]
  },
  {
   "cell_type": "code",
   "execution_count": 50,
   "metadata": {},
   "outputs": [
    {
     "data": {
      "text/plain": [
       "<matplotlib.axes._subplots.AxesSubplot at 0x150b2a250>"
      ]
     },
     "execution_count": 50,
     "metadata": {},
     "output_type": "execute_result"
    },
    {
     "data": {
      "image/png": "[encoded data removed]",
      "text/plain": [
       "<Figure size 432x288 with 1 Axes>"
      ]
     },
     "metadata": {
      "needs_background": "light"
     },
     "output_type": "display_data"
    }
   ],
   "source": [
    "# Visualize the Simulation\n",
    "plot_title = f\"{n+1} Simulations of Cumulative Portfolio Return Trajectories Over the Next 30 Years\"\n",
    "portfolio_cumulative_returns.plot(legend=None, title=plot_title)"
   ]
  },
  {
   "cell_type": "code",
   "execution_count": 51,
   "metadata": {},
   "outputs": [
    {
     "data": {
      "text/plain": [
       "0    0.091754\n",
       "1    0.059874\n",
       "2    0.067109\n",
       "3    0.025034\n",
       "4    0.065537\n",
       "Name: 7560, dtype: float64"
      ]
     },
     "execution_count": 51,
     "metadata": {},
     "output_type": "execute_result"
    }
   ],
   "source": [
    "# Select the last row for the cumulative returns (cumulative returns at 30 years)\n",
    "ending_cumulative_returns = portfolio_cumulative_returns.iloc[-1, :]\n",
    "ending_cumulative_returns.head()"
   ]
  },
  {
   "cell_type": "code",
   "execution_count": 52,
   "metadata": {},
   "outputs": [
    {
     "data": {
      "text/plain": [
       "0.05    0.008056\n",
       "0.95    1.222820\n",
       "Name: 7560, dtype: float64"
      ]
     },
     "execution_count": 52,
     "metadata": {},
     "output_type": "execute_result"
    },
    {
     "data": {
      "image/png": "[encoded data removed]",
      "text/plain": [
       "<Figure size 432x288 with 1 Axes>"
      ]
     },
     "metadata": {
      "needs_background": "light"
     },
     "output_type": "display_data"
    }
   ],
   "source": [
    "# Display the 90% confidence interval for the ending returns in 30 Years\n",
    "ending_cumulative_returns.plot(kind='hist', bins=10)\n",
    "ending_cumulative_returns.value_counts(bins=11) / len(ending_cumulative_returns_30)\n",
    "confidence_interval = ending_cumulative_returns.quantile(q=[0.05, 0.95])\n",
    "confidence_interval"
   ]
  },
  {
   "cell_type": "code",
   "execution_count": 53,
   "metadata": {},
   "outputs": [
    {
     "data": {
      "text/plain": [
       "<matplotlib.lines.Line2D at 0x150bcda90>"
      ]
     },
     "execution_count": 53,
     "metadata": {},
     "output_type": "execute_result"
    },
    {
     "data": {
      "image/png": "[encoded data removed]",
      "text/plain": [
       "<Figure size 432x288 with 1 Axes>"
      ]
     },
     "metadata": {
      "needs_background": "light"
     },
     "output_type": "display_data"
    }
   ],
   "source": [
    "# Visualize the distribution of the ending returns\n",
    "plt.figure();\n",
    "ending_cumulative_returns_30.plot(kind='hist', density=True, bins=11)\n",
    "plt.axvline(confidence_interval.iloc[0], color='r')\n",
    "plt.axvline(confidence_interval.iloc[1], color='r')"
   ]
  },
  {
   "cell_type": "markdown",
   "metadata": {},
   "source": [
    "---"
   ]
  },
  {
   "cell_type": "markdown",
   "metadata": {},
   "source": [
    "# Retirement Analysis\n",
    "\n",
    "In this section, you will use the monte carlo model to answer the following retirement planning questions:\n",
    "\n",
    "1. What are the expected cumulative returns at 30 years for the 10th, 50th, and 90th percentiles?\n",
    "2. Given an initial investment of `$20,000`, what is the expected portfolio return in dollars at the 10th, 50th, and 90th percentiles?\n",
    "3. Given the current projected annual income from the Plaid analysis, will a 4% withdraw rate from the retirement portfolio meet or exceed that value at the 10th percentile?\n",
    "4. How would a 50% increase in the initial investment amount affect the 4% retirement withdrawal?"
   ]
  },
  {
   "cell_type": "markdown",
   "metadata": {},
   "source": [
    "### What are the expected cumulative returns at 30 years for the 10th, 50th, and 90th percentiles?"
   ]
  },
  {
   "cell_type": "code",
   "execution_count": 60,
   "metadata": {},
   "outputs": [
    {
     "data": {
      "text/plain": [
       "0.1     49.640445\n",
       "0.5    245.624553\n",
       "0.9    441.608661\n",
       "Name: 7560, dtype: float64"
      ]
     },
     "execution_count": 60,
     "metadata": {},
     "output_type": "execute_result"
    }
   ],
   "source": [
    "ending_returns = monte_carlo.iloc[-1, :]\n",
    "ending_returns\n",
    "\n",
    "ending_returns.quantile([.1, .5, .9])"
   ]
  },
  {
   "cell_type": "code",
   "execution_count": 61,
   "metadata": {},
   "outputs": [
    {
     "data": {
      "image/png": "[encoded data removed]",
      "text/plain": [
       "<Figure size 432x288 with 1 Axes>"
      ]
     },
     "metadata": {
      "needs_background": "light"
     },
     "output_type": "display_data"
    }
   ],
   "source": [
    "# 30 years 90th and 10th percentile\n",
    "ending_cumulative_returns.plot(kind='hist', bins=11)\n",
    "ending_cumulative_returns.value_counts(bins=11) / len(ending_cumulative_returns)\n",
    "confidence_interval = ending_returns.quantile([.1, .5, .9])"
   ]
  },
  {
   "cell_type": "markdown",
   "metadata": {},
   "source": [
    "### Given an initial investment of `$20,000`, what is the expected portfolio return in dollars at the 10th, 50th, and 90th percentiles?"
   ]
  },
  {
   "cell_type": "code",
   "execution_count": 56,
   "metadata": {},
   "outputs": [
    {
     "name": "stdout",
     "output_type": "stream",
     "text": [
      "There is a 90% chance that an initial investment of $20,000 in the portfolio over the next 30 years will end within in the range of $20161.123955818202 and $44456.39531854923\n"
     ]
    }
   ],
   "source": [
    "initial_investment = 20000\n",
    "\n",
    "# Calculate investment profit/loss of lower and upper bound cumulative portfolio returns\n",
    "investment_pnl_lower_bound = initial_investment + (initial_investment * confidence_interval.iloc[0])\n",
    "investment_pnl_upper_bound = initial_investment + (initial_investment * confidence_interval.iloc[1])\n",
    "                                                    \n",
    "# Print the results\n",
    "print(f\"There is a 90% chance that an initial investment of $20,000 in the portfolio\"\n",
    "      f\" over the next 30 years will end within in the range of\"\n",
    "      f\" ${investment_pnl_lower_bound} and ${investment_pnl_upper_bound}\")"
   ]
  },
  {
   "cell_type": "markdown",
   "metadata": {},
   "source": [
    "### Given the current projected annual income from the Plaid analysis, will a 4% withdraw rate from the retirement portfolio meet or exceed that value at the 10th percentile?\n",
    "\n",
    "Note: This is effectively saying that 90% of the expected returns will be greater than the return at the 10th percentile, so this can help measure the uncertainty about having enough funds at retirement"
   ]
  },
  {
   "cell_type": "code",
   "execution_count": 57,
   "metadata": {},
   "outputs": [],
   "source": []
  },
  {
   "cell_type": "markdown",
   "metadata": {},
   "source": [
    "### How would a 50% increase in the initial investment amount affect the 4% retirement withdrawal?"
   ]
  },
  {
   "cell_type": "code",
   "execution_count": 58,
   "metadata": {},
   "outputs": [],
   "source": []
  },
  {
   "cell_type": "markdown",
   "metadata": {},
   "source": [
    "### Optional Challenge\n",
    "\n",
    "In this section, you will calculate and plot the cumulative returns for the median and 90% confidence intervals. This plot shows the expected cumulative returns for any given day between the first day and the last day of investment. "
   ]
  },
  {
   "cell_type": "code",
   "execution_count": 59,
   "metadata": {},
   "outputs": [],
   "source": [
    "# for n in range(number_simulations):\n",
    "#     simulated_agg_prices = [agg_last]\n",
    "#     simulated_spy_prices = [spy_last]\n",
    "    \n",
    "# #     for i in range(number_records):\n",
    "# #         simulated_agg_price = simulated_agg_prices[-1] * (1 + np.random.normal(avg_daily_return_agg, std_dev_daily_return_agg))\n",
    "# #         simulated_spy_price = simulated_spy_prices[-1] * (1 + np.random.normal(avg_daily_return_spy, std_dev_daily_return_spy))\n",
    "        \n",
    "# #         simulated_agg_prices.append(simulated_agg_price)\n",
    "# #         simulated_spy_prices.append(simulated_spy_price)\n",
    "    \n",
    "    \n",
    "    \n",
    "# #     monte_carlo[\"AGG Prices\"] = pd.Series(simulated_agg_price)\n",
    "# #     monte_carlo[\"SPY Prices\"] = pd.Series(simulated_spy_price)\n",
    "    \n",
    "    \n",
    "    \n",
    "#     for i in range(number_records):\n",
    "        \n",
    "#         simulated_agg_price = simulated_agg_prices[-1] * (1 + np.random.normal(avg_daily_return_agg, std_dev_daily_return_agg))\n",
    "#         simulated_spy_price = simulated_spy_prices[-1] * (1 + np.random.normal(avg_daily_return_spy, std_dev_daily_return_spy))\n",
    "        \n",
    "#         simulated_agg_prices.append(simulated_agg_price)\n",
    "#         simulated_spy_prices.append(simulated_spy_price)\n",
    "    \n",
    "#     monte_carlo[\"AGG Prices\"] = pd.Series(simulated_agg_prices)\n",
    "#     monte_carlo[\"SPY Prices\"] = pd.Series(simulated_spy_prices)\n",
    "    \n",
    "# #     simulated_daily_returns = monte_carlo.pct_change()\n",
    "    \n",
    "# #     weights = [0.4, 0.6]\n",
    "    \n",
    "# #     portfolio_daily_returns = simulated_daily_returns.dot(weights)\n",
    "    \n",
    "# #     portfolio_cumulative_returns[n] = (1 + portfolio_daily_returns.fillna(0)).cumprod()\n",
    "    \n",
    "# # portfolio_cumulative_returns.head() \n",
    "\n",
    "# monte_carlo"
   ]
  },
  {
   "cell_type": "code",
   "execution_count": null,
   "metadata": {},
   "outputs": [],
   "source": []
  }
 ],
 "metadata": {
  "kernel_info": {
   "name": "dev"
  },
  "kernelspec": {
   "display_name": "Python 3",
   "language": "python",
   "name": "python3"
  },
  "language_info": {
   "codemirror_mode": {
    "name": "ipython",
    "version": 3
   },
   "file_extension": ".py",
   "mimetype": "text/x-python",
   "name": "python",
   "nbconvert_exporter": "python",
   "pygments_lexer": "ipython3",
   "version": "3.7.6"
  },
  "nteract": {
   "version": "0.12.3"
  }
 },
 "nbformat": 4,
 "nbformat_minor": 4
}
