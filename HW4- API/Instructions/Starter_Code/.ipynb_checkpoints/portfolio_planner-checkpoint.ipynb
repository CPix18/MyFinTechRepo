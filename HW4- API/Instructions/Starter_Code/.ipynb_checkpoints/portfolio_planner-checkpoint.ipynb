{
 "cells": [
  {
   "cell_type": "code",
   "execution_count": 176,
   "metadata": {},
   "outputs": [],
   "source": [
    "import numpy as np\n",
    "import pandas as pd\n",
    "from datetime import datetime, timedelta\n",
    "import os\n",
    "import matplotlib.pyplot as plt\n",
    "%matplotlib inline"
   ]
  },
  {
   "cell_type": "code",
   "execution_count": 177,
   "metadata": {},
   "outputs": [],
   "source": [
    "np.random.seed(42)"
   ]
  },
  {
   "cell_type": "markdown",
   "metadata": {},
   "source": [
    "# Portfolio Planner\n",
    "\n",
    "In this activity, you will use the iexfinance api to grab historical data for a 60/40 portfolio using `SPY` to represent the stock portion and `AGG` to represent the bonds."
   ]
  },
  {
   "cell_type": "code",
   "execution_count": 178,
   "metadata": {},
   "outputs": [],
   "source": [
    "import alpaca_trade_api as tradeapi\n",
    "\n",
    "# Set Alpaca API key and secret\n",
    "alpaca_api_key = os.getenv(\"ALPACA_API_KEY\")\n",
    "alpaca_secret_key = os.getenv(\"ALPACA_SECRET_KEY\")\n",
    "# Initialize the API\n",
    "api = tradeapi.REST(alpaca_api_key, alpaca_secret_key, api_version='v2')"
   ]
  },
  {
   "cell_type": "markdown",
   "metadata": {},
   "source": [
    "# Data Collection\n",
    "\n",
    "In this step, you will need to use the IEX api to fetch closing prices for the `SPY` and `AGG` tickers. Save the results as a pandas DataFrame"
   ]
  },
  {
   "cell_type": "code",
   "execution_count": 179,
   "metadata": {},
   "outputs": [
    {
     "data": {
      "text/html": [
       "<div>\n",
       "<style scoped>\n",
       "    .dataframe tbody tr th:only-of-type {\n",
       "        vertical-align: middle;\n",
       "    }\n",
       "\n",
       "    .dataframe tbody tr th {\n",
       "        vertical-align: top;\n",
       "    }\n",
       "\n",
       "    .dataframe thead tr th {\n",
       "        text-align: left;\n",
       "    }\n",
       "</style>\n",
       "<table border=\"1\" class=\"dataframe\">\n",
       "  <thead>\n",
       "    <tr>\n",
       "      <th></th>\n",
       "      <th colspan=\"5\" halign=\"left\">AGG</th>\n",
       "      <th colspan=\"5\" halign=\"left\">SPY</th>\n",
       "    </tr>\n",
       "    <tr>\n",
       "      <th></th>\n",
       "      <th>open</th>\n",
       "      <th>high</th>\n",
       "      <th>low</th>\n",
       "      <th>close</th>\n",
       "      <th>volume</th>\n",
       "      <th>open</th>\n",
       "      <th>high</th>\n",
       "      <th>low</th>\n",
       "      <th>close</th>\n",
       "      <th>volume</th>\n",
       "    </tr>\n",
       "  </thead>\n",
       "  <tbody>\n",
       "    <tr>\n",
       "      <th>2019-11-21 00:00:00-05:00</th>\n",
       "      <td>112.80</td>\n",
       "      <td>112.8859</td>\n",
       "      <td>112.7200</td>\n",
       "      <td>112.8131</td>\n",
       "      <td>3971410</td>\n",
       "      <td>310.89</td>\n",
       "      <td>311.01</td>\n",
       "      <td>309.39</td>\n",
       "      <td>310.29</td>\n",
       "      <td>42497606</td>\n",
       "    </tr>\n",
       "    <tr>\n",
       "      <th>2019-11-22 00:00:00-05:00</th>\n",
       "      <td>112.89</td>\n",
       "      <td>112.9000</td>\n",
       "      <td>112.7605</td>\n",
       "      <td>112.8500</td>\n",
       "      <td>2233649</td>\n",
       "      <td>310.90</td>\n",
       "      <td>311.24</td>\n",
       "      <td>309.85</td>\n",
       "      <td>311.00</td>\n",
       "      <td>32532889</td>\n",
       "    </tr>\n",
       "    <tr>\n",
       "      <th>2019-11-25 00:00:00-05:00</th>\n",
       "      <td>112.91</td>\n",
       "      <td>113.0100</td>\n",
       "      <td>112.8900</td>\n",
       "      <td>112.9800</td>\n",
       "      <td>2848536</td>\n",
       "      <td>311.98</td>\n",
       "      <td>313.37</td>\n",
       "      <td>311.98</td>\n",
       "      <td>313.35</td>\n",
       "      <td>37229034</td>\n",
       "    </tr>\n",
       "    <tr>\n",
       "      <th>2019-11-26 00:00:00-05:00</th>\n",
       "      <td>113.11</td>\n",
       "      <td>113.1590</td>\n",
       "      <td>113.0800</td>\n",
       "      <td>113.1200</td>\n",
       "      <td>2104446</td>\n",
       "      <td>313.41</td>\n",
       "      <td>314.28</td>\n",
       "      <td>313.06</td>\n",
       "      <td>314.02</td>\n",
       "      <td>30435576</td>\n",
       "    </tr>\n",
       "    <tr>\n",
       "      <th>2019-11-27 00:00:00-05:00</th>\n",
       "      <td>113.03</td>\n",
       "      <td>113.0700</td>\n",
       "      <td>112.9600</td>\n",
       "      <td>112.9950</td>\n",
       "      <td>1844546</td>\n",
       "      <td>314.61</td>\n",
       "      <td>315.47</td>\n",
       "      <td>314.37</td>\n",
       "      <td>315.46</td>\n",
       "      <td>34799247</td>\n",
       "    </tr>\n",
       "  </tbody>\n",
       "</table>\n",
       "</div>"
      ],
      "text/plain": [
       "                              AGG                                         \\\n",
       "                             open      high       low     close   volume   \n",
       "2019-11-21 00:00:00-05:00  112.80  112.8859  112.7200  112.8131  3971410   \n",
       "2019-11-22 00:00:00-05:00  112.89  112.9000  112.7605  112.8500  2233649   \n",
       "2019-11-25 00:00:00-05:00  112.91  113.0100  112.8900  112.9800  2848536   \n",
       "2019-11-26 00:00:00-05:00  113.11  113.1590  113.0800  113.1200  2104446   \n",
       "2019-11-27 00:00:00-05:00  113.03  113.0700  112.9600  112.9950  1844546   \n",
       "\n",
       "                              SPY                                    \n",
       "                             open    high     low   close    volume  \n",
       "2019-11-21 00:00:00-05:00  310.89  311.01  309.39  310.29  42497606  \n",
       "2019-11-22 00:00:00-05:00  310.90  311.24  309.85  311.00  32532889  \n",
       "2019-11-25 00:00:00-05:00  311.98  313.37  311.98  313.35  37229034  \n",
       "2019-11-26 00:00:00-05:00  313.41  314.28  313.06  314.02  30435576  \n",
       "2019-11-27 00:00:00-05:00  314.61  315.47  314.37  315.46  34799247  "
      ]
     },
     "execution_count": 179,
     "metadata": {},
     "output_type": "execute_result"
    }
   ],
   "source": [
    "tickers = [\"SPY\", \"AGG\"]\n",
    "timeframe = \"1D\"\n",
    "end_date = datetime.now()\n",
    "start_date = end_date + timedelta(252)\n",
    "combo_df = api.get_barset(\n",
    "    tickers,\n",
    "    timeframe,\n",
    "    limit=None,\n",
    "    start=start_date,\n",
    "    end=end_date,\n",
    "    after=None,\n",
    "    until=None,\n",
    ").df\n",
    "\n",
    "combo_df.head()"
   ]
  },
  {
   "cell_type": "code",
   "execution_count": 180,
   "metadata": {},
   "outputs": [
    {
     "data": {
      "text/html": [
       "<div>\n",
       "<style scoped>\n",
       "    .dataframe tbody tr th:only-of-type {\n",
       "        vertical-align: middle;\n",
       "    }\n",
       "\n",
       "    .dataframe tbody tr th {\n",
       "        vertical-align: top;\n",
       "    }\n",
       "\n",
       "    .dataframe thead tr th {\n",
       "        text-align: left;\n",
       "    }\n",
       "</style>\n",
       "<table border=\"1\" class=\"dataframe\">\n",
       "  <thead>\n",
       "    <tr>\n",
       "      <th></th>\n",
       "      <th>AGG</th>\n",
       "      <th>SPY</th>\n",
       "    </tr>\n",
       "    <tr>\n",
       "      <th></th>\n",
       "      <th>close</th>\n",
       "      <th>close</th>\n",
       "    </tr>\n",
       "  </thead>\n",
       "  <tbody>\n",
       "    <tr>\n",
       "      <th>2019-11-21 00:00:00-05:00</th>\n",
       "      <td>112.8131</td>\n",
       "      <td>310.29</td>\n",
       "    </tr>\n",
       "    <tr>\n",
       "      <th>2019-11-22 00:00:00-05:00</th>\n",
       "      <td>112.8500</td>\n",
       "      <td>311.00</td>\n",
       "    </tr>\n",
       "    <tr>\n",
       "      <th>2019-11-25 00:00:00-05:00</th>\n",
       "      <td>112.9800</td>\n",
       "      <td>313.35</td>\n",
       "    </tr>\n",
       "    <tr>\n",
       "      <th>2019-11-26 00:00:00-05:00</th>\n",
       "      <td>113.1200</td>\n",
       "      <td>314.02</td>\n",
       "    </tr>\n",
       "    <tr>\n",
       "      <th>2019-11-27 00:00:00-05:00</th>\n",
       "      <td>112.9950</td>\n",
       "      <td>315.46</td>\n",
       "    </tr>\n",
       "  </tbody>\n",
       "</table>\n",
       "</div>"
      ],
      "text/plain": [
       "                                AGG     SPY\n",
       "                              close   close\n",
       "2019-11-21 00:00:00-05:00  112.8131  310.29\n",
       "2019-11-22 00:00:00-05:00  112.8500  311.00\n",
       "2019-11-25 00:00:00-05:00  112.9800  313.35\n",
       "2019-11-26 00:00:00-05:00  113.1200  314.02\n",
       "2019-11-27 00:00:00-05:00  112.9950  315.46"
      ]
     },
     "execution_count": 180,
     "metadata": {},
     "output_type": "execute_result"
    }
   ],
   "source": [
    "combo_df.drop(columns=['open', 'high', 'low', 'volume'], level=1, inplace=True)\n",
    "combo_df.head()"
   ]
  },
  {
   "cell_type": "markdown",
   "metadata": {},
   "source": [
    "# Monte Carlo Simulation\n",
    "\n",
    "In this step, you will run Monte Carlo Simulations for your portfolio to model portfolio performance at different retirement ages. \n",
    "\n",
    "Complete the following steps:\n",
    "1. Calculate the daily returns for the SPY and AGG closing prices.\n",
    "2. Calculate volatility for both the SPY and AGG closing prices.\n",
    "3. Find the last day's closing price for both stocks and save those as variables.\n",
    "4. Run a Monte Carlo Simulation of at least 500 iterations and generate at least 30 years of closing prices\n",
    "\n",
    "### HINTS:\n",
    "There are 252 trading days per year, so the number of records to generate for each Monte Carlo run will be 252 days * 30 years"
   ]
  },
  {
   "cell_type": "code",
   "execution_count": 181,
   "metadata": {},
   "outputs": [
    {
     "data": {
      "text/html": [
       "<div>\n",
       "<style scoped>\n",
       "    .dataframe tbody tr th:only-of-type {\n",
       "        vertical-align: middle;\n",
       "    }\n",
       "\n",
       "    .dataframe tbody tr th {\n",
       "        vertical-align: top;\n",
       "    }\n",
       "\n",
       "    .dataframe thead tr th {\n",
       "        text-align: left;\n",
       "    }\n",
       "</style>\n",
       "<table border=\"1\" class=\"dataframe\">\n",
       "  <thead>\n",
       "    <tr>\n",
       "      <th></th>\n",
       "      <th>AGG</th>\n",
       "      <th>SPY</th>\n",
       "    </tr>\n",
       "    <tr>\n",
       "      <th></th>\n",
       "      <th>close</th>\n",
       "      <th>close</th>\n",
       "    </tr>\n",
       "  </thead>\n",
       "  <tbody>\n",
       "    <tr>\n",
       "      <th>2019-11-21 00:00:00-05:00</th>\n",
       "      <td>NaN</td>\n",
       "      <td>NaN</td>\n",
       "    </tr>\n",
       "    <tr>\n",
       "      <th>2019-11-22 00:00:00-05:00</th>\n",
       "      <td>0.000327</td>\n",
       "      <td>0.002288</td>\n",
       "    </tr>\n",
       "    <tr>\n",
       "      <th>2019-11-25 00:00:00-05:00</th>\n",
       "      <td>0.001152</td>\n",
       "      <td>0.007556</td>\n",
       "    </tr>\n",
       "    <tr>\n",
       "      <th>2019-11-26 00:00:00-05:00</th>\n",
       "      <td>0.001239</td>\n",
       "      <td>0.002138</td>\n",
       "    </tr>\n",
       "    <tr>\n",
       "      <th>2019-11-27 00:00:00-05:00</th>\n",
       "      <td>-0.001105</td>\n",
       "      <td>0.004586</td>\n",
       "    </tr>\n",
       "  </tbody>\n",
       "</table>\n",
       "</div>"
      ],
      "text/plain": [
       "                                AGG       SPY\n",
       "                              close     close\n",
       "2019-11-21 00:00:00-05:00       NaN       NaN\n",
       "2019-11-22 00:00:00-05:00  0.000327  0.002288\n",
       "2019-11-25 00:00:00-05:00  0.001152  0.007556\n",
       "2019-11-26 00:00:00-05:00  0.001239  0.002138\n",
       "2019-11-27 00:00:00-05:00 -0.001105  0.004586"
      ]
     },
     "execution_count": 181,
     "metadata": {},
     "output_type": "execute_result"
    }
   ],
   "source": [
    "# Calculate the daily roi for the stocks\n",
    "daily_returns = combo_df.pct_change()\n",
    "daily_returns.head()"
   ]
  },
  {
   "cell_type": "code",
   "execution_count": 182,
   "metadata": {},
   "outputs": [
    {
     "name": "stdout",
     "output_type": "stream",
     "text": [
      " AGG Average Daily Return: 0.00043700403210573285\n",
      " SPY Average Daily Return: -0.0006103598985130695\n"
     ]
    }
   ],
   "source": [
    "avg_daily_return_agg = daily_returns.mean()['AGG']['close']\n",
    "avg_daily_return_spy = daily_returns.mean()['SPY']['close']\n",
    "print(f\" AGG Average Daily Return: {avg_daily_return_agg}\")\n",
    "print(f\" SPY Average Daily Return: {avg_daily_return_spy}\")"
   ]
  },
  {
   "cell_type": "code",
   "execution_count": 183,
   "metadata": {},
   "outputs": [
    {
     "name": "stdout",
     "output_type": "stream",
     "text": [
      " AGG Standard Deviation: 0.008493394040698092\n",
      " SPY Standard Deviation: 0.030190440652702925\n"
     ]
    }
   ],
   "source": [
    "# Calculate volatility\n",
    "std_dev_daily_return_agg = daily_returns.std()['AGG']['close']\n",
    "std_dev_daily_return_spy = daily_returns.std()['SPY']['close']\n",
    "print(f\" AGG Standard Deviation: {std_dev_daily_return_agg}\")\n",
    "print(f\" SPY Standard Deviation: {std_dev_daily_return_spy}\")"
   ]
  },
  {
   "cell_type": "code",
   "execution_count": 184,
   "metadata": {},
   "outputs": [
    {
     "name": "stdout",
     "output_type": "stream",
     "text": [
      "279.21\n",
      "117.38\n"
     ]
    }
   ],
   "source": [
    "# Save the last day's closing price\n",
    "spy_last = combo_df[\"SPY\"][\"close\"][-1]\n",
    "agg_last = combo_df[\"AGG\"][\"close\"][-1]\n",
    "print(spy_last)\n",
    "print(agg_last)"
   ]
  },
  {
   "cell_type": "code",
   "execution_count": 185,
   "metadata": {},
   "outputs": [],
   "source": [
    "# Setup the Monte Carlo Parameters\n",
    "number_simulations = 500\n",
    "number_records = 252*30\n",
    "monte_carlo = pd.DataFrame()\n",
    "portfolio_cumulative_returns = pd.DataFrame()"
   ]
  },
  {
   "cell_type": "code",
   "execution_count": 186,
   "metadata": {},
   "outputs": [
    {
     "data": {
      "text/html": [
       "<div>\n",
       "<style scoped>\n",
       "    .dataframe tbody tr th:only-of-type {\n",
       "        vertical-align: middle;\n",
       "    }\n",
       "\n",
       "    .dataframe tbody tr th {\n",
       "        vertical-align: top;\n",
       "    }\n",
       "\n",
       "    .dataframe thead th {\n",
       "        text-align: right;\n",
       "    }\n",
       "</style>\n",
       "<table border=\"1\" class=\"dataframe\">\n",
       "  <thead>\n",
       "    <tr style=\"text-align: right;\">\n",
       "      <th></th>\n",
       "      <th>0</th>\n",
       "      <th>1</th>\n",
       "      <th>2</th>\n",
       "      <th>3</th>\n",
       "      <th>4</th>\n",
       "      <th>5</th>\n",
       "      <th>6</th>\n",
       "      <th>7</th>\n",
       "      <th>8</th>\n",
       "      <th>9</th>\n",
       "      <th>...</th>\n",
       "      <th>490</th>\n",
       "      <th>491</th>\n",
       "      <th>492</th>\n",
       "      <th>493</th>\n",
       "      <th>494</th>\n",
       "      <th>495</th>\n",
       "      <th>496</th>\n",
       "      <th>497</th>\n",
       "      <th>498</th>\n",
       "      <th>499</th>\n",
       "    </tr>\n",
       "  </thead>\n",
       "  <tbody>\n",
       "    <tr>\n",
       "      <th>0</th>\n",
       "      <td>1.000000</td>\n",
       "      <td>1.000000</td>\n",
       "      <td>1.000000</td>\n",
       "      <td>1.000000</td>\n",
       "      <td>1.000000</td>\n",
       "      <td>1.000000</td>\n",
       "      <td>1.000000</td>\n",
       "      <td>1.000000</td>\n",
       "      <td>1.000000</td>\n",
       "      <td>1.000000</td>\n",
       "      <td>...</td>\n",
       "      <td>1.000000</td>\n",
       "      <td>1.000000</td>\n",
       "      <td>1.000000</td>\n",
       "      <td>1.000000</td>\n",
       "      <td>1.000000</td>\n",
       "      <td>1.000000</td>\n",
       "      <td>1.000000</td>\n",
       "      <td>1.000000</td>\n",
       "      <td>1.000000</td>\n",
       "      <td>1.000000</td>\n",
       "    </tr>\n",
       "    <tr>\n",
       "      <th>1</th>\n",
       "      <td>1.000880</td>\n",
       "      <td>0.996539</td>\n",
       "      <td>0.990729</td>\n",
       "      <td>1.010971</td>\n",
       "      <td>1.030493</td>\n",
       "      <td>0.988677</td>\n",
       "      <td>0.997150</td>\n",
       "      <td>1.028222</td>\n",
       "      <td>1.001219</td>\n",
       "      <td>0.986026</td>\n",
       "      <td>...</td>\n",
       "      <td>1.004365</td>\n",
       "      <td>0.977280</td>\n",
       "      <td>1.006979</td>\n",
       "      <td>1.004485</td>\n",
       "      <td>0.987780</td>\n",
       "      <td>1.007662</td>\n",
       "      <td>0.999535</td>\n",
       "      <td>1.010736</td>\n",
       "      <td>0.995403</td>\n",
       "      <td>0.983361</td>\n",
       "    </tr>\n",
       "    <tr>\n",
       "      <th>2</th>\n",
       "      <td>1.022610</td>\n",
       "      <td>1.007149</td>\n",
       "      <td>0.999889</td>\n",
       "      <td>0.986773</td>\n",
       "      <td>1.024923</td>\n",
       "      <td>0.980445</td>\n",
       "      <td>0.984126</td>\n",
       "      <td>1.003955</td>\n",
       "      <td>0.997053</td>\n",
       "      <td>0.983596</td>\n",
       "      <td>...</td>\n",
       "      <td>1.012729</td>\n",
       "      <td>0.984226</td>\n",
       "      <td>1.010624</td>\n",
       "      <td>1.012112</td>\n",
       "      <td>0.989070</td>\n",
       "      <td>0.975434</td>\n",
       "      <td>0.999915</td>\n",
       "      <td>1.005510</td>\n",
       "      <td>0.988304</td>\n",
       "      <td>0.993675</td>\n",
       "    </tr>\n",
       "    <tr>\n",
       "      <th>3</th>\n",
       "      <td>1.018517</td>\n",
       "      <td>1.003939</td>\n",
       "      <td>1.000531</td>\n",
       "      <td>0.984786</td>\n",
       "      <td>1.017844</td>\n",
       "      <td>0.964406</td>\n",
       "      <td>0.994295</td>\n",
       "      <td>0.983683</td>\n",
       "      <td>0.994870</td>\n",
       "      <td>1.006750</td>\n",
       "      <td>...</td>\n",
       "      <td>1.013170</td>\n",
       "      <td>0.969125</td>\n",
       "      <td>1.013509</td>\n",
       "      <td>1.021828</td>\n",
       "      <td>0.972681</td>\n",
       "      <td>0.979130</td>\n",
       "      <td>1.013746</td>\n",
       "      <td>0.991657</td>\n",
       "      <td>0.994531</td>\n",
       "      <td>1.001786</td>\n",
       "    </tr>\n",
       "    <tr>\n",
       "      <th>4</th>\n",
       "      <td>1.036171</td>\n",
       "      <td>1.009499</td>\n",
       "      <td>1.007752</td>\n",
       "      <td>0.997118</td>\n",
       "      <td>1.031398</td>\n",
       "      <td>0.967273</td>\n",
       "      <td>1.003746</td>\n",
       "      <td>0.965708</td>\n",
       "      <td>1.002279</td>\n",
       "      <td>1.010019</td>\n",
       "      <td>...</td>\n",
       "      <td>1.005932</td>\n",
       "      <td>0.974899</td>\n",
       "      <td>1.012013</td>\n",
       "      <td>1.007813</td>\n",
       "      <td>0.978267</td>\n",
       "      <td>0.973607</td>\n",
       "      <td>1.001710</td>\n",
       "      <td>0.997637</td>\n",
       "      <td>0.991211</td>\n",
       "      <td>1.003848</td>\n",
       "    </tr>\n",
       "  </tbody>\n",
       "</table>\n",
       "<p>5 rows × 500 columns</p>\n",
       "</div>"
      ],
      "text/plain": [
       "        0         1         2         3         4         5         6    \\\n",
       "0  1.000000  1.000000  1.000000  1.000000  1.000000  1.000000  1.000000   \n",
       "1  1.000880  0.996539  0.990729  1.010971  1.030493  0.988677  0.997150   \n",
       "2  1.022610  1.007149  0.999889  0.986773  1.024923  0.980445  0.984126   \n",
       "3  1.018517  1.003939  1.000531  0.984786  1.017844  0.964406  0.994295   \n",
       "4  1.036171  1.009499  1.007752  0.997118  1.031398  0.967273  1.003746   \n",
       "\n",
       "        7         8         9    ...       490       491       492       493  \\\n",
       "0  1.000000  1.000000  1.000000  ...  1.000000  1.000000  1.000000  1.000000   \n",
       "1  1.028222  1.001219  0.986026  ...  1.004365  0.977280  1.006979  1.004485   \n",
       "2  1.003955  0.997053  0.983596  ...  1.012729  0.984226  1.010624  1.012112   \n",
       "3  0.983683  0.994870  1.006750  ...  1.013170  0.969125  1.013509  1.021828   \n",
       "4  0.965708  1.002279  1.010019  ...  1.005932  0.974899  1.012013  1.007813   \n",
       "\n",
       "        494       495       496       497       498       499  \n",
       "0  1.000000  1.000000  1.000000  1.000000  1.000000  1.000000  \n",
       "1  0.987780  1.007662  0.999535  1.010736  0.995403  0.983361  \n",
       "2  0.989070  0.975434  0.999915  1.005510  0.988304  0.993675  \n",
       "3  0.972681  0.979130  1.013746  0.991657  0.994531  1.001786  \n",
       "4  0.978267  0.973607  1.001710  0.997637  0.991211  1.003848  \n",
       "\n",
       "[5 rows x 500 columns]"
      ]
     },
     "execution_count": 186,
     "metadata": {},
     "output_type": "execute_result"
    }
   ],
   "source": [
    "# Run the Monte Carlo Simulation\n",
    "\n",
    "for n in range(number_simulations):\n",
    "\n",
    "    simulated_agg_prices = [agg_last]\n",
    "    simulated_spy_prices = [spy_last]\n",
    "    \n",
    "    for i in range(number_records):\n",
    "        \n",
    "        simulated_agg_price = simulated_agg_prices[-1] * (1 + np.random.normal(avg_daily_return_agg, std_dev_daily_return_agg))\n",
    "        simulated_spy_price = simulated_spy_prices[-1] * (1 + np.random.normal(avg_daily_return_spy, std_dev_daily_return_spy))\n",
    "        \n",
    "        simulated_agg_prices.append(simulated_agg_price)\n",
    "        simulated_spy_prices.append(simulated_spy_price)\n",
    "    \n",
    "#     monte_carlo[\"AGG Prices\"] = pd.Series(simulated_agg_prices)\n",
    "#     monte_carlo[\"SPY Prices\"] = pd.Series(simulated_spy_prices)\n",
    "\n",
    "    portfolio = pd.DataFrame({\n",
    "        \"SPY Simulated Prices\": simulated_spy_prices,\n",
    "        \"AGG Simulated Prices\": simulated_agg_prices\n",
    "    })\n",
    "    \n",
    "    simulated_daily_returns = portfolio.pct_change()\n",
    "    \n",
    "    weights = [0.40, 0.60]\n",
    "    \n",
    "    portfolio_daily_returns = simulated_daily_returns.dot(weights)\n",
    "    \n",
    "    portfolio_cumulative_returns[n] = (1 + portfolio_daily_returns.fillna(0)).cumprod()\n",
    "    \n",
    "portfolio_cumulative_returns.head()\n"
   ]
  },
  {
   "cell_type": "code",
   "execution_count": 203,
   "metadata": {},
   "outputs": [
    {
     "data": {
      "text/plain": [
       "<matplotlib.axes._subplots.AxesSubplot at 0x1a8783c90>"
      ]
     },
     "execution_count": 203,
     "metadata": {},
     "output_type": "execute_result"
    },
    {
     "data": {
      "image/png": "[encoded data removed]",
      "text/plain": [
       "<Figure size 432x288 with 1 Axes>"
      ]
     },
     "metadata": {
      "needs_background": "light"
     },
     "output_type": "display_data"
    }
   ],
   "source": [
    "# Visualize the Simulation\n",
    "plot_title = f\"{n+1} Simulations of Cumulative Portfolio Return Trajectories Over the Next 30 Years\"\n",
    "portfolio_cumulative_returns.plot(legend=None, title=plot_title)"
   ]
  },
  {
   "cell_type": "code",
   "execution_count": 204,
   "metadata": {},
   "outputs": [
    {
     "data": {
      "text/plain": [
       "0    0.639481\n",
       "1    0.427451\n",
       "2    0.567917\n",
       "3    0.314025\n",
       "4    0.537667\n",
       "Name: 7560, dtype: float64"
      ]
     },
     "execution_count": 204,
     "metadata": {},
     "output_type": "execute_result"
    }
   ],
   "source": [
    "# Select the last row for the cumulative returns (cumulative returns at 30 years)\n",
    "ending_cumulative_returns = portfolio_cumulative_returns.iloc[-1, :]\n",
    "ending_cumulative_returns.head()"
   ]
  },
  {
   "cell_type": "code",
   "execution_count": 205,
   "metadata": {},
   "outputs": [
    {
     "name": "stdout",
     "output_type": "stream",
     "text": [
      "(-0.0138, 3.068]    0.940\n",
      "(3.068, 6.116]      0.050\n",
      "(6.116, 9.163]      0.006\n",
      "(30.495, 33.543]    0.002\n",
      "(12.211, 15.258]    0.002\n",
      "(27.448, 30.495]    0.000\n",
      "(24.4, 27.448]      0.000\n",
      "(21.353, 24.4]      0.000\n",
      "(18.305, 21.353]    0.000\n",
      "(15.258, 18.305]    0.000\n",
      "(9.163, 12.211]     0.000\n",
      "Name: 7560, dtype: float64\n"
     ]
    },
    {
     "data": {
      "image/png": "[encoded data removed]",
      "text/plain": [
       "<Figure size 432x288 with 1 Axes>"
      ]
     },
     "metadata": {
      "needs_background": "light"
     },
     "output_type": "display_data"
    }
   ],
   "source": [
    "# Display the 90% confidence interval for the ending returns in 30 Years\n",
    "ending_cumulative_returns.plot(kind='hist', bins=11)\n",
    "count = ending_cumulative_returns.value_counts(bins=11) / len(ending_cumulative_returns)\n",
    "confidence_interval = ending_cumulative_returns.quantile(q=[0.05, 0.95])\n",
    "print(count)"
   ]
  },
  {
   "cell_type": "code",
   "execution_count": 206,
   "metadata": {},
   "outputs": [
    {
     "data": {
      "text/plain": [
       "<matplotlib.lines.Line2D at 0x183c19110>"
      ]
     },
     "execution_count": 206,
     "metadata": {},
     "output_type": "execute_result"
    },
    {
     "data": {
      "image/png": "[encoded data removed]",
      "text/plain": [
       "<Figure size 432x288 with 1 Axes>"
      ]
     },
     "metadata": {
      "needs_background": "light"
     },
     "output_type": "display_data"
    }
   ],
   "source": [
    "# Visualize the distribution of the ending returns\n",
    "plt.figure();\n",
    "ending_cumulative_returns.plot(kind='hist', density=True, bins=11)\n",
    "plt.axvline(confidence_interval.iloc[0], color='r')\n",
    "plt.axvline(confidence_interval.iloc[1], color='r')"
   ]
  },
  {
   "cell_type": "markdown",
   "metadata": {},
   "source": [
    "---"
   ]
  },
  {
   "cell_type": "markdown",
   "metadata": {},
   "source": [
    "# Retirement Analysis\n",
    "\n",
    "In this section, you will use the monte carlo model to answer the following retirement planning questions:\n",
    "\n",
    "1. What are the expected cumulative returns at 30 years for the 10th, 50th, and 90th percentiles?\n",
    "2. Given an initial investment of `$20,000`, what is the expected portfolio return in dollars at the 10th, 50th, and 90th percentiles?\n",
    "3. Given the current projected annual income from the Plaid analysis, will a 4% withdraw rate from the retirement portfolio meet or exceed that value at the 10th percentile?\n",
    "4. How would a 50% increase in the initial investment amount affect the 4% retirement withdrawal?"
   ]
  },
  {
   "cell_type": "markdown",
   "metadata": {},
   "source": [
    "### What are the expected cumulative returns at 30 years for the 10th, 50th, and 90th percentiles?"
   ]
  },
  {
   "cell_type": "code",
   "execution_count": 191,
   "metadata": {},
   "outputs": [],
   "source": [
    "# ending_returns = monte_carlo.iloc[-1, :]"
   ]
  },
  {
   "cell_type": "code",
   "execution_count": 198,
   "metadata": {},
   "outputs": [
    {
     "data": {
      "text/plain": [
       "<matplotlib.lines.Line2D at 0x183b168d0>"
      ]
     },
     "execution_count": 198,
     "metadata": {},
     "output_type": "execute_result"
    },
    {
     "data": {
      "image/png": "[encoded data removed]",
      "text/plain": [
       "<Figure size 432x288 with 1 Axes>"
      ]
     },
     "metadata": {
      "needs_background": "light"
     },
     "output_type": "display_data"
    }
   ],
   "source": [
    "# 30 years 90th and 10th percentile\n",
    "ending_cumulative_returns.plot(kind='hist', bins=11)\n",
    "ending_cumulative_returns.value_counts(bins=11) / len(ending_cumulative_returns)\n",
    "confidence_interval1 = ending_cumulative_returns.quantile([.1, .5, .9])\n",
    "plt.axvline(confidence_interval1.iloc[0], color='r')\n",
    "plt.axvline(confidence_interval1.iloc[1], color='b')\n",
    "plt.axvline(confidence_interval1.iloc[2], color='g')"
   ]
  },
  {
   "cell_type": "markdown",
   "metadata": {},
   "source": [
    "### Given an initial investment of `$20,000`, what is the expected portfolio return in dollars at the 10th, 50th, and 90th percentiles?"
   ]
  },
  {
   "cell_type": "code",
   "execution_count": 199,
   "metadata": {},
   "outputs": [
    {
     "name": "stdout",
     "output_type": "stream",
     "text": [
      "There is a 90% chance that an initial investment of $20,000 in the portfolio over the next 30 years will end within in the range of $22791.006203709912 and $32350.907138652376\n"
     ]
    }
   ],
   "source": [
    "initial_investment = 20000\n",
    "\n",
    "# Calculate investment profit/loss of lower and upper bound cumulative portfolio returns\n",
    "investment_pnl_lower_bound = (initial_investment * (1 + confidence_interval1.iloc[0]))\n",
    "investment_pnl_upper_bound = (initial_investment * (1 + confidence_interval1.iloc[1]))\n",
    "investment_pnl_far_upper_bound = (initial_investment * (1 + confidence_interval1.iloc[2]))                                                 \n",
    "\n",
    "# Print the results\n",
    "print(f\"There is a 90% chance that an initial investment of $20,000 in the portfolio\"\n",
    "      f\" over the next 30 years will end within in the range of\"\n",
    "      f\" ${investment_pnl_lower_bound} and ${investment_pnl_upper_bound}\")"
   ]
  },
  {
   "cell_type": "markdown",
   "metadata": {},
   "source": [
    "### Given the current projected annual income from the Plaid analysis, will a 4% withdraw rate from the retirement portfolio meet or exceed that value at the 10th percentile?\n",
    "\n",
    "Note: This is effectively saying that 90% of the expected returns will be greater than the return at the 10th percentile, so this can help measure the uncertainty about having enough funds at retirement"
   ]
  },
  {
   "cell_type": "code",
   "execution_count": 200,
   "metadata": {},
   "outputs": [
    {
     "data": {
      "text/plain": [
       "111.6402481483965"
      ]
     },
     "execution_count": 200,
     "metadata": {},
     "output_type": "execute_result"
    }
   ],
   "source": [
    "answer1 = .04 * (initial_investment * confidence_interval1).iloc[0]\n",
    "answer1"
   ]
  },
  {
   "cell_type": "markdown",
   "metadata": {},
   "source": [
    "### How would a 50% increase in the initial investment amount affect the 4% retirement withdrawal?"
   ]
  },
  {
   "cell_type": "code",
   "execution_count": 201,
   "metadata": {},
   "outputs": [
    {
     "data": {
      "text/plain": [
       "494.0362855460952"
      ]
     },
     "execution_count": 201,
     "metadata": {},
     "output_type": "execute_result"
    }
   ],
   "source": [
    "answer2 = .04 * (initial_investment * confidence_interval1).iloc[1]\n",
    "answer2"
   ]
  },
  {
   "cell_type": "code",
   "execution_count": 202,
   "metadata": {},
   "outputs": [
    {
     "data": {
      "text/plain": [
       "1903.0097698432685"
      ]
     },
     "execution_count": 202,
     "metadata": {},
     "output_type": "execute_result"
    }
   ],
   "source": [
    "answer3 = .04 * (initial_investment * confidence_interval1).iloc[2]\n",
    "answer3"
   ]
  },
  {
   "cell_type": "markdown",
   "metadata": {},
   "source": [
    "### Optional Challenge\n",
    "\n",
    "In this section, you will calculate and plot the cumulative returns for the median and 90% confidence intervals. This plot shows the expected cumulative returns for any given day between the first day and the last day of investment. "
   ]
  },
  {
   "cell_type": "code",
   "execution_count": null,
   "metadata": {},
   "outputs": [],
   "source": []
  }
 ],
 "metadata": {
  "kernel_info": {
   "name": "dev"
  },
  "kernelspec": {
   "display_name": "Python 3",
   "language": "python",
   "name": "python3"
  },
  "language_info": {
   "codemirror_mode": {
    "name": "ipython",
    "version": 3
   },
   "file_extension": ".py",
   "mimetype": "text/x-python",
   "name": "python",
   "nbconvert_exporter": "python",
   "pygments_lexer": "ipython3",
   "version": "3.7.6"
  },
  "nteract": {
   "version": "0.12.3"
  }
 },
 "nbformat": 4,
 "nbformat_minor": 4
}
