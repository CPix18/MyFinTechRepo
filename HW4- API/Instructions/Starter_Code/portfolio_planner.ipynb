{
 "cells": [
  {
   "cell_type": "code",
   "execution_count": 1,
   "metadata": {},
   "outputs": [],
   "source": [
    "import numpy as np\n",
    "import pandas as pd\n",
    "from datetime import datetime, timedelta\n",
    "import os\n",
    "import matplotlib.pyplot as plt\n",
    "%matplotlib inline"
   ]
  },
  {
   "cell_type": "code",
   "execution_count": 2,
   "metadata": {},
   "outputs": [],
   "source": [
    "np.random.seed(42)"
   ]
  },
  {
   "cell_type": "markdown",
   "metadata": {},
   "source": [
    "# Portfolio Planner\n",
    "\n",
    "In this activity, you will use the iexfinance api to grab historical data for a 60/40 portfolio using `SPY` to represent the stock portion and `AGG` to represent the bonds."
   ]
  },
  {
   "cell_type": "code",
   "execution_count": 3,
   "metadata": {},
   "outputs": [],
   "source": [
    "import alpaca_trade_api as tradeapi\n",
    "\n",
    "# Set Alpaca API key and secret\n",
    "alpaca_api_key = os.getenv(\"ALPACA_API_KEY\")\n",
    "alpaca_secret_key = os.getenv(\"ALPACA_SECRET_KEY\")\n",
    "# Initialize the API\n",
    "api = tradeapi.REST(alpaca_api_key, alpaca_secret_key, api_version='v2')"
   ]
  },
  {
   "cell_type": "markdown",
   "metadata": {},
   "source": [
    "# Data Collection\n",
    "\n",
    "In this step, you will need to use the IEX api to fetch closing prices for the `SPY` and `AGG` tickers. Save the results as a pandas DataFrame"
   ]
  },
  {
   "cell_type": "code",
   "execution_count": 4,
   "metadata": {},
   "outputs": [
    {
     "data": {
      "text/html": [
       "<div>\n",
       "<style scoped>\n",
       "    .dataframe tbody tr th:only-of-type {\n",
       "        vertical-align: middle;\n",
       "    }\n",
       "\n",
       "    .dataframe tbody tr th {\n",
       "        vertical-align: top;\n",
       "    }\n",
       "\n",
       "    .dataframe thead tr th {\n",
       "        text-align: left;\n",
       "    }\n",
       "</style>\n",
       "<table border=\"1\" class=\"dataframe\">\n",
       "  <thead>\n",
       "    <tr>\n",
       "      <th></th>\n",
       "      <th colspan=\"5\" halign=\"left\">AGG</th>\n",
       "      <th colspan=\"5\" halign=\"left\">SPY</th>\n",
       "    </tr>\n",
       "    <tr>\n",
       "      <th></th>\n",
       "      <th>open</th>\n",
       "      <th>high</th>\n",
       "      <th>low</th>\n",
       "      <th>close</th>\n",
       "      <th>volume</th>\n",
       "      <th>open</th>\n",
       "      <th>high</th>\n",
       "      <th>low</th>\n",
       "      <th>close</th>\n",
       "      <th>volume</th>\n",
       "    </tr>\n",
       "  </thead>\n",
       "  <tbody>\n",
       "    <tr>\n",
       "      <th>2019-11-19 00:00:00-05:00</th>\n",
       "      <td>112.63</td>\n",
       "      <td>112.7600</td>\n",
       "      <td>112.6000</td>\n",
       "      <td>112.7100</td>\n",
       "      <td>2181200</td>\n",
       "      <td>312.68</td>\n",
       "      <td>312.69</td>\n",
       "      <td>311.22</td>\n",
       "      <td>311.91</td>\n",
       "      <td>56892505</td>\n",
       "    </tr>\n",
       "    <tr>\n",
       "      <th>2019-11-20 00:00:00-05:00</th>\n",
       "      <td>112.83</td>\n",
       "      <td>112.9800</td>\n",
       "      <td>112.8050</td>\n",
       "      <td>112.9700</td>\n",
       "      <td>3218845</td>\n",
       "      <td>311.28</td>\n",
       "      <td>311.85</td>\n",
       "      <td>309.06</td>\n",
       "      <td>310.79</td>\n",
       "      <td>62833225</td>\n",
       "    </tr>\n",
       "    <tr>\n",
       "      <th>2019-11-21 00:00:00-05:00</th>\n",
       "      <td>112.80</td>\n",
       "      <td>112.8859</td>\n",
       "      <td>112.7200</td>\n",
       "      <td>112.8131</td>\n",
       "      <td>3971410</td>\n",
       "      <td>310.89</td>\n",
       "      <td>311.01</td>\n",
       "      <td>309.39</td>\n",
       "      <td>310.29</td>\n",
       "      <td>42497606</td>\n",
       "    </tr>\n",
       "    <tr>\n",
       "      <th>2019-11-22 00:00:00-05:00</th>\n",
       "      <td>112.89</td>\n",
       "      <td>112.9000</td>\n",
       "      <td>112.7605</td>\n",
       "      <td>112.8500</td>\n",
       "      <td>2239192</td>\n",
       "      <td>311.10</td>\n",
       "      <td>311.24</td>\n",
       "      <td>309.85</td>\n",
       "      <td>311.00</td>\n",
       "      <td>33121546</td>\n",
       "    </tr>\n",
       "    <tr>\n",
       "      <th>2019-11-25 00:00:00-05:00</th>\n",
       "      <td>112.91</td>\n",
       "      <td>113.0100</td>\n",
       "      <td>112.8900</td>\n",
       "      <td>112.9800</td>\n",
       "      <td>2848536</td>\n",
       "      <td>311.98</td>\n",
       "      <td>313.37</td>\n",
       "      <td>311.98</td>\n",
       "      <td>313.35</td>\n",
       "      <td>37229034</td>\n",
       "    </tr>\n",
       "  </tbody>\n",
       "</table>\n",
       "</div>"
      ],
      "text/plain": [
       "                              AGG                                         \\\n",
       "                             open      high       low     close   volume   \n",
       "2019-11-19 00:00:00-05:00  112.63  112.7600  112.6000  112.7100  2181200   \n",
       "2019-11-20 00:00:00-05:00  112.83  112.9800  112.8050  112.9700  3218845   \n",
       "2019-11-21 00:00:00-05:00  112.80  112.8859  112.7200  112.8131  3971410   \n",
       "2019-11-22 00:00:00-05:00  112.89  112.9000  112.7605  112.8500  2239192   \n",
       "2019-11-25 00:00:00-05:00  112.91  113.0100  112.8900  112.9800  2848536   \n",
       "\n",
       "                              SPY                                    \n",
       "                             open    high     low   close    volume  \n",
       "2019-11-19 00:00:00-05:00  312.68  312.69  311.22  311.91  56892505  \n",
       "2019-11-20 00:00:00-05:00  311.28  311.85  309.06  310.79  62833225  \n",
       "2019-11-21 00:00:00-05:00  310.89  311.01  309.39  310.29  42497606  \n",
       "2019-11-22 00:00:00-05:00  311.10  311.24  309.85  311.00  33121546  \n",
       "2019-11-25 00:00:00-05:00  311.98  313.37  311.98  313.35  37229034  "
      ]
     },
     "execution_count": 4,
     "metadata": {},
     "output_type": "execute_result"
    }
   ],
   "source": [
    "tickers = [\"SPY\", \"AGG\"]\n",
    "timeframe = \"1D\"\n",
    "end_date = datetime.now()\n",
    "start_date = end_date + timedelta(252)\n",
    "combo_df = api.get_barset(\n",
    "    tickers,\n",
    "    timeframe,\n",
    "    limit=None,\n",
    "    start=start_date,\n",
    "    end=end_date,\n",
    "    after=None,\n",
    "    until=None,\n",
    ").df\n",
    "\n",
    "combo_df.head()"
   ]
  },
  {
   "cell_type": "code",
   "execution_count": 5,
   "metadata": {},
   "outputs": [
    {
     "data": {
      "text/html": [
       "<div>\n",
       "<style scoped>\n",
       "    .dataframe tbody tr th:only-of-type {\n",
       "        vertical-align: middle;\n",
       "    }\n",
       "\n",
       "    .dataframe tbody tr th {\n",
       "        vertical-align: top;\n",
       "    }\n",
       "\n",
       "    .dataframe thead tr th {\n",
       "        text-align: left;\n",
       "    }\n",
       "</style>\n",
       "<table border=\"1\" class=\"dataframe\">\n",
       "  <thead>\n",
       "    <tr>\n",
       "      <th></th>\n",
       "      <th>AGG</th>\n",
       "      <th>SPY</th>\n",
       "    </tr>\n",
       "    <tr>\n",
       "      <th></th>\n",
       "      <th>close</th>\n",
       "      <th>close</th>\n",
       "    </tr>\n",
       "  </thead>\n",
       "  <tbody>\n",
       "    <tr>\n",
       "      <th>2019-11-19 00:00:00-05:00</th>\n",
       "      <td>112.7100</td>\n",
       "      <td>311.91</td>\n",
       "    </tr>\n",
       "    <tr>\n",
       "      <th>2019-11-20 00:00:00-05:00</th>\n",
       "      <td>112.9700</td>\n",
       "      <td>310.79</td>\n",
       "    </tr>\n",
       "    <tr>\n",
       "      <th>2019-11-21 00:00:00-05:00</th>\n",
       "      <td>112.8131</td>\n",
       "      <td>310.29</td>\n",
       "    </tr>\n",
       "    <tr>\n",
       "      <th>2019-11-22 00:00:00-05:00</th>\n",
       "      <td>112.8500</td>\n",
       "      <td>311.00</td>\n",
       "    </tr>\n",
       "    <tr>\n",
       "      <th>2019-11-25 00:00:00-05:00</th>\n",
       "      <td>112.9800</td>\n",
       "      <td>313.35</td>\n",
       "    </tr>\n",
       "  </tbody>\n",
       "</table>\n",
       "</div>"
      ],
      "text/plain": [
       "                                AGG     SPY\n",
       "                              close   close\n",
       "2019-11-19 00:00:00-05:00  112.7100  311.91\n",
       "2019-11-20 00:00:00-05:00  112.9700  310.79\n",
       "2019-11-21 00:00:00-05:00  112.8131  310.29\n",
       "2019-11-22 00:00:00-05:00  112.8500  311.00\n",
       "2019-11-25 00:00:00-05:00  112.9800  313.35"
      ]
     },
     "execution_count": 5,
     "metadata": {},
     "output_type": "execute_result"
    }
   ],
   "source": [
    "combo_df.drop(columns=['open', 'high', 'low', 'volume'], level=1, inplace=True)\n",
    "combo_df.head()"
   ]
  },
  {
   "cell_type": "markdown",
   "metadata": {},
   "source": [
    "# Monte Carlo Simulation\n",
    "\n",
    "In this step, you will run Monte Carlo Simulations for your portfolio to model portfolio performance at different retirement ages. \n",
    "\n",
    "Complete the following steps:\n",
    "1. Calculate the daily returns for the SPY and AGG closing prices.\n",
    "2. Calculate volatility for both the SPY and AGG closing prices.\n",
    "3. Find the last day's closing price for both stocks and save those as variables.\n",
    "4. Run a Monte Carlo Simulation of at least 500 iterations and generate at least 30 years of closing prices\n",
    "\n",
    "### HINTS:\n",
    "There are 252 trading days per year, so the number of records to generate for each Monte Carlo run will be 252 days * 30 years"
   ]
  },
  {
   "cell_type": "code",
   "execution_count": 6,
   "metadata": {},
   "outputs": [
    {
     "data": {
      "text/html": [
       "<div>\n",
       "<style scoped>\n",
       "    .dataframe tbody tr th:only-of-type {\n",
       "        vertical-align: middle;\n",
       "    }\n",
       "\n",
       "    .dataframe tbody tr th {\n",
       "        vertical-align: top;\n",
       "    }\n",
       "\n",
       "    .dataframe thead tr th {\n",
       "        text-align: left;\n",
       "    }\n",
       "</style>\n",
       "<table border=\"1\" class=\"dataframe\">\n",
       "  <thead>\n",
       "    <tr>\n",
       "      <th></th>\n",
       "      <th>AGG</th>\n",
       "      <th>SPY</th>\n",
       "    </tr>\n",
       "    <tr>\n",
       "      <th></th>\n",
       "      <th>close</th>\n",
       "      <th>close</th>\n",
       "    </tr>\n",
       "  </thead>\n",
       "  <tbody>\n",
       "    <tr>\n",
       "      <th>2019-11-19 00:00:00-05:00</th>\n",
       "      <td>NaN</td>\n",
       "      <td>NaN</td>\n",
       "    </tr>\n",
       "    <tr>\n",
       "      <th>2019-11-20 00:00:00-05:00</th>\n",
       "      <td>0.002307</td>\n",
       "      <td>-0.003591</td>\n",
       "    </tr>\n",
       "    <tr>\n",
       "      <th>2019-11-21 00:00:00-05:00</th>\n",
       "      <td>-0.001389</td>\n",
       "      <td>-0.001609</td>\n",
       "    </tr>\n",
       "    <tr>\n",
       "      <th>2019-11-22 00:00:00-05:00</th>\n",
       "      <td>0.000327</td>\n",
       "      <td>0.002288</td>\n",
       "    </tr>\n",
       "    <tr>\n",
       "      <th>2019-11-25 00:00:00-05:00</th>\n",
       "      <td>0.001152</td>\n",
       "      <td>0.007556</td>\n",
       "    </tr>\n",
       "  </tbody>\n",
       "</table>\n",
       "</div>"
      ],
      "text/plain": [
       "                                AGG       SPY\n",
       "                              close     close\n",
       "2019-11-19 00:00:00-05:00       NaN       NaN\n",
       "2019-11-20 00:00:00-05:00  0.002307 -0.003591\n",
       "2019-11-21 00:00:00-05:00 -0.001389 -0.001609\n",
       "2019-11-22 00:00:00-05:00  0.000327  0.002288\n",
       "2019-11-25 00:00:00-05:00  0.001152  0.007556"
      ]
     },
     "execution_count": 6,
     "metadata": {},
     "output_type": "execute_result"
    }
   ],
   "source": [
    "# Calculate the daily roi for the stocks\n",
    "daily_returns = combo_df.pct_change()\n",
    "daily_returns.head()"
   ]
  },
  {
   "cell_type": "code",
   "execution_count": 7,
   "metadata": {},
   "outputs": [
    {
     "name": "stdout",
     "output_type": "stream",
     "text": [
      " AGG Average Daily Return: 0.000390939553380001\n",
      " SPY Average Daily Return: -0.0004982078178046435\n"
     ]
    }
   ],
   "source": [
    "avg_daily_return_agg = daily_returns.mean()['AGG']['close']\n",
    "avg_daily_return_spy = daily_returns.mean()['SPY']['close']\n",
    "print(f\" AGG Average Daily Return: {avg_daily_return_agg}\")\n",
    "print(f\" SPY Average Daily Return: {avg_daily_return_spy}\")"
   ]
  },
  {
   "cell_type": "code",
   "execution_count": 8,
   "metadata": {},
   "outputs": [
    {
     "name": "stdout",
     "output_type": "stream",
     "text": [
      " AGG Standard Deviation: 0.008486724919652336\n",
      " SPY Standard Deviation: 0.030111816629151453\n"
     ]
    }
   ],
   "source": [
    "# Calculate volatility\n",
    "std_dev_daily_return_agg = daily_returns.std()['AGG']['close']\n",
    "std_dev_daily_return_spy = daily_returns.std()['SPY']['close']\n",
    "print(f\" AGG Standard Deviation: {std_dev_daily_return_agg}\")\n",
    "print(f\" SPY Standard Deviation: {std_dev_daily_return_spy}\")"
   ]
  },
  {
   "cell_type": "code",
   "execution_count": 9,
   "metadata": {},
   "outputs": [
    {
     "name": "stdout",
     "output_type": "stream",
     "text": [
      "283.87\n",
      "116.74\n"
     ]
    }
   ],
   "source": [
    "# Save the last day's closing price\n",
    "spy_last = combo_df[\"SPY\"][\"close\"][-1]\n",
    "agg_last = combo_df[\"AGG\"][\"close\"][-1]\n",
    "print(spy_last)\n",
    "print(agg_last)"
   ]
  },
  {
   "cell_type": "code",
   "execution_count": 10,
   "metadata": {},
   "outputs": [],
   "source": [
    "# Setup the Monte Carlo Parameters\n",
    "number_simulations = 500\n",
    "number_records = 252*30\n",
    "monte_carlo = pd.DataFrame()\n",
    "portfolio_cumulative_returns = pd.DataFrame()"
   ]
  },
  {
   "cell_type": "code",
   "execution_count": 24,
   "metadata": {},
   "outputs": [
    {
     "data": {
      "text/html": [
       "<div>\n",
       "<style scoped>\n",
       "    .dataframe tbody tr th:only-of-type {\n",
       "        vertical-align: middle;\n",
       "    }\n",
       "\n",
       "    .dataframe tbody tr th {\n",
       "        vertical-align: top;\n",
       "    }\n",
       "\n",
       "    .dataframe thead th {\n",
       "        text-align: right;\n",
       "    }\n",
       "</style>\n",
       "<table border=\"1\" class=\"dataframe\">\n",
       "  <thead>\n",
       "    <tr style=\"text-align: right;\">\n",
       "      <th></th>\n",
       "      <th>0</th>\n",
       "      <th>1</th>\n",
       "      <th>2</th>\n",
       "      <th>3</th>\n",
       "      <th>4</th>\n",
       "      <th>5</th>\n",
       "      <th>6</th>\n",
       "      <th>7</th>\n",
       "      <th>8</th>\n",
       "      <th>9</th>\n",
       "      <th>...</th>\n",
       "      <th>490</th>\n",
       "      <th>491</th>\n",
       "      <th>492</th>\n",
       "      <th>493</th>\n",
       "      <th>494</th>\n",
       "      <th>495</th>\n",
       "      <th>496</th>\n",
       "      <th>497</th>\n",
       "      <th>498</th>\n",
       "      <th>499</th>\n",
       "    </tr>\n",
       "  </thead>\n",
       "  <tbody>\n",
       "    <tr>\n",
       "      <th>0</th>\n",
       "      <td>1.000000</td>\n",
       "      <td>1.000000</td>\n",
       "      <td>1.000000</td>\n",
       "      <td>1.000000</td>\n",
       "      <td>1.000000</td>\n",
       "      <td>1.000000</td>\n",
       "      <td>1.000000</td>\n",
       "      <td>1.000000</td>\n",
       "      <td>1.000000</td>\n",
       "      <td>1.000000</td>\n",
       "      <td>...</td>\n",
       "      <td>1.000000</td>\n",
       "      <td>1.000000</td>\n",
       "      <td>1.000000</td>\n",
       "      <td>1.000000</td>\n",
       "      <td>1.000000</td>\n",
       "      <td>1.000000</td>\n",
       "      <td>1.000000</td>\n",
       "      <td>1.000000</td>\n",
       "      <td>1.000000</td>\n",
       "      <td>1.000000</td>\n",
       "    </tr>\n",
       "    <tr>\n",
       "      <th>1</th>\n",
       "      <td>1.021390</td>\n",
       "      <td>0.971350</td>\n",
       "      <td>1.023117</td>\n",
       "      <td>0.995132</td>\n",
       "      <td>0.993144</td>\n",
       "      <td>0.991870</td>\n",
       "      <td>1.026855</td>\n",
       "      <td>0.982031</td>\n",
       "      <td>1.008968</td>\n",
       "      <td>0.992944</td>\n",
       "      <td>...</td>\n",
       "      <td>0.977669</td>\n",
       "      <td>0.995360</td>\n",
       "      <td>1.006104</td>\n",
       "      <td>1.004660</td>\n",
       "      <td>0.990814</td>\n",
       "      <td>1.048129</td>\n",
       "      <td>0.978882</td>\n",
       "      <td>1.034956</td>\n",
       "      <td>1.006428</td>\n",
       "      <td>0.995900</td>\n",
       "    </tr>\n",
       "    <tr>\n",
       "      <th>2</th>\n",
       "      <td>1.029181</td>\n",
       "      <td>0.975684</td>\n",
       "      <td>1.019408</td>\n",
       "      <td>1.011893</td>\n",
       "      <td>0.966839</td>\n",
       "      <td>0.966173</td>\n",
       "      <td>1.043152</td>\n",
       "      <td>0.983938</td>\n",
       "      <td>1.002296</td>\n",
       "      <td>1.000992</td>\n",
       "      <td>...</td>\n",
       "      <td>1.002084</td>\n",
       "      <td>0.996439</td>\n",
       "      <td>0.987990</td>\n",
       "      <td>0.990528</td>\n",
       "      <td>1.008057</td>\n",
       "      <td>1.030518</td>\n",
       "      <td>0.978073</td>\n",
       "      <td>1.043978</td>\n",
       "      <td>1.035048</td>\n",
       "      <td>0.979800</td>\n",
       "    </tr>\n",
       "    <tr>\n",
       "      <th>3</th>\n",
       "      <td>1.022070</td>\n",
       "      <td>0.976399</td>\n",
       "      <td>1.017144</td>\n",
       "      <td>1.032557</td>\n",
       "      <td>0.957639</td>\n",
       "      <td>0.959941</td>\n",
       "      <td>1.020908</td>\n",
       "      <td>1.014968</td>\n",
       "      <td>0.968710</td>\n",
       "      <td>0.996220</td>\n",
       "      <td>...</td>\n",
       "      <td>1.020130</td>\n",
       "      <td>0.995784</td>\n",
       "      <td>0.973852</td>\n",
       "      <td>0.987711</td>\n",
       "      <td>1.010856</td>\n",
       "      <td>1.020658</td>\n",
       "      <td>0.981517</td>\n",
       "      <td>1.055595</td>\n",
       "      <td>1.059420</td>\n",
       "      <td>0.959463</td>\n",
       "    </tr>\n",
       "    <tr>\n",
       "      <th>4</th>\n",
       "      <td>1.033481</td>\n",
       "      <td>0.949299</td>\n",
       "      <td>1.004941</td>\n",
       "      <td>1.002557</td>\n",
       "      <td>0.949455</td>\n",
       "      <td>0.935766</td>\n",
       "      <td>1.013670</td>\n",
       "      <td>1.009654</td>\n",
       "      <td>0.958167</td>\n",
       "      <td>0.945361</td>\n",
       "      <td>...</td>\n",
       "      <td>1.044716</td>\n",
       "      <td>0.974311</td>\n",
       "      <td>0.949169</td>\n",
       "      <td>0.973308</td>\n",
       "      <td>0.995960</td>\n",
       "      <td>1.027007</td>\n",
       "      <td>0.999965</td>\n",
       "      <td>1.069715</td>\n",
       "      <td>1.036134</td>\n",
       "      <td>0.939484</td>\n",
       "    </tr>\n",
       "  </tbody>\n",
       "</table>\n",
       "<p>5 rows × 500 columns</p>\n",
       "</div>"
      ],
      "text/plain": [
       "        0         1         2         3         4         5         6    \\\n",
       "0  1.000000  1.000000  1.000000  1.000000  1.000000  1.000000  1.000000   \n",
       "1  1.021390  0.971350  1.023117  0.995132  0.993144  0.991870  1.026855   \n",
       "2  1.029181  0.975684  1.019408  1.011893  0.966839  0.966173  1.043152   \n",
       "3  1.022070  0.976399  1.017144  1.032557  0.957639  0.959941  1.020908   \n",
       "4  1.033481  0.949299  1.004941  1.002557  0.949455  0.935766  1.013670   \n",
       "\n",
       "        7         8         9    ...       490       491       492       493  \\\n",
       "0  1.000000  1.000000  1.000000  ...  1.000000  1.000000  1.000000  1.000000   \n",
       "1  0.982031  1.008968  0.992944  ...  0.977669  0.995360  1.006104  1.004660   \n",
       "2  0.983938  1.002296  1.000992  ...  1.002084  0.996439  0.987990  0.990528   \n",
       "3  1.014968  0.968710  0.996220  ...  1.020130  0.995784  0.973852  0.987711   \n",
       "4  1.009654  0.958167  0.945361  ...  1.044716  0.974311  0.949169  0.973308   \n",
       "\n",
       "        494       495       496       497       498       499  \n",
       "0  1.000000  1.000000  1.000000  1.000000  1.000000  1.000000  \n",
       "1  0.990814  1.048129  0.978882  1.034956  1.006428  0.995900  \n",
       "2  1.008057  1.030518  0.978073  1.043978  1.035048  0.979800  \n",
       "3  1.010856  1.020658  0.981517  1.055595  1.059420  0.959463  \n",
       "4  0.995960  1.027007  0.999965  1.069715  1.036134  0.939484  \n",
       "\n",
       "[5 rows x 500 columns]"
      ]
     },
     "execution_count": 24,
     "metadata": {},
     "output_type": "execute_result"
    }
   ],
   "source": [
    "# Run the Monte Carlo Simulation\n",
    "\n",
    "for n in range(number_simulations):\n",
    "\n",
    "    simulated_agg_prices = [agg_last]\n",
    "    simulated_spy_prices = [spy_last]\n",
    "    \n",
    "    for i in range(number_records):\n",
    "        \n",
    "        simulated_agg_price = simulated_agg_prices[-1] * (1 + np.random.normal(avg_daily_return_agg, std_dev_daily_return_agg))\n",
    "        simulated_spy_price = simulated_spy_prices[-1] * (1 + np.random.normal(avg_daily_return_spy, std_dev_daily_return_spy))\n",
    "        \n",
    "        simulated_agg_prices.append(simulated_agg_price)\n",
    "        simulated_spy_prices.append(simulated_spy_price)\n",
    "    \n",
    "    monte_carlo[\"AGG Prices\"] = pd.Series(simulated_agg_prices)\n",
    "    monte_carlo[\"SPY Prices\"] = pd.Series(simulated_spy_prices)\n",
    "    \n",
    "    simulated_daily_returns = monte_carlo.pct_change()\n",
    "    \n",
    "    weights = [0.40, 0.60]\n",
    "    \n",
    "    portfolio_daily_returns = simulated_daily_returns.dot(weights)\n",
    "    \n",
    "    portfolio_cumulative_returns[n] = (1 + portfolio_daily_returns.fillna(0)).cumprod()\n",
    "    \n",
    "portfolio_cumulative_returns.head() \n"
   ]
  },
  {
   "cell_type": "code",
   "execution_count": 25,
   "metadata": {},
   "outputs": [
    {
     "data": {
      "text/plain": [
       "<matplotlib.axes._subplots.AxesSubplot at 0x11fe9f290>"
      ]
     },
     "execution_count": 25,
     "metadata": {},
     "output_type": "execute_result"
    },
    {
     "data": {
      "image/png": "[encoded data removed]",
      "text/plain": [
       "<Figure size 432x288 with 1 Axes>"
      ]
     },
     "metadata": {
      "needs_background": "light"
     },
     "output_type": "display_data"
    }
   ],
   "source": [
    "# Visualize the Simulation\n",
    "plot_title = f\"{n+1} Simulations of Cumulative Portfolio Return Trajectories Over the Next 30 Years\"\n",
    "portfolio_cumulative_returns.plot(legend=None, title=plot_title)"
   ]
  },
  {
   "cell_type": "code",
   "execution_count": 31,
   "metadata": {},
   "outputs": [
    {
     "data": {
      "text/plain": [
       "AGG Prices    372.542531\n",
       "SPY Prices      0.734842\n",
       "Name: 7560, dtype: float64"
      ]
     },
     "execution_count": 31,
     "metadata": {},
     "output_type": "execute_result"
    }
   ],
   "source": [
    "ending_returns = monte_carlo.iloc[-1, :]\n",
    "ending_returns"
   ]
  },
  {
   "cell_type": "code",
   "execution_count": 26,
   "metadata": {},
   "outputs": [
    {
     "data": {
      "text/plain": [
       "0    1.522866\n",
       "1    0.012456\n",
       "2    0.084410\n",
       "3    0.054292\n",
       "4    0.465064\n",
       "Name: 7560, dtype: float64"
      ]
     },
     "execution_count": 26,
     "metadata": {},
     "output_type": "execute_result"
    }
   ],
   "source": [
    "# Select the last row for the cumulative returns (cumulative returns at 30 years)\n",
    "ending_cumulative_returns_30 = portfolio_cumulative_returns.iloc[-1, :]\n",
    "ending_cumulative_returns_30.head()"
   ]
  },
  {
   "cell_type": "code",
   "execution_count": 27,
   "metadata": {},
   "outputs": [
    {
     "data": {
      "text/plain": [
       "0    0.929279\n",
       "1    0.028945\n",
       "2    0.302489\n",
       "3    0.756148\n",
       "4    0.830210\n",
       "Name: 5041, dtype: float64"
      ]
     },
     "execution_count": 27,
     "metadata": {},
     "output_type": "execute_result"
    }
   ],
   "source": [
    "# Select the last row for the cumulative returns (cumulative returns at 20 years)\n",
    "ending_cumulative_returns_20 = portfolio_cumulative_returns.iloc[-(10 * 252), :]\n",
    "ending_cumulative_returns_20.head()"
   ]
  },
  {
   "cell_type": "code",
   "execution_count": 28,
   "metadata": {},
   "outputs": [
    {
     "data": {
      "text/plain": [
       "0.05    0.005826\n",
       "0.95    1.420064\n",
       "Name: 7560, dtype: float64"
      ]
     },
     "execution_count": 28,
     "metadata": {},
     "output_type": "execute_result"
    },
    {
     "data": {
      "image/png": "[encoded data removed]",
      "text/plain": [
       "<Figure size 432x288 with 1 Axes>"
      ]
     },
     "metadata": {
      "needs_background": "light"
     },
     "output_type": "display_data"
    }
   ],
   "source": [
    "# Display the 90% confidence interval for the ending returns in 30 Years\n",
    "ending_cumulative_returns_30.plot(kind='hist', bins=10)\n",
    "ending_cumulative_returns_30.value_counts(bins=11) / len(ending_cumulative_returns_30)\n",
    "confidence_interval = ending_cumulative_returns_30.quantile(q=[0.05, 0.95])\n",
    "confidence_interval"
   ]
  },
  {
   "cell_type": "code",
   "execution_count": 29,
   "metadata": {},
   "outputs": [
    {
     "data": {
      "text/plain": [
       "<matplotlib.lines.Line2D at 0x150339990>"
      ]
     },
     "execution_count": 29,
     "metadata": {},
     "output_type": "execute_result"
    },
    {
     "data": {
      "image/png": "[encoded data removed]",
      "text/plain": [
       "<Figure size 432x288 with 1 Axes>"
      ]
     },
     "metadata": {
      "needs_background": "light"
     },
     "output_type": "display_data"
    }
   ],
   "source": [
    "# Visualize the distribution of the ending returns\n",
    "plt.figure();\n",
    "ending_cumulative_returns_30.plot(kind='hist', density=True, bins=11)\n",
    "plt.axvline(confidence_interval.iloc[0], color='r')\n",
    "plt.axvline(confidence_interval.iloc[1], color='r')"
   ]
  },
  {
   "cell_type": "markdown",
   "metadata": {},
   "source": [
    "---"
   ]
  },
  {
   "cell_type": "markdown",
   "metadata": {},
   "source": [
    "# Retirement Analysis\n",
    "\n",
    "In this section, you will use the monte carlo model to answer the following retirement planning questions:\n",
    "\n",
    "1. What are the expected cumulative returns at 30 years for the 10th, 50th, and 90th percentiles?\n",
    "2. Given an initial investment of `$20,000`, what is the expected portfolio return in dollars at the 10th, 50th, and 90th percentiles?\n",
    "3. Given the current projected annual income from the Plaid analysis, will a 4% withdraw rate from the retirement portfolio meet or exceed that value at the 10th percentile?\n",
    "4. How would a 50% increase in the initial investment amount affect the 4% retirement withdrawal?"
   ]
  },
  {
   "cell_type": "markdown",
   "metadata": {},
   "source": [
    "### What are the expected cumulative returns at 30 years for the 10th, 50th, and 90th percentiles?"
   ]
  },
  {
   "cell_type": "code",
   "execution_count": 17,
   "metadata": {},
   "outputs": [
    {
     "data": {
      "image/png": "[encoded data removed]",
      "text/plain": [
       "<Figure size 432x288 with 1 Axes>"
      ]
     },
     "metadata": {
      "needs_background": "light"
     },
     "output_type": "display_data"
    }
   ],
   "source": [
    "# # 30 Years 50th percentile\n",
    "# ending_cumulative_returns_30.plot(kind='hist', bins=11)\n",
    "# ending_cumulative_returns_30.value_counts(bins=11) / len(ending_cumulative_returns)\n",
    "# confidence_interval = ending_cumulative_returns_30.quantile(q=[0.5, 0.5])\n",
    "# confidence_interval\n",
    "\n",
    "# 30 years 90th and 10th percentile\n",
    "ending_cumulative_returns_30.plot(kind='hist', bins=11)\n",
    "ending_cumulative_returns_30.value_counts(bins=11) / len(ending_cumulative_returns_30)\n",
    "confidence_interval = ending_cumulative_returns_30.quantile(q=[0.05, 0.95])"
   ]
  },
  {
   "cell_type": "markdown",
   "metadata": {},
   "source": [
    "### Given an initial investment of `$20,000`, what is the expected portfolio return in dollars at the 10th, 50th, and 90th percentiles?"
   ]
  },
  {
   "cell_type": "code",
   "execution_count": 18,
   "metadata": {},
   "outputs": [
    {
     "name": "stdout",
     "output_type": "stream",
     "text": [
      "There is a 90% chance that an initial investment of $20,000 in the portfolio over the next 30 years will end within in the range of $20277.06786473324 and $32778.39874770218\n"
     ]
    }
   ],
   "source": [
    "initial_investment = 20000\n",
    "\n",
    "# Calculate investment profit/loss of lower and upper bound cumulative portfolio returns\n",
    "investment_pnl_lower_bound = initial_investment + (initial_investment * confidence_interval.iloc[0])\n",
    "investment_pnl_upper_bound = initial_investment + (initial_investment * confidence_interval.iloc[1])\n",
    "                                                    \n",
    "# Print the results\n",
    "print(f\"There is a 90% chance that an initial investment of $20,000 in the portfolio\"\n",
    "      f\" over the next 30 years will end within in the range of\"\n",
    "      f\" ${investment_pnl_lower_bound} and ${investment_pnl_upper_bound}\")"
   ]
  },
  {
   "cell_type": "markdown",
   "metadata": {},
   "source": [
    "### Given the current projected annual income from the Plaid analysis, will a 4% withdraw rate from the retirement portfolio meet or exceed that value at the 10th percentile?\n",
    "\n",
    "Note: This is effectively saying that 90% of the expected returns will be greater than the return at the 10th percentile, so this can help measure the uncertainty about having enough funds at retirement"
   ]
  },
  {
   "cell_type": "code",
   "execution_count": 19,
   "metadata": {},
   "outputs": [],
   "source": [
    "# YOUR CODE HERE"
   ]
  },
  {
   "cell_type": "markdown",
   "metadata": {},
   "source": [
    "### How would a 50% increase in the initial investment amount affect the 4% retirement withdrawal?"
   ]
  },
  {
   "cell_type": "code",
   "execution_count": 20,
   "metadata": {},
   "outputs": [],
   "source": [
    "# YOUR CODE HERE"
   ]
  },
  {
   "cell_type": "markdown",
   "metadata": {},
   "source": [
    "### Optional Challenge\n",
    "\n",
    "In this section, you will calculate and plot the cumulative returns for the median and 90% confidence intervals. This plot shows the expected cumulative returns for any given day between the first day and the last day of investment. "
   ]
  },
  {
   "cell_type": "code",
   "execution_count": 21,
   "metadata": {},
   "outputs": [],
   "source": [
    "# for n in range(number_simulations):\n",
    "#     simulated_agg_prices = [agg_last]\n",
    "#     simulated_spy_prices = [spy_last]\n",
    "    \n",
    "# #     for i in range(number_records):\n",
    "# #         simulated_agg_price = simulated_agg_prices[-1] * (1 + np.random.normal(avg_daily_return_agg, std_dev_daily_return_agg))\n",
    "# #         simulated_spy_price = simulated_spy_prices[-1] * (1 + np.random.normal(avg_daily_return_spy, std_dev_daily_return_spy))\n",
    "        \n",
    "# #         simulated_agg_prices.append(simulated_agg_price)\n",
    "# #         simulated_spy_prices.append(simulated_spy_price)\n",
    "    \n",
    "    \n",
    "    \n",
    "# #     monte_carlo[\"AGG Prices\"] = pd.Series(simulated_agg_price)\n",
    "# #     monte_carlo[\"SPY Prices\"] = pd.Series(simulated_spy_price)\n",
    "    \n",
    "    \n",
    "    \n",
    "#     for i in range(number_records):\n",
    "        \n",
    "#         simulated_agg_price = simulated_agg_prices[-1] * (1 + np.random.normal(avg_daily_return_agg, std_dev_daily_return_agg))\n",
    "#         simulated_spy_price = simulated_spy_prices[-1] * (1 + np.random.normal(avg_daily_return_spy, std_dev_daily_return_spy))\n",
    "        \n",
    "#         simulated_agg_prices.append(simulated_agg_price)\n",
    "#         simulated_spy_prices.append(simulated_spy_price)\n",
    "    \n",
    "#     monte_carlo[\"AGG Prices\"] = pd.Series(simulated_agg_prices)\n",
    "#     monte_carlo[\"SPY Prices\"] = pd.Series(simulated_spy_prices)\n",
    "    \n",
    "# #     simulated_daily_returns = monte_carlo.pct_change()\n",
    "    \n",
    "# #     weights = [0.4, 0.6]\n",
    "    \n",
    "# #     portfolio_daily_returns = simulated_daily_returns.dot(weights)\n",
    "    \n",
    "# #     portfolio_cumulative_returns[n] = (1 + portfolio_daily_returns.fillna(0)).cumprod()\n",
    "    \n",
    "# # portfolio_cumulative_returns.head() \n",
    "\n",
    "# monte_carlo"
   ]
  },
  {
   "cell_type": "code",
   "execution_count": null,
   "metadata": {},
   "outputs": [],
   "source": []
  }
 ],
 "metadata": {
  "kernel_info": {
   "name": "dev"
  },
  "kernelspec": {
   "display_name": "Python 3",
   "language": "python",
   "name": "python3"
  },
  "language_info": {
   "codemirror_mode": {
    "name": "ipython",
    "version": 3
   },
   "file_extension": ".py",
   "mimetype": "text/x-python",
   "name": "python",
   "nbconvert_exporter": "python",
   "pygments_lexer": "ipython3",
   "version": "3.7.6"
  },
  "nteract": {
   "version": "0.12.3"
  }
 },
 "nbformat": 4,
 "nbformat_minor": 4
}
