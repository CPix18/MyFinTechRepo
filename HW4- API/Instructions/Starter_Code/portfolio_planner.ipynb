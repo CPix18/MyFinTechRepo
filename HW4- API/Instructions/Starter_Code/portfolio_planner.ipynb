{
 "cells": [
  {
   "cell_type": "code",
   "execution_count": 1,
   "metadata": {},
   "outputs": [],
   "source": [
    "import numpy as np\n",
    "import pandas as pd\n",
    "from datetime import datetime, timedelta\n",
    "import os\n",
    "import matplotlib.pyplot as plt\n",
    "%matplotlib inline"
   ]
  },
  {
   "cell_type": "code",
   "execution_count": 2,
   "metadata": {},
   "outputs": [],
   "source": [
    "np.random.seed(42)"
   ]
  },
  {
   "cell_type": "markdown",
   "metadata": {},
   "source": [
    "# Portfolio Planner\n",
    "\n",
    "In this activity, you will use the iexfinance api to grab historical data for a 60/40 portfolio using `SPY` to represent the stock portion and `AGG` to represent the bonds."
   ]
  },
  {
   "cell_type": "code",
   "execution_count": 58,
   "metadata": {},
   "outputs": [],
   "source": [
    "import alpaca_trade_api as tradeapi\n",
    "\n",
    "# Set Alpaca API key and secret\n",
    "alpaca_api_key = os.getenv(\"ALPACA_API_KEY\")\n",
    "alpaca_secret_key = os.getenv(\"ALPACA_SECRET_KEY\")\n",
    "# Initialize the API\n",
    "api = tradeapi.REST(alpaca_api_key, alpaca_secret_key, api_version='v2')"
   ]
  },
  {
   "cell_type": "markdown",
   "metadata": {},
   "source": [
    "# Data Collection\n",
    "\n",
    "In this step, you will need to use the IEX api to fetch closing prices for the `SPY` and `AGG` tickers. Save the results as a pandas DataFrame"
   ]
  },
  {
   "cell_type": "code",
   "execution_count": 59,
   "metadata": {},
   "outputs": [
    {
     "data": {
      "text/plain": [
       "<bound method NDFrame.head of                               AGG                                          \\\n",
       "                             open      high       low     close    volume   \n",
       "2019-11-18 00:00:00-05:00  112.56  112.6460  112.5200  112.5950   5550696   \n",
       "2019-11-19 00:00:00-05:00  112.63  112.7600  112.6000  112.7100   2181200   \n",
       "2019-11-20 00:00:00-05:00  112.83  112.9800  112.8050  112.9700   3218845   \n",
       "2019-11-21 00:00:00-05:00  112.80  112.8859  112.7200  112.8131   3971410   \n",
       "2019-11-22 00:00:00-05:00  112.89  112.9000  112.7605  112.8500   2233649   \n",
       "...                           ...       ...       ...       ...       ...   \n",
       "2020-04-06 00:00:00-04:00  115.02  115.6100  115.0200  115.5800  13270754   \n",
       "2020-04-07 00:00:00-04:00  115.54  115.7400  115.3600  115.6900  10415760   \n",
       "2020-04-08 00:00:00-04:00  115.70  115.9700  115.5500  115.8100   8598048   \n",
       "2020-04-09 00:00:00-04:00  116.50  117.2500  116.1700  117.1100   8244166   \n",
       "2020-04-13 00:00:00-04:00  117.09  117.1700  116.5308  116.7200  10178028   \n",
       "\n",
       "                              SPY                                       \n",
       "                             open    high       low   close     volume  \n",
       "2019-11-18 00:00:00-05:00  311.53  312.28  311.0300  312.00   40559312  \n",
       "2019-11-19 00:00:00-05:00  312.68  312.69  311.2200  311.91   56892505  \n",
       "2019-11-20 00:00:00-05:00  311.28  311.85  309.0600  310.79   62833225  \n",
       "2019-11-21 00:00:00-05:00  310.89  311.01  309.3900  310.29   42497606  \n",
       "2019-11-22 00:00:00-05:00  310.90  311.24  309.8500  311.00   32532889  \n",
       "...                           ...     ...       ...     ...        ...  \n",
       "2020-04-06 00:00:00-04:00  257.84  267.00  256.7250  264.97  301998522  \n",
       "2020-04-07 00:00:00-04:00  274.21  275.03  264.8900  265.10  346619636  \n",
       "2020-04-08 00:00:00-04:00  267.96  276.00  265.2542  274.07  260269454  \n",
       "2020-04-09 00:00:00-04:00  277.58  281.20  275.4700  278.24  314269174  \n",
       "2020-04-13 00:00:00-04:00  277.14  277.51  271.4100  275.57  199751546  \n",
       "\n",
       "[100 rows x 10 columns]>"
      ]
     },
     "execution_count": 59,
     "metadata": {},
     "output_type": "execute_result"
    }
   ],
   "source": [
    "tickers = [\"SPY\", \"AGG\"]\n",
    "timeframe = \"1D\"\n",
    "end_date = datetime.now()\n",
    "start_date = end_date + timedelta(252)\n",
    "combo_df = api.get_barset(\n",
    "    tickers,\n",
    "    timeframe,\n",
    "    limit=None,\n",
    "    start=start_date,\n",
    "    end=end_date,\n",
    "    after=None,\n",
    "    until=None,\n",
    ").df\n",
    "\n",
    "combo_df.head"
   ]
  },
  {
   "cell_type": "code",
   "execution_count": 60,
   "metadata": {},
   "outputs": [
    {
     "data": {
      "text/html": [
       "<div>\n",
       "<style scoped>\n",
       "    .dataframe tbody tr th:only-of-type {\n",
       "        vertical-align: middle;\n",
       "    }\n",
       "\n",
       "    .dataframe tbody tr th {\n",
       "        vertical-align: top;\n",
       "    }\n",
       "\n",
       "    .dataframe thead tr th {\n",
       "        text-align: left;\n",
       "    }\n",
       "</style>\n",
       "<table border=\"1\" class=\"dataframe\">\n",
       "  <thead>\n",
       "    <tr>\n",
       "      <th></th>\n",
       "      <th>AGG</th>\n",
       "      <th>SPY</th>\n",
       "    </tr>\n",
       "    <tr>\n",
       "      <th></th>\n",
       "      <th>close</th>\n",
       "      <th>close</th>\n",
       "    </tr>\n",
       "  </thead>\n",
       "  <tbody>\n",
       "    <tr>\n",
       "      <th>2019-11-18 00:00:00-05:00</th>\n",
       "      <td>112.5950</td>\n",
       "      <td>312.00</td>\n",
       "    </tr>\n",
       "    <tr>\n",
       "      <th>2019-11-19 00:00:00-05:00</th>\n",
       "      <td>112.7100</td>\n",
       "      <td>311.91</td>\n",
       "    </tr>\n",
       "    <tr>\n",
       "      <th>2019-11-20 00:00:00-05:00</th>\n",
       "      <td>112.9700</td>\n",
       "      <td>310.79</td>\n",
       "    </tr>\n",
       "    <tr>\n",
       "      <th>2019-11-21 00:00:00-05:00</th>\n",
       "      <td>112.8131</td>\n",
       "      <td>310.29</td>\n",
       "    </tr>\n",
       "    <tr>\n",
       "      <th>2019-11-22 00:00:00-05:00</th>\n",
       "      <td>112.8500</td>\n",
       "      <td>311.00</td>\n",
       "    </tr>\n",
       "  </tbody>\n",
       "</table>\n",
       "</div>"
      ],
      "text/plain": [
       "                                AGG     SPY\n",
       "                              close   close\n",
       "2019-11-18 00:00:00-05:00  112.5950  312.00\n",
       "2019-11-19 00:00:00-05:00  112.7100  311.91\n",
       "2019-11-20 00:00:00-05:00  112.9700  310.79\n",
       "2019-11-21 00:00:00-05:00  112.8131  310.29\n",
       "2019-11-22 00:00:00-05:00  112.8500  311.00"
      ]
     },
     "execution_count": 60,
     "metadata": {},
     "output_type": "execute_result"
    }
   ],
   "source": [
    "combo_df.drop(columns=['open', 'high', 'low', 'volume'], level=1, inplace=True)\n",
    "combo_df.head()"
   ]
  },
  {
   "cell_type": "markdown",
   "metadata": {},
   "source": [
    "# Monte Carlo Simulation\n",
    "\n",
    "In this step, you will run Monte Carlo Simulations for your portfolio to model portfolio performance at different retirement ages. \n",
    "\n",
    "Complete the following steps:\n",
    "1. Calculate the daily returns for the SPY and AGG closing prices.\n",
    "2. Calculate volatility for both the SPY and AGG closing prices.\n",
    "3. Find the last day's closing price for both stocks and save those as variables.\n",
    "4. Run a Monte Carlo Simulation of at least 500 iterations and generate at least 30 years of closing prices\n",
    "\n",
    "### HINTS:\n",
    "There are 252 trading days per year, so the number of records to generate for each Monte Carlo run will be 252 days * 30 years"
   ]
  },
  {
   "cell_type": "code",
   "execution_count": 61,
   "metadata": {},
   "outputs": [
    {
     "data": {
      "text/html": [
       "<div>\n",
       "<style scoped>\n",
       "    .dataframe tbody tr th:only-of-type {\n",
       "        vertical-align: middle;\n",
       "    }\n",
       "\n",
       "    .dataframe tbody tr th {\n",
       "        vertical-align: top;\n",
       "    }\n",
       "\n",
       "    .dataframe thead tr th {\n",
       "        text-align: left;\n",
       "    }\n",
       "</style>\n",
       "<table border=\"1\" class=\"dataframe\">\n",
       "  <thead>\n",
       "    <tr>\n",
       "      <th></th>\n",
       "      <th>AGG</th>\n",
       "      <th>SPY</th>\n",
       "    </tr>\n",
       "    <tr>\n",
       "      <th></th>\n",
       "      <th>close</th>\n",
       "      <th>close</th>\n",
       "    </tr>\n",
       "  </thead>\n",
       "  <tbody>\n",
       "    <tr>\n",
       "      <th>2019-11-18 00:00:00-05:00</th>\n",
       "      <td>NaN</td>\n",
       "      <td>NaN</td>\n",
       "    </tr>\n",
       "    <tr>\n",
       "      <th>2019-11-19 00:00:00-05:00</th>\n",
       "      <td>0.001021</td>\n",
       "      <td>-0.000288</td>\n",
       "    </tr>\n",
       "    <tr>\n",
       "      <th>2019-11-20 00:00:00-05:00</th>\n",
       "      <td>0.002307</td>\n",
       "      <td>-0.003591</td>\n",
       "    </tr>\n",
       "    <tr>\n",
       "      <th>2019-11-21 00:00:00-05:00</th>\n",
       "      <td>-0.001389</td>\n",
       "      <td>-0.001609</td>\n",
       "    </tr>\n",
       "    <tr>\n",
       "      <th>2019-11-22 00:00:00-05:00</th>\n",
       "      <td>0.000327</td>\n",
       "      <td>0.002288</td>\n",
       "    </tr>\n",
       "  </tbody>\n",
       "</table>\n",
       "</div>"
      ],
      "text/plain": [
       "                                AGG       SPY\n",
       "                              close     close\n",
       "2019-11-18 00:00:00-05:00       NaN       NaN\n",
       "2019-11-19 00:00:00-05:00  0.001021 -0.000288\n",
       "2019-11-20 00:00:00-05:00  0.002307 -0.003591\n",
       "2019-11-21 00:00:00-05:00 -0.001389 -0.001609\n",
       "2019-11-22 00:00:00-05:00  0.000327  0.002288"
      ]
     },
     "execution_count": 61,
     "metadata": {},
     "output_type": "execute_result"
    }
   ],
   "source": [
    "# Calculate the daily roi for the stocks\n",
    "daily_returns = combo_df.pct_change()\n",
    "daily_returns.head()"
   ]
  },
  {
   "cell_type": "code",
   "execution_count": 62,
   "metadata": {},
   "outputs": [
    {
     "name": "stdout",
     "output_type": "stream",
     "text": [
      " AGG Average Daily Return: 0.00039952550793326437\n",
      " SPY Average Daily Return: -0.0008053578222638612\n"
     ]
    }
   ],
   "source": [
    "avg_daily_return_agg = daily_returns.mean()['AGG']['close']\n",
    "avg_daily_return_spy = daily_returns.mean()['SPY']['close']\n",
    "print(f\" AGG Average Daily Return: {avg_daily_return_agg}\")\n",
    "print(f\" SPY Average Daily Return: {avg_daily_return_spy}\")"
   ]
  },
  {
   "cell_type": "code",
   "execution_count": 63,
   "metadata": {},
   "outputs": [
    {
     "name": "stdout",
     "output_type": "stream",
     "text": [
      " AGG Standard Deviation: 0.008486930467479845\n",
      " SPY Standard Deviation: 0.029950975941050197\n"
     ]
    }
   ],
   "source": [
    "# Calculate volatility\n",
    "std_dev_daily_return_agg = daily_returns.std()['AGG']['close']\n",
    "std_dev_daily_return_spy = daily_returns.std()['SPY']['close']\n",
    "print(f\" AGG Standard Deviation: {std_dev_daily_return_agg}\")\n",
    "print(f\" SPY Standard Deviation: {std_dev_daily_return_spy}\")"
   ]
  },
  {
   "cell_type": "code",
   "execution_count": 64,
   "metadata": {},
   "outputs": [
    {
     "name": "stdout",
     "output_type": "stream",
     "text": [
      "275.57\n",
      "116.72\n"
     ]
    }
   ],
   "source": [
    "# Save the last day's closing price\n",
    "spy_last = combo_df[\"SPY\"][\"close\"][-1]\n",
    "agg_last = combo_df[\"AGG\"][\"close\"][-1]\n",
    "print(spy_last)\n",
    "print(agg_last)"
   ]
  },
  {
   "cell_type": "code",
   "execution_count": 88,
   "metadata": {},
   "outputs": [],
   "source": [
    "# Setup the Monte Carlo Parameters\n",
    "number_simulations = 500\n",
    "number_records = 252*30\n",
    "monte_carlo = pd.DataFrame()\n",
    "portfolio_cumulative_returns = pd.DataFrame()"
   ]
  },
  {
   "cell_type": "code",
   "execution_count": 89,
   "metadata": {},
   "outputs": [
    {
     "data": {
      "text/html": [
       "<div>\n",
       "<style scoped>\n",
       "    .dataframe tbody tr th:only-of-type {\n",
       "        vertical-align: middle;\n",
       "    }\n",
       "\n",
       "    .dataframe tbody tr th {\n",
       "        vertical-align: top;\n",
       "    }\n",
       "\n",
       "    .dataframe thead th {\n",
       "        text-align: right;\n",
       "    }\n",
       "</style>\n",
       "<table border=\"1\" class=\"dataframe\">\n",
       "  <thead>\n",
       "    <tr style=\"text-align: right;\">\n",
       "      <th></th>\n",
       "      <th>0</th>\n",
       "      <th>1</th>\n",
       "      <th>2</th>\n",
       "      <th>3</th>\n",
       "      <th>4</th>\n",
       "      <th>5</th>\n",
       "      <th>6</th>\n",
       "      <th>7</th>\n",
       "      <th>8</th>\n",
       "      <th>9</th>\n",
       "      <th>...</th>\n",
       "      <th>490</th>\n",
       "      <th>491</th>\n",
       "      <th>492</th>\n",
       "      <th>493</th>\n",
       "      <th>494</th>\n",
       "      <th>495</th>\n",
       "      <th>496</th>\n",
       "      <th>497</th>\n",
       "      <th>498</th>\n",
       "      <th>499</th>\n",
       "    </tr>\n",
       "  </thead>\n",
       "  <tbody>\n",
       "    <tr>\n",
       "      <th>0</th>\n",
       "      <td>1.000000</td>\n",
       "      <td>1.000000</td>\n",
       "      <td>1.000000</td>\n",
       "      <td>1.000000</td>\n",
       "      <td>1.000000</td>\n",
       "      <td>1.000000</td>\n",
       "      <td>1.000000</td>\n",
       "      <td>1.000000</td>\n",
       "      <td>1.000000</td>\n",
       "      <td>1.000000</td>\n",
       "      <td>...</td>\n",
       "      <td>1.000000</td>\n",
       "      <td>1.000000</td>\n",
       "      <td>1.000000</td>\n",
       "      <td>1.000000</td>\n",
       "      <td>1.000000</td>\n",
       "      <td>1.000000</td>\n",
       "      <td>1.000000</td>\n",
       "      <td>1.000000</td>\n",
       "      <td>1.000000</td>\n",
       "      <td>1.000000</td>\n",
       "    </tr>\n",
       "    <tr>\n",
       "      <th>1</th>\n",
       "      <td>0.966350</td>\n",
       "      <td>0.995066</td>\n",
       "      <td>0.969285</td>\n",
       "      <td>1.029984</td>\n",
       "      <td>1.003349</td>\n",
       "      <td>1.005808</td>\n",
       "      <td>1.001580</td>\n",
       "      <td>0.995955</td>\n",
       "      <td>0.996111</td>\n",
       "      <td>1.001439</td>\n",
       "      <td>...</td>\n",
       "      <td>1.017887</td>\n",
       "      <td>0.991765</td>\n",
       "      <td>1.004188</td>\n",
       "      <td>0.982348</td>\n",
       "      <td>0.986549</td>\n",
       "      <td>1.006479</td>\n",
       "      <td>0.986987</td>\n",
       "      <td>1.027118</td>\n",
       "      <td>1.032586</td>\n",
       "      <td>1.005098</td>\n",
       "    </tr>\n",
       "    <tr>\n",
       "      <th>2</th>\n",
       "      <td>0.974060</td>\n",
       "      <td>0.996005</td>\n",
       "      <td>0.980783</td>\n",
       "      <td>0.997318</td>\n",
       "      <td>0.988957</td>\n",
       "      <td>0.999714</td>\n",
       "      <td>1.027745</td>\n",
       "      <td>1.001983</td>\n",
       "      <td>0.986337</td>\n",
       "      <td>0.972772</td>\n",
       "      <td>...</td>\n",
       "      <td>1.004358</td>\n",
       "      <td>1.019843</td>\n",
       "      <td>1.007502</td>\n",
       "      <td>0.988244</td>\n",
       "      <td>0.986364</td>\n",
       "      <td>1.015129</td>\n",
       "      <td>1.001135</td>\n",
       "      <td>1.027852</td>\n",
       "      <td>1.032839</td>\n",
       "      <td>1.002583</td>\n",
       "    </tr>\n",
       "    <tr>\n",
       "      <th>3</th>\n",
       "      <td>0.976945</td>\n",
       "      <td>0.981937</td>\n",
       "      <td>0.995610</td>\n",
       "      <td>1.026394</td>\n",
       "      <td>0.987386</td>\n",
       "      <td>1.008965</td>\n",
       "      <td>1.007170</td>\n",
       "      <td>0.992081</td>\n",
       "      <td>0.962179</td>\n",
       "      <td>0.977340</td>\n",
       "      <td>...</td>\n",
       "      <td>1.009092</td>\n",
       "      <td>1.046185</td>\n",
       "      <td>1.020226</td>\n",
       "      <td>1.016449</td>\n",
       "      <td>0.955278</td>\n",
       "      <td>1.020115</td>\n",
       "      <td>1.005677</td>\n",
       "      <td>1.033571</td>\n",
       "      <td>1.051825</td>\n",
       "      <td>0.998472</td>\n",
       "    </tr>\n",
       "    <tr>\n",
       "      <th>4</th>\n",
       "      <td>0.954962</td>\n",
       "      <td>0.994041</td>\n",
       "      <td>0.972195</td>\n",
       "      <td>1.014580</td>\n",
       "      <td>0.978992</td>\n",
       "      <td>1.032316</td>\n",
       "      <td>1.002814</td>\n",
       "      <td>0.974503</td>\n",
       "      <td>0.966321</td>\n",
       "      <td>0.988430</td>\n",
       "      <td>...</td>\n",
       "      <td>1.055949</td>\n",
       "      <td>1.046947</td>\n",
       "      <td>1.013374</td>\n",
       "      <td>1.027408</td>\n",
       "      <td>0.960388</td>\n",
       "      <td>0.999016</td>\n",
       "      <td>1.006014</td>\n",
       "      <td>1.041938</td>\n",
       "      <td>1.031608</td>\n",
       "      <td>1.008630</td>\n",
       "    </tr>\n",
       "  </tbody>\n",
       "</table>\n",
       "<p>5 rows × 500 columns</p>\n",
       "</div>"
      ],
      "text/plain": [
       "        0         1         2         3         4         5         6    \\\n",
       "0  1.000000  1.000000  1.000000  1.000000  1.000000  1.000000  1.000000   \n",
       "1  0.966350  0.995066  0.969285  1.029984  1.003349  1.005808  1.001580   \n",
       "2  0.974060  0.996005  0.980783  0.997318  0.988957  0.999714  1.027745   \n",
       "3  0.976945  0.981937  0.995610  1.026394  0.987386  1.008965  1.007170   \n",
       "4  0.954962  0.994041  0.972195  1.014580  0.978992  1.032316  1.002814   \n",
       "\n",
       "        7         8         9    ...       490       491       492       493  \\\n",
       "0  1.000000  1.000000  1.000000  ...  1.000000  1.000000  1.000000  1.000000   \n",
       "1  0.995955  0.996111  1.001439  ...  1.017887  0.991765  1.004188  0.982348   \n",
       "2  1.001983  0.986337  0.972772  ...  1.004358  1.019843  1.007502  0.988244   \n",
       "3  0.992081  0.962179  0.977340  ...  1.009092  1.046185  1.020226  1.016449   \n",
       "4  0.974503  0.966321  0.988430  ...  1.055949  1.046947  1.013374  1.027408   \n",
       "\n",
       "        494       495       496       497       498       499  \n",
       "0  1.000000  1.000000  1.000000  1.000000  1.000000  1.000000  \n",
       "1  0.986549  1.006479  0.986987  1.027118  1.032586  1.005098  \n",
       "2  0.986364  1.015129  1.001135  1.027852  1.032839  1.002583  \n",
       "3  0.955278  1.020115  1.005677  1.033571  1.051825  0.998472  \n",
       "4  0.960388  0.999016  1.006014  1.041938  1.031608  1.008630  \n",
       "\n",
       "[5 rows x 500 columns]"
      ]
     },
     "execution_count": 89,
     "metadata": {},
     "output_type": "execute_result"
    }
   ],
   "source": [
    "# Run the Monte Carlo Simulation\n",
    "\n",
    "for n in range(number_simulations):\n",
    "\n",
    "    simulated_agg_prices = [agg_last]\n",
    "    simulated_spy_prices = [spy_last]\n",
    "    \n",
    "    for i in range(number_records):\n",
    "        \n",
    "        simulated_agg_price = simulated_agg_prices[-1] * (1 + np.random.normal(avg_daily_return_agg, std_dev_daily_return_agg))\n",
    "        simulated_spy_price = simulated_spy_prices[-1] * (1 + np.random.normal(avg_daily_return_spy, std_dev_daily_return_spy))\n",
    "        \n",
    "        simulated_agg_prices.append(simulated_agg_price)\n",
    "        simulated_spy_prices.append(simulated_spy_price)\n",
    "    \n",
    "    monte_carlo[\"AGG Prices\"] = pd.Series(simulated_agg_prices)\n",
    "    monte_carlo[\"SPY Prices\"] = pd.Series(simulated_spy_prices)\n",
    "    \n",
    "    simulated_daily_returns = monte_carlo.pct_change()\n",
    "    \n",
    "    weights = [0.40, 0.60]\n",
    "    \n",
    "    portfolio_daily_returns = simulated_daily_returns.dot(weights)\n",
    "    \n",
    "    portfolio_cumulative_returns[n] = (1 + portfolio_daily_returns.fillna(0)).cumprod()\n",
    "    \n",
    "portfolio_cumulative_returns.head() \n"
   ]
  },
  {
   "cell_type": "code",
   "execution_count": 91,
   "metadata": {},
   "outputs": [
    {
     "data": {
      "text/plain": [
       "<matplotlib.axes._subplots.AxesSubplot at 0x129358e10>"
      ]
     },
     "execution_count": 91,
     "metadata": {},
     "output_type": "execute_result"
    },
    {
     "data": {
      "image/png": "[encoded data removed]",
      "text/plain": [
       "<Figure size 432x288 with 1 Axes>"
      ]
     },
     "metadata": {
      "needs_background": "light"
     },
     "output_type": "display_data"
    }
   ],
   "source": [
    "# Visualize the Simulation\n",
    "plot_title = f\"{n+1} Simulations of Cumulative Portfolio Return Trajectories Over the Next 30 Years\"\n",
    "portfolio_cumulative_returns.plot(legend=None, title=plot_title)"
   ]
  },
  {
   "cell_type": "code",
   "execution_count": 103,
   "metadata": {},
   "outputs": [
    {
     "data": {
      "text/plain": [
       "0      0.054726\n",
       "1      0.001289\n",
       "2      0.083764\n",
       "3      0.575805\n",
       "4      0.029524\n",
       "         ...   \n",
       "495    1.296603\n",
       "496    0.079897\n",
       "497    0.009227\n",
       "498    1.524520\n",
       "499    0.159689\n",
       "Name: 7560, Length: 500, dtype: float64"
      ]
     },
     "execution_count": 103,
     "metadata": {},
     "output_type": "execute_result"
    }
   ],
   "source": [
    "# Select the last row for the cumulative returns (cumulative returns at 30 years)\n",
    "ending_cumulative_returns_30 = portfolio_cumulative_returns.iloc[-1, :]\n",
    "ending_cumulative_returns_30"
   ]
  },
  {
   "cell_type": "code",
   "execution_count": 104,
   "metadata": {},
   "outputs": [
    {
     "data": {
      "text/plain": [
       "0      0.044732\n",
       "1      0.079146\n",
       "2      0.348510\n",
       "3      2.012945\n",
       "4      0.145585\n",
       "         ...   \n",
       "495    0.616649\n",
       "496    0.086973\n",
       "497    0.058794\n",
       "498    0.882501\n",
       "499    0.271044\n",
       "Name: 5041, Length: 500, dtype: float64"
      ]
     },
     "execution_count": 104,
     "metadata": {},
     "output_type": "execute_result"
    }
   ],
   "source": [
    "# Select the last row for the cumulative returns (cumulative returns at 20 years)\n",
    "ending_cumulative_returns_20 = portfolio_cumulative_returns.iloc[-(10 * 252), :]\n",
    "ending_cumulative_returns_20"
   ]
  },
  {
   "cell_type": "code",
   "execution_count": 109,
   "metadata": {},
   "outputs": [
    {
     "data": {
      "text/plain": [
       "0.05    0.001878\n",
       "0.95    0.495267\n",
       "Name: 7560, dtype: float64"
      ]
     },
     "execution_count": 109,
     "metadata": {},
     "output_type": "execute_result"
    },
    {
     "data": {
      "image/png": "[encoded data removed]",
      "text/plain": [
       "<Figure size 432x288 with 1 Axes>"
      ]
     },
     "metadata": {
      "needs_background": "light"
     },
     "output_type": "display_data"
    }
   ],
   "source": [
    "# Display the 90% confidence interval for the ending returns in 30 Years\n",
    "ending_cumulative_returns_30.plot(kind='hist', bins=10)\n",
    "ending_cumulative_returns_30.value_counts(bins=11) / len(ending_cumulative_returns)\n",
    "confidence_interval = ending_cumulative_returns_30.quantile(q=[0.05, 0.95])\n",
    "confidence_interval"
   ]
  },
  {
   "cell_type": "code",
   "execution_count": 110,
   "metadata": {},
   "outputs": [
    {
     "data": {
      "text/plain": [
       "<matplotlib.lines.Line2D at 0x11a0252d0>"
      ]
     },
     "execution_count": 110,
     "metadata": {},
     "output_type": "execute_result"
    },
    {
     "data": {
      "image/png": "[encoded data removed]",
      "text/plain": [
       "<Figure size 432x288 with 1 Axes>"
      ]
     },
     "metadata": {
      "needs_background": "light"
     },
     "output_type": "display_data"
    }
   ],
   "source": [
    "# Visualize the distribution of the ending returns\n",
    "plt.figure();\n",
    "ending_cumulative_returns.plot(kind='hist', density=True, bins=11)\n",
    "plt.axvline(confidence_interval.iloc[0], color='r')\n",
    "plt.axvline(confidence_interval.iloc[1], color='r')"
   ]
  },
  {
   "cell_type": "markdown",
   "metadata": {},
   "source": [
    "---"
   ]
  },
  {
   "cell_type": "markdown",
   "metadata": {},
   "source": [
    "# Retirement Analysis\n",
    "\n",
    "In this section, you will use the monte carlo model to answer the following retirement planning questions:\n",
    "\n",
    "1. What are the expected cumulative returns at 30 years for the 10th, 50th, and 90th percentiles?\n",
    "2. Given an initial investment of `$20,000`, what is the expected portfolio return in dollars at the 10th, 50th, and 90th percentiles?\n",
    "3. Given the current projected annual income from the Plaid analysis, will a 4% withdraw rate from the retirement portfolio meet or exceed that value at the 10th percentile?\n",
    "4. How would a 50% increase in the initial investment amount affect the 4% retirement withdrawal?"
   ]
  },
  {
   "cell_type": "markdown",
   "metadata": {},
   "source": [
    "### What are the expected cumulative returns at 30 years for the 10th, 50th, and 90th percentiles?"
   ]
  },
  {
   "cell_type": "code",
   "execution_count": 113,
   "metadata": {},
   "outputs": [
    {
     "data": {
      "text/plain": [
       "0.5    0.027987\n",
       "0.5    0.027987\n",
       "Name: 7560, dtype: float64"
      ]
     },
     "execution_count": 113,
     "metadata": {},
     "output_type": "execute_result"
    },
    {
     "data": {
      "image/png": "[encoded data removed]",
      "text/plain": [
       "<Figure size 432x288 with 1 Axes>"
      ]
     },
     "metadata": {
      "needs_background": "light"
     },
     "output_type": "display_data"
    }
   ],
   "source": [
    "# 30 Years 50th percentile\n",
    "ending_cumulative_returns_30.plot(kind='hist', bins=11)\n",
    "ending_cumulative_returns_30.value_counts(bins=11) / len(ending_cumulative_returns)\n",
    "confidence_interval = ending_cumulative_returns_30.quantile(q=[0.5, 0.5])\n",
    "confidence_interval\n",
    "\n",
    "# 30 years 90th and 10th percentile\n",
    "ending_cumulative_returns_30.plot(kind='hist', bins=11)\n",
    "ending_cumulative_returns_30.value_counts(bins=11) / len(ending_cumulative_returns)\n",
    "confidence_interval = ending_cumulative_returns_30.quantile(q=[0.1, 0.9])"
   ]
  },
  {
   "cell_type": "markdown",
   "metadata": {},
   "source": [
    "### Given an initial investment of `$20,000`, what is the expected portfolio return in dollars at the 10th, 50th, and 90th percentiles?"
   ]
  },
  {
   "cell_type": "code",
   "execution_count": 102,
   "metadata": {},
   "outputs": [
    {
     "name": "stdout",
     "output_type": "stream",
     "text": [
      "There is a 90% chance that an initial investment of $20,000 in the portfolio over the next 30 years will end within in the range of $20072.126090997757 and $24338.423737228102\n"
     ]
    }
   ],
   "source": [
    "initial_investment = 20000\n",
    "\n",
    "# Calculate investment profit/loss of lower and upper bound cumulative portfolio returns\n",
    "investment_pnl_lower_bound = initial_investment + (initial_investment * confidence_interval.iloc[0])\n",
    "investment_pnl_upper_bound = initial_investment + (initial_investment * confidence_interval.iloc[1])\n",
    "                                                    \n",
    "# Print the results\n",
    "print(f\"There is a 90% chance that an initial investment of $20,000 in the portfolio\"\n",
    "      f\" over the next 30 years will end within in the range of\"\n",
    "      f\" ${investment_pnl_lower_bound} and ${investment_pnl_upper_bound}\")"
   ]
  },
  {
   "cell_type": "markdown",
   "metadata": {},
   "source": [
    "### Given the current projected annual income from the Plaid analysis, will a 4% withdraw rate from the retirement portfolio meet or exceed that value at the 10th percentile?\n",
    "\n",
    "Note: This is effectively saying that 90% of the expected returns will be greater than the return at the 10th percentile, so this can help measure the uncertainty about having enough funds at retirement"
   ]
  },
  {
   "cell_type": "code",
   "execution_count": null,
   "metadata": {},
   "outputs": [],
   "source": [
    "# YOUR CODE HERE"
   ]
  },
  {
   "cell_type": "markdown",
   "metadata": {},
   "source": [
    "### How would a 50% increase in the initial investment amount affect the 4% retirement withdrawal?"
   ]
  },
  {
   "cell_type": "code",
   "execution_count": null,
   "metadata": {},
   "outputs": [],
   "source": [
    "# YOUR CODE HERE"
   ]
  },
  {
   "cell_type": "markdown",
   "metadata": {},
   "source": [
    "### Optional Challenge\n",
    "\n",
    "In this section, you will calculate and plot the cumulative returns for the median and 90% confidence intervals. This plot shows the expected cumulative returns for any given day between the first day and the last day of investment. "
   ]
  },
  {
   "cell_type": "code",
   "execution_count": 119,
   "metadata": {},
   "outputs": [],
   "source": [
    "# for n in range(number_simulations):\n",
    "#     simulated_agg_prices = [agg_last]\n",
    "#     simulated_spy_prices = [spy_last]\n",
    "    \n",
    "# #     for i in range(number_records):\n",
    "# #         simulated_agg_price = simulated_agg_prices[-1] * (1 + np.random.normal(avg_daily_return_agg, std_dev_daily_return_agg))\n",
    "# #         simulated_spy_price = simulated_spy_prices[-1] * (1 + np.random.normal(avg_daily_return_spy, std_dev_daily_return_spy))\n",
    "        \n",
    "# #         simulated_agg_prices.append(simulated_agg_price)\n",
    "# #         simulated_spy_prices.append(simulated_spy_price)\n",
    "    \n",
    "    \n",
    "    \n",
    "# #     monte_carlo[\"AGG Prices\"] = pd.Series(simulated_agg_price)\n",
    "# #     monte_carlo[\"SPY Prices\"] = pd.Series(simulated_spy_price)\n",
    "    \n",
    "    \n",
    "    \n",
    "#     for i in range(number_records):\n",
    "        \n",
    "#         simulated_agg_price = simulated_agg_prices[-1] * (1 + np.random.normal(avg_daily_return_agg, std_dev_daily_return_agg))\n",
    "#         simulated_spy_price = simulated_spy_prices[-1] * (1 + np.random.normal(avg_daily_return_spy, std_dev_daily_return_spy))\n",
    "        \n",
    "#         simulated_agg_prices.append(simulated_agg_price)\n",
    "#         simulated_spy_prices.append(simulated_spy_price)\n",
    "    \n",
    "#     monte_carlo[\"AGG Prices\"] = pd.Series(simulated_agg_prices)\n",
    "#     monte_carlo[\"SPY Prices\"] = pd.Series(simulated_spy_prices)\n",
    "    \n",
    "# #     simulated_daily_returns = monte_carlo.pct_change()\n",
    "    \n",
    "# #     weights = [0.4, 0.6]\n",
    "    \n",
    "# #     portfolio_daily_returns = simulated_daily_returns.dot(weights)\n",
    "    \n",
    "# #     portfolio_cumulative_returns[n] = (1 + portfolio_daily_returns.fillna(0)).cumprod()\n",
    "    \n",
    "# # portfolio_cumulative_returns.head() \n",
    "\n",
    "# monte_carlo"
   ]
  },
  {
   "cell_type": "code",
   "execution_count": null,
   "metadata": {},
   "outputs": [],
   "source": []
  }
 ],
 "metadata": {
  "kernel_info": {
   "name": "dev"
  },
  "kernelspec": {
   "display_name": "Python 3",
   "language": "python",
   "name": "python3"
  },
  "language_info": {
   "codemirror_mode": {
    "name": "ipython",
    "version": 3
   },
   "file_extension": ".py",
   "mimetype": "text/x-python",
   "name": "python",
   "nbconvert_exporter": "python",
   "pygments_lexer": "ipython3",
   "version": "3.7.6"
  },
  "nteract": {
   "version": "0.12.3"
  }
 },
 "nbformat": 4,
 "nbformat_minor": 4
}
