{
 "cells": [
  {
   "cell_type": "code",
   "execution_count": 25,
   "metadata": {},
   "outputs": [],
   "source": [
    "import os\n",
    "import pandas as pd\n",
    "%matplotlib inline"
   ]
  },
  {
   "cell_type": "code",
   "execution_count": 26,
   "metadata": {},
   "outputs": [],
   "source": [
    "from newsapi import NewsApiClient\n",
    "from nltk.sentiment.vader import SentimentIntensityAnalyzer\n",
    "analyzer = SentimentIntensityAnalyzer()"
   ]
  },
  {
   "cell_type": "markdown",
   "metadata": {},
   "source": [
    "# News Headlines Sentiment\n",
    "\n",
    "Use the news api to pull the latest news articles for bitcoin and ethereum and create a DataFrame of sentiment scores for each coin. \n",
    "\n",
    "Use descriptive statistics to answer the following questions:\n",
    "1. Which coin had the highest mean positive score?\n",
    "2. Which coin had the highest negative score?\n",
    "3. Which coin had the highest positive score?"
   ]
  },
  {
   "cell_type": "code",
   "execution_count": 27,
   "metadata": {},
   "outputs": [],
   "source": [
    "# Read your api key environment variable\n",
    "api_key = os.getenv(\"NEWSAPI_KEY\")"
   ]
  },
  {
   "cell_type": "code",
   "execution_count": 28,
   "metadata": {},
   "outputs": [],
   "source": [
    "# Create a newsapi client\n",
    "newsapi = NewsApiClient(api_key=api_key)"
   ]
  },
  {
   "cell_type": "code",
   "execution_count": 29,
   "metadata": {},
   "outputs": [
    {
     "data": {
      "text/plain": [
       "3573"
      ]
     },
     "execution_count": 29,
     "metadata": {},
     "output_type": "execute_result"
    }
   ],
   "source": [
    "# Fetch the Bitcoin news articles\n",
    "bitcoin_articles = newsapi.get_everything(q=\"bitcoin\", language=\"en\")\n",
    "bitcoin_articles['totalResults']"
   ]
  },
  {
   "cell_type": "code",
   "execution_count": 76,
   "metadata": {},
   "outputs": [
    {
     "ename": "NewsAPIException",
     "evalue": "{'status': 'error', 'code': 'rateLimited', 'message': 'You have made too many requests recently. Developer accounts are limited to 500 requests over a 24 hour period (250 requests available every 12 hours). Please upgrade to a paid plan if you need more requests.'}",
     "output_type": "error",
     "traceback": [
      "\u001b[0;31m---------------------------------------------------------------------------\u001b[0m",
      "\u001b[0;31mNewsAPIException\u001b[0m                          Traceback (most recent call last)",
      "\u001b[0;32m<ipython-input-76-21690ed530f2>\u001b[0m in \u001b[0;36m<module>\u001b[0;34m\u001b[0m\n\u001b[1;32m      1\u001b[0m \u001b[0;31m# Fetch the Ethereum news articles\u001b[0m\u001b[0;34m\u001b[0m\u001b[0;34m\u001b[0m\u001b[0;34m\u001b[0m\u001b[0m\n\u001b[0;32m----> 2\u001b[0;31m \u001b[0methereum_articles\u001b[0m \u001b[0;34m=\u001b[0m \u001b[0mnewsapi\u001b[0m\u001b[0;34m.\u001b[0m\u001b[0mget_everything\u001b[0m\u001b[0;34m(\u001b[0m\u001b[0mq\u001b[0m\u001b[0;34m=\u001b[0m\u001b[0;34m\"ethereum\"\u001b[0m\u001b[0;34m,\u001b[0m \u001b[0mlanguage\u001b[0m\u001b[0;34m=\u001b[0m\u001b[0;34m\"en\"\u001b[0m\u001b[0;34m)\u001b[0m\u001b[0;34m\u001b[0m\u001b[0;34m\u001b[0m\u001b[0m\n\u001b[0m\u001b[1;32m      3\u001b[0m \u001b[0methereum_articles\u001b[0m\u001b[0;34m[\u001b[0m\u001b[0;34m\"totalResults\"\u001b[0m\u001b[0;34m]\u001b[0m\u001b[0;34m\u001b[0m\u001b[0;34m\u001b[0m\u001b[0m\n",
      "\u001b[0;32m/opt/anaconda3/envs/Viz/lib/python3.7/site-packages/newsapi/newsapi_client.py\u001b[0m in \u001b[0;36mget_everything\u001b[0;34m(self, q, qintitle, sources, domains, exclude_domains, from_param, to, language, sort_by, page, page_size)\u001b[0m\n\u001b[1;32m    324\u001b[0m         \u001b[0;31m# Check Status of Request\u001b[0m\u001b[0;34m\u001b[0m\u001b[0;34m\u001b[0m\u001b[0;34m\u001b[0m\u001b[0m\n\u001b[1;32m    325\u001b[0m         \u001b[0;32mif\u001b[0m \u001b[0mr\u001b[0m\u001b[0;34m.\u001b[0m\u001b[0mstatus_code\u001b[0m \u001b[0;34m!=\u001b[0m \u001b[0mrequests\u001b[0m\u001b[0;34m.\u001b[0m\u001b[0mcodes\u001b[0m\u001b[0;34m.\u001b[0m\u001b[0mok\u001b[0m\u001b[0;34m:\u001b[0m\u001b[0;34m\u001b[0m\u001b[0;34m\u001b[0m\u001b[0m\n\u001b[0;32m--> 326\u001b[0;31m             \u001b[0;32mraise\u001b[0m \u001b[0mNewsAPIException\u001b[0m\u001b[0;34m(\u001b[0m\u001b[0mr\u001b[0m\u001b[0;34m.\u001b[0m\u001b[0mjson\u001b[0m\u001b[0;34m(\u001b[0m\u001b[0;34m)\u001b[0m\u001b[0;34m)\u001b[0m\u001b[0;34m\u001b[0m\u001b[0;34m\u001b[0m\u001b[0m\n\u001b[0m\u001b[1;32m    327\u001b[0m \u001b[0;34m\u001b[0m\u001b[0m\n\u001b[1;32m    328\u001b[0m         \u001b[0;32mreturn\u001b[0m \u001b[0mr\u001b[0m\u001b[0;34m.\u001b[0m\u001b[0mjson\u001b[0m\u001b[0;34m(\u001b[0m\u001b[0;34m)\u001b[0m\u001b[0;34m\u001b[0m\u001b[0;34m\u001b[0m\u001b[0m\n",
      "\u001b[0;31mNewsAPIException\u001b[0m: {'status': 'error', 'code': 'rateLimited', 'message': 'You have made too many requests recently. Developer accounts are limited to 500 requests over a 24 hour period (250 requests available every 12 hours). Please upgrade to a paid plan if you need more requests.'}"
     ]
    }
   ],
   "source": [
    "# Fetch the Ethereum news articles\n",
    "ethereum_articles = newsapi.get_everything(q=\"ethereum\", language=\"en\")\n",
    "ethereum_articles[\"totalResults\"]"
   ]
  },
  {
   "cell_type": "code",
   "execution_count": 31,
   "metadata": {},
   "outputs": [
    {
     "data": {
      "text/html": [
       "<div>\n",
       "<style scoped>\n",
       "    .dataframe tbody tr th:only-of-type {\n",
       "        vertical-align: middle;\n",
       "    }\n",
       "\n",
       "    .dataframe tbody tr th {\n",
       "        vertical-align: top;\n",
       "    }\n",
       "\n",
       "    .dataframe thead th {\n",
       "        text-align: right;\n",
       "    }\n",
       "</style>\n",
       "<table border=\"1\" class=\"dataframe\">\n",
       "  <thead>\n",
       "    <tr style=\"text-align: right;\">\n",
       "      <th></th>\n",
       "      <th>date</th>\n",
       "      <th>text</th>\n",
       "      <th>compound</th>\n",
       "      <th>positive</th>\n",
       "      <th>negative</th>\n",
       "      <th>neutral</th>\n",
       "    </tr>\n",
       "  </thead>\n",
       "  <tbody>\n",
       "    <tr>\n",
       "      <th>0</th>\n",
       "      <td>2020-05-16</td>\n",
       "      <td>J.K. Rowling has been drinking a lot and you'd...</td>\n",
       "      <td>0.7650</td>\n",
       "      <td>0.171</td>\n",
       "      <td>0.000</td>\n",
       "      <td>0.829</td>\n",
       "    </tr>\n",
       "    <tr>\n",
       "      <th>1</th>\n",
       "      <td>2020-05-08</td>\n",
       "      <td>Yesterday, the prominent bitcoin investor Mich...</td>\n",
       "      <td>0.3182</td>\n",
       "      <td>0.067</td>\n",
       "      <td>0.000</td>\n",
       "      <td>0.933</td>\n",
       "    </tr>\n",
       "    <tr>\n",
       "      <th>2</th>\n",
       "      <td>2020-04-30</td>\n",
       "      <td>Two years ago, the venture firm Andreessen Hor...</td>\n",
       "      <td>0.2732</td>\n",
       "      <td>0.081</td>\n",
       "      <td>0.051</td>\n",
       "      <td>0.867</td>\n",
       "    </tr>\n",
       "    <tr>\n",
       "      <th>3</th>\n",
       "      <td>2020-05-08</td>\n",
       "      <td>Early next week, Bitcoin is about to experienc...</td>\n",
       "      <td>0.2716</td>\n",
       "      <td>0.061</td>\n",
       "      <td>0.000</td>\n",
       "      <td>0.939</td>\n",
       "    </tr>\n",
       "    <tr>\n",
       "      <th>4</th>\n",
       "      <td>2020-05-13</td>\n",
       "      <td>Over the last few weeks all eyes in the crypto...</td>\n",
       "      <td>0.0000</td>\n",
       "      <td>0.000</td>\n",
       "      <td>0.000</td>\n",
       "      <td>1.000</td>\n",
       "    </tr>\n",
       "  </tbody>\n",
       "</table>\n",
       "</div>"
      ],
      "text/plain": [
       "         date                                               text  compound  \\\n",
       "0  2020-05-16  J.K. Rowling has been drinking a lot and you'd...    0.7650   \n",
       "1  2020-05-08  Yesterday, the prominent bitcoin investor Mich...    0.3182   \n",
       "2  2020-04-30  Two years ago, the venture firm Andreessen Hor...    0.2732   \n",
       "3  2020-05-08  Early next week, Bitcoin is about to experienc...    0.2716   \n",
       "4  2020-05-13  Over the last few weeks all eyes in the crypto...    0.0000   \n",
       "\n",
       "   positive  negative  neutral  \n",
       "0     0.171     0.000    0.829  \n",
       "1     0.067     0.000    0.933  \n",
       "2     0.081     0.051    0.867  \n",
       "3     0.061     0.000    0.939  \n",
       "4     0.000     0.000    1.000  "
      ]
     },
     "execution_count": 31,
     "metadata": {},
     "output_type": "execute_result"
    }
   ],
   "source": [
    "# Create the Bitcoin sentiment scores DataFrame\n",
    "bitcoin_sentiments = []\n",
    "\n",
    "for article in bitcoin_articles[\"articles\"]:\n",
    "    try:\n",
    "        text = article[\"content\"]\n",
    "        date = article[\"publishedAt\"][:10]\n",
    "        sentiment = analyzer.polarity_scores(text)\n",
    "        compound = sentiment[\"compound\"]\n",
    "        pos = sentiment[\"pos\"]\n",
    "        neu = sentiment[\"neu\"]\n",
    "        neg = sentiment[\"neg\"]\n",
    "        \n",
    "        bitcoin_sentiments.append({\n",
    "            \"text\": text,\n",
    "            \"date\": date,\n",
    "            \"compound\": compound,\n",
    "            \"positive\": pos,\n",
    "            \"negative\": neg,\n",
    "            \"neutral\": neu\n",
    "            \n",
    "        })\n",
    "        \n",
    "    except AttributeError:\n",
    "        pass\n",
    "    \n",
    "# Create DataFrame\n",
    "bitcoin_df = pd.DataFrame(bitcoin_sentiments)\n",
    "\n",
    "# Reorder DataFrame columns\n",
    "cols = [\"date\", \"text\", \"compound\", \"positive\", \"negative\", \"neutral\"]\n",
    "bitcoin_df = bitcoin_df[cols]\n",
    "\n",
    "bitcoin_df.head()"
   ]
  },
  {
   "cell_type": "code",
   "execution_count": 32,
   "metadata": {},
   "outputs": [
    {
     "data": {
      "text/html": [
       "<div>\n",
       "<style scoped>\n",
       "    .dataframe tbody tr th:only-of-type {\n",
       "        vertical-align: middle;\n",
       "    }\n",
       "\n",
       "    .dataframe tbody tr th {\n",
       "        vertical-align: top;\n",
       "    }\n",
       "\n",
       "    .dataframe thead th {\n",
       "        text-align: right;\n",
       "    }\n",
       "</style>\n",
       "<table border=\"1\" class=\"dataframe\">\n",
       "  <thead>\n",
       "    <tr style=\"text-align: right;\">\n",
       "      <th></th>\n",
       "      <th>date</th>\n",
       "      <th>text</th>\n",
       "      <th>compound</th>\n",
       "      <th>positive</th>\n",
       "      <th>negative</th>\n",
       "      <th>neutral</th>\n",
       "    </tr>\n",
       "  </thead>\n",
       "  <tbody>\n",
       "    <tr>\n",
       "      <th>0</th>\n",
       "      <td>2020-05-20</td>\n",
       "      <td>Editors note:Andreessen Horowitzs Crypto Start...</td>\n",
       "      <td>0.0000</td>\n",
       "      <td>0.000</td>\n",
       "      <td>0.000</td>\n",
       "      <td>1.000</td>\n",
       "    </tr>\n",
       "    <tr>\n",
       "      <th>1</th>\n",
       "      <td>2020-04-30</td>\n",
       "      <td>Two years ago, the venture firm Andreessen Hor...</td>\n",
       "      <td>0.2732</td>\n",
       "      <td>0.081</td>\n",
       "      <td>0.051</td>\n",
       "      <td>0.867</td>\n",
       "    </tr>\n",
       "    <tr>\n",
       "      <th>2</th>\n",
       "      <td>2020-05-14</td>\n",
       "      <td>Use this to send Ether from one account to ano...</td>\n",
       "      <td>0.6249</td>\n",
       "      <td>0.141</td>\n",
       "      <td>0.000</td>\n",
       "      <td>0.859</td>\n",
       "    </tr>\n",
       "    <tr>\n",
       "      <th>3</th>\n",
       "      <td>2020-05-24</td>\n",
       "      <td>Some open-source groups, such as The Linux Fou...</td>\n",
       "      <td>-0.4457</td>\n",
       "      <td>0.031</td>\n",
       "      <td>0.086</td>\n",
       "      <td>0.882</td>\n",
       "    </tr>\n",
       "    <tr>\n",
       "      <th>4</th>\n",
       "      <td>2020-05-12</td>\n",
       "      <td>With unemployment surging and businesses strug...</td>\n",
       "      <td>0.0000</td>\n",
       "      <td>0.148</td>\n",
       "      <td>0.148</td>\n",
       "      <td>0.703</td>\n",
       "    </tr>\n",
       "  </tbody>\n",
       "</table>\n",
       "</div>"
      ],
      "text/plain": [
       "         date                                               text  compound  \\\n",
       "0  2020-05-20  Editors note:Andreessen Horowitzs Crypto Start...    0.0000   \n",
       "1  2020-04-30  Two years ago, the venture firm Andreessen Hor...    0.2732   \n",
       "2  2020-05-14  Use this to send Ether from one account to ano...    0.6249   \n",
       "3  2020-05-24  Some open-source groups, such as The Linux Fou...   -0.4457   \n",
       "4  2020-05-12  With unemployment surging and businesses strug...    0.0000   \n",
       "\n",
       "   positive  negative  neutral  \n",
       "0     0.000     0.000    1.000  \n",
       "1     0.081     0.051    0.867  \n",
       "2     0.141     0.000    0.859  \n",
       "3     0.031     0.086    0.882  \n",
       "4     0.148     0.148    0.703  "
      ]
     },
     "execution_count": 32,
     "metadata": {},
     "output_type": "execute_result"
    }
   ],
   "source": [
    "# Create the ethereum sentiment scores DataFrame\n",
    "ethereum_sentiments = []\n",
    "\n",
    "for article in ethereum_articles[\"articles\"]:\n",
    "    try:\n",
    "        text = article[\"content\"]\n",
    "        date = article[\"publishedAt\"][:10]\n",
    "        sentiment = analyzer.polarity_scores(text)\n",
    "        compound = sentiment[\"compound\"]\n",
    "        pos = sentiment[\"pos\"]\n",
    "        neu = sentiment[\"neu\"]\n",
    "        neg = sentiment[\"neg\"]\n",
    "        \n",
    "        ethereum_sentiments.append({\n",
    "            \"text\": text,\n",
    "            \"date\": date,\n",
    "            \"compound\": compound,\n",
    "            \"positive\": pos,\n",
    "            \"negative\": neg,\n",
    "            \"neutral\": neu\n",
    "            \n",
    "        })\n",
    "        \n",
    "    except AttributeError:\n",
    "        pass\n",
    "    \n",
    "# Create DataFrame\n",
    "ethereum_df = pd.DataFrame(ethereum_sentiments)\n",
    "\n",
    "# Reorder DataFrame columns\n",
    "cols = [\"date\", \"text\", \"compound\", \"positive\", \"negative\", \"neutral\"]\n",
    "ethereum_df = ethereum_df[cols]\n",
    "\n",
    "ethereum_df.head()\n"
   ]
  },
  {
   "cell_type": "code",
   "execution_count": 33,
   "metadata": {},
   "outputs": [
    {
     "data": {
      "text/html": [
       "<div>\n",
       "<style scoped>\n",
       "    .dataframe tbody tr th:only-of-type {\n",
       "        vertical-align: middle;\n",
       "    }\n",
       "\n",
       "    .dataframe tbody tr th {\n",
       "        vertical-align: top;\n",
       "    }\n",
       "\n",
       "    .dataframe thead th {\n",
       "        text-align: right;\n",
       "    }\n",
       "</style>\n",
       "<table border=\"1\" class=\"dataframe\">\n",
       "  <thead>\n",
       "    <tr style=\"text-align: right;\">\n",
       "      <th></th>\n",
       "      <th>compound</th>\n",
       "      <th>positive</th>\n",
       "      <th>negative</th>\n",
       "      <th>neutral</th>\n",
       "    </tr>\n",
       "  </thead>\n",
       "  <tbody>\n",
       "    <tr>\n",
       "      <th>count</th>\n",
       "      <td>19.000000</td>\n",
       "      <td>19.000000</td>\n",
       "      <td>19.000000</td>\n",
       "      <td>19.000000</td>\n",
       "    </tr>\n",
       "    <tr>\n",
       "      <th>mean</th>\n",
       "      <td>0.312379</td>\n",
       "      <td>0.078211</td>\n",
       "      <td>0.020579</td>\n",
       "      <td>0.901158</td>\n",
       "    </tr>\n",
       "    <tr>\n",
       "      <th>std</th>\n",
       "      <td>0.367924</td>\n",
       "      <td>0.048394</td>\n",
       "      <td>0.038628</td>\n",
       "      <td>0.041086</td>\n",
       "    </tr>\n",
       "    <tr>\n",
       "      <th>min</th>\n",
       "      <td>-0.585900</td>\n",
       "      <td>0.000000</td>\n",
       "      <td>0.000000</td>\n",
       "      <td>0.812000</td>\n",
       "    </tr>\n",
       "    <tr>\n",
       "      <th>25%</th>\n",
       "      <td>0.174400</td>\n",
       "      <td>0.063500</td>\n",
       "      <td>0.000000</td>\n",
       "      <td>0.878000</td>\n",
       "    </tr>\n",
       "    <tr>\n",
       "      <th>50%</th>\n",
       "      <td>0.507000</td>\n",
       "      <td>0.090000</td>\n",
       "      <td>0.000000</td>\n",
       "      <td>0.910000</td>\n",
       "    </tr>\n",
       "    <tr>\n",
       "      <th>75%</th>\n",
       "      <td>0.507000</td>\n",
       "      <td>0.090000</td>\n",
       "      <td>0.025500</td>\n",
       "      <td>0.910000</td>\n",
       "    </tr>\n",
       "    <tr>\n",
       "      <th>max</th>\n",
       "      <td>0.801600</td>\n",
       "      <td>0.188000</td>\n",
       "      <td>0.134000</td>\n",
       "      <td>1.000000</td>\n",
       "    </tr>\n",
       "  </tbody>\n",
       "</table>\n",
       "</div>"
      ],
      "text/plain": [
       "        compound   positive   negative    neutral\n",
       "count  19.000000  19.000000  19.000000  19.000000\n",
       "mean    0.312379   0.078211   0.020579   0.901158\n",
       "std     0.367924   0.048394   0.038628   0.041086\n",
       "min    -0.585900   0.000000   0.000000   0.812000\n",
       "25%     0.174400   0.063500   0.000000   0.878000\n",
       "50%     0.507000   0.090000   0.000000   0.910000\n",
       "75%     0.507000   0.090000   0.025500   0.910000\n",
       "max     0.801600   0.188000   0.134000   1.000000"
      ]
     },
     "execution_count": 33,
     "metadata": {},
     "output_type": "execute_result"
    }
   ],
   "source": [
    "# Describe the Bitcoin Sentiment\n",
    "bitcoin_df.describe()"
   ]
  },
  {
   "cell_type": "code",
   "execution_count": 34,
   "metadata": {},
   "outputs": [
    {
     "data": {
      "text/html": [
       "<div>\n",
       "<style scoped>\n",
       "    .dataframe tbody tr th:only-of-type {\n",
       "        vertical-align: middle;\n",
       "    }\n",
       "\n",
       "    .dataframe tbody tr th {\n",
       "        vertical-align: top;\n",
       "    }\n",
       "\n",
       "    .dataframe thead th {\n",
       "        text-align: right;\n",
       "    }\n",
       "</style>\n",
       "<table border=\"1\" class=\"dataframe\">\n",
       "  <thead>\n",
       "    <tr style=\"text-align: right;\">\n",
       "      <th></th>\n",
       "      <th>compound</th>\n",
       "      <th>positive</th>\n",
       "      <th>negative</th>\n",
       "      <th>neutral</th>\n",
       "    </tr>\n",
       "  </thead>\n",
       "  <tbody>\n",
       "    <tr>\n",
       "      <th>count</th>\n",
       "      <td>17.000000</td>\n",
       "      <td>17.000000</td>\n",
       "      <td>17.000000</td>\n",
       "      <td>17.000000</td>\n",
       "    </tr>\n",
       "    <tr>\n",
       "      <th>mean</th>\n",
       "      <td>0.206312</td>\n",
       "      <td>0.087412</td>\n",
       "      <td>0.031765</td>\n",
       "      <td>0.880647</td>\n",
       "    </tr>\n",
       "    <tr>\n",
       "      <th>std</th>\n",
       "      <td>0.372442</td>\n",
       "      <td>0.080910</td>\n",
       "      <td>0.045195</td>\n",
       "      <td>0.094398</td>\n",
       "    </tr>\n",
       "    <tr>\n",
       "      <th>min</th>\n",
       "      <td>-0.445700</td>\n",
       "      <td>0.000000</td>\n",
       "      <td>0.000000</td>\n",
       "      <td>0.703000</td>\n",
       "    </tr>\n",
       "    <tr>\n",
       "      <th>25%</th>\n",
       "      <td>0.000000</td>\n",
       "      <td>0.031000</td>\n",
       "      <td>0.000000</td>\n",
       "      <td>0.845000</td>\n",
       "    </tr>\n",
       "    <tr>\n",
       "      <th>50%</th>\n",
       "      <td>0.077200</td>\n",
       "      <td>0.067000</td>\n",
       "      <td>0.000000</td>\n",
       "      <td>0.879000</td>\n",
       "    </tr>\n",
       "    <tr>\n",
       "      <th>75%</th>\n",
       "      <td>0.571900</td>\n",
       "      <td>0.141000</td>\n",
       "      <td>0.058000</td>\n",
       "      <td>0.943000</td>\n",
       "    </tr>\n",
       "    <tr>\n",
       "      <th>max</th>\n",
       "      <td>0.848100</td>\n",
       "      <td>0.260000</td>\n",
       "      <td>0.148000</td>\n",
       "      <td>1.000000</td>\n",
       "    </tr>\n",
       "  </tbody>\n",
       "</table>\n",
       "</div>"
      ],
      "text/plain": [
       "        compound   positive   negative    neutral\n",
       "count  17.000000  17.000000  17.000000  17.000000\n",
       "mean    0.206312   0.087412   0.031765   0.880647\n",
       "std     0.372442   0.080910   0.045195   0.094398\n",
       "min    -0.445700   0.000000   0.000000   0.703000\n",
       "25%     0.000000   0.031000   0.000000   0.845000\n",
       "50%     0.077200   0.067000   0.000000   0.879000\n",
       "75%     0.571900   0.141000   0.058000   0.943000\n",
       "max     0.848100   0.260000   0.148000   1.000000"
      ]
     },
     "execution_count": 34,
     "metadata": {},
     "output_type": "execute_result"
    }
   ],
   "source": [
    "# Describe the Ethereum Sentiment\n",
    "ethereum_df.describe()"
   ]
  },
  {
   "cell_type": "markdown",
   "metadata": {},
   "source": [
    "### Questions:\n",
    "\n",
    "Q: Which coin had the highest mean positive score?\n",
    "\n",
    "A: \n",
    "\n",
    "Q: Which coin had the highest compound score?\n",
    "\n",
    "A: \n",
    "\n",
    "Q. Which coin had the highest positive score?\n",
    "\n",
    "A: "
   ]
  },
  {
   "cell_type": "markdown",
   "metadata": {},
   "source": [
    "---"
   ]
  },
  {
   "cell_type": "markdown",
   "metadata": {},
   "source": [
    "# Tokenizer\n",
    "\n",
    "In this section, you will use NLTK and Python to tokenize the text for each coin. Be sure to:\n",
    "1. Lowercase each word\n",
    "2. Remove Punctuation\n",
    "3. Remove Stopwords"
   ]
  },
  {
   "cell_type": "code",
   "execution_count": 35,
   "metadata": {},
   "outputs": [
    {
     "name": "stderr",
     "output_type": "stream",
     "text": [
      "[nltk_data] Downloading package reuters to\n",
      "[nltk_data]     /Users/collinpixley/nltk_data...\n",
      "[nltk_data]   Package reuters is already up-to-date!\n",
      "[nltk_data] Downloading package stopwords to\n",
      "[nltk_data]     /Users/collinpixley/nltk_data...\n",
      "[nltk_data]   Package stopwords is already up-to-date!\n"
     ]
    },
    {
     "data": {
      "text/plain": [
       "True"
      ]
     },
     "execution_count": 35,
     "metadata": {},
     "output_type": "execute_result"
    }
   ],
   "source": [
    "from nltk.tokenize import word_tokenize, sent_tokenize\n",
    "from nltk.corpus import stopwords, reuters\n",
    "from nltk.stem import WordNetLemmatizer, PorterStemmer\n",
    "from string import punctuation\n",
    "import re\n",
    "import nltk\n",
    "nltk.download('reuters')\n",
    "nltk.download('stopwords')"
   ]
  },
  {
   "cell_type": "code",
   "execution_count": 36,
   "metadata": {},
   "outputs": [],
   "source": [
    "# Expand the default stopwords list if necessary\n",
    "# bitcoin = reuters.raw(fileids=reuters.fileids(categories='money-fx')[0])\n",
    "# ethereum = reuters.raw(fileids=reuters.fileids(categories='money-fx')[0])\n",
    "# fileids=reuters.fileids(categories='money-fx')\n",
    "# ids = reuters.fileids(categories=\"money-fx\")\n",
    "# corpus = [reuters.raw(i) for i in ids if \"bitcoin\" in reuters.raw(i).lower()]\n",
    "# print(corpus)\n",
    "# sw_addons = []"
   ]
  },
  {
   "cell_type": "code",
   "execution_count": 37,
   "metadata": {},
   "outputs": [],
   "source": [
    "# Complete the tokenizer function\n",
    "def tokenizer(row):\n",
    "    \"\"\"Tokenizes text.\"\"\"\n",
    "    text = row[\"text\"]\n",
    "    # Remove the punctuation\n",
    "    regex = re.compile(\"[^a-zA-Z ]\")\n",
    "    re_clean = regex.sub('', text)\n",
    "    words = word_tokenize(re_clean)\n",
    "    # Remove the stop words\n",
    "    sw = set(stopwords.words('english'))\n",
    "    # Lemmatize Words into root words\n",
    "    tokens = [word.lower() for word in words if word.lower() not in sw]\n",
    "    lemmatizer = WordNetLemmatizer()\n",
    "    lem = [lemmatizer.lemmatize(word) for word in tokens]\n",
    "    return lem\n"
   ]
  },
  {
   "cell_type": "code",
   "execution_count": 61,
   "metadata": {},
   "outputs": [
    {
     "data": {
      "text/html": [
       "<div>\n",
       "<style scoped>\n",
       "    .dataframe tbody tr th:only-of-type {\n",
       "        vertical-align: middle;\n",
       "    }\n",
       "\n",
       "    .dataframe tbody tr th {\n",
       "        vertical-align: top;\n",
       "    }\n",
       "\n",
       "    .dataframe thead th {\n",
       "        text-align: right;\n",
       "    }\n",
       "</style>\n",
       "<table border=\"1\" class=\"dataframe\">\n",
       "  <thead>\n",
       "    <tr style=\"text-align: right;\">\n",
       "      <th></th>\n",
       "      <th>date</th>\n",
       "      <th>compound</th>\n",
       "      <th>positive</th>\n",
       "      <th>negative</th>\n",
       "      <th>neutral</th>\n",
       "      <th>text</th>\n",
       "      <th>tokens</th>\n",
       "    </tr>\n",
       "  </thead>\n",
       "  <tbody>\n",
       "    <tr>\n",
       "      <th>0</th>\n",
       "      <td>2020-05-16</td>\n",
       "      <td>0.7650</td>\n",
       "      <td>0.171</td>\n",
       "      <td>0.000</td>\n",
       "      <td>0.829</td>\n",
       "      <td>J.K. Rowling has been drinking a lot and you'd...</td>\n",
       "      <td>[jk, rowling, drinking, lot, youd, better, bel...</td>\n",
       "    </tr>\n",
       "    <tr>\n",
       "      <th>1</th>\n",
       "      <td>2020-05-08</td>\n",
       "      <td>0.3182</td>\n",
       "      <td>0.067</td>\n",
       "      <td>0.000</td>\n",
       "      <td>0.933</td>\n",
       "      <td>Yesterday, the prominent bitcoin investor Mich...</td>\n",
       "      <td>[yesterday, prominent, bitcoin, investor, mich...</td>\n",
       "    </tr>\n",
       "    <tr>\n",
       "      <th>2</th>\n",
       "      <td>2020-04-30</td>\n",
       "      <td>0.2732</td>\n",
       "      <td>0.081</td>\n",
       "      <td>0.051</td>\n",
       "      <td>0.867</td>\n",
       "      <td>Two years ago, the venture firm Andreessen Hor...</td>\n",
       "      <td>[two, year, ago, venture, firm, andreessen, ho...</td>\n",
       "    </tr>\n",
       "    <tr>\n",
       "      <th>3</th>\n",
       "      <td>2020-05-08</td>\n",
       "      <td>0.2716</td>\n",
       "      <td>0.061</td>\n",
       "      <td>0.000</td>\n",
       "      <td>0.939</td>\n",
       "      <td>Early next week, Bitcoin is about to experienc...</td>\n",
       "      <td>[early, next, week, bitcoin, experience, third...</td>\n",
       "    </tr>\n",
       "    <tr>\n",
       "      <th>4</th>\n",
       "      <td>2020-05-13</td>\n",
       "      <td>0.0000</td>\n",
       "      <td>0.000</td>\n",
       "      <td>0.000</td>\n",
       "      <td>1.000</td>\n",
       "      <td>Over the last few weeks all eyes in the crypto...</td>\n",
       "      <td>[last, week, eye, crypto, world, glued, halven...</td>\n",
       "    </tr>\n",
       "  </tbody>\n",
       "</table>\n",
       "</div>"
      ],
      "text/plain": [
       "         date  compound  positive  negative  neutral  \\\n",
       "0  2020-05-16    0.7650     0.171     0.000    0.829   \n",
       "1  2020-05-08    0.3182     0.067     0.000    0.933   \n",
       "2  2020-04-30    0.2732     0.081     0.051    0.867   \n",
       "3  2020-05-08    0.2716     0.061     0.000    0.939   \n",
       "4  2020-05-13    0.0000     0.000     0.000    1.000   \n",
       "\n",
       "                                                text  \\\n",
       "0  J.K. Rowling has been drinking a lot and you'd...   \n",
       "1  Yesterday, the prominent bitcoin investor Mich...   \n",
       "2  Two years ago, the venture firm Andreessen Hor...   \n",
       "3  Early next week, Bitcoin is about to experienc...   \n",
       "4  Over the last few weeks all eyes in the crypto...   \n",
       "\n",
       "                                              tokens  \n",
       "0  [jk, rowling, drinking, lot, youd, better, bel...  \n",
       "1  [yesterday, prominent, bitcoin, investor, mich...  \n",
       "2  [two, year, ago, venture, firm, andreessen, ho...  \n",
       "3  [early, next, week, bitcoin, experience, third...  \n",
       "4  [last, week, eye, crypto, world, glued, halven...  "
      ]
     },
     "execution_count": 61,
     "metadata": {},
     "output_type": "execute_result"
    }
   ],
   "source": [
    "# Create a new tokens column for bitcoin\n",
    "bitcoin_df[\"tokens\"] = bitcoin_df.apply(tokenizer, axis = 1)\n",
    "bitcoin_df = bitcoin_df[[\"date\", \"compound\", \"positive\", \"negative\", \"neutral\", \"text\", \"tokens\"]]\n",
    "bitcoin_df.head()\n"
   ]
  },
  {
   "cell_type": "code",
   "execution_count": 62,
   "metadata": {},
   "outputs": [
    {
     "data": {
      "text/html": [
       "<div>\n",
       "<style scoped>\n",
       "    .dataframe tbody tr th:only-of-type {\n",
       "        vertical-align: middle;\n",
       "    }\n",
       "\n",
       "    .dataframe tbody tr th {\n",
       "        vertical-align: top;\n",
       "    }\n",
       "\n",
       "    .dataframe thead th {\n",
       "        text-align: right;\n",
       "    }\n",
       "</style>\n",
       "<table border=\"1\" class=\"dataframe\">\n",
       "  <thead>\n",
       "    <tr style=\"text-align: right;\">\n",
       "      <th></th>\n",
       "      <th>date</th>\n",
       "      <th>compound</th>\n",
       "      <th>positive</th>\n",
       "      <th>negative</th>\n",
       "      <th>neutral</th>\n",
       "      <th>text</th>\n",
       "      <th>tokens</th>\n",
       "    </tr>\n",
       "  </thead>\n",
       "  <tbody>\n",
       "    <tr>\n",
       "      <th>0</th>\n",
       "      <td>2020-05-20</td>\n",
       "      <td>0.0000</td>\n",
       "      <td>0.000</td>\n",
       "      <td>0.000</td>\n",
       "      <td>1.000</td>\n",
       "      <td>Editors note:Andreessen Horowitzs Crypto Start...</td>\n",
       "      <td>[editor, noteandreessen, horowitz, crypto, sta...</td>\n",
       "    </tr>\n",
       "    <tr>\n",
       "      <th>1</th>\n",
       "      <td>2020-04-30</td>\n",
       "      <td>0.2732</td>\n",
       "      <td>0.081</td>\n",
       "      <td>0.051</td>\n",
       "      <td>0.867</td>\n",
       "      <td>Two years ago, the venture firm Andreessen Hor...</td>\n",
       "      <td>[two, year, ago, venture, firm, andreessen, ho...</td>\n",
       "    </tr>\n",
       "    <tr>\n",
       "      <th>2</th>\n",
       "      <td>2020-05-14</td>\n",
       "      <td>0.6249</td>\n",
       "      <td>0.141</td>\n",
       "      <td>0.000</td>\n",
       "      <td>0.859</td>\n",
       "      <td>Use this to send Ether from one account to ano...</td>\n",
       "      <td>[use, send, ether, one, account, another, smar...</td>\n",
       "    </tr>\n",
       "    <tr>\n",
       "      <th>3</th>\n",
       "      <td>2020-05-24</td>\n",
       "      <td>-0.4457</td>\n",
       "      <td>0.031</td>\n",
       "      <td>0.086</td>\n",
       "      <td>0.882</td>\n",
       "      <td>Some open-source groups, such as The Linux Fou...</td>\n",
       "      <td>[opensource, group, linux, foundation, deal, o...</td>\n",
       "    </tr>\n",
       "    <tr>\n",
       "      <th>4</th>\n",
       "      <td>2020-05-12</td>\n",
       "      <td>0.0000</td>\n",
       "      <td>0.148</td>\n",
       "      <td>0.148</td>\n",
       "      <td>0.703</td>\n",
       "      <td>With unemployment surging and businesses strug...</td>\n",
       "      <td>[unemployment, surging, business, struggling, ...</td>\n",
       "    </tr>\n",
       "  </tbody>\n",
       "</table>\n",
       "</div>"
      ],
      "text/plain": [
       "         date  compound  positive  negative  neutral  \\\n",
       "0  2020-05-20    0.0000     0.000     0.000    1.000   \n",
       "1  2020-04-30    0.2732     0.081     0.051    0.867   \n",
       "2  2020-05-14    0.6249     0.141     0.000    0.859   \n",
       "3  2020-05-24   -0.4457     0.031     0.086    0.882   \n",
       "4  2020-05-12    0.0000     0.148     0.148    0.703   \n",
       "\n",
       "                                                text  \\\n",
       "0  Editors note:Andreessen Horowitzs Crypto Start...   \n",
       "1  Two years ago, the venture firm Andreessen Hor...   \n",
       "2  Use this to send Ether from one account to ano...   \n",
       "3  Some open-source groups, such as The Linux Fou...   \n",
       "4  With unemployment surging and businesses strug...   \n",
       "\n",
       "                                              tokens  \n",
       "0  [editor, noteandreessen, horowitz, crypto, sta...  \n",
       "1  [two, year, ago, venture, firm, andreessen, ho...  \n",
       "2  [use, send, ether, one, account, another, smar...  \n",
       "3  [opensource, group, linux, foundation, deal, o...  \n",
       "4  [unemployment, surging, business, struggling, ...  "
      ]
     },
     "execution_count": 62,
     "metadata": {},
     "output_type": "execute_result"
    }
   ],
   "source": [
    "# Create a new tokens column for ethereum\n",
    "ethereum_df[\"tokens\"] = ethereum_df.apply(tokenizer, axis = 1)\n",
    "ethereum_df = ethereum_df[[\"date\", \"compound\", \"positive\", \"negative\", \"neutral\", \"text\", \"tokens\"]]\n",
    "ethereum_df.head()"
   ]
  },
  {
   "cell_type": "markdown",
   "metadata": {},
   "source": [
    "---"
   ]
  },
  {
   "cell_type": "markdown",
   "metadata": {},
   "source": [
    "# NGrams and Frequency Analysis\n",
    "\n",
    "In this section you will look at the ngrams and word frequency for each coin. \n",
    "\n",
    "1. Use NLTK to produce the n-grams for N = 2. \n",
    "2. List the top 10 words for each coin. "
   ]
  },
  {
   "cell_type": "code",
   "execution_count": 151,
   "metadata": {},
   "outputs": [],
   "source": [
    "from collections import Counter\n",
    "from nltk.corpus import reuters, stopwords\n",
    "from nltk.util import ngrams\n",
    "from nltk.tokenize import word_tokenize\n",
    "from nltk.stem import WordNetLemmatizer\n",
    "import re\n",
    "import nltk"
   ]
  },
  {
   "cell_type": "code",
   "execution_count": 191,
   "metadata": {},
   "outputs": [],
   "source": [
    "sw_addons = set(['char', 'ha', 'bitcoinnotedterf', 'wa', 'fucking', 'another', 'btc', 'bitcoin', 'going', 'daywelcome', 'another', 'nakaboto'])"
   ]
  },
  {
   "cell_type": "code",
   "execution_count": 192,
   "metadata": {},
   "outputs": [],
   "source": [
    "big_string = ' '.join([article['content'] for article in bitcoin_articles['articles'] if article['content']])\n"
   ]
  },
  {
   "cell_type": "code",
   "execution_count": 193,
   "metadata": {},
   "outputs": [],
   "source": [
    "lemmatizer = WordNetLemmatizer()\n",
    "def process_text(doc):\n",
    "    sw = set(stopwords.words('english'))\n",
    "    sw = sw.union(sw_addons)\n",
    "    regex = re.compile(\"[^a-zA-Z ]\")\n",
    "    re_clean = regex.sub('', doc)\n",
    "    words = word_tokenize(re_clean)\n",
    "    lem = [lemmatizer.lemmatize(word) for word in words]\n",
    "    output = [word.lower() for word in lem if word.lower() not in sw]\n",
    "    return output"
   ]
  },
  {
   "cell_type": "code",
   "execution_count": 194,
   "metadata": {},
   "outputs": [
    {
     "name": "stdout",
     "output_type": "stream",
     "text": [
      "['jk', 'rowling', 'drinking', 'lot', 'youd', 'better', 'believe', 'thought', 'author', 'cuckoos', 'calling', 'rowlingdecided', 'friday', 'perfect', 'time', 'learn', 'yesterday', 'prominent', 'investor', 'michael', 'terpin', 'announced', 'hed', 'filed', 'suit', 'ringleader', 'sim', 'swap', 'gang', 'hed', 'chasing', 'since', 'following', 'theft', 'roughly', 'two', 'year', 'ago', 'venture', 'firm', 'andreessen', 'horowitz', 'az', 'took', 'wrap', 'dedicated', 'crypto', 'fund', 'subset', 'limited', 'partner', 'whod', 'provided', 'firm', 'million', 'capital', 'commit', 'early', 'next', 'week', 'experience', 'thirdever', 'halving', 'hugely', 'important', 'event', 'could', 'shift', 'balance', 'power', 'within', 'network', 'historically', 'event', 'also', 'called', 'halv', 'last', 'week', 'eye', 'crypto', 'world', 'glued', 'halvening', 'nighreligious', 'moment', 'blockchain', 'realm', 'every', 'amount', 'new', 'mined', 'distri', 'since', 'first', 'block', 'generated', 'back', 'three', 'halving', 'event', 'taking', 'place', 'every', 'block', 'mined', 'approximately', 'every', 'four', 'year', 'halving', 'ullithe', 'cryptocurrency', 'market', 'added', 'billion', 'value', 'past', 'day', 'jumped', 'thursday', 'eveninglilibitcoin', 'rallied', 'march', 'low', 'reutersulligoldman', 'sachs', 'gave', 'five', 'reason', 'think', 'asset', 'class', 'suitable', 'investment', 'presentation', 'wednesday', 'morningliligoldman', 'observed', 'crypt', 'move', 'latest', 'string', 'positive', 'development', 'sign', 'wall', 'street', 'becoming', 'comfortable', 'business', 'cryptocurrencies', 'coinbase', 'founded', 'robot', 'colleague', 'satoshi', 'writes', 'every', 'edition', 'today', 'satoshi', 'tell', 'whats', 'robot', 'colleague', 'satoshi', 'writes', 'every', 'edition', 'today', 'satoshi', 'tell', 'whats', 'robot', 'colleague', 'satoshi', 'writes', 'every', 'edition', 'today', 'satoshi', 'tell', 'whats', 'opinions', 'expressed', 'entrepreneur', 'contributor', 'owndespite', 'recent', 'price', 'volatilityand', 'global', 'macroeconomic', 'uncertainty', 'big', 'year', 'although', 'large', 'number', 'busine', 'robot', 'colleague', 'satoshi', 'writes', 'every', 'edition', 'today', 'satoshi', 'tell', 'whats', 'robot', 'colleague', 'satoshi', 'writes', 'every', 'edition', 'today', 'satoshi', 'tell', 'whats', 'robot', 'colleague', 'satoshi', 'writes', 'every', 'edition', 'today', 'satoshi', 'tell', 'whats', 'robot', 'colleague', 'satoshi', 'writes', 'every', 'edition', 'today', 'satoshi', 'tell', 'whats', 'robot', 'colleague', 'satoshi', 'writes', 'every', 'edition', 'today', 'satoshi', 'tell', 'whats', 'robot', 'colleague', 'satoshi', 'writes', 'every', 'edition', 'today', 'satoshi', 'tell', 'whats']\n"
     ]
    }
   ],
   "source": [
    "btc_processed = process_text(big_string)\n",
    "print(btc_processed)"
   ]
  },
  {
   "cell_type": "code",
   "execution_count": 195,
   "metadata": {},
   "outputs": [],
   "source": [
    "big_string = ' '.join([article['content'] for article in ethereum_articles['articles'] if article['content']])"
   ]
  },
  {
   "cell_type": "code",
   "execution_count": 196,
   "metadata": {},
   "outputs": [
    {
     "name": "stdout",
     "output_type": "stream",
     "text": [
      "['editors', 'noteandreessen', 'horowitzs', 'crypto', 'startup', 'school', 'brought', 'together', 'participant', 'around', 'us', 'overseas', 'sevenweek', 'course', 'learn', 'build', 'crypto', 'company', 'andreessen', 'ho', 'two', 'year', 'ago', 'venture', 'firm', 'andreessen', 'horowitz', 'az', 'took', 'wrap', 'dedicated', 'crypto', 'fund', 'subset', 'limited', 'partner', 'whod', 'provided', 'firm', 'million', 'capital', 'commit', 'use', 'send', 'ether', 'one', 'account', 'smart', 'contract', 'address', 'requires', 'parameter', 'depending', 'transaction', 'possible', 'parameter', 'include', 'value', 'gas', 'opensource', 'group', 'linux', 'foundation', 'deal', 'others', 'arent', 'fortunate', 'drupal', 'foundation', 'open', 'source', 'initiative', 'osi', 'open', 'source', 'matters', 'joomla', 'unemployment', 'surging', 'business', 'struggling', 'lockdown', 'million', 'americans', 'relying', 'extra', 'benefit', 'payment', 'issued', 'trillion', 'dollar', 'coronavirus', 'aid', 'relief', 'ec', 'last', 'week', 'eye', 'crypto', 'world', 'glued', 'halvening', 'nighreligious', 'moment', 'blockchain', 'realm', 'every', 'amount', 'new', 'mined', 'distri', 'looking', 'way', 'crypto', 'asset', 'go', 'mainstream', 'interest', 'investment', 'dappers', 'crypto', 'game', 'effort', 'area', 'involvement', 'libra', 'project', 'w', 'back', 'march', 'put', 'call', 'idea', 'fixtheinternet', 'showed', 'well', 'hundred', 'project', 'underway', 'launching', 'v', 'mozilla', 'builders', 'incubator', 'ullithe', 'cryptocurrency', 'market', 'added', 'billion', 'value', 'past', 'day', 'jumped', 'thursday', 'eveninglilibitcoin', 'rallied', 'march', 'low', 'special', 'thanks', 'kevin', 'owocki', 'frank', 'chen', 'help', 'reviewround', 'gitcoin', 'grants', 'finished', 'matching', 'split', 'tech', 'medium', 'new', 'nonethereumcentric', 'opinions', 'expressed', 'entrepreneur', 'contributor', 'owncalling', 'millennialshow', 'much', 'money', 'equityor', 'invested', 'somewhere', 'sure', 'may', 'saving', 'account', 'mutual', 'fu', 'opinions', 'expressed', 'entrepreneur', 'contributor', 'owndespite', 'recent', 'price', 'volatilityand', 'global', 'macroeconomic', 'uncertainty', 'big', 'year', 'although', 'large', 'number', 'busine', 'facebook', 'telegram', 'reddit', 'next', 'major', 'social', 'medium', 'platform', 'venture', 'world', 'cryptocurrencies', 'selfproclaimed', 'front', 'page', 'internet', 'testing', 'cryptocurrency', 'whybecause', 'get', 'program', 'innovative', 'creative', 'solution', 'many', 'unresolved', 'challenge', 'society', 'face', 'todaybecause', 'relatively', 'young', 'dont', 'want', 'compete', 'java', 'posit', 'coindesks', 'nolan', 'baurle', 'speaks', 'ethereum', 'foundations', 'hudson', 'jameson', 'private', 'transaction', 'client', 'improvement', 'dealing', 'fud', 'ethereum', 'morein', 'ourcoindesk', 'live', 'lockdown', 'ed', 'ether', 'digital', 'asset', 'competing', 'dominance', 'reserve', 'asset', 'defi', 'ecosystem', 'getty', 'imagesdecentralized', 'finance', 'defi', 'began', 'playground', 'developer', 'two', 'subreddits', 'combined', 'million', 'member', 'launching', 'cryptocurrenciesas', 'part', 'larger', 'campaign', 'reddits', 'higherups', 'rcryptocurrency', 'rfortnitebr', 'subreddits', 'un']\n"
     ]
    }
   ],
   "source": [
    "eth_processed = process_text(big_string)\n",
    "print(eth_processed)"
   ]
  },
  {
   "cell_type": "code",
   "execution_count": 197,
   "metadata": {},
   "outputs": [
    {
     "name": "stdout",
     "output_type": "stream",
     "text": [
      "{('jk', 'rowling'): 1, ('rowling', 'drinking'): 1, ('drinking', 'lot'): 1, ('lot', 'youd'): 1, ('youd', 'better'): 1, ('better', 'believe'): 1, ('believe', 'thought'): 1, ('thought', 'author'): 1, ('author', 'cuckoos'): 1, ('cuckoos', 'calling'): 1, ('calling', 'rowlingdecided'): 1, ('rowlingdecided', 'friday'): 1, ('friday', 'perfect'): 1, ('perfect', 'time'): 1, ('time', 'learn'): 1, ('learn', 'yesterday'): 1, ('yesterday', 'prominent'): 1, ('prominent', 'investor'): 1, ('investor', 'michael'): 1, ('michael', 'terpin'): 1, ('terpin', 'announced'): 1, ('announced', 'hed'): 1, ('hed', 'filed'): 1, ('filed', 'suit'): 1, ('suit', 'ringleader'): 1, ('ringleader', 'sim'): 1, ('sim', 'swap'): 1, ('swap', 'gang'): 1, ('gang', 'hed'): 1, ('hed', 'chasing'): 1, ('chasing', 'since'): 1, ('since', 'following'): 1, ('following', 'theft'): 1, ('theft', 'roughly'): 1, ('roughly', 'two'): 1, ('two', 'year'): 1, ('year', 'ago'): 1, ('ago', 'venture'): 1, ('venture', 'firm'): 1, ('firm', 'andreessen'): 1, ('andreessen', 'horowitz'): 1, ('horowitz', 'az'): 1, ('az', 'took'): 1, ('took', 'wrap'): 1, ('wrap', 'dedicated'): 1, ('dedicated', 'crypto'): 1, ('crypto', 'fund'): 1, ('fund', 'subset'): 1, ('subset', 'limited'): 1, ('limited', 'partner'): 1, ('partner', 'whod'): 1, ('whod', 'provided'): 1, ('provided', 'firm'): 1, ('firm', 'million'): 1, ('million', 'capital'): 1, ('capital', 'commit'): 1, ('commit', 'early'): 1, ('early', 'next'): 1, ('next', 'week'): 1, ('week', 'experience'): 1, ('experience', 'thirdever'): 1, ('thirdever', 'halving'): 1, ('halving', 'hugely'): 1, ('hugely', 'important'): 1, ('important', 'event'): 1, ('event', 'could'): 1, ('could', 'shift'): 1, ('shift', 'balance'): 1, ('balance', 'power'): 1, ('power', 'within'): 1, ('within', 'network'): 1, ('network', 'historically'): 1, ('historically', 'event'): 1, ('event', 'also'): 1, ('also', 'called'): 1, ('called', 'halv'): 1, ('halv', 'last'): 1, ('last', 'week'): 1, ('week', 'eye'): 1, ('eye', 'crypto'): 1, ('crypto', 'world'): 1, ('world', 'glued'): 1, ('glued', 'halvening'): 1, ('halvening', 'nighreligious'): 1, ('nighreligious', 'moment'): 1, ('moment', 'blockchain'): 1, ('blockchain', 'realm'): 1, ('realm', 'every'): 1, ('every', 'amount'): 1, ('amount', 'new'): 1, ('new', 'mined'): 1, ('mined', 'distri'): 1, ('distri', 'since'): 1, ('since', 'first'): 1, ('first', 'block'): 1, ('block', 'generated'): 1, ('generated', 'back'): 1, ('back', 'three'): 1, ('three', 'halving'): 1, ('halving', 'event'): 1, ('event', 'taking'): 1, ('taking', 'place'): 1, ('place', 'every'): 1, ('every', 'block'): 1, ('block', 'mined'): 1, ('mined', 'approximately'): 1, ('approximately', 'every'): 1, ('every', 'four'): 1, ('four', 'year'): 1, ('year', 'halving'): 1, ('halving', 'ullithe'): 1, ('ullithe', 'cryptocurrency'): 1, ('cryptocurrency', 'market'): 1, ('market', 'added'): 1, ('added', 'billion'): 1, ('billion', 'value'): 1, ('value', 'past'): 1, ('past', 'day'): 1, ('day', 'jumped'): 1, ('jumped', 'thursday'): 1, ('thursday', 'eveninglilibitcoin'): 1, ('eveninglilibitcoin', 'rallied'): 1, ('rallied', 'march'): 1, ('march', 'low'): 1, ('low', 'reutersulligoldman'): 1, ('reutersulligoldman', 'sachs'): 1, ('sachs', 'gave'): 1, ('gave', 'five'): 1, ('five', 'reason'): 1, ('reason', 'think'): 1, ('think', 'asset'): 1, ('asset', 'class'): 1, ('class', 'suitable'): 1, ('suitable', 'investment'): 1, ('investment', 'presentation'): 1, ('presentation', 'wednesday'): 1, ('wednesday', 'morningliligoldman'): 1, ('morningliligoldman', 'observed'): 1, ('observed', 'crypt'): 1, ('crypt', 'move'): 1, ('move', 'latest'): 1, ('latest', 'string'): 1, ('string', 'positive'): 1, ('positive', 'development'): 1, ('development', 'sign'): 1, ('sign', 'wall'): 1, ('wall', 'street'): 1, ('street', 'becoming'): 1, ('becoming', 'comfortable'): 1, ('comfortable', 'business'): 1, ('business', 'cryptocurrencies'): 1, ('cryptocurrencies', 'coinbase'): 1, ('coinbase', 'founded'): 1, ('founded', 'robot'): 1, ('robot', 'colleague'): 9, ('colleague', 'satoshi'): 9, ('satoshi', 'writes'): 9, ('writes', 'every'): 9, ('every', 'edition'): 9, ('edition', 'today'): 9, ('today', 'satoshi'): 9, ('satoshi', 'tell'): 9, ('tell', 'whats'): 9, ('whats', 'robot'): 7, ('whats', 'opinions'): 1, ('opinions', 'expressed'): 1, ('expressed', 'entrepreneur'): 1, ('entrepreneur', 'contributor'): 1, ('contributor', 'owndespite'): 1, ('owndespite', 'recent'): 1, ('recent', 'price'): 1, ('price', 'volatilityand'): 1, ('volatilityand', 'global'): 1, ('global', 'macroeconomic'): 1, ('macroeconomic', 'uncertainty'): 1, ('uncertainty', 'big'): 1, ('big', 'year'): 1, ('year', 'although'): 1, ('although', 'large'): 1, ('large', 'number'): 1, ('number', 'busine'): 1, ('busine', 'robot'): 1}\n"
     ]
    }
   ],
   "source": [
    "# Generate the Bitcoin N-grams where N=2\n",
    "bigram_counts = Counter(ngrams(btc_processed, n=2))\n",
    "print(dict(bigram_counts))"
   ]
  },
  {
   "cell_type": "code",
   "execution_count": 198,
   "metadata": {},
   "outputs": [
    {
     "name": "stdout",
     "output_type": "stream",
     "text": [
      "{('editors', 'noteandreessen'): 1, ('noteandreessen', 'horowitzs'): 1, ('horowitzs', 'crypto'): 1, ('crypto', 'startup'): 1, ('startup', 'school'): 1, ('school', 'brought'): 1, ('brought', 'together'): 1, ('together', 'participant'): 1, ('participant', 'around'): 1, ('around', 'us'): 1, ('us', 'overseas'): 1, ('overseas', 'sevenweek'): 1, ('sevenweek', 'course'): 1, ('course', 'learn'): 1, ('learn', 'build'): 1, ('build', 'crypto'): 1, ('crypto', 'company'): 1, ('company', 'andreessen'): 1, ('andreessen', 'ho'): 1, ('ho', 'two'): 1, ('two', 'year'): 1, ('year', 'ago'): 1, ('ago', 'venture'): 1, ('venture', 'firm'): 1, ('firm', 'andreessen'): 1, ('andreessen', 'horowitz'): 1, ('horowitz', 'az'): 1, ('az', 'took'): 1, ('took', 'wrap'): 1, ('wrap', 'dedicated'): 1, ('dedicated', 'crypto'): 1, ('crypto', 'fund'): 1, ('fund', 'subset'): 1, ('subset', 'limited'): 1, ('limited', 'partner'): 1, ('partner', 'whod'): 1, ('whod', 'provided'): 1, ('provided', 'firm'): 1, ('firm', 'million'): 1, ('million', 'capital'): 1, ('capital', 'commit'): 1, ('commit', 'use'): 1, ('use', 'send'): 1, ('send', 'ether'): 1, ('ether', 'one'): 1, ('one', 'account'): 1, ('account', 'smart'): 1, ('smart', 'contract'): 1, ('contract', 'address'): 1, ('address', 'requires'): 1, ('requires', 'parameter'): 1, ('parameter', 'depending'): 1, ('depending', 'transaction'): 1, ('transaction', 'possible'): 1, ('possible', 'parameter'): 1, ('parameter', 'include'): 1, ('include', 'value'): 1, ('value', 'gas'): 1, ('gas', 'opensource'): 1, ('opensource', 'group'): 1, ('group', 'linux'): 1, ('linux', 'foundation'): 1, ('foundation', 'deal'): 1, ('deal', 'others'): 1, ('others', 'arent'): 1, ('arent', 'fortunate'): 1, ('fortunate', 'drupal'): 1, ('drupal', 'foundation'): 1, ('foundation', 'open'): 1, ('open', 'source'): 2, ('source', 'initiative'): 1, ('initiative', 'osi'): 1, ('osi', 'open'): 1, ('source', 'matters'): 1, ('matters', 'joomla'): 1, ('joomla', 'unemployment'): 1, ('unemployment', 'surging'): 1, ('surging', 'business'): 1, ('business', 'struggling'): 1, ('struggling', 'lockdown'): 1, ('lockdown', 'million'): 1, ('million', 'americans'): 1, ('americans', 'relying'): 1, ('relying', 'extra'): 1, ('extra', 'benefit'): 1, ('benefit', 'payment'): 1, ('payment', 'issued'): 1, ('issued', 'trillion'): 1, ('trillion', 'dollar'): 1, ('dollar', 'coronavirus'): 1, ('coronavirus', 'aid'): 1, ('aid', 'relief'): 1, ('relief', 'ec'): 1, ('ec', 'last'): 1, ('last', 'week'): 1, ('week', 'eye'): 1, ('eye', 'crypto'): 1, ('crypto', 'world'): 1, ('world', 'glued'): 1, ('glued', 'halvening'): 1, ('halvening', 'nighreligious'): 1, ('nighreligious', 'moment'): 1, ('moment', 'blockchain'): 1, ('blockchain', 'realm'): 1, ('realm', 'every'): 1, ('every', 'amount'): 1, ('amount', 'new'): 1, ('new', 'mined'): 1, ('mined', 'distri'): 1, ('distri', 'looking'): 1, ('looking', 'way'): 1, ('way', 'crypto'): 1, ('crypto', 'asset'): 1, ('asset', 'go'): 1, ('go', 'mainstream'): 1, ('mainstream', 'interest'): 1, ('interest', 'investment'): 1, ('investment', 'dappers'): 1, ('dappers', 'crypto'): 1, ('crypto', 'game'): 1, ('game', 'effort'): 1, ('effort', 'area'): 1, ('area', 'involvement'): 1, ('involvement', 'libra'): 1, ('libra', 'project'): 1, ('project', 'w'): 1, ('w', 'back'): 1, ('back', 'march'): 1, ('march', 'put'): 1, ('put', 'call'): 1, ('call', 'idea'): 1, ('idea', 'fixtheinternet'): 1, ('fixtheinternet', 'showed'): 1, ('showed', 'well'): 1, ('well', 'hundred'): 1, ('hundred', 'project'): 1, ('project', 'underway'): 1, ('underway', 'launching'): 1, ('launching', 'v'): 1, ('v', 'mozilla'): 1, ('mozilla', 'builders'): 1, ('builders', 'incubator'): 1, ('incubator', 'ullithe'): 1, ('ullithe', 'cryptocurrency'): 1, ('cryptocurrency', 'market'): 1, ('market', 'added'): 1, ('added', 'billion'): 1, ('billion', 'value'): 1, ('value', 'past'): 1, ('past', 'day'): 1, ('day', 'jumped'): 1, ('jumped', 'thursday'): 1, ('thursday', 'eveninglilibitcoin'): 1, ('eveninglilibitcoin', 'rallied'): 1, ('rallied', 'march'): 1, ('march', 'low'): 1, ('low', 'special'): 1, ('special', 'thanks'): 1, ('thanks', 'kevin'): 1, ('kevin', 'owocki'): 1, ('owocki', 'frank'): 1, ('frank', 'chen'): 1, ('chen', 'help'): 1, ('help', 'reviewround'): 1, ('reviewround', 'gitcoin'): 1, ('gitcoin', 'grants'): 1, ('grants', 'finished'): 1, ('finished', 'matching'): 1, ('matching', 'split'): 1, ('split', 'tech'): 1, ('tech', 'medium'): 1, ('medium', 'new'): 1, ('new', 'nonethereumcentric'): 1, ('nonethereumcentric', 'opinions'): 1, ('opinions', 'expressed'): 2, ('expressed', 'entrepreneur'): 2, ('entrepreneur', 'contributor'): 2, ('contributor', 'owncalling'): 1, ('owncalling', 'millennialshow'): 1, ('millennialshow', 'much'): 1, ('much', 'money'): 1, ('money', 'equityor'): 1, ('equityor', 'invested'): 1, ('invested', 'somewhere'): 1, ('somewhere', 'sure'): 1, ('sure', 'may'): 1, ('may', 'saving'): 1, ('saving', 'account'): 1, ('account', 'mutual'): 1, ('mutual', 'fu'): 1, ('fu', 'opinions'): 1, ('contributor', 'owndespite'): 1, ('owndespite', 'recent'): 1, ('recent', 'price'): 1, ('price', 'volatilityand'): 1, ('volatilityand', 'global'): 1, ('global', 'macroeconomic'): 1, ('macroeconomic', 'uncertainty'): 1, ('uncertainty', 'big'): 1, ('big', 'year'): 1, ('year', 'although'): 1, ('although', 'large'): 1, ('large', 'number'): 1, ('number', 'busine'): 1, ('busine', 'facebook'): 1, ('facebook', 'telegram'): 1, ('telegram', 'reddit'): 1, ('reddit', 'next'): 1, ('next', 'major'): 1, ('major', 'social'): 1, ('social', 'medium'): 1, ('medium', 'platform'): 1, ('platform', 'venture'): 1, ('venture', 'world'): 1, ('world', 'cryptocurrencies'): 1, ('cryptocurrencies', 'selfproclaimed'): 1, ('selfproclaimed', 'front'): 1, ('front', 'page'): 1, ('page', 'internet'): 1, ('internet', 'testing'): 1, ('testing', 'cryptocurrency'): 1, ('cryptocurrency', 'whybecause'): 1, ('whybecause', 'get'): 1, ('get', 'program'): 1, ('program', 'innovative'): 1, ('innovative', 'creative'): 1, ('creative', 'solution'): 1, ('solution', 'many'): 1, ('many', 'unresolved'): 1, ('unresolved', 'challenge'): 1, ('challenge', 'society'): 1, ('society', 'face'): 1, ('face', 'todaybecause'): 1, ('todaybecause', 'relatively'): 1, ('relatively', 'young'): 1, ('young', 'dont'): 1, ('dont', 'want'): 1, ('want', 'compete'): 1, ('compete', 'java'): 1, ('java', 'posit'): 1, ('posit', 'coindesks'): 1, ('coindesks', 'nolan'): 1, ('nolan', 'baurle'): 1, ('baurle', 'speaks'): 1, ('speaks', 'ethereum'): 1, ('ethereum', 'foundations'): 1, ('foundations', 'hudson'): 1, ('hudson', 'jameson'): 1, ('jameson', 'private'): 1, ('private', 'transaction'): 1, ('transaction', 'client'): 1, ('client', 'improvement'): 1, ('improvement', 'dealing'): 1, ('dealing', 'fud'): 1, ('fud', 'ethereum'): 1, ('ethereum', 'morein'): 1, ('morein', 'ourcoindesk'): 1, ('ourcoindesk', 'live'): 1, ('live', 'lockdown'): 1, ('lockdown', 'ed'): 1, ('ed', 'ether'): 1, ('ether', 'digital'): 1, ('digital', 'asset'): 1, ('asset', 'competing'): 1, ('competing', 'dominance'): 1, ('dominance', 'reserve'): 1, ('reserve', 'asset'): 1, ('asset', 'defi'): 1, ('defi', 'ecosystem'): 1, ('ecosystem', 'getty'): 1, ('getty', 'imagesdecentralized'): 1, ('imagesdecentralized', 'finance'): 1, ('finance', 'defi'): 1, ('defi', 'began'): 1, ('began', 'playground'): 1, ('playground', 'developer'): 1, ('developer', 'two'): 1, ('two', 'subreddits'): 1, ('subreddits', 'combined'): 1, ('combined', 'million'): 1, ('million', 'member'): 1, ('member', 'launching'): 1, ('launching', 'cryptocurrenciesas'): 1, ('cryptocurrenciesas', 'part'): 1, ('part', 'larger'): 1, ('larger', 'campaign'): 1, ('campaign', 'reddits'): 1, ('reddits', 'higherups'): 1, ('higherups', 'rcryptocurrency'): 1, ('rcryptocurrency', 'rfortnitebr'): 1, ('rfortnitebr', 'subreddits'): 1, ('subreddits', 'un'): 1}\n"
     ]
    }
   ],
   "source": [
    "# Generate the Ethereum N-grams where N=2\n",
    "bigram_counts = Counter(ngrams(eth_processed, n=2))\n",
    "print(dict(bigram_counts))"
   ]
  },
  {
   "cell_type": "code",
   "execution_count": 199,
   "metadata": {},
   "outputs": [],
   "source": [
    "# Use the token_count function to generate the top 10 words from each coin\n",
    "def token_count(tokens, N=10):\n",
    "    \"\"\"Returns the top N tokens from the frequency count\"\"\"\n",
    "    return Counter(tokens).most_common(N)"
   ]
  },
  {
   "cell_type": "code",
   "execution_count": 213,
   "metadata": {},
   "outputs": [
    {
     "data": {
      "text/html": [
       "<div>\n",
       "<style scoped>\n",
       "    .dataframe tbody tr th:only-of-type {\n",
       "        vertical-align: middle;\n",
       "    }\n",
       "\n",
       "    .dataframe tbody tr th {\n",
       "        vertical-align: top;\n",
       "    }\n",
       "\n",
       "    .dataframe thead th {\n",
       "        text-align: right;\n",
       "    }\n",
       "</style>\n",
       "<table border=\"1\" class=\"dataframe\">\n",
       "  <thead>\n",
       "    <tr style=\"text-align: right;\">\n",
       "      <th></th>\n",
       "      <th>Words</th>\n",
       "      <th>Count</th>\n",
       "    </tr>\n",
       "  </thead>\n",
       "  <tbody>\n",
       "    <tr>\n",
       "      <th>0</th>\n",
       "      <td>satoshi</td>\n",
       "      <td>18</td>\n",
       "    </tr>\n",
       "    <tr>\n",
       "      <th>1</th>\n",
       "      <td>every</td>\n",
       "      <td>12</td>\n",
       "    </tr>\n",
       "    <tr>\n",
       "      <th>2</th>\n",
       "      <td>robot</td>\n",
       "      <td>9</td>\n",
       "    </tr>\n",
       "    <tr>\n",
       "      <th>3</th>\n",
       "      <td>colleague</td>\n",
       "      <td>9</td>\n",
       "    </tr>\n",
       "    <tr>\n",
       "      <th>4</th>\n",
       "      <td>writes</td>\n",
       "      <td>9</td>\n",
       "    </tr>\n",
       "    <tr>\n",
       "      <th>5</th>\n",
       "      <td>edition</td>\n",
       "      <td>9</td>\n",
       "    </tr>\n",
       "    <tr>\n",
       "      <th>6</th>\n",
       "      <td>today</td>\n",
       "      <td>9</td>\n",
       "    </tr>\n",
       "    <tr>\n",
       "      <th>7</th>\n",
       "      <td>tell</td>\n",
       "      <td>9</td>\n",
       "    </tr>\n",
       "    <tr>\n",
       "      <th>8</th>\n",
       "      <td>whats</td>\n",
       "      <td>9</td>\n",
       "    </tr>\n",
       "    <tr>\n",
       "      <th>9</th>\n",
       "      <td>year</td>\n",
       "      <td>3</td>\n",
       "    </tr>\n",
       "  </tbody>\n",
       "</table>\n",
       "</div>"
      ],
      "text/plain": [
       "       Words  Count\n",
       "0    satoshi     18\n",
       "1      every     12\n",
       "2      robot      9\n",
       "3  colleague      9\n",
       "4     writes      9\n",
       "5    edition      9\n",
       "6      today      9\n",
       "7       tell      9\n",
       "8      whats      9\n",
       "9       year      3"
      ]
     },
     "execution_count": 213,
     "metadata": {},
     "output_type": "execute_result"
    }
   ],
   "source": [
    "# Get the top 10 words for Bitcoin\n",
    "token_count(btc_processed)\n",
    "btc_count = pd.DataFrame(token_count(btc_processed)).rename(columns = {0: \"Words\", 1: \"Count\"})\n",
    "btc_count.head(10)"
   ]
  },
  {
   "cell_type": "code",
   "execution_count": 212,
   "metadata": {},
   "outputs": [
    {
     "data": {
      "text/html": [
       "<div>\n",
       "<style scoped>\n",
       "    .dataframe tbody tr th:only-of-type {\n",
       "        vertical-align: middle;\n",
       "    }\n",
       "\n",
       "    .dataframe tbody tr th {\n",
       "        vertical-align: top;\n",
       "    }\n",
       "\n",
       "    .dataframe thead th {\n",
       "        text-align: right;\n",
       "    }\n",
       "</style>\n",
       "<table border=\"1\" class=\"dataframe\">\n",
       "  <thead>\n",
       "    <tr style=\"text-align: right;\">\n",
       "      <th></th>\n",
       "      <th>Words</th>\n",
       "      <th>Count</th>\n",
       "    </tr>\n",
       "  </thead>\n",
       "  <tbody>\n",
       "    <tr>\n",
       "      <th>0</th>\n",
       "      <td>crypto</td>\n",
       "      <td>6</td>\n",
       "    </tr>\n",
       "    <tr>\n",
       "      <th>1</th>\n",
       "      <td>million</td>\n",
       "      <td>3</td>\n",
       "    </tr>\n",
       "    <tr>\n",
       "      <th>2</th>\n",
       "      <td>asset</td>\n",
       "      <td>3</td>\n",
       "    </tr>\n",
       "    <tr>\n",
       "      <th>3</th>\n",
       "      <td>andreessen</td>\n",
       "      <td>2</td>\n",
       "    </tr>\n",
       "    <tr>\n",
       "      <th>4</th>\n",
       "      <td>two</td>\n",
       "      <td>2</td>\n",
       "    </tr>\n",
       "    <tr>\n",
       "      <th>5</th>\n",
       "      <td>year</td>\n",
       "      <td>2</td>\n",
       "    </tr>\n",
       "    <tr>\n",
       "      <th>6</th>\n",
       "      <td>venture</td>\n",
       "      <td>2</td>\n",
       "    </tr>\n",
       "    <tr>\n",
       "      <th>7</th>\n",
       "      <td>firm</td>\n",
       "      <td>2</td>\n",
       "    </tr>\n",
       "    <tr>\n",
       "      <th>8</th>\n",
       "      <td>ether</td>\n",
       "      <td>2</td>\n",
       "    </tr>\n",
       "    <tr>\n",
       "      <th>9</th>\n",
       "      <td>account</td>\n",
       "      <td>2</td>\n",
       "    </tr>\n",
       "  </tbody>\n",
       "</table>\n",
       "</div>"
      ],
      "text/plain": [
       "        Words  Count\n",
       "0      crypto      6\n",
       "1     million      3\n",
       "2       asset      3\n",
       "3  andreessen      2\n",
       "4         two      2\n",
       "5        year      2\n",
       "6     venture      2\n",
       "7        firm      2\n",
       "8       ether      2\n",
       "9     account      2"
      ]
     },
     "execution_count": 212,
     "metadata": {},
     "output_type": "execute_result"
    }
   ],
   "source": [
    "# Get the top 10 words for Ethereum\n",
    "token_count(eth_processed)\n",
    "eth_count = pd.DataFrame(token_count(eth_processed)).rename(columns = {0: \"Words\", 1: \"Count\"})\n",
    "eth_count.head(10)"
   ]
  },
  {
   "cell_type": "markdown",
   "metadata": {},
   "source": [
    "# Word Clouds\n",
    "\n",
    "In this section, you will generate word clouds for each coin to summarize the news for each coin"
   ]
  },
  {
   "cell_type": "code",
   "execution_count": 214,
   "metadata": {},
   "outputs": [],
   "source": [
    "from wordcloud import WordCloud\n",
    "import matplotlib.pyplot as plt\n",
    "plt.style.use('seaborn-whitegrid')\n",
    "import matplotlib as mpl\n",
    "mpl.rcParams['figure.figsize'] = [20.0, 10.0]"
   ]
  },
  {
   "cell_type": "code",
   "execution_count": 47,
   "metadata": {},
   "outputs": [],
   "source": [
    "# Generate the Bitcoin word cloud\n",
    "def process_text(doc):\n",
    "    sw = set(stopwords.words('english'))\n",
    "    regex = re.compile(\"[^a-zA-Z ]\")\n",
    "    re_clean = regex.sub('', doc)\n",
    "    words = word_tokenize(re_clean)\n",
    "    lem = [lemmatizer.lemmatize(word) for word in words]\n",
    "    output = [word.lower() for word in lem if word.lower() not in sw]\n",
    "    return ' '.join(output)\n",
    "\n",
    "big_string = ' '.join(corpus)\n",
    "input_text = process_text(big_string)\n",
    "\n",
    "wc = WordCloud().generate(input_text)\n",
    "plt.imshow(wc)"
   ]
  },
  {
   "cell_type": "code",
   "execution_count": 48,
   "metadata": {},
   "outputs": [],
   "source": [
    "# Generate the Ethereum word cloud\n",
    "def process_text(doc):\n",
    "    sw = set(stopwords.words('english'))\n",
    "    regex = re.compile(\"[^a-zA-Z ]\")\n",
    "    re_clean = regex.sub('', doc)\n",
    "    words = word_tokenize(re_clean)\n",
    "    lem = [lemmatizer.lemmatize(word) for word in words]\n",
    "    output = [word.lower() for word in lem if word.lower() not in sw]\n",
    "    return ' '.join(output)\n",
    "\n",
    "big_string = ' '.join(corpus)\n",
    "input_text = process_text(big_string)\n",
    "\n",
    "wc = WordCloud().generate(input_text)\n",
    "plt.imshow(wc)"
   ]
  },
  {
   "cell_type": "markdown",
   "metadata": {},
   "source": [
    "# Named Entity Recognition\n",
    "\n",
    "In this section, you will build a named entity recognition model for both coins and visualize the tags using SpaCy."
   ]
  },
  {
   "cell_type": "code",
   "execution_count": 49,
   "metadata": {},
   "outputs": [],
   "source": [
    "import spacy\n",
    "from spacy import displacy"
   ]
  },
  {
   "cell_type": "code",
   "execution_count": 50,
   "metadata": {},
   "outputs": [],
   "source": [
    "# Optional - download a language model for SpaCy\n",
    "# !python -m spacy download en_core_web_sm"
   ]
  },
  {
   "cell_type": "code",
   "execution_count": 51,
   "metadata": {},
   "outputs": [],
   "source": [
    "# Load the spaCy model\n",
    "nlp = spacy.load('en_core_web_sm')"
   ]
  },
  {
   "cell_type": "markdown",
   "metadata": {},
   "source": [
    "## Bitcoin NER"
   ]
  },
  {
   "cell_type": "code",
   "execution_count": 52,
   "metadata": {},
   "outputs": [],
   "source": [
    "# Concatenate all of the bitcoin text together\n"
   ]
  },
  {
   "cell_type": "code",
   "execution_count": 53,
   "metadata": {},
   "outputs": [],
   "source": [
    "# Run the NER processor on all of the text\n",
    "btc = nlp(article)\n",
    "# Add a title to the document\n"
   ]
  },
  {
   "cell_type": "code",
   "execution_count": 54,
   "metadata": {},
   "outputs": [],
   "source": [
    "# Render the visualization\n",
    "displacy.render(btc, style='ent')"
   ]
  },
  {
   "cell_type": "code",
   "execution_count": 55,
   "metadata": {},
   "outputs": [],
   "source": [
    "# List all Entities\n",
    "print([ent.text for ent in btc.ents if ent.label_ == 'GPE'])"
   ]
  },
  {
   "cell_type": "markdown",
   "metadata": {},
   "source": [
    "---"
   ]
  },
  {
   "cell_type": "markdown",
   "metadata": {},
   "source": [
    "## Ethereum NER"
   ]
  },
  {
   "cell_type": "code",
   "execution_count": 56,
   "metadata": {},
   "outputs": [],
   "source": [
    "# Concatenate all of the ethereum text together\n"
   ]
  },
  {
   "cell_type": "code",
   "execution_count": 57,
   "metadata": {},
   "outputs": [],
   "source": [
    "# Run the NER processor on all of the text\n",
    "eth = nlp(article)\n",
    "# Add a title to the document\n"
   ]
  },
  {
   "cell_type": "code",
   "execution_count": 58,
   "metadata": {},
   "outputs": [],
   "source": [
    "# Render the visualization\n",
    "displacy.render(eth, style='ent')"
   ]
  },
  {
   "cell_type": "code",
   "execution_count": 59,
   "metadata": {},
   "outputs": [],
   "source": [
    "# List all Entities\n",
    "print([ent.text for ent in eth.ents if ent.label_ == 'GPE'])"
   ]
  }
 ],
 "metadata": {
  "file_extension": ".py",
  "kernelspec": {
   "display_name": "Python (Viz)",
   "language": "python",
   "name": "viz"
  },
  "language_info": {
   "codemirror_mode": {
    "name": "ipython",
    "version": 3
   },
   "file_extension": ".py",
   "mimetype": "text/x-python",
   "name": "python",
   "nbconvert_exporter": "python",
   "pygments_lexer": "ipython3",
   "version": "3.7.7"
  },
  "mimetype": "text/x-python",
  "name": "python",
  "npconvert_exporter": "python",
  "pygments_lexer": "ipython3",
  "version": 3
 },
 "nbformat": 4,
 "nbformat_minor": 4
}
